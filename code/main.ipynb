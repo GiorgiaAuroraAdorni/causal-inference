{
 "cells": [
  {
   "cell_type": "code",
   "execution_count": 22,
   "outputs": [],
   "source": [
    "from IPython.display import display, Math, Latex, HTML\n",
    "\n",
    "import pyAgrum as gum\n",
    "import pyAgrum.lib.notebook as gnb\n",
    "import pyAgrum.causal as csl\n",
    "import pyAgrum.causal.notebook as cslnb\n",
    "import os\n",
    "import pdfkit"
   ],
   "metadata": {
    "collapsed": false,
    "pycharm": {
     "name": "#%%\n",
     "is_executing": false
    }
   }
  },
  {
   "cell_type": "code",
   "execution_count": 23,
   "outputs": [
    {
     "data": {
      "text/plain": "<IPython.core.display.SVG object>",
      "image/svg+xml": "<svg height=\"476pt\" viewBox=\"0.00 0.00 387.88 476.00\" width=\"388pt\" xmlns=\"http://www.w3.org/2000/svg\" xmlns:xlink=\"http://www.w3.org/1999/xlink\">\n<g class=\"graph\" id=\"graph0\" transform=\"scale(1 1) rotate(0) translate(4 472)\">\n<title>G</title>\n<!-- Weather -->\n<g class=\"node\" id=\"node1\">\n<title>Weather</title>\n<g id=\"a_node1\"><a xlink:title=\"(0) Weather\">\n<ellipse cx=\"225.65\" cy=\"-450\" fill=\"#404040\" rx=\"39.2\" ry=\"18\" stroke=\"black\"/>\n<text fill=\"white\" font-family=\"Times,serif\" font-size=\"14.00\" text-anchor=\"middle\" x=\"225.65\" y=\"-445.8\">Weather</text>\n</a>\n</g>\n</g>\n<!-- RoadConditions -->\n<g class=\"node\" id=\"node2\">\n<title>RoadConditions</title>\n<g id=\"a_node2\"><a xlink:title=\"(1) RoadConditions\">\n<ellipse cx=\"177.65\" cy=\"-378\" fill=\"#404040\" rx=\"67.69\" ry=\"18\" stroke=\"black\"/>\n<text fill=\"white\" font-family=\"Times,serif\" font-size=\"14.00\" text-anchor=\"middle\" x=\"177.65\" y=\"-373.8\">RoadConditions</text>\n</a>\n</g>\n</g>\n<!-- Weather&#45;&gt;RoadConditions -->\n<g class=\"edge\" id=\"edge1\">\n<title>Weather-&gt;RoadConditions</title>\n<g id=\"a_edge1\"><a xlink:title=\"(0, 1) : \">\n<path d=\"M214.27,-432.41C208.56,-424.08 201.51,-413.8 195.12,-404.49\" fill=\"none\" stroke=\"#4a4a4a\"/>\n<polygon fill=\"#4a4a4a\" points=\"197.82,-402.22 189.27,-395.96 192.04,-406.18 197.82,-402.22\" stroke=\"#4a4a4a\"/>\n</a>\n</g>\n</g>\n<!-- Humor -->\n<g class=\"node\" id=\"node5\">\n<title>Humor</title>\n<g id=\"a_node5\"><a xlink:title=\"(4) Humor\">\n<ellipse cx=\"342.65\" cy=\"-234\" fill=\"#404040\" rx=\"35.32\" ry=\"18\" stroke=\"black\"/>\n<text fill=\"white\" font-family=\"Times,serif\" font-size=\"14.00\" text-anchor=\"middle\" x=\"342.65\" y=\"-229.8\">Humor</text>\n</a>\n</g>\n</g>\n<!-- Weather&#45;&gt;Humor -->\n<g class=\"edge\" id=\"edge14\">\n<title>Weather-&gt;Humor</title>\n<g id=\"a_edge14\"><a xlink:title=\"(0, 4) : \">\n<path d=\"M234.79,-432.29C240.5,-421.86 248,-408.15 254.65,-396 280.83,-348.13 311.37,-292.24 328.71,-260.5\" fill=\"none\" stroke=\"#4a4a4a\"/>\n<polygon fill=\"#4a4a4a\" points=\"331.93,-261.91 333.65,-251.46 325.79,-258.55 331.93,-261.91\" stroke=\"#4a4a4a\"/>\n</a>\n</g>\n</g>\n<!-- RoadWorks -->\n<g class=\"node\" id=\"node3\">\n<title>RoadWorks</title>\n<g id=\"a_node3\"><a xlink:title=\"(2) RoadWorks\">\n<ellipse cx=\"51.65\" cy=\"-306\" fill=\"#404040\" rx=\"51.79\" ry=\"18\" stroke=\"black\"/>\n<text fill=\"white\" font-family=\"Times,serif\" font-size=\"14.00\" text-anchor=\"middle\" x=\"51.65\" y=\"-301.8\">RoadWorks</text>\n</a>\n</g>\n</g>\n<!-- RoadConditions&#45;&gt;RoadWorks -->\n<g class=\"edge\" id=\"edge2\">\n<title>RoadConditions-&gt;RoadWorks</title>\n<g id=\"a_edge2\"><a xlink:title=\"(1, 2) : \">\n<path d=\"M149.68,-361.46C131.07,-351.13 106.48,-337.46 86.58,-326.41\" fill=\"none\" stroke=\"#4a4a4a\"/>\n<polygon fill=\"#4a4a4a\" points=\"88.25,-323.33 77.81,-321.54 84.85,-329.45 88.25,-323.33\" stroke=\"#4a4a4a\"/>\n</a>\n</g>\n</g>\n<!-- Speed -->\n<g class=\"node\" id=\"node4\">\n<title>Speed</title>\n<g id=\"a_node4\"><a xlink:title=\"(3) Speed\">\n<ellipse cx=\"161.65\" cy=\"-234\" fill=\"#404040\" rx=\"31.94\" ry=\"18\" stroke=\"black\"/>\n<text fill=\"white\" font-family=\"Times,serif\" font-size=\"14.00\" text-anchor=\"middle\" x=\"161.65\" y=\"-229.8\">Speed</text>\n</a>\n</g>\n</g>\n<!-- RoadConditions&#45;&gt;Speed -->\n<g class=\"edge\" id=\"edge3\">\n<title>RoadConditions-&gt;Speed</title>\n<g id=\"a_edge3\"><a xlink:title=\"(1, 3) : \">\n<path d=\"M166.46,-360.14C160.48,-350.1 153.73,-336.85 150.65,-324 145.7,-303.37 149.13,-279.49 153.43,-261.66\" fill=\"none\" stroke=\"#4a4a4a\"/>\n<polygon fill=\"#4a4a4a\" points=\"156.83,-262.5 156,-251.93 150.06,-260.71 156.83,-262.5\" stroke=\"#4a4a4a\"/>\n</a>\n</g>\n</g>\n<!-- Danger -->\n<g class=\"node\" id=\"node9\">\n<title>Danger</title>\n<g id=\"a_node9\"><a xlink:title=\"(8) Danger\">\n<ellipse cx=\"225.65\" cy=\"-162\" fill=\"#404040\" rx=\"36.26\" ry=\"18\" stroke=\"black\"/>\n<text fill=\"white\" font-family=\"Times,serif\" font-size=\"14.00\" text-anchor=\"middle\" x=\"225.65\" y=\"-157.8\">Danger</text>\n</a>\n</g>\n</g>\n<!-- RoadConditions&#45;&gt;Danger -->\n<g class=\"edge\" id=\"edge10\">\n<title>RoadConditions-&gt;Danger</title>\n<g id=\"a_edge10\"><a xlink:title=\"(1, 8) : \">\n<path d=\"M215.55,-362.82C232.56,-354.34 250.95,-341.69 260.65,-324 284.54,-280.39 259.84,-221.77 241.53,-188.63\" fill=\"none\" stroke=\"#4a4a4a\"/>\n<polygon fill=\"#4a4a4a\" points=\"244.36,-186.53 236.35,-179.6 238.29,-190.02 244.36,-186.53\" stroke=\"#4a4a4a\"/>\n</a>\n</g>\n</g>\n<!-- RoadWorks&#45;&gt;Speed -->\n<g class=\"edge\" id=\"edge12\">\n<title>RoadWorks-&gt;Speed</title>\n<g id=\"a_edge12\"><a xlink:title=\"(2, 3) : \">\n<path d=\"M75.24,-289.98C92.02,-279.31 114.65,-264.91 132.54,-253.52\" fill=\"none\" stroke=\"#4a4a4a\"/>\n<polygon fill=\"#4a4a4a\" points=\"134.85,-256.2 141.41,-247.88 131.1,-250.29 134.85,-256.2\" stroke=\"#4a4a4a\"/>\n</a>\n</g>\n</g>\n<!-- Delay -->\n<g class=\"node\" id=\"node7\">\n<title>Delay</title>\n<g id=\"a_node7\"><a xlink:title=\"(6) Delay\">\n<ellipse cx=\"278.65\" cy=\"-18\" fill=\"#404040\" rx=\"31.45\" ry=\"18\" stroke=\"black\"/>\n<text fill=\"white\" font-family=\"Times,serif\" font-size=\"14.00\" text-anchor=\"middle\" x=\"278.65\" y=\"-13.8\">Delay</text>\n</a>\n</g>\n</g>\n<!-- Speed&#45;&gt;Delay -->\n<g class=\"edge\" id=\"edge13\">\n<title>Speed-&gt;Delay</title>\n<g id=\"a_edge13\"><a xlink:title=\"(3, 6) : \">\n<path d=\"M163.43,-215.71C165.76,-197.36 170.75,-167.78 180.65,-144 197.68,-103.06 231.99,-64.22 255.15,-41.01\" fill=\"none\" stroke=\"#4a4a4a\"/>\n<polygon fill=\"#4a4a4a\" points=\"257.85,-43.26 262.53,-33.75 252.94,-38.27 257.85,-43.26\" stroke=\"#4a4a4a\"/>\n</a>\n</g>\n</g>\n<!-- Speed&#45;&gt;Danger -->\n<g class=\"edge\" id=\"edge9\">\n<title>Speed-&gt;Danger</title>\n<g id=\"a_edge9\"><a xlink:title=\"(3, 8) : \">\n<path d=\"M175.53,-217.81C183.97,-208.58 194.91,-196.61 204.42,-186.22\" fill=\"none\" stroke=\"#4a4a4a\"/>\n<polygon fill=\"#4a4a4a\" points=\"207.18,-188.39 211.34,-178.64 202.01,-183.66 207.18,-188.39\" stroke=\"#4a4a4a\"/>\n</a>\n</g>\n</g>\n<!-- Accident -->\n<g class=\"node\" id=\"node6\">\n<title>Accident</title>\n<g id=\"a_node6\"><a xlink:title=\"(5) Accident\">\n<ellipse cx=\"278.65\" cy=\"-90\" fill=\"#404040\" rx=\"42.05\" ry=\"18\" stroke=\"black\"/>\n<text fill=\"white\" font-family=\"Times,serif\" font-size=\"14.00\" text-anchor=\"middle\" x=\"278.65\" y=\"-85.8\">Accident</text>\n</a>\n</g>\n</g>\n<!-- Humor&#45;&gt;Accident -->\n<g class=\"edge\" id=\"edge4\">\n<title>Humor-&gt;Accident</title>\n<g id=\"a_edge4\"><a xlink:title=\"(4, 5) : \">\n<path d=\"M330.84,-216.9C323.74,-206.69 314.89,-193.01 308.65,-180 299.03,-159.97 291.15,-136.05 285.88,-118.05\" fill=\"none\" stroke=\"#4a4a4a\"/>\n<polygon fill=\"#4a4a4a\" points=\"289.19,-116.88 283.09,-108.22 282.46,-118.79 289.19,-116.88\" stroke=\"#4a4a4a\"/>\n</a>\n</g>\n</g>\n<!-- Accident&#45;&gt;Delay -->\n<g class=\"edge\" id=\"edge5\">\n<title>Accident-&gt;Delay</title>\n<g id=\"a_edge5\"><a xlink:title=\"(5, 6) : \">\n<path d=\"M278.65,-71.7C278.65,-63.98 278.65,-54.71 278.65,-46.11\" fill=\"none\" stroke=\"#4a4a4a\"/>\n<polygon fill=\"#4a4a4a\" points=\"282.15,-46.1 278.65,-36.1 275.15,-46.1 282.15,-46.1\" stroke=\"#4a4a4a\"/>\n</a>\n</g>\n</g>\n<!-- Strike -->\n<g class=\"node\" id=\"node8\">\n<title>Strike</title>\n<g id=\"a_node8\"><a xlink:title=\"(7) Strike\">\n<ellipse cx=\"348.65\" cy=\"-162\" fill=\"#404040\" rx=\"31.46\" ry=\"18\" stroke=\"black\"/>\n<text fill=\"white\" font-family=\"Times,serif\" font-size=\"14.00\" text-anchor=\"middle\" x=\"348.65\" y=\"-157.8\">Strike</text>\n</a>\n</g>\n</g>\n<!-- Strike&#45;&gt;Accident -->\n<g class=\"edge\" id=\"edge11\">\n<title>Strike-&gt;Accident</title>\n<g id=\"a_edge11\"><a xlink:title=\"(7, 5) : \">\n<path d=\"M333.8,-146.15C324.5,-136.85 312.32,-124.67 301.77,-114.12\" fill=\"none\" stroke=\"#4a4a4a\"/>\n<polygon fill=\"#4a4a4a\" points=\"303.99,-111.39 294.44,-106.8 299.04,-116.34 303.99,-111.39\" stroke=\"#4a4a4a\"/>\n</a>\n</g>\n</g>\n<!-- Strike&#45;&gt;Delay -->\n<g class=\"edge\" id=\"edge8\">\n<title>Strike-&gt;Delay</title>\n<g id=\"a_edge8\"><a xlink:title=\"(7, 6) : \">\n<path d=\"M347.79,-143.99C346.23,-125.34 341.88,-95.02 329.65,-72 323.28,-60.02 313.42,-48.85 304.05,-39.89\" fill=\"none\" stroke=\"#4a4a4a\"/>\n<polygon fill=\"#4a4a4a\" points=\"306.14,-37.06 296.39,-32.91 301.42,-42.23 306.14,-37.06\" stroke=\"#4a4a4a\"/>\n</a>\n</g>\n</g>\n<!-- Danger&#45;&gt;Accident -->\n<g class=\"edge\" id=\"edge15\">\n<title>Danger-&gt;Accident</title>\n<g id=\"a_edge15\"><a xlink:title=\"(8, 5) : \">\n<path d=\"M237.94,-144.76C244.47,-136.14 252.63,-125.36 259.93,-115.73\" fill=\"none\" stroke=\"#4a4a4a\"/>\n<polygon fill=\"#4a4a4a\" points=\"262.81,-117.72 266.05,-107.63 257.23,-113.49 262.81,-117.72\" stroke=\"#4a4a4a\"/>\n</a>\n</g>\n</g>\n<!-- RushHour -->\n<g class=\"node\" id=\"node10\">\n<title>RushHour</title>\n<g id=\"a_node10\"><a xlink:title=\"(9) RushHour\">\n<ellipse cx=\"205.65\" cy=\"-306\" fill=\"#404040\" rx=\"46.43\" ry=\"18\" stroke=\"black\"/>\n<text fill=\"white\" font-family=\"Times,serif\" font-size=\"14.00\" text-anchor=\"middle\" x=\"205.65\" y=\"-301.8\">RushHour</text>\n</a>\n</g>\n</g>\n<!-- RushHour&#45;&gt;Speed -->\n<g class=\"edge\" id=\"edge7\">\n<title>RushHour-&gt;Speed</title>\n<g id=\"a_edge7\"><a xlink:title=\"(9, 3) : \">\n<path d=\"M195.22,-288.41C189.9,-279.95 183.33,-269.49 177.41,-260.08\" fill=\"none\" stroke=\"#4a4a4a\"/>\n<polygon fill=\"#4a4a4a\" points=\"180.28,-258.07 172,-251.47 174.36,-261.8 180.28,-258.07\" stroke=\"#4a4a4a\"/>\n</a>\n</g>\n</g>\n<!-- RushHour&#45;&gt;Danger -->\n<g class=\"edge\" id=\"edge6\">\n<title>RushHour-&gt;Danger</title>\n<g id=\"a_edge6\"><a xlink:title=\"(9, 8) : \">\n<path d=\"M208.06,-287.87C211.47,-263.67 217.73,-219.21 221.79,-190.39\" fill=\"none\" stroke=\"#4a4a4a\"/>\n<polygon fill=\"#4a4a4a\" points=\"225.3,-190.58 223.23,-180.19 218.37,-189.6 225.3,-190.58\" stroke=\"#4a4a4a\"/>\n</a>\n</g>\n</g>\n</g>\n</svg>"
     },
     "metadata": {},
     "output_type": "display_data"
    },
    {
     "data": {
      "text/plain": "True"
     },
     "metadata": {},
     "output_type": "execute_result",
     "execution_count": 23
    }
   ],
   "source": [
    "#construct network\n",
    "m0 = gum.fastBN(\"Weather{Sun|Rain}->RoadConditions{Dry|Wet}->RoadWorks{True|False}->Speed{Slow\"\n",
    "                \"|Fast};Weather->Humor{Good|Bad}->Accident{Low|High}->Delay{True|False}<-Strike{True|False\"\n",
    "                \"}->Accident<-Danger{Low|High}<-Speed<-RushHour{True|False}->Danger<-RoadConditions->Speed->Delay;\")\n",
    "\n",
    "\n",
    "gnb.showBN(m0, size=10)\n",
    "graph = gnb.BN2dot(m0, size=100)\n",
    "graph.write_pdf('network.pdf')"
   ],
   "metadata": {
    "collapsed": false,
    "pycharm": {
     "name": "#%%\n",
     "is_executing": false
    }
   }
  },
  {
   "cell_type": "code",
   "execution_count": 24,
   "outputs": [],
   "source": [
    "def common_data(list1, list2): \n",
    "    result = False\n",
    "    # traverse in the 1st list \n",
    "    for x in list1: \n",
    "        # traverse in the 2nd list \n",
    "        for y in list2: \n",
    "            # if one common \n",
    "            if x == y: \n",
    "                result = True\n",
    "                return result \n",
    "\n",
    "\n",
    "def getAncestors(cm,varSet):\n",
    "    ancestors=varSet\n",
    "\n",
    "    while len(varSet)>0:\n",
    "        newparents=cm.parents(varSet[0])\n",
    "        newparents = [i for b in map(lambda x:[x] if not isinstance(x, list) else x, newparents) for i in b]\n",
    "        newparents = [cm.names()[i] for i in newparents] \n",
    "        ancestors=ancestors+newparents\n",
    "        varSet=varSet+newparents\n",
    "        varSet.remove(varSet[0])\n",
    "    return(ancestors)\n",
    "\n",
    "\n",
    "def dSeparation(cm, varSet1, varSet2, evs):\n",
    "    cmcopy=gum.fastBN(\"A\")\n",
    "    cmcopy.erase(\"A\")\n",
    "    [ cmcopy.add(name, 2) for name in cm.names()]\n",
    "    for link in cm.arcs():\n",
    "        cmcopy.addArc(*link)\n",
    "    l1=cmcopy.names()\n",
    "    l2=getAncestors(cmcopy,varSet1+varSet2+evs)\n",
    "    #print(l2)\n",
    "    l3 = [x for x in l1 if x not in l2]\n",
    "    for i in l3:\n",
    "        cmcopy.erase(i)\n",
    "    m=cmcopy.moralGraph()\n",
    "    if len(evs)>0:\n",
    "        for i in evs:\n",
    "            m.eraseNode(cmcopy.idFromName(i))\n",
    "    #gnb.sideBySide(m)\n",
    "    connComp=m.connectedComponents()\n",
    "    #print(connComp)\n",
    "    idVarSet1=[]\n",
    "    idVarSet2=[]\n",
    "    for i in varSet1:\n",
    "        idVarSet1.append(cmcopy.idFromName(i))\n",
    "    for i in varSet2:\n",
    "        idVarSet2.append(cmcopy.idFromName(i))\n",
    "    dSeparated=True\n",
    "    for i in connComp:\n",
    "        connCompSet=connComp[i]\n",
    "        connCompSet= [i for b in map(lambda x:[x] if not isinstance(x, list) else x, connCompSet) for i in b]\n",
    "        if common_data(connCompSet, idVarSet1) and common_data(connCompSet, idVarSet2):\n",
    "            dSeparated=False\n",
    "    del cmcopy\n",
    "    return dSeparated\n"
   ],
   "metadata": {
    "collapsed": false,
    "pycharm": {
     "name": "#%%\n",
     "is_executing": false
    }
   }
  },
  {
   "cell_type": "markdown",
   "source": [
    "# D-separation\n"
   ],
   "metadata": {
    "collapsed": false
   }
  },
  {
   "cell_type": "code",
   "execution_count": 25,
   "outputs": [
    {
     "name": "stdout",
     "text": [
      "True\nFalse\nFalse\nFalse\nFalse\nTrue\nTrue\nTrue\nTrue\nFalse\n"
     ],
     "output_type": "stream"
    }
   ],
   "source": [
    "print(dSeparation(m0,[\"RushHour\"], [\"RoadConditions\"], []))\n",
    "print(dSeparation(m0,[\"RushHour\"], [\"RoadConditions\"], [\"Danger\"]))\n",
    "print(dSeparation(m0,[\"RushHour\"], [\"RoadConditions\"], [\"Speed\"]))\n",
    "print(dSeparation(m0,[\"RushHour\"], [\"RoadConditions\"], [\"Accident\"]))\n",
    "print(dSeparation(m0,[\"RushHour\"], [\"RoadConditions\"], [\"Delay\"]))\n",
    "print(dSeparation(m0,[\"RushHour\"], [\"RoadConditions\"], [\"RoadWorks\"]))\n",
    "print(dSeparation(m0,[\"RushHour\"], [\"RoadConditions\"], [\"Strike\"]))\n",
    "print(dSeparation(m0,[\"RushHour\"], [\"RoadConditions\"], [\"Weather\"]))\n",
    "print(dSeparation(m0,[\"RushHour\"], [\"RoadConditions\"], [\"Humor\"]))\n",
    "print(dSeparation(m0,[\"RushHour\"], [\"RoadConditions\"], [\"Danger\",\"Speed\",\"Accident\",\"Delay\"]))"
   ],
   "metadata": {
    "collapsed": false,
    "pycharm": {
     "name": "#%%\n",
     "is_executing": false
    }
   }
  },
  {
   "cell_type": "code",
   "execution_count": 26,
   "outputs": [
    {
     "name": "stdout",
     "text": [
      "True\nTrue\nTrue\nFalse\nFalse\nTrue\nTrue\nTrue\nTrue\n"
     ],
     "output_type": "stream"
    }
   ],
   "source": [
    "print(dSeparation(m0,[\"RushHour\"], [\"Strike\"], []))\n",
    "print(dSeparation(m0,[\"RushHour\"], [\"Strike\"], [\"Danger\"]))\n",
    "print(dSeparation(m0,[\"RushHour\"], [\"Strike\"], [\"Speed\"]))\n",
    "print(dSeparation(m0,[\"RushHour\"], [\"Strike\"], [\"Accident\"]))\n",
    "print(dSeparation(m0,[\"RushHour\"], [\"Strike\"], [\"Delay\"]))\n",
    "print(dSeparation(m0,[\"RushHour\"], [\"Strike\"], [\"RoadWorks\"]))\n",
    "print(dSeparation(m0,[\"RushHour\"], [\"Strike\"], [\"RoadConditions\"]))\n",
    "print(dSeparation(m0,[\"RushHour\"], [\"Strike\"], [\"Weather\"]))\n",
    "print(dSeparation(m0,[\"RushHour\"], [\"Strike\"], [\"Humor\"]))"
   ],
   "metadata": {
    "collapsed": false,
    "pycharm": {
     "name": "#%%\n",
     "is_executing": false
    }
   }
  },
  {
   "cell_type": "code",
   "execution_count": 27,
   "outputs": [
    {
     "name": "stdout",
     "text": [
      "False\nFalse\nFalse\nFalse\nFalse\nFalse\nFalse\nFalse\nFalse\nTrue\n"
     ],
     "output_type": "stream"
    }
   ],
   "source": [
    "print(dSeparation(m0,[\"Speed\"], [\"Accident\"], []))\n",
    "print(dSeparation(m0,[\"Speed\"], [\"Accident\"], [\"Danger\"]))\n",
    "print(dSeparation(m0,[\"Speed\"], [\"Accident\"], [\"RushHour\"]))\n",
    "print(dSeparation(m0,[\"Speed\"], [\"Accident\"], [\"Strike\"]))\n",
    "print(dSeparation(m0,[\"Speed\"], [\"Accident\"], [\"Delay\"]))\n",
    "print(dSeparation(m0,[\"Speed\"], [\"Accident\"], [\"RoadWorks\"]))\n",
    "print(dSeparation(m0,[\"Speed\"], [\"Accident\"], [\"RoadConditions\"]))\n",
    "print(dSeparation(m0,[\"Speed\"], [\"Accident\"], [\"Weather\"]))\n",
    "print(dSeparation(m0,[\"Speed\"], [\"Accident\"], [\"Humor\"]))\n",
    "\n",
    "print(dSeparation(m0,[\"Speed\"], [\"Accident\"], [\"Danger\", \"Humor\", \"RoadConditions\"]))"
   ],
   "metadata": {
    "collapsed": false,
    "pycharm": {
     "name": "#%%\n",
     "is_executing": false
    }
   }
  },
  {
   "cell_type": "code",
   "execution_count": 28,
   "outputs": [
    {
     "name": "stdout",
     "text": [
      "True\nTrue\nTrue\nFalse\nFalse\nTrue\nTrue\nTrue\nTrue\n"
     ],
     "output_type": "stream"
    }
   ],
   "source": [
    "print(dSeparation(m0,[\"RoadConditions\"], [\"Strike\"], []))\n",
    "print(dSeparation(m0,[\"RoadConditions\"], [\"Strike\"], [\"Danger\"]))\n",
    "print(dSeparation(m0,[\"RoadConditions\"], [\"Strike\"], [\"Speed\"]))\n",
    "print(dSeparation(m0,[\"RoadConditions\"], [\"Strike\"], [\"Accident\"]))\n",
    "print(dSeparation(m0,[\"RoadConditions\"], [\"Strike\"], [\"Delay\"]))\n",
    "print(dSeparation(m0,[\"RoadConditions\"], [\"Strike\"], [\"RushHour\"]))\n",
    "print(dSeparation(m0,[\"RoadConditions\"], [\"Strike\"], [\"RoadWorks\"]))\n",
    "print(dSeparation(m0,[\"RoadConditions\"], [\"Strike\"], [\"Weather\"]))\n",
    "print(dSeparation(m0,[\"RoadConditions\"], [\"Strike\"], [\"Humor\"]))"
   ],
   "metadata": {
    "collapsed": false,
    "pycharm": {
     "name": "#%%\n",
     "is_executing": false
    }
   }
  },
  {
   "cell_type": "code",
   "execution_count": 29,
   "outputs": [
    {
     "name": "stdout",
     "text": [
      "False\nFalse\nFalse\nFalse\nFalse\nFalse\nTrue\nTrue\nFalse\n"
     ],
     "output_type": "stream"
    }
   ],
   "source": [
    "print(dSeparation(m0,[\"Speed\"], [\"Humor\"], []))\n",
    "print(dSeparation(m0,[\"Speed\"], [\"Humor\"], [\"Danger\"]))\n",
    "print(dSeparation(m0,[\"Speed\"], [\"Humor\"], [\"RushHour\"]))\n",
    "print(dSeparation(m0,[\"Speed\"], [\"Humor\"], [\"Strike\"]))\n",
    "print(dSeparation(m0,[\"Speed\"], [\"Humor\"], [\"Delay\"]))\n",
    "print(dSeparation(m0,[\"Speed\"], [\"Humor\"], [\"RoadWorks\"]))\n",
    "print(dSeparation(m0,[\"Speed\"], [\"Humor\"], [\"RoadConditions\"]))\n",
    "print(dSeparation(m0,[\"Speed\"], [\"Humor\"], [\"Weather\"]))\n",
    "print(dSeparation(m0,[\"Speed\"], [\"Humor\"], [\"Accident\"]))"
   ],
   "metadata": {
    "collapsed": false,
    "pycharm": {
     "name": "#%%\n",
     "is_executing": false
    }
   }
  },
  {
   "cell_type": "markdown",
   "source": [
    "# Conditional probability tables"
   ],
   "metadata": {
    "collapsed": false
   }
  },
  {
   "cell_type": "code",
   "execution_count": 30,
   "outputs": [
    {
     "data": {
      "text/plain": "<IPython.core.display.HTML object>",
      "text/html": "<table style=\"border-style: hidden; border-collapse: collapse;\" width=\"100%\"><tr><td style=\"border-top:hidden;border-bottom:hidden;\"><div align=\"center\" style=\"\"><table style=\"border:1px solid black;\">\n<tr style='border:1px solid black;color:black;background-color:#808080'><th colspan='2'><center>Weather</center></th></tr>\n<tr><th style='border:1px solid black;border-bottom-style: double;color:black;background-color:#BBBBBB'><center>Sun</center></th><th style='border:1px solid black;border-bottom-style: double;color:black;background-color:#BBBBBB'><center>Rain</center></th></tr>\n<tr><td style='color:black;background-color:#bfbf64;text-align:right;'>0.5000</td><td style='color:black;background-color:#bfbf64;text-align:right;'>0.5000</td></tr>\n</table></div></td><td style=\"border-top:hidden;border-bottom:hidden;\"><div align=\"center\" style=\"\"><table style=\"border:1px solid black;\">\n<tr style='border:1px solid black;color:black;background-color:#808080'><th colspan='2'><center>Strike</center></th></tr>\n<tr><th style='border:1px solid black;border-bottom-style: double;color:black;background-color:#BBBBBB'><center>True</center></th><th style='border:1px solid black;border-bottom-style: double;color:black;background-color:#BBBBBB'><center>False</center></th></tr>\n<tr><td style='color:black;background-color:#f28b64;text-align:right;'>0.1000</td><td style='color:black;background-color:#8bf264;text-align:right;'>0.9000</td></tr>\n</table></div></td><td style=\"border-top:hidden;border-bottom:hidden;\"><div align=\"center\" style=\"\"><table style=\"border:1px solid black;\">\n<tr style='border:1px solid black;color:black;background-color:#808080'><th colspan='2'><center>RushHour</center></th></tr>\n<tr><th style='border:1px solid black;border-bottom-style: double;color:black;background-color:#BBBBBB'><center>True</center></th><th style='border:1px solid black;border-bottom-style: double;color:black;background-color:#BBBBBB'><center>False</center></th></tr>\n<tr><td style='color:black;background-color:#e59864;text-align:right;'>0.2000</td><td style='color:black;background-color:#98e564;text-align:right;'>0.8000</td></tr>\n</table></div></td><td style=\"border-top:hidden;border-bottom:hidden;\"><div align=\"center\" style=\"\"><table style=\"border:1px solid black;\">\n<tr><th colspan='1'></th><th colspan='2' style='border:1px solid black;color:black;background-color:#808080;'><center>RoadConditions</center></th></tr>\n<tr><th style='border:1px solid black;color:black;background-color:#808080'><center>Weather</center></th><th style='border:1px solid black;border-bottom-style: double;color:black;background-color:#BBBBBB'><center>Dry</center></th><th style='border:1px solid black;border-bottom-style: double;color:black;background-color:#BBBBBB'><center>Wet</center></th></tr>\n<tr><th style='border:1px solid black;color:black;background-color:#BBBBBB'><center>Sun</center></th><td style='color:black;background-color:#9fdf64;text-align:right;'>0.7500</td><td style='color:black;background-color:#df9f64;text-align:right;'>0.2500</td></tr>\n<tr><th style='border:1px solid black;color:black;background-color:#BBBBBB'><center>Rain</center></th><td style='color:black;background-color:#cbb264;text-align:right;'>0.4000</td><td style='color:black;background-color:#b2cb64;text-align:right;'>0.6000</td></tr>\n</table></div></td><td style=\"border-top:hidden;border-bottom:hidden;\"><div align=\"center\" style=\"\"><table style=\"border:1px solid black;\">\n<tr><th colspan='1'></th><th colspan='2' style='border:1px solid black;color:black;background-color:#808080;'><center>Humor</center></th></tr>\n<tr><th style='border:1px solid black;color:black;background-color:#808080'><center>Weather</center></th><th style='border:1px solid black;border-bottom-style: double;color:black;background-color:#BBBBBB'><center>Good</center></th><th style='border:1px solid black;border-bottom-style: double;color:black;background-color:#BBBBBB'><center>Bad</center></th></tr>\n<tr><th style='border:1px solid black;color:black;background-color:#BBBBBB'><center>Sun</center></th><td style='color:black;background-color:#98e564;text-align:right;'>0.8000</td><td style='color:black;background-color:#e59864;text-align:right;'>0.2000</td></tr>\n<tr><th style='border:1px solid black;color:black;background-color:#BBBBBB'><center>Rain</center></th><td style='color:black;background-color:#d8a564;text-align:right;'>0.3000</td><td style='color:black;background-color:#a5d864;text-align:right;'>0.7000</td></tr>\n</table></div></td><td style=\"border-top:hidden;border-bottom:hidden;\"><div align=\"center\" style=\"\"><table style=\"border:1px solid black;\">\n<tr><th colspan='1'></th><th colspan='2' style='border:1px solid black;color:black;background-color:#808080;'><center>RoadWorks</center></th></tr>\n<tr><th style='border:1px solid black;color:black;background-color:#808080'><center>RoadConditions</center></th><th style='border:1px solid black;border-bottom-style: double;color:black;background-color:#BBBBBB'><center>True</center></th><th style='border:1px solid black;border-bottom-style: double;color:black;background-color:#BBBBBB'><center>False</center></th></tr>\n<tr><th style='border:1px solid black;color:black;background-color:#BBBBBB'><center>Dry</center></th><td style='color:black;background-color:#f28b64;text-align:right;'>0.1000</td><td style='color:black;background-color:#8bf264;text-align:right;'>0.9000</td></tr>\n<tr><th style='border:1px solid black;color:black;background-color:#BBBBBB'><center>Wet</center></th><td style='color:black;background-color:#98e564;text-align:right;'>0.8000</td><td style='color:black;background-color:#e59864;text-align:right;'>0.2000</td></tr>\n</table></div></td><td style=\"border-top:hidden;border-bottom:hidden;\"><div align=\"center\" style=\"\"><table style=\"border:1px solid black;\">\n<tr><th colspan='3'></th><th colspan='2' style='border:1px solid black;color:black;background-color:#808080;'><center>Speed</center></th></tr>\n<tr><th style='border:1px solid black;color:black;background-color:#808080'><center>RoadConditions</center></th><th style='border:1px solid black;color:black;background-color:#808080'><center>RushHour</center></th><th style='border:1px solid black;color:black;background-color:#808080'><center>RoadWorks</center></th><th style='border:1px solid black;border-bottom-style: double;color:black;background-color:#BBBBBB'><center>Slow</center></th><th style='border:1px solid black;border-bottom-style: double;color:black;background-color:#BBBBBB'><center>Fast</center></th></tr>\n<tr><th style='border:1px solid black;color:black;background-color:#BBBBBB;' rowspan = '4'><center>Dry</center></th><th style='border:1px solid black;color:black;background-color:#BBBBBB;' rowspan = '2'><center>True</center></th><th style='border:1px solid black;color:black;background-color:#BBBBBB'><center>True</center></th><td style='color:black;background-color:#92eb64;text-align:right;'>0.8500</td><td style='color:black;background-color:#eb9264;text-align:right;'>0.1500</td></tr>\n<tr><th style='border:1px solid black;color:black;background-color:#BBBBBB'><center>False</center></th><td style='color:black;background-color:#98e564;text-align:right;'>0.8000</td><td style='color:black;background-color:#e59864;text-align:right;'>0.2000</td></tr>\n<tr><th style='border:1px solid black;color:black;background-color:#BBBBBB;' rowspan = '2'><center>False</center></th><th style='border:1px solid black;color:black;background-color:#BBBBBB'><center>True</center></th><td style='color:black;background-color:#9fdf64;text-align:right;'>0.7500</td><td style='color:black;background-color:#df9f64;text-align:right;'>0.2500</td></tr>\n<tr><th style='border:1px solid black;color:black;background-color:#BBBBBB'><center>False</center></th><td style='color:black;background-color:#eb9264;text-align:right;'>0.1500</td><td style='color:black;background-color:#92eb64;text-align:right;'>0.8500</td></tr>\n<tr><th style='border:1px solid black;color:black;background-color:#BBBBBB;' rowspan = '4'><center>Wet</center></th><th style='border:1px solid black;color:black;background-color:#BBBBBB;' rowspan = '2'><center>True</center></th><th style='border:1px solid black;color:black;background-color:#BBBBBB'><center>True</center></th><td style='color:black;background-color:#85f864;text-align:right;'>0.9500</td><td style='color:black;background-color:#f88564;text-align:right;'>0.0500</td></tr>\n<tr><th style='border:1px solid black;color:black;background-color:#BBBBBB'><center>False</center></th><td style='color:black;background-color:#98e564;text-align:right;'>0.8000</td><td style='color:black;background-color:#e59864;text-align:right;'>0.2000</td></tr>\n<tr><th style='border:1px solid black;color:black;background-color:#BBBBBB;' rowspan = '2'><center>False</center></th><th style='border:1px solid black;color:black;background-color:#BBBBBB'><center>True</center></th><td style='color:black;background-color:#8bf264;text-align:right;'>0.9000</td><td style='color:black;background-color:#f28b64;text-align:right;'>0.1000</td></tr>\n<tr><th style='border:1px solid black;color:black;background-color:#BBBBBB'><center>False</center></th><td style='color:black;background-color:#b2cb64;text-align:right;'>0.6000</td><td style='color:black;background-color:#cbb264;text-align:right;'>0.4000</td></tr>\n</table></div></td><td style=\"border-top:hidden;border-bottom:hidden;\"><div align=\"center\" style=\"\"><table style=\"border:1px solid black;\">\n<tr><th colspan='3'></th><th colspan='2' style='border:1px solid black;color:black;background-color:#808080;'><center>Danger</center></th></tr>\n<tr><th style='border:1px solid black;color:black;background-color:#808080'><center>RoadConditions</center></th><th style='border:1px solid black;color:black;background-color:#808080'><center>RushHour</center></th><th style='border:1px solid black;color:black;background-color:#808080'><center>Speed</center></th><th style='border:1px solid black;border-bottom-style: double;color:black;background-color:#BBBBBB'><center>Low</center></th><th style='border:1px solid black;border-bottom-style: double;color:black;background-color:#BBBBBB'><center>High</center></th></tr>\n<tr><th style='border:1px solid black;color:black;background-color:#BBBBBB;' rowspan = '4'><center>Dry</center></th><th style='border:1px solid black;color:black;background-color:#BBBBBB;' rowspan = '2'><center>True</center></th><th style='border:1px solid black;color:black;background-color:#BBBBBB'><center>Slow</center></th><td style='color:black;background-color:#92eb64;text-align:right;'>0.8500</td><td style='color:black;background-color:#eb9264;text-align:right;'>0.1500</td></tr>\n<tr><th style='border:1px solid black;color:black;background-color:#BBBBBB'><center>Fast</center></th><td style='color:black;background-color:#e59864;text-align:right;'>0.2000</td><td style='color:black;background-color:#98e564;text-align:right;'>0.8000</td></tr>\n<tr><th style='border:1px solid black;color:black;background-color:#BBBBBB;' rowspan = '2'><center>False</center></th><th style='border:1px solid black;color:black;background-color:#BBBBBB'><center>Slow</center></th><td style='color:black;background-color:#85f864;text-align:right;'>0.9500</td><td style='color:black;background-color:#f88564;text-align:right;'>0.0500</td></tr>\n<tr><th style='border:1px solid black;color:black;background-color:#BBBBBB'><center>Fast</center></th><td style='color:black;background-color:#d8a564;text-align:right;'>0.3000</td><td style='color:black;background-color:#a5d864;text-align:right;'>0.7000</td></tr>\n<tr><th style='border:1px solid black;color:black;background-color:#BBBBBB;' rowspan = '4'><center>Wet</center></th><th style='border:1px solid black;color:black;background-color:#BBBBBB;' rowspan = '2'><center>True</center></th><th style='border:1px solid black;color:black;background-color:#BBBBBB'><center>Slow</center></th><td style='color:black;background-color:#c5b864;text-align:right;'>0.4500</td><td style='color:black;background-color:#b8c564;text-align:right;'>0.5500</td></tr>\n<tr><th style='border:1px solid black;color:black;background-color:#BBBBBB'><center>Fast</center></th><td style='color:black;background-color:#f88564;text-align:right;'>0.0500</td><td style='color:black;background-color:#85f864;text-align:right;'>0.9500</td></tr>\n<tr><th style='border:1px solid black;color:black;background-color:#BBBBBB;' rowspan = '2'><center>False</center></th><th style='border:1px solid black;color:black;background-color:#BBBBBB'><center>Slow</center></th><td style='color:black;background-color:#b8c564;text-align:right;'>0.5500</td><td style='color:black;background-color:#c5b864;text-align:right;'>0.4500</td></tr>\n<tr><th style='border:1px solid black;color:black;background-color:#BBBBBB'><center>Fast</center></th><td style='color:black;background-color:#e59864;text-align:right;'>0.2000</td><td style='color:black;background-color:#98e564;text-align:right;'>0.8000</td></tr>\n</table></div></td><td style=\"border-top:hidden;border-bottom:hidden;\"><div align=\"center\" style=\"\"><table style=\"border:1px solid black;\">\n<tr><th colspan='3'></th><th colspan='2' style='border:1px solid black;color:black;background-color:#808080;'><center>Accident</center></th></tr>\n<tr><th style='border:1px solid black;color:black;background-color:#808080'><center>Danger</center></th><th style='border:1px solid black;color:black;background-color:#808080'><center>Strike</center></th><th style='border:1px solid black;color:black;background-color:#808080'><center>Humor</center></th><th style='border:1px solid black;border-bottom-style: double;color:black;background-color:#BBBBBB'><center>Low</center></th><th style='border:1px solid black;border-bottom-style: double;color:black;background-color:#BBBBBB'><center>High</center></th></tr>\n<tr><th style='border:1px solid black;color:black;background-color:#BBBBBB;' rowspan = '4'><center>Low</center></th><th style='border:1px solid black;color:black;background-color:#BBBBBB;' rowspan = '2'><center>True</center></th><th style='border:1px solid black;color:black;background-color:#BBBBBB'><center>Good</center></th><td style='color:black;background-color:#eb9264;text-align:right;'>0.1500</td><td style='color:black;background-color:#92eb64;text-align:right;'>0.8500</td></tr>\n<tr><th style='border:1px solid black;color:black;background-color:#BBBBBB'><center>Bad</center></th><td style='color:black;background-color:#a5d864;text-align:right;'>0.7000</td><td style='color:black;background-color:#d8a564;text-align:right;'>0.3000</td></tr>\n<tr><th style='border:1px solid black;color:black;background-color:#BBBBBB;' rowspan = '2'><center>False</center></th><th style='border:1px solid black;color:black;background-color:#BBBBBB'><center>Good</center></th><td style='color:black;background-color:#f88564;text-align:right;'>0.0500</td><td style='color:black;background-color:#85f864;text-align:right;'>0.9500</td></tr>\n<tr><th style='border:1px solid black;color:black;background-color:#BBBBBB'><center>Bad</center></th><td style='color:black;background-color:#b8c564;text-align:right;'>0.5500</td><td style='color:black;background-color:#c5b864;text-align:right;'>0.4500</td></tr>\n<tr><th style='border:1px solid black;color:black;background-color:#BBBBBB;' rowspan = '4'><center>High</center></th><th style='border:1px solid black;color:black;background-color:#BBBBBB;' rowspan = '2'><center>True</center></th><th style='border:1px solid black;color:black;background-color:#BBBBBB'><center>Good</center></th><td style='color:black;background-color:#92eb64;text-align:right;'>0.8500</td><td style='color:black;background-color:#eb9264;text-align:right;'>0.1500</td></tr>\n<tr><th style='border:1px solid black;color:black;background-color:#BBBBBB'><center>Bad</center></th><td style='color:black;background-color:#85f864;text-align:right;'>0.9500</td><td style='color:black;background-color:#f88564;text-align:right;'>0.0500</td></tr>\n<tr><th style='border:1px solid black;color:black;background-color:#BBBBBB;' rowspan = '2'><center>False</center></th><th style='border:1px solid black;color:black;background-color:#BBBBBB'><center>Good</center></th><td style='color:black;background-color:#b2cb64;text-align:right;'>0.6000</td><td style='color:black;background-color:#cbb264;text-align:right;'>0.4000</td></tr>\n<tr><th style='border:1px solid black;color:black;background-color:#BBBBBB'><center>Bad</center></th><td style='color:black;background-color:#98e564;text-align:right;'>0.8000</td><td style='color:black;background-color:#e59864;text-align:right;'>0.2000</td></tr>\n</table></div></td><td style=\"border-top:hidden;border-bottom:hidden;\"><div align=\"center\" style=\"\"><table style=\"border:1px solid black;\">\n<tr><th colspan='3'></th><th colspan='2' style='border:1px solid black;color:black;background-color:#808080;'><center>Delay</center></th></tr>\n<tr><th style='border:1px solid black;color:black;background-color:#808080'><center>Speed</center></th><th style='border:1px solid black;color:black;background-color:#808080'><center>Strike</center></th><th style='border:1px solid black;color:black;background-color:#808080'><center>Accident</center></th><th style='border:1px solid black;border-bottom-style: double;color:black;background-color:#BBBBBB'><center>True</center></th><th style='border:1px solid black;border-bottom-style: double;color:black;background-color:#BBBBBB'><center>False</center></th></tr>\n<tr><th style='border:1px solid black;color:black;background-color:#BBBBBB;' rowspan = '4'><center>Slow</center></th><th style='border:1px solid black;color:black;background-color:#BBBBBB;' rowspan = '2'><center>True</center></th><th style='border:1px solid black;color:black;background-color:#BBBBBB'><center>Low</center></th><td style='color:black;background-color:#9fdf64;text-align:right;'>0.7500</td><td style='color:black;background-color:#df9f64;text-align:right;'>0.2500</td></tr>\n<tr><th style='border:1px solid black;color:black;background-color:#BBBBBB'><center>High</center></th><td style='color:black;background-color:#81fc64;text-align:right;'>0.9800</td><td style='color:black;background-color:#fc8164;text-align:right;'>0.0200</td></tr>\n<tr><th style='border:1px solid black;color:black;background-color:#BBBBBB;' rowspan = '2'><center>False</center></th><th style='border:1px solid black;color:black;background-color:#BBBBBB'><center>Low</center></th><td style='color:black;background-color:#abd264;text-align:right;'>0.6500</td><td style='color:black;background-color:#d2ab64;text-align:right;'>0.3500</td></tr>\n<tr><th style='border:1px solid black;color:black;background-color:#BBBBBB'><center>High</center></th><td style='color:black;background-color:#85f864;text-align:right;'>0.9500</td><td style='color:black;background-color:#f88564;text-align:right;'>0.0500</td></tr>\n<tr><th style='border:1px solid black;color:black;background-color:#BBBBBB;' rowspan = '4'><center>Fast</center></th><th style='border:1px solid black;color:black;background-color:#BBBBBB;' rowspan = '2'><center>True</center></th><th style='border:1px solid black;color:black;background-color:#BBBBBB'><center>Low</center></th><td style='color:black;background-color:#b2cb64;text-align:right;'>0.6000</td><td style='color:black;background-color:#cbb264;text-align:right;'>0.4000</td></tr>\n<tr><th style='border:1px solid black;color:black;background-color:#BBBBBB'><center>High</center></th><td style='color:black;background-color:#8bf264;text-align:right;'>0.9000</td><td style='color:black;background-color:#f28b64;text-align:right;'>0.1000</td></tr>\n<tr><th style='border:1px solid black;color:black;background-color:#BBBBBB;' rowspan = '2'><center>False</center></th><th style='border:1px solid black;color:black;background-color:#BBBBBB'><center>Low</center></th><td style='color:black;background-color:#c5b864;text-align:right;'>0.4500</td><td style='color:black;background-color:#b8c564;text-align:right;'>0.5500</td></tr>\n<tr><th style='border:1px solid black;color:black;background-color:#BBBBBB'><center>High</center></th><td style='color:black;background-color:#92eb64;text-align:right;'>0.8500</td><td style='color:black;background-color:#eb9264;text-align:right;'>0.1500</td></tr>\n</table></div></td></tr></table>"
     },
     "metadata": {},
     "output_type": "display_data"
    }
   ],
   "source": [
    "m0.cpt(\"Weather\")[:]=[0.5, 0.5]\n",
    "m0.cpt(\"Strike\")[:]=[0.1, 0.9]\n",
    "m0.cpt(\"RushHour\")[:]=[0.2, 0.8]\n",
    "\n",
    "m0.cpt(\"RoadConditions\")[{'Weather':'Sun'}]=[0.75, 0.25]\n",
    "m0.cpt(\"RoadConditions\")[{'Weather':'Rain'}]=[0.4, 0.6]\n",
    "\n",
    "m0.cpt(\"Humor\")[{'Weather':'Sun'}]=[0.8, 0.2]\n",
    "m0.cpt(\"Humor\")[{'Weather':'Rain'}]=[0.3, 0.7]\n",
    "\n",
    "m0.cpt(\"RoadWorks\")[{'RoadConditions':'Dry'}]=[0.1, 0.9]\n",
    "m0.cpt(\"RoadWorks\")[{'RoadConditions':'Wet'}]=[0.8, 0.2]\n",
    "\n",
    "m0.cpt(\"Speed\")[{'RoadConditions':'Dry', \"RoadWorks\":'True', 'RushHour':'True'}]=[0.85, 0.15]\n",
    "m0.cpt(\"Speed\")[{'RoadConditions':'Dry', \"RoadWorks\":'True', 'RushHour':'False'}]=[0.75, 0.25]\n",
    "m0.cpt(\"Speed\")[{'RoadConditions':'Dry', \"RoadWorks\":'False', 'RushHour':'True'}]=[0.8, 0.2]\n",
    "m0.cpt(\"Speed\")[{'RoadConditions':'Dry', \"RoadWorks\":'False', 'RushHour':'False'}]=[0.15, 0.85]\n",
    "m0.cpt(\"Speed\")[{'RoadConditions':'Wet', \"RoadWorks\":'True', 'RushHour':'True'}]=[0.95, 0.05]\n",
    "m0.cpt(\"Speed\")[{'RoadConditions':'Wet', \"RoadWorks\":'True', 'RushHour':'False'}]=[0.9, 0.1]\n",
    "m0.cpt(\"Speed\")[{'RoadConditions':'Wet', \"RoadWorks\":'False', 'RushHour':'True'}]=[0.8, 0.2]\n",
    "m0.cpt(\"Speed\")[{'RoadConditions':'Wet', \"RoadWorks\":'False', 'RushHour':'False'}]=[0.6, 0.4]\n",
    "\n",
    "m0.cpt(\"Danger\")[{'RoadConditions':'Dry', \"Speed\":'Slow', 'RushHour':'True'}]=[0.85, 0.15]\n",
    "m0.cpt(\"Danger\")[{'RoadConditions':'Dry', \"Speed\":'Slow', 'RushHour':'False'}]=[0.95, 0.05]\n",
    "m0.cpt(\"Danger\")[{'RoadConditions':'Dry', \"Speed\":'Fast', 'RushHour':'True'}]=[0.2, 0.8]\n",
    "m0.cpt(\"Danger\")[{'RoadConditions':'Dry', \"Speed\":'Fast', 'RushHour':'False'}]=[0.3, 0.7]\n",
    "m0.cpt(\"Danger\")[{'RoadConditions':'Wet', \"Speed\":'Slow', 'RushHour':'True'}]=[0.45, 0.55]\n",
    "m0.cpt(\"Danger\")[{'RoadConditions':'Wet', \"Speed\":'Slow', 'RushHour':'False'}]=[0.55, 0.45]\n",
    "m0.cpt(\"Danger\")[{'RoadConditions':'Wet', \"Speed\":'Fast', 'RushHour':'True'}]=[0.05, 0.95]\n",
    "m0.cpt(\"Danger\")[{'RoadConditions':'Wet', \"Speed\":'Fast', 'RushHour':'False'}]=[0.2, 0.8]\n",
    "\n",
    "m0.cpt(\"Accident\")[{'Strike':'True', \"Humor\":\"Good\",'Danger':'Low'}]=[0.15, 0.85]\n",
    "m0.cpt(\"Accident\")[{'Strike':'True', \"Humor\":\"Good\",'Danger':'High'}]=[0.85, 0.15]\n",
    "m0.cpt(\"Accident\")[{'Strike':'True', \"Humor\":\"Bad\",'Danger':'Low'}]=[0.7, 0.3]\n",
    "m0.cpt(\"Accident\")[{'Strike':'True', \"Humor\":\"Bad\",'Danger':'High'}]=[0.95, 0.05]\n",
    "m0.cpt(\"Accident\")[{'Strike':'False',\"Humor\":\"Good\",'Danger':'Low'}]=[0.05, 0.95]\n",
    "m0.cpt(\"Accident\")[{'Strike':'False',\"Humor\":\"Good\",'Danger':'High'}]=[0.6, 0.4]\n",
    "m0.cpt(\"Accident\")[{'Strike':'False',\"Humor\":\"Bad\",'Danger':'Low'}]=[0.55, 0.45]\n",
    "m0.cpt(\"Accident\")[{'Strike':'False',\"Humor\":\"Bad\",'Danger':'High'}]=[0.8, 0.2]\n",
    "\n",
    "m0.cpt(\"Delay\")[{\"Speed\":'Slow', 'Strike':'True', 'Accident':'High'}]=[0.98, 0.02]\n",
    "m0.cpt(\"Delay\")[{\"Speed\":'Slow', 'Strike':'True', 'Accident':'Low'}]=[0.75, 0.25]\n",
    "m0.cpt(\"Delay\")[{\"Speed\":'Slow', 'Strike':'False', 'Accident':'High'}]=[0.95, 0.05]\n",
    "m0.cpt(\"Delay\")[{\"Speed\":'Slow', 'Strike':'False', 'Accident':'Low'}]=[0.65, 0.35]\n",
    "m0.cpt(\"Delay\")[{\"Speed\":'Fast', 'Strike':'True', 'Accident':'High'}]=[0.9, 0.1]\n",
    "m0.cpt(\"Delay\")[{\"Speed\":'Fast', 'Strike':'True', 'Accident':'Low'}]=[0.6, 0.4]\n",
    "m0.cpt(\"Delay\")[{\"Speed\":'Fast', 'Strike':'False', 'Accident':'High'}]=[0.85, 0.15]\n",
    "m0.cpt(\"Delay\")[{\"Speed\":'Fast', 'Strike':'False', 'Accident':'Low'}]=[0.45, 0.55]\n",
    "\n",
    "# to draw network and cpt\n",
    "gnb.sideBySide(m0.cpt(\"Weather\"), m0.cpt(\"Strike\"), m0.cpt(\"RushHour\"), m0.cpt(\"RoadConditions\"),  m0.cpt('Humor'), \n",
    "               m0.cpt(\"RoadWorks\"), m0.cpt('Speed'), m0.cpt('Danger'),  m0.cpt('Accident'),  m0.cpt('Delay'))\n"
   ],
   "metadata": {
    "collapsed": false,
    "pycharm": {
     "name": "#%%\n",
     "is_executing": false
    }
   }
  },
  {
   "cell_type": "code",
   "execution_count": 31,
   "outputs": [
    {
     "name": "stdout",
     "text": [
      "Loading pages (1/6)\n[>                                                           ] 0%\r[======>                                                     ] 10%\r[==============================>                             ] 50%\r[============================================================] 100%\rCounting pages (2/6)                                               \n[============================================================] Object 1 of 1\rResolving links (4/6)                                                       \n[============================================================] Object 1 of 1\rLoading headers and footers (5/6)                                           \nPrinting pages (6/6)\n[>                                                           ] Preparing\r[============================================================] Page 1 of 1\rDone                                                                      \n",
      "Loading pages (1/6)\n[>                                                           ] 0%\r[======>                                                     ] 10%\r[==============================>                             ] 50%\r[============================================================] 100%\rCounting pages (2/6)                                               \n[============================================================] Object 1 of 1\rResolving links (4/6)                                                       \n[============================================================] Object 1 of 1\rLoading headers and footers (5/6)                                           \nPrinting pages (6/6)\n[>                                                           ] Preparing\r[============================================================] Page 1 of 1\rDone                                                                      \n",
      "Loading pages (1/6)\n[>                                                           ] 0%\r[======>                                                     ] 10%\r[==============================>                             ] 50%\r[============================================================] 100%\rCounting pages (2/6)                                               \n[============================================================] Object 1 of 1\rResolving links (4/6)                                                       \n[============================================================] Object 1 of 1\rLoading headers and footers (5/6)                                           \nPrinting pages (6/6)\n[>                                                           ] Preparing\r[============================================================] Page 1 of 1\rDone                                                                      \n",
      "Loading pages (1/6)\n[>                                                           ] 0%\r[======>                                                     ] 10%\r[==============================>                             ] 50%\r[============================================================] 100%\rCounting pages (2/6)                                               \n[============================================================] Object 1 of 1\rResolving links (4/6)                                                       \n[============================================================] Object 1 of 1\rLoading headers and footers (5/6)                                           \nPrinting pages (6/6)\n[>                                                           ] Preparing\r[============================================================] Page 1 of 1\rDone                                                                      \n",
      "Loading pages (1/6)\n[>                                                           ] 0%\r[======>                                                     ] 10%\r[==============================>                             ] 50%\r[============================================================] 100%\rCounting pages (2/6)                                               \n[============================================================] Object 1 of 1\rResolving links (4/6)                                                       \n[============================================================] Object 1 of 1\rLoading headers and footers (5/6)                                           \nPrinting pages (6/6)\n[>                                                           ] Preparing\r[============================================================] Page 1 of 1\rDone                                                                      \n",
      "Loading pages (1/6)\n[>                                                           ] 0%\r[======>                                                     ] 10%\r[==============================>                             ] 50%\r[============================================================] 100%\rCounting pages (2/6)                                               \n[============================================================] Object 1 of 1\rResolving links (4/6)                                                       \n[============================================================] Object 1 of 1\rLoading headers and footers (5/6)                                           \nPrinting pages (6/6)\n[>                                                           ] Preparing\r[============================================================] Page 1 of 1\rDone                                                                      \n",
      "Loading pages (1/6)\n[>                                                           ] 0%\r[======>                                                     ] 10%\r[==============================>                             ] 50%\r[============================================================] 100%\rCounting pages (2/6)                                               \n[============================================================] Object 1 of 1\rResolving links (4/6)                                                       \n[============================================================] Object 1 of 1\rLoading headers and footers (5/6)                                           \nPrinting pages (6/6)\n[>                                                           ] Preparing\r[============================================================] Page 1 of 1\rDone                                                                      \n",
      "Loading pages (1/6)\n[>                                                           ] 0%\r[======>                                                     ] 10%\r[==============================>                             ] 50%\r[============================================================] 100%\rCounting pages (2/6)                                               \n[============================================================] Object 1 of 1\rResolving links (4/6)                                                       \n[============================================================] Object 1 of 1\rLoading headers and footers (5/6)                                           \nPrinting pages (6/6)\n[>                                                           ] Preparing\r[============================================================] Page 1 of 1\rDone                                                                      \n",
      "Loading pages (1/6)\n[>                                                           ] 0%\r[======>                                                     ] 10%\r[==============================>                             ] 50%\r[============================================================] 100%\rCounting pages (2/6)                                               \n[============================================================] Object 1 of 1\rResolving links (4/6)                                                       \n[============================================================] Object 1 of 1\rLoading headers and footers (5/6)                                           \nPrinting pages (6/6)\n[>                                                           ] Preparing\r[============================================================] Page 1 of 1\rDone                                                                      \n",
      "Loading pages (1/6)\n[>                                                           ] 0%\r[======>                                                     ] 10%\r[==============================>                             ] 50%\r[============================================================] 100%\rCounting pages (2/6)                                               \n[============================================================] Object 1 of 1\rResolving links (4/6)                                                       \n[============================================================] Object 1 of 1\rLoading headers and footers (5/6)                                           \nPrinting pages (6/6)\n[>                                                           ] Preparing\r[============================================================] Page 1 of 1\rDone                                                                      \n"
     ],
     "output_type": "stream"
    },
    {
     "data": {
      "text/plain": "True"
     },
     "metadata": {},
     "output_type": "execute_result",
     "execution_count": 31
    }
   ],
   "source": [
    "# Save cpts to file\n",
    "\n",
    "pdfkit.from_string(gnb.getPotential(m0.cpt(\"Weather\"), digits=4),'weather.pdf')\n",
    "pdfkit.from_string(gnb.getPotential(m0.cpt(\"Strike\"), digits=4),'strike.pdf')\n",
    "pdfkit.from_string(gnb.getPotential(m0.cpt(\"RushHour\"), digits=4),'rushhour.pdf')\n",
    "pdfkit.from_string(gnb.getPotential(m0.cpt(\"RoadConditions\"), digits=4),'roadconditions.pdf')\n",
    "pdfkit.from_string(gnb.getPotential(m0.cpt(\"Humor\"), digits=4),'Humor.pdf')\n",
    "pdfkit.from_string(gnb.getPotential(m0.cpt(\"RoadWorks\"), digits=4),'roadworks.pdf')\n",
    "pdfkit.from_string(gnb.getPotential(m0.cpt(\"Speed\"), digits=4),'speed.pdf')\n",
    "pdfkit.from_string(gnb.getPotential(m0.cpt(\"Danger\"), digits=4),'danger.pdf')\n",
    "pdfkit.from_string(gnb.getPotential(m0.cpt(\"Accident\"), digits=4),'accident.pdf')\n",
    "pdfkit.from_string(gnb.getPotential(m0.cpt(\"Delay\"), digits=4),'delay.pdf')\n"
   ],
   "metadata": {
    "collapsed": false,
    "pycharm": {
     "name": "#%%\n",
     "is_executing": false
    }
   }
  },
  {
   "cell_type": "markdown",
   "source": [
    "# Causal Inference\n",
    "\n",
    "## Calculate the causal effect of X on Y"
   ],
   "metadata": {
    "collapsed": false
   }
  },
  {
   "cell_type": "code",
   "execution_count": 41,
   "outputs": [
    {
     "data": {
      "text/plain": "<IPython.core.display.HTML object>",
      "text/html": "<table style=\"border-style: hidden; border-collapse: collapse;\" width=\"100%\"><tr><td style=\"border-top:hidden;border-bottom:hidden;\"><div align=\"center\" style=\"\"><svg height=\"360pt\" viewBox=\"0.00 0.00 293.35 360.00\" width=\"293pt\" xmlns=\"http://www.w3.org/2000/svg\" xmlns:xlink=\"http://www.w3.org/1999/xlink\">\n<g class=\"graph\" id=\"graph0\" transform=\"scale(1.32 1.32) rotate(0) translate(4 472)\">\n<title>G</title>\n<!-- Weather -->\n<g class=\"node\" id=\"node1\">\n<title>Weather</title>\n<ellipse cx=\"225.65\" cy=\"-450\" fill=\"#404040\" rx=\"39.2\" ry=\"18\" stroke=\"#4a4a4a\"/>\n<text fill=\"white\" font-family=\"Times,serif\" font-size=\"14.00\" text-anchor=\"middle\" x=\"225.65\" y=\"-445.8\">Weather</text>\n</g>\n<!-- RoadConditions -->\n<g class=\"node\" id=\"node2\">\n<title>RoadConditions</title>\n<ellipse cx=\"177.65\" cy=\"-378\" fill=\"#404040\" rx=\"67.69\" ry=\"18\" stroke=\"#4a4a4a\"/>\n<text fill=\"white\" font-family=\"Times,serif\" font-size=\"14.00\" text-anchor=\"middle\" x=\"177.65\" y=\"-373.8\">RoadConditions</text>\n</g>\n<!-- Weather&#45;&gt;RoadConditions -->\n<g class=\"edge\" id=\"edge1\">\n<title>Weather-&gt;RoadConditions</title>\n<path d=\"M213.45,-432.98C207.73,-424.64 200.68,-414.36 194.3,-405.05\" fill=\"none\" stroke=\"#4a4a4a\"/>\n<path d=\"M215.1,-431.85C209.38,-423.51 202.33,-413.23 195.95,-403.92\" fill=\"none\" stroke=\"#4a4a4a\"/>\n<polygon fill=\"#4a4a4a\" points=\"197.82,-402.22 189.27,-395.96 192.04,-406.18 197.82,-402.22\" stroke=\"#4a4a4a\"/>\n</g>\n<!-- Humor -->\n<g class=\"node\" id=\"node5\">\n<title>Humor</title>\n<ellipse cx=\"342.65\" cy=\"-234\" fill=\"#404040\" rx=\"35.32\" ry=\"18\" stroke=\"#4a4a4a\"/>\n<text fill=\"white\" font-family=\"Times,serif\" font-size=\"14.00\" text-anchor=\"middle\" x=\"342.65\" y=\"-229.8\">Humor</text>\n</g>\n<!-- Weather&#45;&gt;Humor -->\n<g class=\"edge\" id=\"edge14\">\n<title>Weather-&gt;Humor</title>\n<path d=\"M233.91,-431.81C239.62,-421.38 247.13,-407.67 253.77,-395.52 279.95,-347.65 310.49,-291.77 327.84,-260.02\" fill=\"none\" stroke=\"#4a4a4a\"/>\n<path d=\"M235.67,-432.77C241.38,-422.34 248.88,-408.63 255.52,-396.48 281.7,-348.61 312.24,-292.72 329.59,-260.98\" fill=\"none\" stroke=\"#4a4a4a\"/>\n<polygon fill=\"#4a4a4a\" points=\"331.93,-261.91 333.65,-251.46 325.79,-258.55 331.93,-261.91\" stroke=\"#4a4a4a\"/>\n</g>\n<!-- RoadWorks -->\n<g class=\"node\" id=\"node3\">\n<title>RoadWorks</title>\n<ellipse cx=\"51.65\" cy=\"-306\" fill=\"#404040\" rx=\"51.79\" ry=\"18\" stroke=\"#4a4a4a\"/>\n<text fill=\"white\" font-family=\"Times,serif\" font-size=\"14.00\" text-anchor=\"middle\" x=\"51.65\" y=\"-301.8\">RoadWorks</text>\n</g>\n<!-- RoadConditions&#45;&gt;RoadWorks -->\n<g class=\"edge\" id=\"edge2\">\n<title>RoadConditions-&gt;RoadWorks</title>\n<path d=\"M149.2,-362.34C130.59,-352 106,-338.34 86.1,-327.28\" fill=\"none\" stroke=\"#4a4a4a\"/>\n<path d=\"M150.17,-360.59C131.56,-350.25 106.97,-336.59 87.07,-325.54\" fill=\"none\" stroke=\"#4a4a4a\"/>\n<polygon fill=\"#4a4a4a\" points=\"88.25,-323.33 77.81,-321.54 84.85,-329.45 88.25,-323.33\" stroke=\"#4a4a4a\"/>\n</g>\n<!-- Speed -->\n<g class=\"node\" id=\"node4\">\n<title>Speed</title>\n<ellipse cx=\"161.65\" cy=\"-234\" fill=\"#404040\" rx=\"31.94\" ry=\"18\" stroke=\"#4a4a4a\"/>\n<text fill=\"white\" font-family=\"Times,serif\" font-size=\"14.00\" text-anchor=\"middle\" x=\"161.65\" y=\"-229.8\">Speed</text>\n</g>\n<!-- RoadConditions&#45;&gt;Speed -->\n<g class=\"edge\" id=\"edge3\">\n<title>RoadConditions-&gt;Speed</title>\n<path d=\"M165.6,-360.65C159.59,-350.56 152.84,-337.31 149.67,-324.23 144.71,-303.23 148.14,-279.35 152.46,-261.43\" fill=\"none\" stroke=\"#4a4a4a\"/>\n<path d=\"M167.32,-359.63C161.37,-349.65 154.62,-336.4 151.62,-323.77 146.69,-303.51 150.12,-279.63 154.4,-261.89\" fill=\"none\" stroke=\"#4a4a4a\"/>\n<polygon fill=\"#4a4a4a\" points=\"156.83,-262.5 156,-251.93 150.06,-260.71 156.83,-262.5\" stroke=\"#4a4a4a\"/>\n</g>\n<!-- Danger -->\n<g class=\"node\" id=\"node9\">\n<title>Danger</title>\n<ellipse cx=\"225.65\" cy=\"-162\" fill=\"#404040\" rx=\"36.26\" ry=\"18\" stroke=\"#4a4a4a\"/>\n<text fill=\"white\" font-family=\"Times,serif\" font-size=\"14.00\" text-anchor=\"middle\" x=\"225.65\" y=\"-157.8\">Danger</text>\n</g>\n<!-- RoadConditions&#45;&gt;Danger -->\n<g class=\"edge\" id=\"edge10\">\n<title>RoadConditions-&gt;Danger</title>\n<path d=\"M215.1,-361.93C231.99,-353.51 250.39,-340.87 259.77,-323.52 283.62,-280.78 258.92,-222.16 240.66,-189.11\" fill=\"none\" stroke=\"#4a4a4a\"/>\n<path d=\"M216,-363.72C233.13,-355.16 251.52,-342.52 261.52,-324.48 285.46,-280 260.77,-221.38 242.41,-188.15\" fill=\"none\" stroke=\"#4a4a4a\"/>\n<polygon fill=\"#4a4a4a\" points=\"244.36,-186.53 236.35,-179.6 238.29,-190.02 244.36,-186.53\" stroke=\"#4a4a4a\"/>\n</g>\n<!-- RoadWorks&#45;&gt;Speed -->\n<g class=\"edge\" id=\"edge12\">\n<title>RoadWorks-&gt;Speed</title>\n<path d=\"M74.71,-289.14C91.48,-278.47 114.11,-264.06 132.01,-252.68\" fill=\"none\" stroke=\"#4a4a4a\"/>\n<path d=\"M75.78,-290.83C92.55,-280.15 115.19,-265.75 133.08,-254.36\" fill=\"none\" stroke=\"#4a4a4a\"/>\n<polygon fill=\"#4a4a4a\" points=\"134.85,-256.2 141.41,-247.88 131.1,-250.29 134.85,-256.2\" stroke=\"#4a4a4a\"/>\n</g>\n<!-- Delay -->\n<g class=\"node\" id=\"node7\">\n<title>Delay</title>\n<ellipse cx=\"278.65\" cy=\"-18\" fill=\"#404040\" rx=\"31.45\" ry=\"18\" stroke=\"#4a4a4a\"/>\n<text fill=\"white\" font-family=\"Times,serif\" font-size=\"14.00\" text-anchor=\"middle\" x=\"278.65\" y=\"-13.8\">Delay</text>\n</g>\n<!-- Speed&#45;&gt;Delay -->\n<g class=\"edge\" id=\"edge13\">\n<title>Speed-&gt;Delay</title>\n<path d=\"M162.44,-215.59C164.77,-197.19 169.77,-167.61 179.72,-143.62 196.94,-102.39 231.24,-63.56 254.44,-40.3\" fill=\"none\" stroke=\"#4a4a4a\"/>\n<path d=\"M164.42,-215.84C166.74,-197.52 171.74,-167.94 181.57,-144.38 198.43,-103.72 232.74,-64.89 255.85,-41.72\" fill=\"none\" stroke=\"#4a4a4a\"/>\n<polygon fill=\"#4a4a4a\" points=\"257.85,-43.26 262.53,-33.75 252.94,-38.27 257.85,-43.26\" stroke=\"#4a4a4a\"/>\n</g>\n<!-- Speed&#45;&gt;Danger -->\n<g class=\"edge\" id=\"edge9\">\n<title>Speed-&gt;Danger</title>\n<path d=\"M174.8,-217.14C183.23,-207.91 194.18,-195.94 203.68,-185.54\" fill=\"none\" stroke=\"#4a4a4a\"/>\n<path d=\"M176.27,-218.49C184.71,-209.26 195.65,-197.29 205.16,-186.89\" fill=\"none\" stroke=\"#4a4a4a\"/>\n<polygon fill=\"#4a4a4a\" points=\"207.18,-188.39 211.34,-178.64 202.01,-183.66 207.18,-188.39\" stroke=\"#4a4a4a\"/>\n</g>\n<!-- Accident -->\n<g class=\"node\" id=\"node6\">\n<title>Accident</title>\n<ellipse cx=\"278.65\" cy=\"-90\" fill=\"#404040\" rx=\"42.05\" ry=\"18\" stroke=\"#4a4a4a\"/>\n<text fill=\"white\" font-family=\"Times,serif\" font-size=\"14.00\" text-anchor=\"middle\" x=\"278.65\" y=\"-85.8\">Accident</text>\n</g>\n<!-- Humor&#45;&gt;Accident -->\n<g class=\"edge\" id=\"edge4\">\n<title>Humor-&gt;Accident</title>\n<path d=\"M330.02,-217.47C322.9,-207.24 314.05,-193.55 307.75,-180.43 298.08,-160.29 290.2,-136.36 284.92,-118.34\" fill=\"none\" stroke=\"#4a4a4a\"/>\n<path d=\"M331.66,-216.33C324.58,-206.15 315.73,-192.46 309.55,-179.57 299.98,-159.66 292.1,-135.74 286.84,-117.77\" fill=\"none\" stroke=\"#4a4a4a\"/>\n<polygon fill=\"#4a4a4a\" points=\"289.19,-116.88 283.09,-108.22 282.46,-118.79 289.19,-116.88\" stroke=\"#4a4a4a\"/>\n</g>\n<!-- Accident&#45;&gt;Delay -->\n<g class=\"edge\" id=\"edge5\">\n<title>Accident-&gt;Delay</title>\n<path d=\"M277.65,-71.7C277.65,-63.98 277.65,-54.71 277.65,-46.11\" fill=\"none\" stroke=\"#4a4a4a\"/>\n<path d=\"M279.65,-71.7C279.65,-63.98 279.65,-54.71 279.65,-46.11\" fill=\"none\" stroke=\"#4a4a4a\"/>\n<polygon fill=\"#4a4a4a\" points=\"282.15,-46.1 278.65,-36.1 275.15,-46.1 282.15,-46.1\" stroke=\"#4a4a4a\"/>\n</g>\n<!-- Strike -->\n<g class=\"node\" id=\"node8\">\n<title>Strike</title>\n<ellipse cx=\"348.65\" cy=\"-162\" fill=\"#404040\" rx=\"31.46\" ry=\"18\" stroke=\"#4a4a4a\"/>\n<text fill=\"white\" font-family=\"Times,serif\" font-size=\"14.00\" text-anchor=\"middle\" x=\"348.65\" y=\"-157.8\">Strike</text>\n</g>\n<!-- Strike&#45;&gt;Accident -->\n<g class=\"edge\" id=\"edge11\">\n<title>Strike-&gt;Accident</title>\n<path d=\"M333.09,-146.86C323.79,-137.56 311.61,-125.38 301.06,-114.83\" fill=\"none\" stroke=\"#4a4a4a\"/>\n<path d=\"M334.51,-145.45C325.21,-136.15 313.03,-123.97 302.48,-113.42\" fill=\"none\" stroke=\"#4a4a4a\"/>\n<polygon fill=\"#4a4a4a\" points=\"303.99,-111.39 294.44,-106.8 299.04,-116.34 303.99,-111.39\" stroke=\"#4a4a4a\"/>\n</g>\n<!-- Strike&#45;&gt;Delay -->\n<g class=\"edge\" id=\"edge8\">\n<title>Strike-&gt;Delay</title>\n<path d=\"M346.79,-144.07C345.24,-125.48 340.89,-95.17 328.76,-72.47 322.53,-60.68 312.67,-49.51 303.36,-40.61\" fill=\"none\" stroke=\"#4a4a4a\"/>\n<path d=\"M348.78,-143.9C347.22,-125.2 342.87,-94.88 330.53,-71.53 324.03,-59.36 314.17,-48.19 304.74,-39.17\" fill=\"none\" stroke=\"#4a4a4a\"/>\n<polygon fill=\"#4a4a4a\" points=\"306.14,-37.06 296.39,-32.91 301.42,-42.23 306.14,-37.06\" stroke=\"#4a4a4a\"/>\n</g>\n<!-- Danger&#45;&gt;Accident -->\n<g class=\"edge\" id=\"edge15\">\n<title>Danger-&gt;Accident</title>\n<path d=\"M237.14,-144.16C243.67,-135.54 251.83,-124.76 259.13,-115.12\" fill=\"none\" stroke=\"#4a4a4a\"/>\n<path d=\"M238.74,-145.37C245.26,-136.75 253.43,-125.97 260.72,-116.33\" fill=\"none\" stroke=\"#4a4a4a\"/>\n<polygon fill=\"#4a4a4a\" points=\"262.81,-117.72 266.05,-107.63 257.23,-113.49 262.81,-117.72\" stroke=\"#4a4a4a\"/>\n</g>\n<!-- RushHour -->\n<g class=\"node\" id=\"node10\">\n<title>RushHour</title>\n<ellipse cx=\"205.65\" cy=\"-306\" fill=\"#404040\" rx=\"46.43\" ry=\"18\" stroke=\"#4a4a4a\"/>\n<text fill=\"white\" font-family=\"Times,serif\" font-size=\"14.00\" text-anchor=\"middle\" x=\"205.65\" y=\"-301.8\">RushHour</text>\n</g>\n<!-- RushHour&#45;&gt;Speed -->\n<g class=\"edge\" id=\"edge7\">\n<title>RushHour-&gt;Speed</title>\n<path d=\"M194.37,-288.94C189.06,-280.49 182.48,-270.03 176.56,-260.61\" fill=\"none\" stroke=\"#4a4a4a\"/>\n<path d=\"M196.07,-287.88C190.75,-279.42 184.18,-268.96 178.26,-259.55\" fill=\"none\" stroke=\"#4a4a4a\"/>\n<polygon fill=\"#4a4a4a\" points=\"180.28,-258.07 172,-251.47 174.36,-261.8 180.28,-258.07\" stroke=\"#4a4a4a\"/>\n</g>\n<!-- RushHour&#45;&gt;Danger -->\n<g class=\"edge\" id=\"edge6\">\n<title>RushHour-&gt;Danger</title>\n<path d=\"M207.07,-287.73C210.48,-263.53 216.74,-219.07 220.8,-190.25\" fill=\"none\" stroke=\"#4a4a4a\"/>\n<path d=\"M209.05,-288.01C212.46,-263.81 218.72,-219.35 222.78,-190.53\" fill=\"none\" stroke=\"#4a4a4a\"/>\n<polygon fill=\"#4a4a4a\" points=\"225.3,-190.58 223.23,-180.19 218.37,-189.6 225.3,-190.58\" stroke=\"#4a4a4a\"/>\n</g>\n</g>\n</svg></div></td><td style=\"border-top:hidden;border-bottom:hidden;\"><div align=\"center\" style=\"\">$$\\begin{equation}P( Danger \\mid \\hookrightarrow\\mkern-6.5muRoadWorks) = \\sum_{RoadConditions}{P\\left(Danger\\mid RoadConditions,RoadWorks\\right) \\cdot P\\left(RoadConditions\\right)}\\end{equation}$$</div></td><td style=\"border-top:hidden;border-bottom:hidden;\"><div align=\"center\" style=\"\"><table style=\"border:1px solid black;\">\n<tr style='border:1px solid black;color:black;background-color:#808080'><th colspan='2'><center>Danger</center></th></tr>\n<tr><th style='border:1px solid black;border-bottom-style: double;color:black;background-color:#BBBBBB'><center>Low</center></th><th style='border:1px solid black;border-bottom-style: double;color:black;background-color:#BBBBBB'><center>High</center></th></tr>\n<tr><td style='color:black;background-color:#aad364;text-align:right;'>0.6604</td><td style='color:black;background-color:#d3aa64;text-align:right;'>0.3396</td></tr>\n</table></div></td></tr><tr><td style=\"border-top:hidden;border-bottom:hidden;\"><div align=\"center\"><small>Causal Model</small></div></td><td style=\"border-top:hidden;border-bottom:hidden;\"><div align=\"center\"><small>Explanation : backdoor ['RoadConditions'] found.</small></div></td><td style=\"border-top:hidden;border-bottom:hidden;\"><div align=\"center\"><small>Impact : $P( Danger \\mid \\hookrightarrow\\mkern-6.5muRoadWorks=True)$</small></div></td></tr></table>"
     },
     "metadata": {},
     "output_type": "display_data"
    },
    {
     "data": {
      "text/plain": "<IPython.core.display.HTML object>",
      "text/html": "<table style=\"border-style: hidden; border-collapse: collapse;\" width=\"100%\"><tr><td style=\"border-top:hidden;border-bottom:hidden;\"><div align=\"center\" style=\"\"><svg height=\"360pt\" viewBox=\"0.00 0.00 293.35 360.00\" width=\"293pt\" xmlns=\"http://www.w3.org/2000/svg\" xmlns:xlink=\"http://www.w3.org/1999/xlink\">\n<g class=\"graph\" id=\"graph0\" transform=\"scale(1.32 1.32) rotate(0) translate(4 472)\">\n<title>G</title>\n<!-- Weather -->\n<g class=\"node\" id=\"node1\">\n<title>Weather</title>\n<ellipse cx=\"225.65\" cy=\"-450\" fill=\"#404040\" rx=\"39.2\" ry=\"18\" stroke=\"#4a4a4a\"/>\n<text fill=\"white\" font-family=\"Times,serif\" font-size=\"14.00\" text-anchor=\"middle\" x=\"225.65\" y=\"-445.8\">Weather</text>\n</g>\n<!-- RoadConditions -->\n<g class=\"node\" id=\"node2\">\n<title>RoadConditions</title>\n<ellipse cx=\"177.65\" cy=\"-378\" fill=\"#404040\" rx=\"67.69\" ry=\"18\" stroke=\"#4a4a4a\"/>\n<text fill=\"white\" font-family=\"Times,serif\" font-size=\"14.00\" text-anchor=\"middle\" x=\"177.65\" y=\"-373.8\">RoadConditions</text>\n</g>\n<!-- Weather&#45;&gt;RoadConditions -->\n<g class=\"edge\" id=\"edge1\">\n<title>Weather-&gt;RoadConditions</title>\n<path d=\"M213.45,-432.98C207.73,-424.64 200.68,-414.36 194.3,-405.05\" fill=\"none\" stroke=\"#4a4a4a\"/>\n<path d=\"M215.1,-431.85C209.38,-423.51 202.33,-413.23 195.95,-403.92\" fill=\"none\" stroke=\"#4a4a4a\"/>\n<polygon fill=\"#4a4a4a\" points=\"197.82,-402.22 189.27,-395.96 192.04,-406.18 197.82,-402.22\" stroke=\"#4a4a4a\"/>\n</g>\n<!-- Humor -->\n<g class=\"node\" id=\"node5\">\n<title>Humor</title>\n<ellipse cx=\"342.65\" cy=\"-234\" fill=\"#404040\" rx=\"35.32\" ry=\"18\" stroke=\"#4a4a4a\"/>\n<text fill=\"white\" font-family=\"Times,serif\" font-size=\"14.00\" text-anchor=\"middle\" x=\"342.65\" y=\"-229.8\">Humor</text>\n</g>\n<!-- Weather&#45;&gt;Humor -->\n<g class=\"edge\" id=\"edge14\">\n<title>Weather-&gt;Humor</title>\n<path d=\"M233.91,-431.81C239.62,-421.38 247.13,-407.67 253.77,-395.52 279.95,-347.65 310.49,-291.77 327.84,-260.02\" fill=\"none\" stroke=\"#4a4a4a\"/>\n<path d=\"M235.67,-432.77C241.38,-422.34 248.88,-408.63 255.52,-396.48 281.7,-348.61 312.24,-292.72 329.59,-260.98\" fill=\"none\" stroke=\"#4a4a4a\"/>\n<polygon fill=\"#4a4a4a\" points=\"331.93,-261.91 333.65,-251.46 325.79,-258.55 331.93,-261.91\" stroke=\"#4a4a4a\"/>\n</g>\n<!-- RoadWorks -->\n<g class=\"node\" id=\"node3\">\n<title>RoadWorks</title>\n<ellipse cx=\"51.65\" cy=\"-306\" fill=\"#404040\" rx=\"51.79\" ry=\"18\" stroke=\"#4a4a4a\"/>\n<text fill=\"white\" font-family=\"Times,serif\" font-size=\"14.00\" text-anchor=\"middle\" x=\"51.65\" y=\"-301.8\">RoadWorks</text>\n</g>\n<!-- RoadConditions&#45;&gt;RoadWorks -->\n<g class=\"edge\" id=\"edge2\">\n<title>RoadConditions-&gt;RoadWorks</title>\n<path d=\"M149.2,-362.34C130.59,-352 106,-338.34 86.1,-327.28\" fill=\"none\" stroke=\"#4a4a4a\"/>\n<path d=\"M150.17,-360.59C131.56,-350.25 106.97,-336.59 87.07,-325.54\" fill=\"none\" stroke=\"#4a4a4a\"/>\n<polygon fill=\"#4a4a4a\" points=\"88.25,-323.33 77.81,-321.54 84.85,-329.45 88.25,-323.33\" stroke=\"#4a4a4a\"/>\n</g>\n<!-- Speed -->\n<g class=\"node\" id=\"node4\">\n<title>Speed</title>\n<ellipse cx=\"161.65\" cy=\"-234\" fill=\"#404040\" rx=\"31.94\" ry=\"18\" stroke=\"#4a4a4a\"/>\n<text fill=\"white\" font-family=\"Times,serif\" font-size=\"14.00\" text-anchor=\"middle\" x=\"161.65\" y=\"-229.8\">Speed</text>\n</g>\n<!-- RoadConditions&#45;&gt;Speed -->\n<g class=\"edge\" id=\"edge3\">\n<title>RoadConditions-&gt;Speed</title>\n<path d=\"M165.6,-360.65C159.59,-350.56 152.84,-337.31 149.67,-324.23 144.71,-303.23 148.14,-279.35 152.46,-261.43\" fill=\"none\" stroke=\"#4a4a4a\"/>\n<path d=\"M167.32,-359.63C161.37,-349.65 154.62,-336.4 151.62,-323.77 146.69,-303.51 150.12,-279.63 154.4,-261.89\" fill=\"none\" stroke=\"#4a4a4a\"/>\n<polygon fill=\"#4a4a4a\" points=\"156.83,-262.5 156,-251.93 150.06,-260.71 156.83,-262.5\" stroke=\"#4a4a4a\"/>\n</g>\n<!-- Danger -->\n<g class=\"node\" id=\"node9\">\n<title>Danger</title>\n<ellipse cx=\"225.65\" cy=\"-162\" fill=\"#404040\" rx=\"36.26\" ry=\"18\" stroke=\"#4a4a4a\"/>\n<text fill=\"white\" font-family=\"Times,serif\" font-size=\"14.00\" text-anchor=\"middle\" x=\"225.65\" y=\"-157.8\">Danger</text>\n</g>\n<!-- RoadConditions&#45;&gt;Danger -->\n<g class=\"edge\" id=\"edge10\">\n<title>RoadConditions-&gt;Danger</title>\n<path d=\"M215.1,-361.93C231.99,-353.51 250.39,-340.87 259.77,-323.52 283.62,-280.78 258.92,-222.16 240.66,-189.11\" fill=\"none\" stroke=\"#4a4a4a\"/>\n<path d=\"M216,-363.72C233.13,-355.16 251.52,-342.52 261.52,-324.48 285.46,-280 260.77,-221.38 242.41,-188.15\" fill=\"none\" stroke=\"#4a4a4a\"/>\n<polygon fill=\"#4a4a4a\" points=\"244.36,-186.53 236.35,-179.6 238.29,-190.02 244.36,-186.53\" stroke=\"#4a4a4a\"/>\n</g>\n<!-- RoadWorks&#45;&gt;Speed -->\n<g class=\"edge\" id=\"edge12\">\n<title>RoadWorks-&gt;Speed</title>\n<path d=\"M74.71,-289.14C91.48,-278.47 114.11,-264.06 132.01,-252.68\" fill=\"none\" stroke=\"#4a4a4a\"/>\n<path d=\"M75.78,-290.83C92.55,-280.15 115.19,-265.75 133.08,-254.36\" fill=\"none\" stroke=\"#4a4a4a\"/>\n<polygon fill=\"#4a4a4a\" points=\"134.85,-256.2 141.41,-247.88 131.1,-250.29 134.85,-256.2\" stroke=\"#4a4a4a\"/>\n</g>\n<!-- Delay -->\n<g class=\"node\" id=\"node7\">\n<title>Delay</title>\n<ellipse cx=\"278.65\" cy=\"-18\" fill=\"#404040\" rx=\"31.45\" ry=\"18\" stroke=\"#4a4a4a\"/>\n<text fill=\"white\" font-family=\"Times,serif\" font-size=\"14.00\" text-anchor=\"middle\" x=\"278.65\" y=\"-13.8\">Delay</text>\n</g>\n<!-- Speed&#45;&gt;Delay -->\n<g class=\"edge\" id=\"edge13\">\n<title>Speed-&gt;Delay</title>\n<path d=\"M162.44,-215.59C164.77,-197.19 169.77,-167.61 179.72,-143.62 196.94,-102.39 231.24,-63.56 254.44,-40.3\" fill=\"none\" stroke=\"#4a4a4a\"/>\n<path d=\"M164.42,-215.84C166.74,-197.52 171.74,-167.94 181.57,-144.38 198.43,-103.72 232.74,-64.89 255.85,-41.72\" fill=\"none\" stroke=\"#4a4a4a\"/>\n<polygon fill=\"#4a4a4a\" points=\"257.85,-43.26 262.53,-33.75 252.94,-38.27 257.85,-43.26\" stroke=\"#4a4a4a\"/>\n</g>\n<!-- Speed&#45;&gt;Danger -->\n<g class=\"edge\" id=\"edge9\">\n<title>Speed-&gt;Danger</title>\n<path d=\"M174.8,-217.14C183.23,-207.91 194.18,-195.94 203.68,-185.54\" fill=\"none\" stroke=\"#4a4a4a\"/>\n<path d=\"M176.27,-218.49C184.71,-209.26 195.65,-197.29 205.16,-186.89\" fill=\"none\" stroke=\"#4a4a4a\"/>\n<polygon fill=\"#4a4a4a\" points=\"207.18,-188.39 211.34,-178.64 202.01,-183.66 207.18,-188.39\" stroke=\"#4a4a4a\"/>\n</g>\n<!-- Accident -->\n<g class=\"node\" id=\"node6\">\n<title>Accident</title>\n<ellipse cx=\"278.65\" cy=\"-90\" fill=\"#404040\" rx=\"42.05\" ry=\"18\" stroke=\"#4a4a4a\"/>\n<text fill=\"white\" font-family=\"Times,serif\" font-size=\"14.00\" text-anchor=\"middle\" x=\"278.65\" y=\"-85.8\">Accident</text>\n</g>\n<!-- Humor&#45;&gt;Accident -->\n<g class=\"edge\" id=\"edge4\">\n<title>Humor-&gt;Accident</title>\n<path d=\"M330.02,-217.47C322.9,-207.24 314.05,-193.55 307.75,-180.43 298.08,-160.29 290.2,-136.36 284.92,-118.34\" fill=\"none\" stroke=\"#4a4a4a\"/>\n<path d=\"M331.66,-216.33C324.58,-206.15 315.73,-192.46 309.55,-179.57 299.98,-159.66 292.1,-135.74 286.84,-117.77\" fill=\"none\" stroke=\"#4a4a4a\"/>\n<polygon fill=\"#4a4a4a\" points=\"289.19,-116.88 283.09,-108.22 282.46,-118.79 289.19,-116.88\" stroke=\"#4a4a4a\"/>\n</g>\n<!-- Accident&#45;&gt;Delay -->\n<g class=\"edge\" id=\"edge5\">\n<title>Accident-&gt;Delay</title>\n<path d=\"M277.65,-71.7C277.65,-63.98 277.65,-54.71 277.65,-46.11\" fill=\"none\" stroke=\"#4a4a4a\"/>\n<path d=\"M279.65,-71.7C279.65,-63.98 279.65,-54.71 279.65,-46.11\" fill=\"none\" stroke=\"#4a4a4a\"/>\n<polygon fill=\"#4a4a4a\" points=\"282.15,-46.1 278.65,-36.1 275.15,-46.1 282.15,-46.1\" stroke=\"#4a4a4a\"/>\n</g>\n<!-- Strike -->\n<g class=\"node\" id=\"node8\">\n<title>Strike</title>\n<ellipse cx=\"348.65\" cy=\"-162\" fill=\"#404040\" rx=\"31.46\" ry=\"18\" stroke=\"#4a4a4a\"/>\n<text fill=\"white\" font-family=\"Times,serif\" font-size=\"14.00\" text-anchor=\"middle\" x=\"348.65\" y=\"-157.8\">Strike</text>\n</g>\n<!-- Strike&#45;&gt;Accident -->\n<g class=\"edge\" id=\"edge11\">\n<title>Strike-&gt;Accident</title>\n<path d=\"M333.09,-146.86C323.79,-137.56 311.61,-125.38 301.06,-114.83\" fill=\"none\" stroke=\"#4a4a4a\"/>\n<path d=\"M334.51,-145.45C325.21,-136.15 313.03,-123.97 302.48,-113.42\" fill=\"none\" stroke=\"#4a4a4a\"/>\n<polygon fill=\"#4a4a4a\" points=\"303.99,-111.39 294.44,-106.8 299.04,-116.34 303.99,-111.39\" stroke=\"#4a4a4a\"/>\n</g>\n<!-- Strike&#45;&gt;Delay -->\n<g class=\"edge\" id=\"edge8\">\n<title>Strike-&gt;Delay</title>\n<path d=\"M346.79,-144.07C345.24,-125.48 340.89,-95.17 328.76,-72.47 322.53,-60.68 312.67,-49.51 303.36,-40.61\" fill=\"none\" stroke=\"#4a4a4a\"/>\n<path d=\"M348.78,-143.9C347.22,-125.2 342.87,-94.88 330.53,-71.53 324.03,-59.36 314.17,-48.19 304.74,-39.17\" fill=\"none\" stroke=\"#4a4a4a\"/>\n<polygon fill=\"#4a4a4a\" points=\"306.14,-37.06 296.39,-32.91 301.42,-42.23 306.14,-37.06\" stroke=\"#4a4a4a\"/>\n</g>\n<!-- Danger&#45;&gt;Accident -->\n<g class=\"edge\" id=\"edge15\">\n<title>Danger-&gt;Accident</title>\n<path d=\"M237.14,-144.16C243.67,-135.54 251.83,-124.76 259.13,-115.12\" fill=\"none\" stroke=\"#4a4a4a\"/>\n<path d=\"M238.74,-145.37C245.26,-136.75 253.43,-125.97 260.72,-116.33\" fill=\"none\" stroke=\"#4a4a4a\"/>\n<polygon fill=\"#4a4a4a\" points=\"262.81,-117.72 266.05,-107.63 257.23,-113.49 262.81,-117.72\" stroke=\"#4a4a4a\"/>\n</g>\n<!-- RushHour -->\n<g class=\"node\" id=\"node10\">\n<title>RushHour</title>\n<ellipse cx=\"205.65\" cy=\"-306\" fill=\"#404040\" rx=\"46.43\" ry=\"18\" stroke=\"#4a4a4a\"/>\n<text fill=\"white\" font-family=\"Times,serif\" font-size=\"14.00\" text-anchor=\"middle\" x=\"205.65\" y=\"-301.8\">RushHour</text>\n</g>\n<!-- RushHour&#45;&gt;Speed -->\n<g class=\"edge\" id=\"edge7\">\n<title>RushHour-&gt;Speed</title>\n<path d=\"M194.37,-288.94C189.06,-280.49 182.48,-270.03 176.56,-260.61\" fill=\"none\" stroke=\"#4a4a4a\"/>\n<path d=\"M196.07,-287.88C190.75,-279.42 184.18,-268.96 178.26,-259.55\" fill=\"none\" stroke=\"#4a4a4a\"/>\n<polygon fill=\"#4a4a4a\" points=\"180.28,-258.07 172,-251.47 174.36,-261.8 180.28,-258.07\" stroke=\"#4a4a4a\"/>\n</g>\n<!-- RushHour&#45;&gt;Danger -->\n<g class=\"edge\" id=\"edge6\">\n<title>RushHour-&gt;Danger</title>\n<path d=\"M207.07,-287.73C210.48,-263.53 216.74,-219.07 220.8,-190.25\" fill=\"none\" stroke=\"#4a4a4a\"/>\n<path d=\"M209.05,-288.01C212.46,-263.81 218.72,-219.35 222.78,-190.53\" fill=\"none\" stroke=\"#4a4a4a\"/>\n<polygon fill=\"#4a4a4a\" points=\"225.3,-190.58 223.23,-180.19 218.37,-189.6 225.3,-190.58\" stroke=\"#4a4a4a\"/>\n</g>\n</g>\n</svg></div></td><td style=\"border-top:hidden;border-bottom:hidden;\"><div align=\"center\" style=\"\">$$\\begin{equation}P( Danger \\mid \\hookrightarrow\\mkern-6.5muRoadWorks) = \\sum_{RoadConditions}{P\\left(Danger\\mid RoadConditions,RoadWorks\\right) \\cdot P\\left(RoadConditions\\right)}\\end{equation}$$</div></td><td style=\"border-top:hidden;border-bottom:hidden;\"><div align=\"center\" style=\"\"><table style=\"border:1px solid black;\">\n<tr style='border:1px solid black;color:black;background-color:#808080'><th colspan='2'><center>Danger</center></th></tr>\n<tr><th style='border:1px solid black;border-bottom-style: double;color:black;background-color:#BBBBBB'><center>Low</center></th><th style='border:1px solid black;border-bottom-style: double;color:black;background-color:#BBBBBB'><center>High</center></th></tr>\n<tr><td style='color:black;background-color:#c7b664;text-align:right;'>0.4365</td><td style='color:black;background-color:#b6c764;text-align:right;'>0.5635</td></tr>\n</table></div></td></tr><tr><td style=\"border-top:hidden;border-bottom:hidden;\"><div align=\"center\"><small>Causal Model</small></div></td><td style=\"border-top:hidden;border-bottom:hidden;\"><div align=\"center\"><small>Explanation : backdoor ['RoadConditions'] found.</small></div></td><td style=\"border-top:hidden;border-bottom:hidden;\"><div align=\"center\"><small>Impact : $P( Danger \\mid \\hookrightarrow\\mkern-6.5muRoadWorks=False)$</small></div></td></tr></table>"
     },
     "metadata": {},
     "output_type": "display_data"
    },
    {
     "data": {
      "text/plain": "<IPython.core.display.HTML object>",
      "text/html": "<table style=\"border-style: hidden; border-collapse: collapse;\" width=\"100%\"><tr><td style=\"border-top:hidden;border-bottom:hidden;\"><div align=\"center\" style=\"\"><table style=\"border:1px solid black;\">\n<tr><th colspan='5'></th><th colspan='2' style='border:1px solid black;color:black;background-color:#808080;'><center>RoadConditions</center></th></tr>\n<tr><th style='border:1px solid black;color:black;background-color:#808080'><center>Danger</center></th><th style='border:1px solid black;color:black;background-color:#808080'><center>Weather</center></th><th style='border:1px solid black;color:black;background-color:#808080'><center>RoadWorks</center></th><th style='border:1px solid black;color:black;background-color:#808080'><center>RushHour</center></th><th style='border:1px solid black;color:black;background-color:#808080'><center>Speed</center></th><th style='border:1px solid black;border-bottom-style: double;color:black;background-color:#BBBBBB'><center>Dry</center></th><th style='border:1px solid black;border-bottom-style: double;color:black;background-color:#BBBBBB'><center>Wet</center></th></tr>\n<tr><th style='border:1px solid black;color:black;background-color:#BBBBBB;' rowspan = '16'><center>Low</center></th><th style='border:1px solid black;color:black;background-color:#BBBBBB;' rowspan = '8'><center>Sun</center></th><th style='border:1px solid black;color:black;background-color:#BBBBBB;' rowspan = '4'><center>True</center></th><th style='border:1px solid black;color:black;background-color:#BBBBBB;' rowspan = '2'><center>True</center></th><th style='border:1px solid black;color:black;background-color:#BBBBBB'><center>Slow</center></th><td style='text-align:right;'>0.8500</td><td style='text-align:right;'>0.4500</td></tr>\n<tr><th style='border:1px solid black;color:black;background-color:#BBBBBB'><center>Fast</center></th><td style='text-align:right;'>0.2000</td><td style='text-align:right;'>0.0500</td></tr>\n<tr><th style='border:1px solid black;color:black;background-color:#BBBBBB;' rowspan = '2'><center>False</center></th><th style='border:1px solid black;color:black;background-color:#BBBBBB'><center>Slow</center></th><td style='text-align:right;'>0.9500</td><td style='text-align:right;'>0.5500</td></tr>\n<tr><th style='border:1px solid black;color:black;background-color:#BBBBBB'><center>Fast</center></th><td style='text-align:right;'>0.3000</td><td style='text-align:right;'>0.2000</td></tr>\n<tr><th style='border:1px solid black;color:black;background-color:#BBBBBB;' rowspan = '4'><center>False</center></th><th style='border:1px solid black;color:black;background-color:#BBBBBB;' rowspan = '2'><center>True</center></th><th style='border:1px solid black;color:black;background-color:#BBBBBB'><center>Slow</center></th><td style='text-align:right;'>0.8500</td><td style='text-align:right;'>0.4500</td></tr>\n<tr><th style='border:1px solid black;color:black;background-color:#BBBBBB'><center>Fast</center></th><td style='text-align:right;'>0.2000</td><td style='text-align:right;'>0.0500</td></tr>\n<tr><th style='border:1px solid black;color:black;background-color:#BBBBBB;' rowspan = '2'><center>False</center></th><th style='border:1px solid black;color:black;background-color:#BBBBBB'><center>Slow</center></th><td style='text-align:right;'>0.9500</td><td style='text-align:right;'>0.5500</td></tr>\n<tr><th style='border:1px solid black;color:black;background-color:#BBBBBB'><center>Fast</center></th><td style='text-align:right;'>0.3000</td><td style='text-align:right;'>0.2000</td></tr>\n<tr><th style='border:1px solid black;color:black;background-color:#BBBBBB;' rowspan = '8'><center>Rain</center></th><th style='border:1px solid black;color:black;background-color:#BBBBBB;' rowspan = '4'><center>True</center></th><th style='border:1px solid black;color:black;background-color:#BBBBBB;' rowspan = '2'><center>True</center></th><th style='border:1px solid black;color:black;background-color:#BBBBBB'><center>Slow</center></th><td style='text-align:right;'>0.8500</td><td style='text-align:right;'>0.4500</td></tr>\n<tr><th style='border:1px solid black;color:black;background-color:#BBBBBB'><center>Fast</center></th><td style='text-align:right;'>0.2000</td><td style='text-align:right;'>0.0500</td></tr>\n<tr><th style='border:1px solid black;color:black;background-color:#BBBBBB;' rowspan = '2'><center>False</center></th><th style='border:1px solid black;color:black;background-color:#BBBBBB'><center>Slow</center></th><td style='text-align:right;'>0.9500</td><td style='text-align:right;'>0.5500</td></tr>\n<tr><th style='border:1px solid black;color:black;background-color:#BBBBBB'><center>Fast</center></th><td style='text-align:right;'>0.3000</td><td style='text-align:right;'>0.2000</td></tr>\n<tr><th style='border:1px solid black;color:black;background-color:#BBBBBB;' rowspan = '4'><center>False</center></th><th style='border:1px solid black;color:black;background-color:#BBBBBB;' rowspan = '2'><center>True</center></th><th style='border:1px solid black;color:black;background-color:#BBBBBB'><center>Slow</center></th><td style='text-align:right;'>0.8500</td><td style='text-align:right;'>0.4500</td></tr>\n<tr><th style='border:1px solid black;color:black;background-color:#BBBBBB'><center>Fast</center></th><td style='text-align:right;'>0.2000</td><td style='text-align:right;'>0.0500</td></tr>\n<tr><th style='border:1px solid black;color:black;background-color:#BBBBBB;' rowspan = '2'><center>False</center></th><th style='border:1px solid black;color:black;background-color:#BBBBBB'><center>Slow</center></th><td style='text-align:right;'>0.9500</td><td style='text-align:right;'>0.5500</td></tr>\n<tr><th style='border:1px solid black;color:black;background-color:#BBBBBB'><center>Fast</center></th><td style='text-align:right;'>0.3000</td><td style='text-align:right;'>0.2000</td></tr>\n<tr><th style='border:1px solid black;color:black;background-color:#BBBBBB;' rowspan = '16'><center>High</center></th><th style='border:1px solid black;color:black;background-color:#BBBBBB;' rowspan = '8'><center>Sun</center></th><th style='border:1px solid black;color:black;background-color:#BBBBBB;' rowspan = '4'><center>True</center></th><th style='border:1px solid black;color:black;background-color:#BBBBBB;' rowspan = '2'><center>True</center></th><th style='border:1px solid black;color:black;background-color:#BBBBBB'><center>Slow</center></th><td style='text-align:right;'>0.1500</td><td style='text-align:right;'>0.5500</td></tr>\n<tr><th style='border:1px solid black;color:black;background-color:#BBBBBB'><center>Fast</center></th><td style='text-align:right;'>0.8000</td><td style='text-align:right;'>0.9500</td></tr>\n<tr><th style='border:1px solid black;color:black;background-color:#BBBBBB;' rowspan = '2'><center>False</center></th><th style='border:1px solid black;color:black;background-color:#BBBBBB'><center>Slow</center></th><td style='text-align:right;'>0.0500</td><td style='text-align:right;'>0.4500</td></tr>\n<tr><th style='border:1px solid black;color:black;background-color:#BBBBBB'><center>Fast</center></th><td style='text-align:right;'>0.7000</td><td style='text-align:right;'>0.8000</td></tr>\n<tr><th style='border:1px solid black;color:black;background-color:#BBBBBB;' rowspan = '4'><center>False</center></th><th style='border:1px solid black;color:black;background-color:#BBBBBB;' rowspan = '2'><center>True</center></th><th style='border:1px solid black;color:black;background-color:#BBBBBB'><center>Slow</center></th><td style='text-align:right;'>0.1500</td><td style='text-align:right;'>0.5500</td></tr>\n<tr><th style='border:1px solid black;color:black;background-color:#BBBBBB'><center>Fast</center></th><td style='text-align:right;'>0.8000</td><td style='text-align:right;'>0.9500</td></tr>\n<tr><th style='border:1px solid black;color:black;background-color:#BBBBBB;' rowspan = '2'><center>False</center></th><th style='border:1px solid black;color:black;background-color:#BBBBBB'><center>Slow</center></th><td style='text-align:right;'>0.0500</td><td style='text-align:right;'>0.4500</td></tr>\n<tr><th style='border:1px solid black;color:black;background-color:#BBBBBB'><center>Fast</center></th><td style='text-align:right;'>0.7000</td><td style='text-align:right;'>0.8000</td></tr>\n<tr><th style='border:1px solid black;color:black;background-color:#BBBBBB;' rowspan = '8'><center>Rain</center></th><th style='border:1px solid black;color:black;background-color:#BBBBBB;' rowspan = '4'><center>True</center></th><th style='border:1px solid black;color:black;background-color:#BBBBBB;' rowspan = '2'><center>True</center></th><th style='border:1px solid black;color:black;background-color:#BBBBBB'><center>Slow</center></th><td style='text-align:right;'>0.1500</td><td style='text-align:right;'>0.5500</td></tr>\n<tr><th style='border:1px solid black;color:black;background-color:#BBBBBB'><center>Fast</center></th><td style='text-align:right;'>0.8000</td><td style='text-align:right;'>0.9500</td></tr>\n<tr><th style='border:1px solid black;color:black;background-color:#BBBBBB;' rowspan = '2'><center>False</center></th><th style='border:1px solid black;color:black;background-color:#BBBBBB'><center>Slow</center></th><td style='text-align:right;'>0.0500</td><td style='text-align:right;'>0.4500</td></tr>\n<tr><th style='border:1px solid black;color:black;background-color:#BBBBBB'><center>Fast</center></th><td style='text-align:right;'>0.7000</td><td style='text-align:right;'>0.8000</td></tr>\n<tr><th style='border:1px solid black;color:black;background-color:#BBBBBB;' rowspan = '4'><center>False</center></th><th style='border:1px solid black;color:black;background-color:#BBBBBB;' rowspan = '2'><center>True</center></th><th style='border:1px solid black;color:black;background-color:#BBBBBB'><center>Slow</center></th><td style='text-align:right;'>0.1500</td><td style='text-align:right;'>0.5500</td></tr>\n<tr><th style='border:1px solid black;color:black;background-color:#BBBBBB'><center>Fast</center></th><td style='text-align:right;'>0.8000</td><td style='text-align:right;'>0.9500</td></tr>\n<tr><th style='border:1px solid black;color:black;background-color:#BBBBBB;' rowspan = '2'><center>False</center></th><th style='border:1px solid black;color:black;background-color:#BBBBBB'><center>Slow</center></th><td style='text-align:right;'>0.0500</td><td style='text-align:right;'>0.4500</td></tr>\n<tr><th style='border:1px solid black;color:black;background-color:#BBBBBB'><center>Fast</center></th><td style='text-align:right;'>0.7000</td><td style='text-align:right;'>0.8000</td></tr>\n</table></div></td></tr></table>"
     },
     "metadata": {},
     "output_type": "display_data"
    },
    {
     "name": "stdout",
     "text": [
      "<RoadConditions:Dry|Speed:Slow|RushHour:True|RoadWorks:True|Weather:Sun|Danger:Low> :: 0.85 /<RoadConditions:Wet|Speed:Slow|RushHour:True|RoadWorks:True|Weather:Sun|Danger:Low> :: 0.45 /<RoadConditions:Dry|Speed:Fast|RushHour:True|RoadWorks:True|Weather:Sun|Danger:Low> :: 0.2 /<RoadConditions:Wet|Speed:Fast|RushHour:True|RoadWorks:True|Weather:Sun|Danger:Low> :: 0.05 /<RoadConditions:Dry|Speed:Slow|RushHour:False|RoadWorks:True|Weather:Sun|Danger:Low> :: 0.95 /<RoadConditions:Wet|Speed:Slow|RushHour:False|RoadWorks:True|Weather:Sun|Danger:Low> :: 0.55 /<RoadConditions:Dry|Speed:Fast|RushHour:False|RoadWorks:True|Weather:Sun|Danger:Low> :: 0.3 /<RoadConditions:Wet|Speed:Fast|RushHour:False|RoadWorks:True|Weather:Sun|Danger:Low> :: 0.2 /<RoadConditions:Dry|Speed:Slow|RushHour:True|RoadWorks:False|Weather:Sun|Danger:Low> :: 0.85 /<RoadConditions:Wet|Speed:Slow|RushHour:True|RoadWorks:False|Weather:Sun|Danger:Low> :: 0.45 /<RoadConditions:Dry|Speed:Fast|RushHour:True|RoadWorks:False|Weather:Sun|Danger:Low> :: 0.2 /<RoadConditions:Wet|Speed:Fast|RushHour:True|RoadWorks:False|Weather:Sun|Danger:Low> :: 0.05 /<RoadConditions:Dry|Speed:Slow|RushHour:False|RoadWorks:False|Weather:Sun|Danger:Low> :: 0.95 /<RoadConditions:Wet|Speed:Slow|RushHour:False|RoadWorks:False|Weather:Sun|Danger:Low> :: 0.55 /<RoadConditions:Dry|Speed:Fast|RushHour:False|RoadWorks:False|Weather:Sun|Danger:Low> :: 0.3 /<RoadConditions:Wet|Speed:Fast|RushHour:False|RoadWorks:False|Weather:Sun|Danger:Low> :: 0.2 /<RoadConditions:Dry|Speed:Slow|RushHour:True|RoadWorks:True|Weather:Rain|Danger:Low> :: 0.85 /<RoadConditions:Wet|Speed:Slow|RushHour:True|RoadWorks:True|Weather:Rain|Danger:Low> :: 0.45 /<RoadConditions:Dry|Speed:Fast|RushHour:True|RoadWorks:True|Weather:Rain|Danger:Low> :: 0.2 /<RoadConditions:Wet|Speed:Fast|RushHour:True|RoadWorks:True|Weather:Rain|Danger:Low> :: 0.05 /<RoadConditions:Dry|Speed:Slow|RushHour:False|RoadWorks:True|Weather:Rain|Danger:Low> :: 0.95 /<RoadConditions:Wet|Speed:Slow|RushHour:False|RoadWorks:True|Weather:Rain|Danger:Low> :: 0.55 /<RoadConditions:Dry|Speed:Fast|RushHour:False|RoadWorks:True|Weather:Rain|Danger:Low> :: 0.3 /<RoadConditions:Wet|Speed:Fast|RushHour:False|RoadWorks:True|Weather:Rain|Danger:Low> :: 0.2 /<RoadConditions:Dry|Speed:Slow|RushHour:True|RoadWorks:False|Weather:Rain|Danger:Low> :: 0.85 /<RoadConditions:Wet|Speed:Slow|RushHour:True|RoadWorks:False|Weather:Rain|Danger:Low> :: 0.45 /<RoadConditions:Dry|Speed:Fast|RushHour:True|RoadWorks:False|Weather:Rain|Danger:Low> :: 0.2 /<RoadConditions:Wet|Speed:Fast|RushHour:True|RoadWorks:False|Weather:Rain|Danger:Low> :: 0.05 /<RoadConditions:Dry|Speed:Slow|RushHour:False|RoadWorks:False|Weather:Rain|Danger:Low> :: 0.95 /<RoadConditions:Wet|Speed:Slow|RushHour:False|RoadWorks:False|Weather:Rain|Danger:Low> :: 0.55 /<RoadConditions:Dry|Speed:Fast|RushHour:False|RoadWorks:False|Weather:Rain|Danger:Low> :: 0.3 /<RoadConditions:Wet|Speed:Fast|RushHour:False|RoadWorks:False|Weather:Rain|Danger:Low> :: 0.2 /<RoadConditions:Dry|Speed:Slow|RushHour:True|RoadWorks:True|Weather:Sun|Danger:High> :: 0.15 /<RoadConditions:Wet|Speed:Slow|RushHour:True|RoadWorks:True|Weather:Sun|Danger:High> :: 0.55 /<RoadConditions:Dry|Speed:Fast|RushHour:True|RoadWorks:True|Weather:Sun|Danger:High> :: 0.8 /<RoadConditions:Wet|Speed:Fast|RushHour:True|RoadWorks:True|Weather:Sun|Danger:High> :: 0.95 /<RoadConditions:Dry|Speed:Slow|RushHour:False|RoadWorks:True|Weather:Sun|Danger:High> :: 0.05 /<RoadConditions:Wet|Speed:Slow|RushHour:False|RoadWorks:True|Weather:Sun|Danger:High> :: 0.45 /<RoadConditions:Dry|Speed:Fast|RushHour:False|RoadWorks:True|Weather:Sun|Danger:High> :: 0.7 /<RoadConditions:Wet|Speed:Fast|RushHour:False|RoadWorks:True|Weather:Sun|Danger:High> :: 0.8 /<RoadConditions:Dry|Speed:Slow|RushHour:True|RoadWorks:False|Weather:Sun|Danger:High> :: 0.15 /<RoadConditions:Wet|Speed:Slow|RushHour:True|RoadWorks:False|Weather:Sun|Danger:High> :: 0.55 /<RoadConditions:Dry|Speed:Fast|RushHour:True|RoadWorks:False|Weather:Sun|Danger:High> :: 0.8 /<RoadConditions:Wet|Speed:Fast|RushHour:True|RoadWorks:False|Weather:Sun|Danger:High> :: 0.95 /<RoadConditions:Dry|Speed:Slow|RushHour:False|RoadWorks:False|Weather:Sun|Danger:High> :: 0.05 /<RoadConditions:Wet|Speed:Slow|RushHour:False|RoadWorks:False|Weather:Sun|Danger:High> :: 0.45 /<RoadConditions:Dry|Speed:Fast|RushHour:False|RoadWorks:False|Weather:Sun|Danger:High> :: 0.7 /<RoadConditions:Wet|Speed:Fast|RushHour:False|RoadWorks:False|Weather:Sun|Danger:High> :: 0.8 /<RoadConditions:Dry|Speed:Slow|RushHour:True|RoadWorks:True|Weather:Rain|Danger:High> :: 0.15 /<RoadConditions:Wet|Speed:Slow|RushHour:True|RoadWorks:True|Weather:Rain|Danger:High> :: 0.55 /<RoadConditions:Dry|Speed:Fast|RushHour:True|RoadWorks:True|Weather:Rain|Danger:High> :: 0.8 /<RoadConditions:Wet|Speed:Fast|RushHour:True|RoadWorks:True|Weather:Rain|Danger:High> :: 0.95 /<RoadConditions:Dry|Speed:Slow|RushHour:False|RoadWorks:True|Weather:Rain|Danger:High> :: 0.05 /<RoadConditions:Wet|Speed:Slow|RushHour:False|RoadWorks:True|Weather:Rain|Danger:High> :: 0.45 /<RoadConditions:Dry|Speed:Fast|RushHour:False|RoadWorks:True|Weather:Rain|Danger:High> :: 0.7 /<RoadConditions:Wet|Speed:Fast|RushHour:False|RoadWorks:True|Weather:Rain|Danger:High> :: 0.8 /<RoadConditions:Dry|Speed:Slow|RushHour:True|RoadWorks:False|Weather:Rain|Danger:High> :: 0.15 /<RoadConditions:Wet|Speed:Slow|RushHour:True|RoadWorks:False|Weather:Rain|Danger:High> :: 0.55 /<RoadConditions:Dry|Speed:Fast|RushHour:True|RoadWorks:False|Weather:Rain|Danger:High> :: 0.8 /<RoadConditions:Wet|Speed:Fast|RushHour:True|RoadWorks:False|Weather:Rain|Danger:High> :: 0.95 /<RoadConditions:Dry|Speed:Slow|RushHour:False|RoadWorks:False|Weather:Rain|Danger:High> :: 0.05 /<RoadConditions:Wet|Speed:Slow|RushHour:False|RoadWorks:False|Weather:Rain|Danger:High> :: 0.45 /<RoadConditions:Dry|Speed:Fast|RushHour:False|RoadWorks:False|Weather:Rain|Danger:High> :: 0.7 /<RoadConditions:Wet|Speed:Fast|RushHour:False|RoadWorks:False|Weather:Rain|Danger:High> :: 0.8\n"
     ],
     "output_type": "stream"
    }
   ],
   "source": [
    "cs0 = csl.CausalModel(m0)\n",
    "cslnb.showCausalImpact(cs0, \"Danger\", doing=\"RoadWorks\", values={\"RoadWorks\":\"True\"})\n",
    "\n",
    "cslnb.showCausalImpact(cs0, \"Danger\", doing=\"RoadWorks\", values={\"RoadWorks\":\"False\"})\n",
    "\n",
    "\n",
    "DGR=m0.cpt(\"RoadConditions\")*m0.cpt(\"RoadWorks\")*m0.cpt(\"Danger\")\n",
    "\n",
    "DangerGivenRoadWorks = (DGR)/DGR.margSumOut([\"Danger\"])\n",
    "\n",
    "pDanger=DangerGivenRoadWorks.extract({'RoadWorks':\"True\",'RoadConditions':\"Wet\"}) \n",
    "\n",
    "gnb.sideBySide(DangerGivenRoadWorks)\n",
    "print(DangerGivenRoadWorks)"
   ],
   "metadata": {
    "collapsed": false,
    "pycharm": {
     "name": "#%%\n",
     "is_executing": false
    }
   }
  }
 ],
 "metadata": {
  "kernelspec": {
   "display_name": "Python 3",
   "language": "python",
   "name": "python3"
  },
  "language_info": {
   "codemirror_mode": {
    "name": "ipython",
    "version": 2
   },
   "file_extension": ".py",
   "mimetype": "text/x-python",
   "name": "python",
   "nbconvert_exporter": "python",
   "pygments_lexer": "ipython2",
   "version": "2.7.6"
  },
  "pycharm": {
   "stem_cell": {
    "cell_type": "raw",
    "source": [],
    "metadata": {
     "collapsed": false
    }
   }
  }
 },
 "nbformat": 4,
 "nbformat_minor": 0
}