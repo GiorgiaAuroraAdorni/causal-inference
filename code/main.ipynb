{
 "cells": [
  {
   "cell_type": "code",
   "execution_count": 3,
   "metadata": {
    "pycharm": {
     "is_executing": false,
     "name": "#%%\n"
    }
   },
   "outputs": [],
   "source": [
    "from IPython.display import display, Math, Latex, HTML\n",
    "\n",
    "import pyAgrum as gum\n",
    "import pyAgrum.lib.notebook as gnb\n",
    "import pyAgrum.causal as csl\n",
    "import pyAgrum.causal.notebook as cslnb\n",
    "import os\n",
    "import pdfkit\n",
    "\n",
    "gum.config[\"notebook\", \"default_graph_size\"] = 10"
   ]
  },
  {
   "cell_type": "code",
   "execution_count": 4,
   "metadata": {
    "pycharm": {
     "is_executing": false,
     "name": "#%%\n"
    }
   },
   "outputs": [
    {
     "data": {
      "image/svg+xml": [
       "<svg height=\"476pt\" viewBox=\"0.00 0.00 387.88 476.00\" width=\"388pt\" xmlns=\"http://www.w3.org/2000/svg\" xmlns:xlink=\"http://www.w3.org/1999/xlink\">\n",
       "<g class=\"graph\" id=\"graph0\" transform=\"scale(1 1) rotate(0) translate(4 472)\">\n",
       "<title>G</title>\n",
       "<!-- Weather -->\n",
       "<g class=\"node\" id=\"node1\">\n",
       "<title>Weather</title>\n",
       "<g id=\"a_node1\"><a xlink:title=\"(0) Weather\">\n",
       "<ellipse cx=\"225.65\" cy=\"-450\" fill=\"#404040\" rx=\"39.2\" ry=\"18\" stroke=\"black\"/>\n",
       "<text fill=\"white\" font-family=\"Times,serif\" font-size=\"14.00\" text-anchor=\"middle\" x=\"225.65\" y=\"-445.8\">Weather</text>\n",
       "</a>\n",
       "</g>\n",
       "</g>\n",
       "<!-- RoadConditions -->\n",
       "<g class=\"node\" id=\"node2\">\n",
       "<title>RoadConditions</title>\n",
       "<g id=\"a_node2\"><a xlink:title=\"(1) RoadConditions\">\n",
       "<ellipse cx=\"177.65\" cy=\"-378\" fill=\"#404040\" rx=\"67.69\" ry=\"18\" stroke=\"black\"/>\n",
       "<text fill=\"white\" font-family=\"Times,serif\" font-size=\"14.00\" text-anchor=\"middle\" x=\"177.65\" y=\"-373.8\">RoadConditions</text>\n",
       "</a>\n",
       "</g>\n",
       "</g>\n",
       "<!-- Weather&#45;&gt;RoadConditions -->\n",
       "<g class=\"edge\" id=\"edge1\">\n",
       "<title>Weather-&gt;RoadConditions</title>\n",
       "<g id=\"a_edge1\"><a xlink:title=\"(0, 1) : \">\n",
       "<path d=\"M214.27,-432.41C208.56,-424.08 201.51,-413.8 195.12,-404.49\" fill=\"none\" stroke=\"#4a4a4a\"/>\n",
       "<polygon fill=\"#4a4a4a\" points=\"197.82,-402.22 189.27,-395.96 192.04,-406.18 197.82,-402.22\" stroke=\"#4a4a4a\"/>\n",
       "</a>\n",
       "</g>\n",
       "</g>\n",
       "<!-- Mood -->\n",
       "<g class=\"node\" id=\"node5\">\n",
       "<title>Mood</title>\n",
       "<g id=\"a_node5\"><a xlink:title=\"(4) Mood\">\n",
       "<ellipse cx=\"338.65\" cy=\"-234\" fill=\"#404040\" rx=\"31.47\" ry=\"18\" stroke=\"black\"/>\n",
       "<text fill=\"white\" font-family=\"Times,serif\" font-size=\"14.00\" text-anchor=\"middle\" x=\"338.65\" y=\"-229.8\">Mood</text>\n",
       "</a>\n",
       "</g>\n",
       "</g>\n",
       "<!-- Weather&#45;&gt;Mood -->\n",
       "<g class=\"edge\" id=\"edge14\">\n",
       "<title>Weather-&gt;Mood</title>\n",
       "<g id=\"a_edge14\"><a xlink:title=\"(0, 4) : \">\n",
       "<path d=\"M234.87,-432.34C240.62,-421.92 248.12,-408.21 254.65,-396 280.1,-348.37 309.09,-292.41 325.5,-260.58\" fill=\"none\" stroke=\"#4a4a4a\"/>\n",
       "<polygon fill=\"#4a4a4a\" points=\"328.7,-262.01 330.17,-251.51 322.48,-258.8 328.7,-262.01\" stroke=\"#4a4a4a\"/>\n",
       "</a>\n",
       "</g>\n",
       "</g>\n",
       "<!-- RoadWorks -->\n",
       "<g class=\"node\" id=\"node3\">\n",
       "<title>RoadWorks</title>\n",
       "<g id=\"a_node3\"><a xlink:title=\"(2) RoadWorks\">\n",
       "<ellipse cx=\"51.65\" cy=\"-306\" fill=\"#404040\" rx=\"51.79\" ry=\"18\" stroke=\"black\"/>\n",
       "<text fill=\"white\" font-family=\"Times,serif\" font-size=\"14.00\" text-anchor=\"middle\" x=\"51.65\" y=\"-301.8\">RoadWorks</text>\n",
       "</a>\n",
       "</g>\n",
       "</g>\n",
       "<!-- RoadConditions&#45;&gt;RoadWorks -->\n",
       "<g class=\"edge\" id=\"edge2\">\n",
       "<title>RoadConditions-&gt;RoadWorks</title>\n",
       "<g id=\"a_edge2\"><a xlink:title=\"(1, 2) : \">\n",
       "<path d=\"M149.68,-361.46C131.07,-351.13 106.48,-337.46 86.58,-326.41\" fill=\"none\" stroke=\"#4a4a4a\"/>\n",
       "<polygon fill=\"#4a4a4a\" points=\"88.25,-323.33 77.81,-321.54 84.85,-329.45 88.25,-323.33\" stroke=\"#4a4a4a\"/>\n",
       "</a>\n",
       "</g>\n",
       "</g>\n",
       "<!-- Speed -->\n",
       "<g class=\"node\" id=\"node4\">\n",
       "<title>Speed</title>\n",
       "<g id=\"a_node4\"><a xlink:title=\"(3) Speed\">\n",
       "<ellipse cx=\"161.65\" cy=\"-234\" fill=\"#404040\" rx=\"31.94\" ry=\"18\" stroke=\"black\"/>\n",
       "<text fill=\"white\" font-family=\"Times,serif\" font-size=\"14.00\" text-anchor=\"middle\" x=\"161.65\" y=\"-229.8\">Speed</text>\n",
       "</a>\n",
       "</g>\n",
       "</g>\n",
       "<!-- RoadConditions&#45;&gt;Speed -->\n",
       "<g class=\"edge\" id=\"edge3\">\n",
       "<title>RoadConditions-&gt;Speed</title>\n",
       "<g id=\"a_edge3\"><a xlink:title=\"(1, 3) : \">\n",
       "<path d=\"M166.46,-360.14C160.48,-350.1 153.73,-336.85 150.65,-324 145.7,-303.37 149.13,-279.49 153.43,-261.66\" fill=\"none\" stroke=\"#4a4a4a\"/>\n",
       "<polygon fill=\"#4a4a4a\" points=\"156.83,-262.5 156,-251.93 150.06,-260.71 156.83,-262.5\" stroke=\"#4a4a4a\"/>\n",
       "</a>\n",
       "</g>\n",
       "</g>\n",
       "<!-- Danger -->\n",
       "<g class=\"node\" id=\"node9\">\n",
       "<title>Danger</title>\n",
       "<g id=\"a_node9\"><a xlink:title=\"(8) Danger\">\n",
       "<ellipse cx=\"225.65\" cy=\"-162\" fill=\"#404040\" rx=\"36.26\" ry=\"18\" stroke=\"black\"/>\n",
       "<text fill=\"white\" font-family=\"Times,serif\" font-size=\"14.00\" text-anchor=\"middle\" x=\"225.65\" y=\"-157.8\">Danger</text>\n",
       "</a>\n",
       "</g>\n",
       "</g>\n",
       "<!-- RoadConditions&#45;&gt;Danger -->\n",
       "<g class=\"edge\" id=\"edge10\">\n",
       "<title>RoadConditions-&gt;Danger</title>\n",
       "<g id=\"a_edge10\"><a xlink:title=\"(1, 8) : \">\n",
       "<path d=\"M215.55,-362.82C232.56,-354.34 250.95,-341.69 260.65,-324 284.54,-280.39 259.84,-221.77 241.53,-188.63\" fill=\"none\" stroke=\"#4a4a4a\"/>\n",
       "<polygon fill=\"#4a4a4a\" points=\"244.36,-186.53 236.35,-179.6 238.29,-190.02 244.36,-186.53\" stroke=\"#4a4a4a\"/>\n",
       "</a>\n",
       "</g>\n",
       "</g>\n",
       "<!-- RoadWorks&#45;&gt;Speed -->\n",
       "<g class=\"edge\" id=\"edge12\">\n",
       "<title>RoadWorks-&gt;Speed</title>\n",
       "<g id=\"a_edge12\"><a xlink:title=\"(2, 3) : \">\n",
       "<path d=\"M75.24,-289.98C92.02,-279.31 114.65,-264.91 132.54,-253.52\" fill=\"none\" stroke=\"#4a4a4a\"/>\n",
       "<polygon fill=\"#4a4a4a\" points=\"134.85,-256.2 141.41,-247.88 131.1,-250.29 134.85,-256.2\" stroke=\"#4a4a4a\"/>\n",
       "</a>\n",
       "</g>\n",
       "</g>\n",
       "<!-- Delay -->\n",
       "<g class=\"node\" id=\"node7\">\n",
       "<title>Delay</title>\n",
       "<g id=\"a_node7\"><a xlink:title=\"(6) Delay\">\n",
       "<ellipse cx=\"278.65\" cy=\"-18\" fill=\"#404040\" rx=\"31.45\" ry=\"18\" stroke=\"black\"/>\n",
       "<text fill=\"white\" font-family=\"Times,serif\" font-size=\"14.00\" text-anchor=\"middle\" x=\"278.65\" y=\"-13.8\">Delay</text>\n",
       "</a>\n",
       "</g>\n",
       "</g>\n",
       "<!-- Speed&#45;&gt;Delay -->\n",
       "<g class=\"edge\" id=\"edge13\">\n",
       "<title>Speed-&gt;Delay</title>\n",
       "<g id=\"a_edge13\"><a xlink:title=\"(3, 6) : \">\n",
       "<path d=\"M163.43,-215.71C165.76,-197.36 170.75,-167.78 180.65,-144 197.68,-103.06 231.99,-64.22 255.15,-41.01\" fill=\"none\" stroke=\"#4a4a4a\"/>\n",
       "<polygon fill=\"#4a4a4a\" points=\"257.85,-43.26 262.53,-33.75 252.94,-38.27 257.85,-43.26\" stroke=\"#4a4a4a\"/>\n",
       "</a>\n",
       "</g>\n",
       "</g>\n",
       "<!-- Speed&#45;&gt;Danger -->\n",
       "<g class=\"edge\" id=\"edge9\">\n",
       "<title>Speed-&gt;Danger</title>\n",
       "<g id=\"a_edge9\"><a xlink:title=\"(3, 8) : \">\n",
       "<path d=\"M175.53,-217.81C183.97,-208.58 194.91,-196.61 204.42,-186.22\" fill=\"none\" stroke=\"#4a4a4a\"/>\n",
       "<polygon fill=\"#4a4a4a\" points=\"207.18,-188.39 211.34,-178.64 202.01,-183.66 207.18,-188.39\" stroke=\"#4a4a4a\"/>\n",
       "</a>\n",
       "</g>\n",
       "</g>\n",
       "<!-- Accident -->\n",
       "<g class=\"node\" id=\"node6\">\n",
       "<title>Accident</title>\n",
       "<g id=\"a_node6\"><a xlink:title=\"(5) Accident\">\n",
       "<ellipse cx=\"278.65\" cy=\"-90\" fill=\"#404040\" rx=\"42.05\" ry=\"18\" stroke=\"black\"/>\n",
       "<text fill=\"white\" font-family=\"Times,serif\" font-size=\"14.00\" text-anchor=\"middle\" x=\"278.65\" y=\"-85.8\">Accident</text>\n",
       "</a>\n",
       "</g>\n",
       "</g>\n",
       "<!-- Mood&#45;&gt;Accident -->\n",
       "<g class=\"edge\" id=\"edge4\">\n",
       "<title>Mood-&gt;Accident</title>\n",
       "<g id=\"a_edge4\"><a xlink:title=\"(4, 5) : \">\n",
       "<path d=\"M328.36,-216.71C322.14,-206.44 314.34,-192.74 308.65,-180 299.59,-159.71 291.67,-135.81 286.25,-117.89\" fill=\"none\" stroke=\"#4a4a4a\"/>\n",
       "<polygon fill=\"#4a4a4a\" points=\"289.55,-116.69 283.36,-108.1 282.83,-118.68 289.55,-116.69\" stroke=\"#4a4a4a\"/>\n",
       "</a>\n",
       "</g>\n",
       "</g>\n",
       "<!-- Accident&#45;&gt;Delay -->\n",
       "<g class=\"edge\" id=\"edge5\">\n",
       "<title>Accident-&gt;Delay</title>\n",
       "<g id=\"a_edge5\"><a xlink:title=\"(5, 6) : \">\n",
       "<path d=\"M278.65,-71.7C278.65,-63.98 278.65,-54.71 278.65,-46.11\" fill=\"none\" stroke=\"#4a4a4a\"/>\n",
       "<polygon fill=\"#4a4a4a\" points=\"282.15,-46.1 278.65,-36.1 275.15,-46.1 282.15,-46.1\" stroke=\"#4a4a4a\"/>\n",
       "</a>\n",
       "</g>\n",
       "</g>\n",
       "<!-- Strike -->\n",
       "<g class=\"node\" id=\"node8\">\n",
       "<title>Strike</title>\n",
       "<g id=\"a_node8\"><a xlink:title=\"(7) Strike\">\n",
       "<ellipse cx=\"348.65\" cy=\"-162\" fill=\"#404040\" rx=\"31.46\" ry=\"18\" stroke=\"black\"/>\n",
       "<text fill=\"white\" font-family=\"Times,serif\" font-size=\"14.00\" text-anchor=\"middle\" x=\"348.65\" y=\"-157.8\">Strike</text>\n",
       "</a>\n",
       "</g>\n",
       "</g>\n",
       "<!-- Strike&#45;&gt;Accident -->\n",
       "<g class=\"edge\" id=\"edge11\">\n",
       "<title>Strike-&gt;Accident</title>\n",
       "<g id=\"a_edge11\"><a xlink:title=\"(7, 5) : \">\n",
       "<path d=\"M333.8,-146.15C324.5,-136.85 312.32,-124.67 301.77,-114.12\" fill=\"none\" stroke=\"#4a4a4a\"/>\n",
       "<polygon fill=\"#4a4a4a\" points=\"303.99,-111.39 294.44,-106.8 299.04,-116.34 303.99,-111.39\" stroke=\"#4a4a4a\"/>\n",
       "</a>\n",
       "</g>\n",
       "</g>\n",
       "<!-- Strike&#45;&gt;Delay -->\n",
       "<g class=\"edge\" id=\"edge8\">\n",
       "<title>Strike-&gt;Delay</title>\n",
       "<g id=\"a_edge8\"><a xlink:title=\"(7, 6) : \">\n",
       "<path d=\"M347.79,-143.99C346.23,-125.34 341.88,-95.02 329.65,-72 323.28,-60.02 313.42,-48.85 304.05,-39.89\" fill=\"none\" stroke=\"#4a4a4a\"/>\n",
       "<polygon fill=\"#4a4a4a\" points=\"306.14,-37.06 296.39,-32.91 301.42,-42.23 306.14,-37.06\" stroke=\"#4a4a4a\"/>\n",
       "</a>\n",
       "</g>\n",
       "</g>\n",
       "<!-- Danger&#45;&gt;Accident -->\n",
       "<g class=\"edge\" id=\"edge15\">\n",
       "<title>Danger-&gt;Accident</title>\n",
       "<g id=\"a_edge15\"><a xlink:title=\"(8, 5) : \">\n",
       "<path d=\"M237.94,-144.76C244.47,-136.14 252.63,-125.36 259.93,-115.73\" fill=\"none\" stroke=\"#4a4a4a\"/>\n",
       "<polygon fill=\"#4a4a4a\" points=\"262.81,-117.72 266.05,-107.63 257.23,-113.49 262.81,-117.72\" stroke=\"#4a4a4a\"/>\n",
       "</a>\n",
       "</g>\n",
       "</g>\n",
       "<!-- RushHour -->\n",
       "<g class=\"node\" id=\"node10\">\n",
       "<title>RushHour</title>\n",
       "<g id=\"a_node10\"><a xlink:title=\"(9) RushHour\">\n",
       "<ellipse cx=\"205.65\" cy=\"-306\" fill=\"#404040\" rx=\"46.43\" ry=\"18\" stroke=\"black\"/>\n",
       "<text fill=\"white\" font-family=\"Times,serif\" font-size=\"14.00\" text-anchor=\"middle\" x=\"205.65\" y=\"-301.8\">RushHour</text>\n",
       "</a>\n",
       "</g>\n",
       "</g>\n",
       "<!-- RushHour&#45;&gt;Speed -->\n",
       "<g class=\"edge\" id=\"edge7\">\n",
       "<title>RushHour-&gt;Speed</title>\n",
       "<g id=\"a_edge7\"><a xlink:title=\"(9, 3) : \">\n",
       "<path d=\"M195.22,-288.41C189.9,-279.95 183.33,-269.49 177.41,-260.08\" fill=\"none\" stroke=\"#4a4a4a\"/>\n",
       "<polygon fill=\"#4a4a4a\" points=\"180.28,-258.07 172,-251.47 174.36,-261.8 180.28,-258.07\" stroke=\"#4a4a4a\"/>\n",
       "</a>\n",
       "</g>\n",
       "</g>\n",
       "<!-- RushHour&#45;&gt;Danger -->\n",
       "<g class=\"edge\" id=\"edge6\">\n",
       "<title>RushHour-&gt;Danger</title>\n",
       "<g id=\"a_edge6\"><a xlink:title=\"(9, 8) : \">\n",
       "<path d=\"M208.06,-287.87C211.47,-263.67 217.73,-219.21 221.79,-190.39\" fill=\"none\" stroke=\"#4a4a4a\"/>\n",
       "<polygon fill=\"#4a4a4a\" points=\"225.3,-190.58 223.23,-180.19 218.37,-189.6 225.3,-190.58\" stroke=\"#4a4a4a\"/>\n",
       "</a>\n",
       "</g>\n",
       "</g>\n",
       "</g>\n",
       "</svg>"
      ],
      "text/plain": [
       "<IPython.core.display.SVG object>"
      ]
     },
     "metadata": {},
     "output_type": "display_data"
    },
    {
     "data": {
      "text/plain": [
       "True"
      ]
     },
     "execution_count": 4,
     "metadata": {},
     "output_type": "execute_result"
    }
   ],
   "source": [
    "#construct network\n",
    "m0 = gum.fastBN(\"Weather{Sun|Rain}->RoadConditions{Dry|Wet}->RoadWorks{False|True}->Speed{Slow\"\n",
    "                \"|Fast};Weather->Mood{Good|Bad}->Accident{False|True}->Delay{False|True}<-Strike{False|True\"\n",
    "                \"}->Accident<-Danger{Low|High}<-Speed<-RushHour{False|True}->Danger<-RoadConditions->Speed->Delay;\")\n",
    "\n",
    "\n",
    "gnb.showBN(m0, size=10)\n",
    "graph = gnb.BN2dot(m0, size=100)\n",
    "graph.write_pdf('network.pdf')"
   ]
  },
  {
   "cell_type": "code",
   "execution_count": 5,
   "metadata": {
    "pycharm": {
     "is_executing": false,
     "name": "#%%\n"
    }
   },
   "outputs": [],
   "source": [
    "def common_data(list1, list2): \n",
    "    result = False\n",
    "    # traverse in the 1st list \n",
    "    for x in list1: \n",
    "        # traverse in the 2nd list \n",
    "        for y in list2: \n",
    "            # if one common \n",
    "            if x == y: \n",
    "                result = True\n",
    "                return result \n",
    "\n",
    "\n",
    "def getAncestors(cm,varSet):\n",
    "    ancestors=varSet\n",
    "\n",
    "    while len(varSet)>0:\n",
    "        newparents=cm.parents(varSet[0])\n",
    "        newparents = [i for b in map(lambda x:[x] if not isinstance(x, list) else x, newparents) for i in b]\n",
    "        newparents = [cm.names()[i] for i in newparents] \n",
    "        ancestors=ancestors+newparents\n",
    "        varSet=varSet+newparents\n",
    "        varSet.remove(varSet[0])\n",
    "    return(ancestors)\n",
    "\n",
    "\n",
    "def dSeparation(cm, varSet1, varSet2, evs):\n",
    "    cmcopy=gum.fastBN(\"A\")\n",
    "    cmcopy.erase(\"A\")\n",
    "    [ cmcopy.add(name, 2) for name in cm.names()]\n",
    "    for link in cm.arcs():\n",
    "        cmcopy.addArc(*link)\n",
    "    l1=cmcopy.names()\n",
    "    l2=getAncestors(cmcopy,varSet1+varSet2+evs)\n",
    "    #print(l2)\n",
    "    l3 = [x for x in l1 if x not in l2]\n",
    "    for i in l3:\n",
    "        cmcopy.erase(i)\n",
    "    m=cmcopy.moralGraph()\n",
    "    if len(evs)>0:\n",
    "        for i in evs:\n",
    "            m.eraseNode(cmcopy.idFromName(i))\n",
    "    #gnb.sideBySide(m)\n",
    "    connComp=m.connectedComponents()\n",
    "    #print(connComp)\n",
    "    idVarSet1=[]\n",
    "    idVarSet2=[]\n",
    "    for i in varSet1:\n",
    "        idVarSet1.append(cmcopy.idFromName(i))\n",
    "    for i in varSet2:\n",
    "        idVarSet2.append(cmcopy.idFromName(i))\n",
    "    dSeparated=True\n",
    "    for i in connComp:\n",
    "        connCompSet=connComp[i]\n",
    "        connCompSet= [i for b in map(lambda x:[x] if not isinstance(x, list) else x, connCompSet) for i in b]\n",
    "        if common_data(connCompSet, idVarSet1) and common_data(connCompSet, idVarSet2):\n",
    "            dSeparated=False\n",
    "    del cmcopy\n",
    "    return dSeparated\n"
   ]
  },
  {
   "cell_type": "markdown",
   "metadata": {},
   "source": [
    "# D-separation\n"
   ]
  },
  {
   "cell_type": "code",
   "execution_count": 6,
   "metadata": {
    "pycharm": {
     "is_executing": false,
     "name": "#%%\n"
    }
   },
   "outputs": [
    {
     "name": "stdout",
     "output_type": "stream",
     "text": [
      "True\n",
      "False\n",
      "False\n",
      "False\n",
      "False\n",
      "True\n",
      "True\n",
      "True\n",
      "True\n",
      "False\n"
     ]
    }
   ],
   "source": [
    "print(dSeparation(m0,[\"RushHour\"], [\"RoadConditions\"], []))\n",
    "print(dSeparation(m0,[\"RushHour\"], [\"RoadConditions\"], [\"Danger\"]))\n",
    "print(dSeparation(m0,[\"RushHour\"], [\"RoadConditions\"], [\"Speed\"]))\n",
    "print(dSeparation(m0,[\"RushHour\"], [\"RoadConditions\"], [\"Accident\"]))\n",
    "print(dSeparation(m0,[\"RushHour\"], [\"RoadConditions\"], [\"Delay\"]))\n",
    "print(dSeparation(m0,[\"RushHour\"], [\"RoadConditions\"], [\"RoadWorks\"]))\n",
    "print(dSeparation(m0,[\"RushHour\"], [\"RoadConditions\"], [\"Strike\"]))\n",
    "print(dSeparation(m0,[\"RushHour\"], [\"RoadConditions\"], [\"Weather\"]))\n",
    "print(dSeparation(m0,[\"RushHour\"], [\"RoadConditions\"], [\"Mood\"]))\n",
    "print(dSeparation(m0,[\"RushHour\"], [\"RoadConditions\"], [\"Danger\",\"Speed\",\"Accident\",\"Delay\"]))"
   ]
  },
  {
   "cell_type": "code",
   "execution_count": 7,
   "metadata": {
    "pycharm": {
     "is_executing": false,
     "name": "#%%\n"
    }
   },
   "outputs": [
    {
     "name": "stdout",
     "output_type": "stream",
     "text": [
      "True\n",
      "True\n",
      "True\n",
      "False\n",
      "False\n",
      "True\n",
      "True\n",
      "True\n",
      "True\n"
     ]
    }
   ],
   "source": [
    "print(dSeparation(m0,[\"RushHour\"], [\"Strike\"], []))\n",
    "print(dSeparation(m0,[\"RushHour\"], [\"Strike\"], [\"Danger\"]))\n",
    "print(dSeparation(m0,[\"RushHour\"], [\"Strike\"], [\"Speed\"]))\n",
    "print(dSeparation(m0,[\"RushHour\"], [\"Strike\"], [\"Accident\"]))\n",
    "print(dSeparation(m0,[\"RushHour\"], [\"Strike\"], [\"Delay\"]))\n",
    "print(dSeparation(m0,[\"RushHour\"], [\"Strike\"], [\"RoadWorks\"]))\n",
    "print(dSeparation(m0,[\"RushHour\"], [\"Strike\"], [\"RoadConditions\"]))\n",
    "print(dSeparation(m0,[\"RushHour\"], [\"Strike\"], [\"Weather\"]))\n",
    "print(dSeparation(m0,[\"RushHour\"], [\"Strike\"], [\"Mood\"]))"
   ]
  },
  {
   "cell_type": "code",
   "execution_count": 58,
   "metadata": {
    "pycharm": {
     "is_executing": false,
     "name": "#%%\n"
    }
   },
   "outputs": [
    {
     "name": "stdout",
     "output_type": "stream",
     "text": [
      "False\n",
      "False\n",
      "False\n",
      "False\n",
      "False\n",
      "False\n",
      "False\n",
      "False\n",
      "False\n",
      "True\n"
     ]
    }
   ],
   "source": [
    "print(dSeparation(m0,[\"Speed\"], [\"Accident\"], []))\n",
    "print(dSeparation(m0,[\"Speed\"], [\"Accident\"], [\"Danger\"]))\n",
    "print(dSeparation(m0,[\"Speed\"], [\"Accident\"], [\"RushHour\"]))\n",
    "print(dSeparation(m0,[\"Speed\"], [\"Accident\"], [\"Strike\"]))\n",
    "print(dSeparation(m0,[\"Speed\"], [\"Accident\"], [\"Delay\"]))\n",
    "print(dSeparation(m0,[\"Speed\"], [\"Accident\"], [\"RoadWorks\"]))\n",
    "print(dSeparation(m0,[\"Speed\"], [\"Accident\"], [\"RoadConditions\"]))\n",
    "print(dSeparation(m0,[\"Speed\"], [\"Accident\"], [\"Weather\"]))\n",
    "print(dSeparation(m0,[\"Speed\"], [\"Accident\"], [\"Mood\"]))\n",
    "\n",
    "print(dSeparation(m0,[\"Speed\"], [\"Accident\"], [\"Danger\", \"RoadConditions\"]))"
   ]
  },
  {
   "cell_type": "code",
   "execution_count": 59,
   "metadata": {
    "pycharm": {
     "is_executing": false,
     "name": "#%%\n"
    }
   },
   "outputs": [
    {
     "name": "stdout",
     "output_type": "stream",
     "text": [
      "True\n",
      "True\n",
      "True\n",
      "False\n",
      "False\n",
      "True\n",
      "True\n",
      "True\n",
      "True\n"
     ]
    }
   ],
   "source": [
    "print(dSeparation(m0,[\"RoadConditions\"], [\"Strike\"], []))\n",
    "print(dSeparation(m0,[\"RoadConditions\"], [\"Strike\"], [\"Danger\"]))\n",
    "print(dSeparation(m0,[\"RoadConditions\"], [\"Strike\"], [\"Speed\"]))\n",
    "print(dSeparation(m0,[\"RoadConditions\"], [\"Strike\"], [\"Accident\"]))\n",
    "print(dSeparation(m0,[\"RoadConditions\"], [\"Strike\"], [\"Delay\"]))\n",
    "print(dSeparation(m0,[\"RoadConditions\"], [\"Strike\"], [\"RushHour\"]))\n",
    "print(dSeparation(m0,[\"RoadConditions\"], [\"Strike\"], [\"RoadWorks\"]))\n",
    "print(dSeparation(m0,[\"RoadConditions\"], [\"Strike\"], [\"Weather\"]))\n",
    "print(dSeparation(m0,[\"RoadConditions\"], [\"Strike\"], [\"Mood\"]))"
   ]
  },
  {
   "cell_type": "code",
   "execution_count": 10,
   "metadata": {
    "pycharm": {
     "is_executing": false,
     "name": "#%%\n"
    }
   },
   "outputs": [
    {
     "name": "stdout",
     "output_type": "stream",
     "text": [
      "False\n",
      "False\n",
      "False\n",
      "False\n",
      "False\n",
      "False\n",
      "True\n",
      "True\n",
      "False\n"
     ]
    }
   ],
   "source": [
    "print(dSeparation(m0,[\"Speed\"], [\"Mood\"], []))\n",
    "print(dSeparation(m0,[\"Speed\"], [\"Mood\"], [\"Danger\"]))\n",
    "print(dSeparation(m0,[\"Speed\"], [\"Mood\"], [\"RushHour\"]))\n",
    "print(dSeparation(m0,[\"Speed\"], [\"Mood\"], [\"Strike\"]))\n",
    "print(dSeparation(m0,[\"Speed\"], [\"Mood\"], [\"Delay\"]))\n",
    "print(dSeparation(m0,[\"Speed\"], [\"Mood\"], [\"RoadWorks\"]))\n",
    "print(dSeparation(m0,[\"Speed\"], [\"Mood\"], [\"RoadConditions\"]))\n",
    "print(dSeparation(m0,[\"Speed\"], [\"Mood\"], [\"Weather\"]))\n",
    "print(dSeparation(m0,[\"Speed\"], [\"Mood\"], [\"Accident\"]))"
   ]
  },
  {
   "cell_type": "markdown",
   "metadata": {},
   "source": [
    "# Conditional probability tables"
   ]
  },
  {
   "cell_type": "code",
   "execution_count": 11,
   "metadata": {
    "pycharm": {
     "is_executing": false,
     "name": "#%%\n"
    }
   },
   "outputs": [
    {
     "data": {
      "text/html": [
       "<table style=\"border-style: hidden; border-collapse: collapse;\" width=\"100%\"><tr><td style=\"border-top:hidden;border-bottom:hidden;\"><div align=\"center\" style=\"\"><table style=\"border:1px solid black;\">\n",
       "<tr style='border:1px solid black;color:black;background-color:#808080'><th colspan='2'><center>Weather</center></th></tr>\n",
       "<tr><th style='border:1px solid black;border-bottom-style: double;color:black;background-color:#BBBBBB'><center>Sun</center></th><th style='border:1px solid black;border-bottom-style: double;color:black;background-color:#BBBBBB'><center>Rain</center></th></tr>\n",
       "<tr><td style='color:black;background-color:#a5d864;text-align:right;'>0.7000</td><td style='color:black;background-color:#d8a564;text-align:right;'>0.3000</td></tr>\n",
       "</table></div></td><td style=\"border-top:hidden;border-bottom:hidden;\"><div align=\"center\" style=\"\"><table style=\"border:1px solid black;\">\n",
       "<tr style='border:1px solid black;color:black;background-color:#808080'><th colspan='2'><center>Strike</center></th></tr>\n",
       "<tr><th style='border:1px solid black;border-bottom-style: double;color:black;background-color:#BBBBBB'><center>False</center></th><th style='border:1px solid black;border-bottom-style: double;color:black;background-color:#BBBBBB'><center>True</center></th></tr>\n",
       "<tr><td style='color:black;background-color:#84f964;text-align:right;'>0.9600</td><td style='color:black;background-color:#f98464;text-align:right;'>0.0400</td></tr>\n",
       "</table></div></td><td style=\"border-top:hidden;border-bottom:hidden;\"><div align=\"center\" style=\"\"><table style=\"border:1px solid black;\">\n",
       "<tr style='border:1px solid black;color:black;background-color:#808080'><th colspan='2'><center>RushHour</center></th></tr>\n",
       "<tr><th style='border:1px solid black;border-bottom-style: double;color:black;background-color:#BBBBBB'><center>False</center></th><th style='border:1px solid black;border-bottom-style: double;color:black;background-color:#BBBBBB'><center>True</center></th></tr>\n",
       "<tr><td style='color:black;background-color:#98e564;text-align:right;'>0.8000</td><td style='color:black;background-color:#e59864;text-align:right;'>0.2000</td></tr>\n",
       "</table></div></td><td style=\"border-top:hidden;border-bottom:hidden;\"><div align=\"center\" style=\"\"><table style=\"border:1px solid black;\">\n",
       "<tr><th colspan='1'></th><th colspan='2' style='border:1px solid black;color:black;background-color:#808080;'><center>RoadConditions</center></th></tr>\n",
       "<tr><th style='border:1px solid black;color:black;background-color:#808080'><center>Weather</center></th><th style='border:1px solid black;border-bottom-style: double;color:black;background-color:#BBBBBB'><center>Dry</center></th><th style='border:1px solid black;border-bottom-style: double;color:black;background-color:#BBBBBB'><center>Wet</center></th></tr>\n",
       "<tr><th style='border:1px solid black;color:black;background-color:#BBBBBB'><center>Sun</center></th><td style='color:black;background-color:#a5d864;text-align:right;'>0.7000</td><td style='color:black;background-color:#d8a564;text-align:right;'>0.3000</td></tr>\n",
       "<tr><th style='border:1px solid black;color:black;background-color:#BBBBBB'><center>Rain</center></th><td style='color:black;background-color:#e59864;text-align:right;'>0.2000</td><td style='color:black;background-color:#98e564;text-align:right;'>0.8000</td></tr>\n",
       "</table></div></td><td style=\"border-top:hidden;border-bottom:hidden;\"><div align=\"center\" style=\"\"><table style=\"border:1px solid black;\">\n",
       "<tr><th colspan='1'></th><th colspan='2' style='border:1px solid black;color:black;background-color:#808080;'><center>Mood</center></th></tr>\n",
       "<tr><th style='border:1px solid black;color:black;background-color:#808080'><center>Weather</center></th><th style='border:1px solid black;border-bottom-style: double;color:black;background-color:#BBBBBB'><center>Good</center></th><th style='border:1px solid black;border-bottom-style: double;color:black;background-color:#BBBBBB'><center>Bad</center></th></tr>\n",
       "<tr><th style='border:1px solid black;color:black;background-color:#BBBBBB'><center>Sun</center></th><td style='color:black;background-color:#a5d864;text-align:right;'>0.7000</td><td style='color:black;background-color:#d8a564;text-align:right;'>0.3000</td></tr>\n",
       "<tr><th style='border:1px solid black;color:black;background-color:#BBBBBB'><center>Rain</center></th><td style='color:black;background-color:#cbb264;text-align:right;'>0.4000</td><td style='color:black;background-color:#b2cb64;text-align:right;'>0.6000</td></tr>\n",
       "</table></div></td></tr></table>"
      ],
      "text/plain": [
       "<IPython.core.display.HTML object>"
      ]
     },
     "metadata": {},
     "output_type": "display_data"
    },
    {
     "data": {
      "text/html": [
       "<table style=\"border-style: hidden; border-collapse: collapse;\" width=\"100%\"><tr><td style=\"border-top:hidden;border-bottom:hidden;\"><div align=\"center\" style=\"\"><table style=\"border:1px solid black;\">\n",
       "<tr><th colspan='1'></th><th colspan='2' style='border:1px solid black;color:black;background-color:#808080;'><center>RoadWorks</center></th></tr>\n",
       "<tr><th style='border:1px solid black;color:black;background-color:#808080'><center>RoadConditions</center></th><th style='border:1px solid black;border-bottom-style: double;color:black;background-color:#BBBBBB'><center>False</center></th><th style='border:1px solid black;border-bottom-style: double;color:black;background-color:#BBBBBB'><center>True</center></th></tr>\n",
       "<tr><th style='border:1px solid black;color:black;background-color:#BBBBBB'><center>Dry</center></th><td style='color:black;background-color:#d8a564;text-align:right;'>0.3000</td><td style='color:black;background-color:#a5d864;text-align:right;'>0.7000</td></tr>\n",
       "<tr><th style='border:1px solid black;color:black;background-color:#BBBBBB'><center>Wet</center></th><td style='color:black;background-color:#98e564;text-align:right;'>0.8000</td><td style='color:black;background-color:#e59864;text-align:right;'>0.2000</td></tr>\n",
       "</table></div></td><td style=\"border-top:hidden;border-bottom:hidden;\"><div align=\"center\" style=\"\"><table style=\"border:1px solid black;\">\n",
       "<tr><th colspan='3'></th><th colspan='2' style='border:1px solid black;color:black;background-color:#808080;'><center>Speed</center></th></tr>\n",
       "<tr><th style='border:1px solid black;color:black;background-color:#808080'><center>RoadConditions</center></th><th style='border:1px solid black;color:black;background-color:#808080'><center>RushHour</center></th><th style='border:1px solid black;color:black;background-color:#808080'><center>RoadWorks</center></th><th style='border:1px solid black;border-bottom-style: double;color:black;background-color:#BBBBBB'><center>Slow</center></th><th style='border:1px solid black;border-bottom-style: double;color:black;background-color:#BBBBBB'><center>Fast</center></th></tr>\n",
       "<tr><th style='border:1px solid black;color:black;background-color:#BBBBBB;' rowspan = '4'><center>Dry</center></th><th style='border:1px solid black;color:black;background-color:#BBBBBB;' rowspan = '2'><center>False</center></th><th style='border:1px solid black;color:black;background-color:#BBBBBB'><center>False</center></th><td style='color:black;background-color:#eb9264;text-align:right;'>0.1500</td><td style='color:black;background-color:#92eb64;text-align:right;'>0.8500</td></tr>\n",
       "<tr><th style='border:1px solid black;color:black;background-color:#BBBBBB'><center>True</center></th><td style='color:black;background-color:#9fdf64;text-align:right;'>0.7500</td><td style='color:black;background-color:#df9f64;text-align:right;'>0.2500</td></tr>\n",
       "<tr><th style='border:1px solid black;color:black;background-color:#BBBBBB;' rowspan = '2'><center>True</center></th><th style='border:1px solid black;color:black;background-color:#BBBBBB'><center>False</center></th><td style='color:black;background-color:#98e564;text-align:right;'>0.8000</td><td style='color:black;background-color:#e59864;text-align:right;'>0.2000</td></tr>\n",
       "<tr><th style='border:1px solid black;color:black;background-color:#BBBBBB'><center>True</center></th><td style='color:black;background-color:#92eb64;text-align:right;'>0.8500</td><td style='color:black;background-color:#eb9264;text-align:right;'>0.1500</td></tr>\n",
       "<tr><th style='border:1px solid black;color:black;background-color:#BBBBBB;' rowspan = '4'><center>Wet</center></th><th style='border:1px solid black;color:black;background-color:#BBBBBB;' rowspan = '2'><center>False</center></th><th style='border:1px solid black;color:black;background-color:#BBBBBB'><center>False</center></th><td style='color:black;background-color:#b2cb64;text-align:right;'>0.6000</td><td style='color:black;background-color:#cbb264;text-align:right;'>0.4000</td></tr>\n",
       "<tr><th style='border:1px solid black;color:black;background-color:#BBBBBB'><center>True</center></th><td style='color:black;background-color:#8bf264;text-align:right;'>0.9000</td><td style='color:black;background-color:#f28b64;text-align:right;'>0.1000</td></tr>\n",
       "<tr><th style='border:1px solid black;color:black;background-color:#BBBBBB;' rowspan = '2'><center>True</center></th><th style='border:1px solid black;color:black;background-color:#BBBBBB'><center>False</center></th><td style='color:black;background-color:#98e564;text-align:right;'>0.8000</td><td style='color:black;background-color:#e59864;text-align:right;'>0.2000</td></tr>\n",
       "<tr><th style='border:1px solid black;color:black;background-color:#BBBBBB'><center>True</center></th><td style='color:black;background-color:#85f864;text-align:right;'>0.9500</td><td style='color:black;background-color:#f88564;text-align:right;'>0.0500</td></tr>\n",
       "</table></div></td><td style=\"border-top:hidden;border-bottom:hidden;\"><div align=\"center\" style=\"\"><table style=\"border:1px solid black;\">\n",
       "<tr><th colspan='3'></th><th colspan='2' style='border:1px solid black;color:black;background-color:#808080;'><center>Danger</center></th></tr>\n",
       "<tr><th style='border:1px solid black;color:black;background-color:#808080'><center>RoadConditions</center></th><th style='border:1px solid black;color:black;background-color:#808080'><center>RushHour</center></th><th style='border:1px solid black;color:black;background-color:#808080'><center>Speed</center></th><th style='border:1px solid black;border-bottom-style: double;color:black;background-color:#BBBBBB'><center>Low</center></th><th style='border:1px solid black;border-bottom-style: double;color:black;background-color:#BBBBBB'><center>High</center></th></tr>\n",
       "<tr><th style='border:1px solid black;color:black;background-color:#BBBBBB;' rowspan = '4'><center>Dry</center></th><th style='border:1px solid black;color:black;background-color:#BBBBBB;' rowspan = '2'><center>False</center></th><th style='border:1px solid black;color:black;background-color:#BBBBBB'><center>Slow</center></th><td style='color:black;background-color:#85f864;text-align:right;'>0.9500</td><td style='color:black;background-color:#f88564;text-align:right;'>0.0500</td></tr>\n",
       "<tr><th style='border:1px solid black;color:black;background-color:#BBBBBB'><center>Fast</center></th><td style='color:black;background-color:#d8a564;text-align:right;'>0.3000</td><td style='color:black;background-color:#a5d864;text-align:right;'>0.7000</td></tr>\n",
       "<tr><th style='border:1px solid black;color:black;background-color:#BBBBBB;' rowspan = '2'><center>True</center></th><th style='border:1px solid black;color:black;background-color:#BBBBBB'><center>Slow</center></th><td style='color:black;background-color:#c5b864;text-align:right;'>0.4500</td><td style='color:black;background-color:#b8c564;text-align:right;'>0.5500</td></tr>\n",
       "<tr><th style='border:1px solid black;color:black;background-color:#BBBBBB'><center>Fast</center></th><td style='color:black;background-color:#eb9264;text-align:right;'>0.1500</td><td style='color:black;background-color:#92eb64;text-align:right;'>0.8500</td></tr>\n",
       "<tr><th style='border:1px solid black;color:black;background-color:#BBBBBB;' rowspan = '4'><center>Wet</center></th><th style='border:1px solid black;color:black;background-color:#BBBBBB;' rowspan = '2'><center>False</center></th><th style='border:1px solid black;color:black;background-color:#BBBBBB'><center>Slow</center></th><td style='color:black;background-color:#c5b864;text-align:right;'>0.4500</td><td style='color:black;background-color:#b8c564;text-align:right;'>0.5500</td></tr>\n",
       "<tr><th style='border:1px solid black;color:black;background-color:#BBBBBB'><center>Fast</center></th><td style='color:black;background-color:#eb9264;text-align:right;'>0.1500</td><td style='color:black;background-color:#92eb64;text-align:right;'>0.8500</td></tr>\n",
       "<tr><th style='border:1px solid black;color:black;background-color:#BBBBBB;' rowspan = '2'><center>True</center></th><th style='border:1px solid black;color:black;background-color:#BBBBBB'><center>Slow</center></th><td style='color:black;background-color:#d2ab64;text-align:right;'>0.3500</td><td style='color:black;background-color:#abd264;text-align:right;'>0.6500</td></tr>\n",
       "<tr><th style='border:1px solid black;color:black;background-color:#BBBBBB'><center>Fast</center></th><td style='color:black;background-color:#f88564;text-align:right;'>0.0500</td><td style='color:black;background-color:#85f864;text-align:right;'>0.9500</td></tr>\n",
       "</table></div></td><td style=\"border-top:hidden;border-bottom:hidden;\"><div align=\"center\" style=\"\"><table style=\"border:1px solid black;\">\n",
       "<tr><th colspan='3'></th><th colspan='2' style='border:1px solid black;color:black;background-color:#808080;'><center>Accident</center></th></tr>\n",
       "<tr><th style='border:1px solid black;color:black;background-color:#808080'><center>Danger</center></th><th style='border:1px solid black;color:black;background-color:#808080'><center>Strike</center></th><th style='border:1px solid black;color:black;background-color:#808080'><center>Mood</center></th><th style='border:1px solid black;border-bottom-style: double;color:black;background-color:#BBBBBB'><center>False</center></th><th style='border:1px solid black;border-bottom-style: double;color:black;background-color:#BBBBBB'><center>True</center></th></tr>\n",
       "<tr><th style='border:1px solid black;color:black;background-color:#BBBBBB;' rowspan = '4'><center>Low</center></th><th style='border:1px solid black;color:black;background-color:#BBBBBB;' rowspan = '2'><center>False</center></th><th style='border:1px solid black;color:black;background-color:#BBBBBB'><center>Good</center></th><td style='color:black;background-color:#85f864;text-align:right;'>0.9500</td><td style='color:black;background-color:#f88564;text-align:right;'>0.0500</td></tr>\n",
       "<tr><th style='border:1px solid black;color:black;background-color:#BBBBBB'><center>Bad</center></th><td style='color:black;background-color:#c5b864;text-align:right;'>0.4500</td><td style='color:black;background-color:#b8c564;text-align:right;'>0.5500</td></tr>\n",
       "<tr><th style='border:1px solid black;color:black;background-color:#BBBBBB;' rowspan = '2'><center>True</center></th><th style='border:1px solid black;color:black;background-color:#BBBBBB'><center>Good</center></th><td style='color:black;background-color:#92eb64;text-align:right;'>0.8500</td><td style='color:black;background-color:#eb9264;text-align:right;'>0.1500</td></tr>\n",
       "<tr><th style='border:1px solid black;color:black;background-color:#BBBBBB'><center>Bad</center></th><td style='color:black;background-color:#d8a564;text-align:right;'>0.3000</td><td style='color:black;background-color:#a5d864;text-align:right;'>0.7000</td></tr>\n",
       "<tr><th style='border:1px solid black;color:black;background-color:#BBBBBB;' rowspan = '4'><center>High</center></th><th style='border:1px solid black;color:black;background-color:#BBBBBB;' rowspan = '2'><center>False</center></th><th style='border:1px solid black;color:black;background-color:#BBBBBB'><center>Good</center></th><td style='color:black;background-color:#cbb264;text-align:right;'>0.4000</td><td style='color:black;background-color:#b2cb64;text-align:right;'>0.6000</td></tr>\n",
       "<tr><th style='border:1px solid black;color:black;background-color:#BBBBBB'><center>Bad</center></th><td style='color:black;background-color:#e59864;text-align:right;'>0.2000</td><td style='color:black;background-color:#98e564;text-align:right;'>0.8000</td></tr>\n",
       "<tr><th style='border:1px solid black;color:black;background-color:#BBBBBB;' rowspan = '2'><center>True</center></th><th style='border:1px solid black;color:black;background-color:#BBBBBB'><center>Good</center></th><td style='color:black;background-color:#eb9264;text-align:right;'>0.1500</td><td style='color:black;background-color:#92eb64;text-align:right;'>0.8500</td></tr>\n",
       "<tr><th style='border:1px solid black;color:black;background-color:#BBBBBB'><center>Bad</center></th><td style='color:black;background-color:#f88564;text-align:right;'>0.0500</td><td style='color:black;background-color:#85f864;text-align:right;'>0.9500</td></tr>\n",
       "</table></div></td><td style=\"border-top:hidden;border-bottom:hidden;\"><div align=\"center\" style=\"\"><table style=\"border:1px solid black;\">\n",
       "<tr><th colspan='3'></th><th colspan='2' style='border:1px solid black;color:black;background-color:#808080;'><center>Delay</center></th></tr>\n",
       "<tr><th style='border:1px solid black;color:black;background-color:#808080'><center>Speed</center></th><th style='border:1px solid black;color:black;background-color:#808080'><center>Strike</center></th><th style='border:1px solid black;color:black;background-color:#808080'><center>Accident</center></th><th style='border:1px solid black;border-bottom-style: double;color:black;background-color:#BBBBBB'><center>False</center></th><th style='border:1px solid black;border-bottom-style: double;color:black;background-color:#BBBBBB'><center>True</center></th></tr>\n",
       "<tr><th style='border:1px solid black;color:black;background-color:#BBBBBB;' rowspan = '4'><center>Slow</center></th><th style='border:1px solid black;color:black;background-color:#BBBBBB;' rowspan = '2'><center>False</center></th><th style='border:1px solid black;color:black;background-color:#BBBBBB'><center>False</center></th><td style='color:black;background-color:#9fdf64;text-align:right;'>0.7500</td><td style='color:black;background-color:#df9f64;text-align:right;'>0.2500</td></tr>\n",
       "<tr><th style='border:1px solid black;color:black;background-color:#BBBBBB'><center>True</center></th><td style='color:black;background-color:#f88564;text-align:right;'>0.0500</td><td style='color:black;background-color:#85f864;text-align:right;'>0.9500</td></tr>\n",
       "<tr><th style='border:1px solid black;color:black;background-color:#BBBBBB;' rowspan = '2'><center>True</center></th><th style='border:1px solid black;color:black;background-color:#BBBBBB'><center>False</center></th><td style='color:black;background-color:#d2ab64;text-align:right;'>0.3500</td><td style='color:black;background-color:#abd264;text-align:right;'>0.6500</td></tr>\n",
       "<tr><th style='border:1px solid black;color:black;background-color:#BBBBBB'><center>True</center></th><td style='color:black;background-color:#fd8064;text-align:right;'>0.0100</td><td style='color:black;background-color:#80fd64;text-align:right;'>0.9900</td></tr>\n",
       "<tr><th style='border:1px solid black;color:black;background-color:#BBBBBB;' rowspan = '4'><center>Fast</center></th><th style='border:1px solid black;color:black;background-color:#BBBBBB;' rowspan = '2'><center>False</center></th><th style='border:1px solid black;color:black;background-color:#BBBBBB'><center>False</center></th><td style='color:black;background-color:#92eb64;text-align:right;'>0.8500</td><td style='color:black;background-color:#eb9264;text-align:right;'>0.1500</td></tr>\n",
       "<tr><th style='border:1px solid black;color:black;background-color:#BBBBBB'><center>True</center></th><td style='color:black;background-color:#f88564;text-align:right;'>0.0500</td><td style='color:black;background-color:#85f864;text-align:right;'>0.9500</td></tr>\n",
       "<tr><th style='border:1px solid black;color:black;background-color:#BBBBBB;' rowspan = '2'><center>True</center></th><th style='border:1px solid black;color:black;background-color:#BBBBBB'><center>False</center></th><td style='color:black;background-color:#b2cb64;text-align:right;'>0.6000</td><td style='color:black;background-color:#cbb264;text-align:right;'>0.4000</td></tr>\n",
       "<tr><th style='border:1px solid black;color:black;background-color:#BBBBBB'><center>True</center></th><td style='color:black;background-color:#fd8064;text-align:right;'>0.0100</td><td style='color:black;background-color:#80fd64;text-align:right;'>0.9900</td></tr>\n",
       "</table></div></td></tr></table>"
      ],
      "text/plain": [
       "<IPython.core.display.HTML object>"
      ]
     },
     "metadata": {},
     "output_type": "display_data"
    }
   ],
   "source": [
    "m0.cpt(\"Weather\")[:]=[0.70, 0.30]\n",
    "m0.cpt(\"Strike\")[:]=[0.96, 0.04]\n",
    "m0.cpt(\"RushHour\")[:]=[0.8, 0.2]\n",
    "\n",
    "m0.cpt(\"RoadConditions\")[{'Weather':'Sun'}]=[0.7, 0.3]\n",
    "m0.cpt(\"RoadConditions\")[{'Weather':'Rain'}]=[0.2, 0.8]\n",
    "\n",
    "m0.cpt(\"Mood\")[{'Weather':'Sun'}]= [0.7, 0.3]\n",
    "m0.cpt(\"Mood\")[{'Weather':'Rain'}]=[0.4, 0.6]\n",
    "\n",
    "m0.cpt(\"RoadWorks\")[{'RoadConditions':'Dry'}]=[0.3, 0.7]\n",
    "m0.cpt(\"RoadWorks\")[{'RoadConditions':'Wet'}]=[0.8, 0.2]\n",
    "\n",
    "m0.cpt(\"Speed\")[{'RoadConditions':'Dry', \"RoadWorks\":'True', 'RushHour':'True'}]=[0.85, 0.15]\n",
    "m0.cpt(\"Speed\")[{'RoadConditions':'Dry', \"RoadWorks\":'True', 'RushHour':'False'}]=[0.75, 0.25]\n",
    "m0.cpt(\"Speed\")[{'RoadConditions':'Dry', \"RoadWorks\":'False', 'RushHour':'True'}]=[0.8, 0.2]\n",
    "m0.cpt(\"Speed\")[{'RoadConditions':'Dry', \"RoadWorks\":'False', 'RushHour':'False'}]=[0.15, 0.85]\n",
    "m0.cpt(\"Speed\")[{'RoadConditions':'Wet', \"RoadWorks\":'True', 'RushHour':'True'}]=[0.95, 0.05]\n",
    "m0.cpt(\"Speed\")[{'RoadConditions':'Wet', \"RoadWorks\":'True', 'RushHour':'False'}]=[0.9, 0.1]\n",
    "m0.cpt(\"Speed\")[{'RoadConditions':'Wet', \"RoadWorks\":'False', 'RushHour':'True'}]=[0.8, 0.2]\n",
    "m0.cpt(\"Speed\")[{'RoadConditions':'Wet', \"RoadWorks\":'False', 'RushHour':'False'}]=[0.6, 0.4]\n",
    "\n",
    "m0.cpt(\"Danger\")[{'RoadConditions':'Dry', \"Speed\":'Slow', 'RushHour':'True'}]=[0.45, 0.55]\n",
    "m0.cpt(\"Danger\")[{'RoadConditions':'Dry', \"Speed\":'Slow', 'RushHour':'False'}]=[0.95, 0.05]\n",
    "m0.cpt(\"Danger\")[{'RoadConditions':'Dry', \"Speed\":'Fast', 'RushHour':'True'}]=[0.15, 0.85]\n",
    "m0.cpt(\"Danger\")[{'RoadConditions':'Dry', \"Speed\":'Fast', 'RushHour':'False'}]=[0.3, 0.7]\n",
    "m0.cpt(\"Danger\")[{'RoadConditions':'Wet', \"Speed\":'Slow', 'RushHour':'True'}]=[0.35, 0.65]\n",
    "m0.cpt(\"Danger\")[{'RoadConditions':'Wet', \"Speed\":'Slow', 'RushHour':'False'}]=[0.45, 0.55]\n",
    "m0.cpt(\"Danger\")[{'RoadConditions':'Wet', \"Speed\":'Fast', 'RushHour':'True'}]=[0.05, 0.95]\n",
    "m0.cpt(\"Danger\")[{'RoadConditions':'Wet', \"Speed\":'Fast', 'RushHour':'False'}]=[0.15, 0.85]\n",
    "\n",
    "m0.cpt(\"Accident\")[{'Strike':'True', \"Mood\":\"Good\",'Danger':'Low'}]=  [0.85, 0.15]\n",
    "m0.cpt(\"Accident\")[{'Strike':'True', \"Mood\":\"Good\",'Danger':'High'}]= [0.15, 0.85]\n",
    "m0.cpt(\"Accident\")[{'Strike':'True', \"Mood\":\"Bad\",'Danger':'Low'}]=   [0.30, 0.70]\n",
    "m0.cpt(\"Accident\")[{'Strike':'True', \"Mood\":\"Bad\",'Danger':'High'}]=  [0.05, 0.95]\n",
    "m0.cpt(\"Accident\")[{'Strike':'False',\"Mood\":\"Good\",'Danger':'Low'}]=  [0.95, 0.05]\n",
    "m0.cpt(\"Accident\")[{'Strike':'False',\"Mood\":\"Good\",'Danger':'High'}]= [0.40, 0.60]\n",
    "m0.cpt(\"Accident\")[{'Strike':'False',\"Mood\":\"Bad\",'Danger':'Low'}]=   [0.45, 0.55]\n",
    "m0.cpt(\"Accident\")[{'Strike':'False',\"Mood\":\"Bad\",'Danger':'High'}]=  [0.20, 0.80]\n",
    "\n",
    "m0.cpt(\"Delay\")[{\"Speed\":'Slow', 'Strike':'True', 'Accident':'True'}]=  [0.01, 0.99]\n",
    "m0.cpt(\"Delay\")[{\"Speed\":'Slow', 'Strike':'True', 'Accident':'False'}]= [0.35, 0.65]\n",
    "m0.cpt(\"Delay\")[{\"Speed\":'Slow', 'Strike':'False', 'Accident':'True'}]= [0.05, 0.95]\n",
    "m0.cpt(\"Delay\")[{\"Speed\":'Slow', 'Strike':'False', 'Accident':'False'}]=[0.75, 0.25]\n",
    "m0.cpt(\"Delay\")[{\"Speed\":'Fast', 'Strike':'True', 'Accident':'True'}]=  [0.01, 0.99]\n",
    "m0.cpt(\"Delay\")[{\"Speed\":'Fast', 'Strike':'True', 'Accident':'False'}]= [0.60, 0.40]\n",
    "m0.cpt(\"Delay\")[{\"Speed\":'Fast', 'Strike':'False', 'Accident':'True'}]= [0.05, 0.95]\n",
    "m0.cpt(\"Delay\")[{\"Speed\":'Fast', 'Strike':'False', 'Accident':'False'}]=[0.85, 0.15]\n",
    "\n",
    "# to draw network and cpt\n",
    "gnb.sideBySide(m0.cpt(\"Weather\"), m0.cpt(\"Strike\"), m0.cpt(\"RushHour\"), m0.cpt(\"RoadConditions\"),  m0.cpt('Mood'))\n",
    "\n",
    "gnb.sideBySide(m0.cpt(\"RoadWorks\"), m0.cpt('Speed'), m0.cpt('Danger'),  m0.cpt('Accident'),  m0.cpt('Delay'))"
   ]
  },
  {
   "cell_type": "code",
   "execution_count": 12,
   "metadata": {
    "pycharm": {
     "is_executing": false,
     "name": "#%%\n"
    }
   },
   "outputs": [],
   "source": [
    "# Save cpts to file\n",
    "\n",
    "# pdfkit.from_string(gnb.getPotential(m0.cpt(\"Weather\"), digits=4),'weather.pdf')\n",
    "# pdfkit.from_string(gnb.getPotential(m0.cpt(\"Strike\"), digits=4),'strike.pdf')\n",
    "# pdfkit.from_string(gnb.getPotential(m0.cpt(\"RushHour\"), digits=4),'rushhour.pdf')\n",
    "# pdfkit.from_string(gnb.getPotential(m0.cpt(\"RoadConditions\"), digits=4),'roadconditions.pdf')\n",
    "# pdfkit.from_string(gnb.getPotential(m0.cpt(\"Mood\"), digits=4),'mood.pdf')\n",
    "# pdfkit.from_string(gnb.getPotential(m0.cpt(\"RoadWorks\"), digits=4),'roadworks.pdf')\n",
    "# pdfkit.from_string(gnb.getPotential(m0.cpt(\"Speed\"), digits=4),'speed.pdf')\n",
    "# pdfkit.from_string(gnb.getPotential(m0.cpt(\"Danger\"), digits=4),'danger.pdf')\n",
    "# pdfkit.from_string(gnb.getPotential(m0.cpt(\"Accident\"), digits=4),'accident.pdf')\n",
    "# pdfkit.from_string(gnb.getPotential(m0.cpt(\"Delay\"), digits=4),'delay.pdf')\n"
   ]
  },
  {
   "cell_type": "markdown",
   "metadata": {},
   "source": [
    "# Causal Inference\n",
    "\n",
    "## Calculate the causal effect of X on Y"
   ]
  },
  {
   "cell_type": "code",
   "execution_count": 13,
   "metadata": {
    "pycharm": {
     "is_executing": false,
     "name": "#%%\n"
    }
   },
   "outputs": [
    {
     "data": {
      "text/html": [
       "<table style=\"border-style: hidden; border-collapse: collapse;\" width=\"100%\"><tr><td style=\"border-top:hidden;border-bottom:hidden;\"><div align=\"center\" style=\"\"><svg height=\"476pt\" viewBox=\"0.00 0.00 387.88 476.00\" width=\"388pt\" xmlns=\"http://www.w3.org/2000/svg\" xmlns:xlink=\"http://www.w3.org/1999/xlink\">\n",
       "<g class=\"graph\" id=\"graph0\" transform=\"scale(1 1) rotate(0) translate(4 472)\">\n",
       "<title>G</title>\n",
       "<!-- Weather -->\n",
       "<g class=\"node\" id=\"node1\">\n",
       "<title>Weather</title>\n",
       "<ellipse cx=\"225.65\" cy=\"-450\" fill=\"#404040\" rx=\"39.2\" ry=\"18\" stroke=\"#4a4a4a\"/>\n",
       "<text fill=\"white\" font-family=\"Times,serif\" font-size=\"14.00\" text-anchor=\"middle\" x=\"225.65\" y=\"-445.8\">Weather</text>\n",
       "</g>\n",
       "<!-- RoadConditions -->\n",
       "<g class=\"node\" id=\"node2\">\n",
       "<title>RoadConditions</title>\n",
       "<ellipse cx=\"177.65\" cy=\"-378\" fill=\"#404040\" rx=\"67.69\" ry=\"18\" stroke=\"#4a4a4a\"/>\n",
       "<text fill=\"white\" font-family=\"Times,serif\" font-size=\"14.00\" text-anchor=\"middle\" x=\"177.65\" y=\"-373.8\">RoadConditions</text>\n",
       "</g>\n",
       "<!-- Weather&#45;&gt;RoadConditions -->\n",
       "<g class=\"edge\" id=\"edge1\">\n",
       "<title>Weather-&gt;RoadConditions</title>\n",
       "<path d=\"M213.45,-432.98C207.73,-424.64 200.68,-414.36 194.3,-405.05\" fill=\"none\" stroke=\"#4a4a4a\"/>\n",
       "<path d=\"M215.1,-431.85C209.38,-423.51 202.33,-413.23 195.95,-403.92\" fill=\"none\" stroke=\"#4a4a4a\"/>\n",
       "<polygon fill=\"#4a4a4a\" points=\"197.82,-402.22 189.27,-395.96 192.04,-406.18 197.82,-402.22\" stroke=\"#4a4a4a\"/>\n",
       "</g>\n",
       "<!-- Mood -->\n",
       "<g class=\"node\" id=\"node5\">\n",
       "<title>Mood</title>\n",
       "<ellipse cx=\"338.65\" cy=\"-234\" fill=\"#404040\" rx=\"31.47\" ry=\"18\" stroke=\"#4a4a4a\"/>\n",
       "<text fill=\"white\" font-family=\"Times,serif\" font-size=\"14.00\" text-anchor=\"middle\" x=\"338.65\" y=\"-229.8\">Mood</text>\n",
       "</g>\n",
       "<!-- Weather&#45;&gt;Mood -->\n",
       "<g class=\"edge\" id=\"edge14\">\n",
       "<title>Weather-&gt;Mood</title>\n",
       "<path d=\"M234,-431.85C239.74,-421.44 247.24,-407.73 253.76,-395.53 279.21,-347.91 308.21,-291.95 324.61,-260.12\" fill=\"none\" stroke=\"#4a4a4a\"/>\n",
       "<path d=\"M235.75,-432.82C241.49,-422.4 249,-408.69 255.53,-396.47 280.99,-348.83 309.98,-292.87 326.39,-261.04\" fill=\"none\" stroke=\"#4a4a4a\"/>\n",
       "<polygon fill=\"#4a4a4a\" points=\"328.7,-262.01 330.17,-251.51 322.48,-258.8 328.7,-262.01\" stroke=\"#4a4a4a\"/>\n",
       "</g>\n",
       "<!-- RoadWorks -->\n",
       "<g class=\"node\" id=\"node3\">\n",
       "<title>RoadWorks</title>\n",
       "<ellipse cx=\"51.65\" cy=\"-306\" fill=\"#404040\" rx=\"51.79\" ry=\"18\" stroke=\"#4a4a4a\"/>\n",
       "<text fill=\"white\" font-family=\"Times,serif\" font-size=\"14.00\" text-anchor=\"middle\" x=\"51.65\" y=\"-301.8\">RoadWorks</text>\n",
       "</g>\n",
       "<!-- RoadConditions&#45;&gt;RoadWorks -->\n",
       "<g class=\"edge\" id=\"edge2\">\n",
       "<title>RoadConditions-&gt;RoadWorks</title>\n",
       "<path d=\"M149.2,-362.34C130.59,-352 106,-338.34 86.1,-327.28\" fill=\"none\" stroke=\"#4a4a4a\"/>\n",
       "<path d=\"M150.17,-360.59C131.56,-350.25 106.97,-336.59 87.07,-325.54\" fill=\"none\" stroke=\"#4a4a4a\"/>\n",
       "<polygon fill=\"#4a4a4a\" points=\"88.25,-323.33 77.81,-321.54 84.85,-329.45 88.25,-323.33\" stroke=\"#4a4a4a\"/>\n",
       "</g>\n",
       "<!-- Speed -->\n",
       "<g class=\"node\" id=\"node4\">\n",
       "<title>Speed</title>\n",
       "<ellipse cx=\"161.65\" cy=\"-234\" fill=\"#404040\" rx=\"31.94\" ry=\"18\" stroke=\"#4a4a4a\"/>\n",
       "<text fill=\"white\" font-family=\"Times,serif\" font-size=\"14.00\" text-anchor=\"middle\" x=\"161.65\" y=\"-229.8\">Speed</text>\n",
       "</g>\n",
       "<!-- RoadConditions&#45;&gt;Speed -->\n",
       "<g class=\"edge\" id=\"edge3\">\n",
       "<title>RoadConditions-&gt;Speed</title>\n",
       "<path d=\"M165.6,-360.65C159.59,-350.56 152.84,-337.31 149.67,-324.23 144.71,-303.23 148.14,-279.35 152.46,-261.43\" fill=\"none\" stroke=\"#4a4a4a\"/>\n",
       "<path d=\"M167.32,-359.63C161.37,-349.65 154.62,-336.4 151.62,-323.77 146.69,-303.51 150.12,-279.63 154.4,-261.89\" fill=\"none\" stroke=\"#4a4a4a\"/>\n",
       "<polygon fill=\"#4a4a4a\" points=\"156.83,-262.5 156,-251.93 150.06,-260.71 156.83,-262.5\" stroke=\"#4a4a4a\"/>\n",
       "</g>\n",
       "<!-- Danger -->\n",
       "<g class=\"node\" id=\"node9\">\n",
       "<title>Danger</title>\n",
       "<ellipse cx=\"225.65\" cy=\"-162\" fill=\"#404040\" rx=\"36.26\" ry=\"18\" stroke=\"#4a4a4a\"/>\n",
       "<text fill=\"white\" font-family=\"Times,serif\" font-size=\"14.00\" text-anchor=\"middle\" x=\"225.65\" y=\"-157.8\">Danger</text>\n",
       "</g>\n",
       "<!-- RoadConditions&#45;&gt;Danger -->\n",
       "<g class=\"edge\" id=\"edge10\">\n",
       "<title>RoadConditions-&gt;Danger</title>\n",
       "<path d=\"M215.1,-361.93C231.99,-353.51 250.39,-340.87 259.77,-323.52 283.62,-280.78 258.92,-222.16 240.66,-189.11\" fill=\"none\" stroke=\"#4a4a4a\"/>\n",
       "<path d=\"M216,-363.72C233.13,-355.16 251.52,-342.52 261.52,-324.48 285.46,-280 260.77,-221.38 242.41,-188.15\" fill=\"none\" stroke=\"#4a4a4a\"/>\n",
       "<polygon fill=\"#4a4a4a\" points=\"244.36,-186.53 236.35,-179.6 238.29,-190.02 244.36,-186.53\" stroke=\"#4a4a4a\"/>\n",
       "</g>\n",
       "<!-- RoadWorks&#45;&gt;Speed -->\n",
       "<g class=\"edge\" id=\"edge12\">\n",
       "<title>RoadWorks-&gt;Speed</title>\n",
       "<path d=\"M74.71,-289.14C91.48,-278.47 114.11,-264.06 132.01,-252.68\" fill=\"none\" stroke=\"#4a4a4a\"/>\n",
       "<path d=\"M75.78,-290.83C92.55,-280.15 115.19,-265.75 133.08,-254.36\" fill=\"none\" stroke=\"#4a4a4a\"/>\n",
       "<polygon fill=\"#4a4a4a\" points=\"134.85,-256.2 141.41,-247.88 131.1,-250.29 134.85,-256.2\" stroke=\"#4a4a4a\"/>\n",
       "</g>\n",
       "<!-- Delay -->\n",
       "<g class=\"node\" id=\"node7\">\n",
       "<title>Delay</title>\n",
       "<ellipse cx=\"278.65\" cy=\"-18\" fill=\"#404040\" rx=\"31.45\" ry=\"18\" stroke=\"#4a4a4a\"/>\n",
       "<text fill=\"white\" font-family=\"Times,serif\" font-size=\"14.00\" text-anchor=\"middle\" x=\"278.65\" y=\"-13.8\">Delay</text>\n",
       "</g>\n",
       "<!-- Speed&#45;&gt;Delay -->\n",
       "<g class=\"edge\" id=\"edge13\">\n",
       "<title>Speed-&gt;Delay</title>\n",
       "<path d=\"M162.44,-215.59C164.77,-197.19 169.77,-167.61 179.72,-143.62 196.94,-102.39 231.24,-63.56 254.44,-40.3\" fill=\"none\" stroke=\"#4a4a4a\"/>\n",
       "<path d=\"M164.42,-215.84C166.74,-197.52 171.74,-167.94 181.57,-144.38 198.43,-103.72 232.74,-64.89 255.85,-41.72\" fill=\"none\" stroke=\"#4a4a4a\"/>\n",
       "<polygon fill=\"#4a4a4a\" points=\"257.85,-43.26 262.53,-33.75 252.94,-38.27 257.85,-43.26\" stroke=\"#4a4a4a\"/>\n",
       "</g>\n",
       "<!-- Speed&#45;&gt;Danger -->\n",
       "<g class=\"edge\" id=\"edge9\">\n",
       "<title>Speed-&gt;Danger</title>\n",
       "<path d=\"M174.8,-217.14C183.23,-207.91 194.18,-195.94 203.68,-185.54\" fill=\"none\" stroke=\"#4a4a4a\"/>\n",
       "<path d=\"M176.27,-218.49C184.71,-209.26 195.65,-197.29 205.16,-186.89\" fill=\"none\" stroke=\"#4a4a4a\"/>\n",
       "<polygon fill=\"#4a4a4a\" points=\"207.18,-188.39 211.34,-178.64 202.01,-183.66 207.18,-188.39\" stroke=\"#4a4a4a\"/>\n",
       "</g>\n",
       "<!-- Accident -->\n",
       "<g class=\"node\" id=\"node6\">\n",
       "<title>Accident</title>\n",
       "<ellipse cx=\"278.65\" cy=\"-90\" fill=\"#404040\" rx=\"42.05\" ry=\"18\" stroke=\"#4a4a4a\"/>\n",
       "<text fill=\"white\" font-family=\"Times,serif\" font-size=\"14.00\" text-anchor=\"middle\" x=\"278.65\" y=\"-85.8\">Accident</text>\n",
       "</g>\n",
       "<!-- Mood&#45;&gt;Accident -->\n",
       "<g class=\"edge\" id=\"edge4\">\n",
       "<title>Mood-&gt;Accident</title>\n",
       "<path d=\"M327.5,-217.23C321.27,-206.93 313.47,-193.24 307.73,-180.41 298.64,-160.03 290.72,-136.12 285.29,-118.17\" fill=\"none\" stroke=\"#4a4a4a\"/>\n",
       "<path d=\"M329.21,-216.19C323.01,-205.94 315.21,-192.25 309.56,-179.59 300.53,-159.4 292.62,-135.5 287.21,-117.6\" fill=\"none\" stroke=\"#4a4a4a\"/>\n",
       "<polygon fill=\"#4a4a4a\" points=\"289.55,-116.69 283.36,-108.1 282.83,-118.68 289.55,-116.69\" stroke=\"#4a4a4a\"/>\n",
       "</g>\n",
       "<!-- Accident&#45;&gt;Delay -->\n",
       "<g class=\"edge\" id=\"edge5\">\n",
       "<title>Accident-&gt;Delay</title>\n",
       "<path d=\"M277.65,-71.7C277.65,-63.98 277.65,-54.71 277.65,-46.11\" fill=\"none\" stroke=\"#4a4a4a\"/>\n",
       "<path d=\"M279.65,-71.7C279.65,-63.98 279.65,-54.71 279.65,-46.11\" fill=\"none\" stroke=\"#4a4a4a\"/>\n",
       "<polygon fill=\"#4a4a4a\" points=\"282.15,-46.1 278.65,-36.1 275.15,-46.1 282.15,-46.1\" stroke=\"#4a4a4a\"/>\n",
       "</g>\n",
       "<!-- Strike -->\n",
       "<g class=\"node\" id=\"node8\">\n",
       "<title>Strike</title>\n",
       "<ellipse cx=\"348.65\" cy=\"-162\" fill=\"#404040\" rx=\"31.46\" ry=\"18\" stroke=\"#4a4a4a\"/>\n",
       "<text fill=\"white\" font-family=\"Times,serif\" font-size=\"14.00\" text-anchor=\"middle\" x=\"348.65\" y=\"-157.8\">Strike</text>\n",
       "</g>\n",
       "<!-- Strike&#45;&gt;Accident -->\n",
       "<g class=\"edge\" id=\"edge11\">\n",
       "<title>Strike-&gt;Accident</title>\n",
       "<path d=\"M333.09,-146.86C323.79,-137.56 311.61,-125.38 301.06,-114.83\" fill=\"none\" stroke=\"#4a4a4a\"/>\n",
       "<path d=\"M334.51,-145.45C325.21,-136.15 313.03,-123.97 302.48,-113.42\" fill=\"none\" stroke=\"#4a4a4a\"/>\n",
       "<polygon fill=\"#4a4a4a\" points=\"303.99,-111.39 294.44,-106.8 299.04,-116.34 303.99,-111.39\" stroke=\"#4a4a4a\"/>\n",
       "</g>\n",
       "<!-- Strike&#45;&gt;Delay -->\n",
       "<g class=\"edge\" id=\"edge8\">\n",
       "<title>Strike-&gt;Delay</title>\n",
       "<path d=\"M346.79,-144.07C345.24,-125.48 340.89,-95.17 328.76,-72.47 322.53,-60.68 312.67,-49.51 303.36,-40.61\" fill=\"none\" stroke=\"#4a4a4a\"/>\n",
       "<path d=\"M348.78,-143.9C347.22,-125.2 342.87,-94.88 330.53,-71.53 324.03,-59.36 314.17,-48.19 304.74,-39.17\" fill=\"none\" stroke=\"#4a4a4a\"/>\n",
       "<polygon fill=\"#4a4a4a\" points=\"306.14,-37.06 296.39,-32.91 301.42,-42.23 306.14,-37.06\" stroke=\"#4a4a4a\"/>\n",
       "</g>\n",
       "<!-- Danger&#45;&gt;Accident -->\n",
       "<g class=\"edge\" id=\"edge15\">\n",
       "<title>Danger-&gt;Accident</title>\n",
       "<path d=\"M237.14,-144.16C243.67,-135.54 251.83,-124.76 259.13,-115.12\" fill=\"none\" stroke=\"#4a4a4a\"/>\n",
       "<path d=\"M238.74,-145.37C245.26,-136.75 253.43,-125.97 260.72,-116.33\" fill=\"none\" stroke=\"#4a4a4a\"/>\n",
       "<polygon fill=\"#4a4a4a\" points=\"262.81,-117.72 266.05,-107.63 257.23,-113.49 262.81,-117.72\" stroke=\"#4a4a4a\"/>\n",
       "</g>\n",
       "<!-- RushHour -->\n",
       "<g class=\"node\" id=\"node10\">\n",
       "<title>RushHour</title>\n",
       "<ellipse cx=\"205.65\" cy=\"-306\" fill=\"#404040\" rx=\"46.43\" ry=\"18\" stroke=\"#4a4a4a\"/>\n",
       "<text fill=\"white\" font-family=\"Times,serif\" font-size=\"14.00\" text-anchor=\"middle\" x=\"205.65\" y=\"-301.8\">RushHour</text>\n",
       "</g>\n",
       "<!-- RushHour&#45;&gt;Speed -->\n",
       "<g class=\"edge\" id=\"edge7\">\n",
       "<title>RushHour-&gt;Speed</title>\n",
       "<path d=\"M194.37,-288.94C189.06,-280.49 182.48,-270.03 176.56,-260.61\" fill=\"none\" stroke=\"#4a4a4a\"/>\n",
       "<path d=\"M196.07,-287.88C190.75,-279.42 184.18,-268.96 178.26,-259.55\" fill=\"none\" stroke=\"#4a4a4a\"/>\n",
       "<polygon fill=\"#4a4a4a\" points=\"180.28,-258.07 172,-251.47 174.36,-261.8 180.28,-258.07\" stroke=\"#4a4a4a\"/>\n",
       "</g>\n",
       "<!-- RushHour&#45;&gt;Danger -->\n",
       "<g class=\"edge\" id=\"edge6\">\n",
       "<title>RushHour-&gt;Danger</title>\n",
       "<path d=\"M207.07,-287.73C210.48,-263.53 216.74,-219.07 220.8,-190.25\" fill=\"none\" stroke=\"#4a4a4a\"/>\n",
       "<path d=\"M209.05,-288.01C212.46,-263.81 218.72,-219.35 222.78,-190.53\" fill=\"none\" stroke=\"#4a4a4a\"/>\n",
       "<polygon fill=\"#4a4a4a\" points=\"225.3,-190.58 223.23,-180.19 218.37,-189.6 225.3,-190.58\" stroke=\"#4a4a4a\"/>\n",
       "</g>\n",
       "</g>\n",
       "</svg></div></td><td style=\"border-top:hidden;border-bottom:hidden;\"><div align=\"center\" style=\"\">$$\\begin{equation}P( Accident \\mid \\hookrightarrow\\mkern-6.5muSpeed) = \\sum_{RoadConditions,RushHour}{P\\left(Accident\\mid RoadConditions,RushHour,Speed\\right) \\cdot P\\left(RoadConditions,RushHour\\right)}\\end{equation}$$</div></td><td style=\"border-top:hidden;border-bottom:hidden;\"><div align=\"center\" style=\"\"><table style=\"border:1px solid black;\">\n",
       "<tr style='border:1px solid black;color:black;background-color:#808080'><th colspan='2'><center>Accident</center></th></tr>\n",
       "<tr><th style='border:1px solid black;border-bottom-style: double;color:black;background-color:#BBBBBB'><center>False</center></th><th style='border:1px solid black;border-bottom-style: double;color:black;background-color:#BBBBBB'><center>True</center></th></tr>\n",
       "<tr><td style='color:black;background-color:#b1cc64;text-align:right;'>0.6062</td><td style='color:black;background-color:#ccb164;text-align:right;'>0.3938</td></tr>\n",
       "</table></div></td></tr><tr><td style=\"border-top:hidden;border-bottom:hidden;\"><div align=\"center\"><small>Causal Model</small></div></td><td style=\"border-top:hidden;border-bottom:hidden;\"><div align=\"center\"><small>Explanation : backdoor ['RoadConditions', 'RushHour'] found.</small></div></td><td style=\"border-top:hidden;border-bottom:hidden;\"><div align=\"center\"><small>Impact : $P( Accident \\mid \\hookrightarrow\\mkern-6.5muSpeed=Slow)$</small></div></td></tr></table>"
      ],
      "text/plain": [
       "<IPython.core.display.HTML object>"
      ]
     },
     "metadata": {},
     "output_type": "display_data"
    },
    {
     "data": {
      "text/html": [
       "<table style=\"border-style: hidden; border-collapse: collapse;\" width=\"100%\"><tr><td style=\"border-top:hidden;border-bottom:hidden;\"><div align=\"center\" style=\"\"><svg height=\"476pt\" viewBox=\"0.00 0.00 387.88 476.00\" width=\"388pt\" xmlns=\"http://www.w3.org/2000/svg\" xmlns:xlink=\"http://www.w3.org/1999/xlink\">\n",
       "<g class=\"graph\" id=\"graph0\" transform=\"scale(1 1) rotate(0) translate(4 472)\">\n",
       "<title>G</title>\n",
       "<!-- Weather -->\n",
       "<g class=\"node\" id=\"node1\">\n",
       "<title>Weather</title>\n",
       "<ellipse cx=\"225.65\" cy=\"-450\" fill=\"#404040\" rx=\"39.2\" ry=\"18\" stroke=\"#4a4a4a\"/>\n",
       "<text fill=\"white\" font-family=\"Times,serif\" font-size=\"14.00\" text-anchor=\"middle\" x=\"225.65\" y=\"-445.8\">Weather</text>\n",
       "</g>\n",
       "<!-- RoadConditions -->\n",
       "<g class=\"node\" id=\"node2\">\n",
       "<title>RoadConditions</title>\n",
       "<ellipse cx=\"177.65\" cy=\"-378\" fill=\"#404040\" rx=\"67.69\" ry=\"18\" stroke=\"#4a4a4a\"/>\n",
       "<text fill=\"white\" font-family=\"Times,serif\" font-size=\"14.00\" text-anchor=\"middle\" x=\"177.65\" y=\"-373.8\">RoadConditions</text>\n",
       "</g>\n",
       "<!-- Weather&#45;&gt;RoadConditions -->\n",
       "<g class=\"edge\" id=\"edge1\">\n",
       "<title>Weather-&gt;RoadConditions</title>\n",
       "<path d=\"M213.45,-432.98C207.73,-424.64 200.68,-414.36 194.3,-405.05\" fill=\"none\" stroke=\"#4a4a4a\"/>\n",
       "<path d=\"M215.1,-431.85C209.38,-423.51 202.33,-413.23 195.95,-403.92\" fill=\"none\" stroke=\"#4a4a4a\"/>\n",
       "<polygon fill=\"#4a4a4a\" points=\"197.82,-402.22 189.27,-395.96 192.04,-406.18 197.82,-402.22\" stroke=\"#4a4a4a\"/>\n",
       "</g>\n",
       "<!-- Mood -->\n",
       "<g class=\"node\" id=\"node5\">\n",
       "<title>Mood</title>\n",
       "<ellipse cx=\"338.65\" cy=\"-234\" fill=\"#404040\" rx=\"31.47\" ry=\"18\" stroke=\"#4a4a4a\"/>\n",
       "<text fill=\"white\" font-family=\"Times,serif\" font-size=\"14.00\" text-anchor=\"middle\" x=\"338.65\" y=\"-229.8\">Mood</text>\n",
       "</g>\n",
       "<!-- Weather&#45;&gt;Mood -->\n",
       "<g class=\"edge\" id=\"edge14\">\n",
       "<title>Weather-&gt;Mood</title>\n",
       "<path d=\"M234,-431.85C239.74,-421.44 247.24,-407.73 253.76,-395.53 279.21,-347.91 308.21,-291.95 324.61,-260.12\" fill=\"none\" stroke=\"#4a4a4a\"/>\n",
       "<path d=\"M235.75,-432.82C241.49,-422.4 249,-408.69 255.53,-396.47 280.99,-348.83 309.98,-292.87 326.39,-261.04\" fill=\"none\" stroke=\"#4a4a4a\"/>\n",
       "<polygon fill=\"#4a4a4a\" points=\"328.7,-262.01 330.17,-251.51 322.48,-258.8 328.7,-262.01\" stroke=\"#4a4a4a\"/>\n",
       "</g>\n",
       "<!-- RoadWorks -->\n",
       "<g class=\"node\" id=\"node3\">\n",
       "<title>RoadWorks</title>\n",
       "<ellipse cx=\"51.65\" cy=\"-306\" fill=\"#404040\" rx=\"51.79\" ry=\"18\" stroke=\"#4a4a4a\"/>\n",
       "<text fill=\"white\" font-family=\"Times,serif\" font-size=\"14.00\" text-anchor=\"middle\" x=\"51.65\" y=\"-301.8\">RoadWorks</text>\n",
       "</g>\n",
       "<!-- RoadConditions&#45;&gt;RoadWorks -->\n",
       "<g class=\"edge\" id=\"edge2\">\n",
       "<title>RoadConditions-&gt;RoadWorks</title>\n",
       "<path d=\"M149.2,-362.34C130.59,-352 106,-338.34 86.1,-327.28\" fill=\"none\" stroke=\"#4a4a4a\"/>\n",
       "<path d=\"M150.17,-360.59C131.56,-350.25 106.97,-336.59 87.07,-325.54\" fill=\"none\" stroke=\"#4a4a4a\"/>\n",
       "<polygon fill=\"#4a4a4a\" points=\"88.25,-323.33 77.81,-321.54 84.85,-329.45 88.25,-323.33\" stroke=\"#4a4a4a\"/>\n",
       "</g>\n",
       "<!-- Speed -->\n",
       "<g class=\"node\" id=\"node4\">\n",
       "<title>Speed</title>\n",
       "<ellipse cx=\"161.65\" cy=\"-234\" fill=\"#404040\" rx=\"31.94\" ry=\"18\" stroke=\"#4a4a4a\"/>\n",
       "<text fill=\"white\" font-family=\"Times,serif\" font-size=\"14.00\" text-anchor=\"middle\" x=\"161.65\" y=\"-229.8\">Speed</text>\n",
       "</g>\n",
       "<!-- RoadConditions&#45;&gt;Speed -->\n",
       "<g class=\"edge\" id=\"edge3\">\n",
       "<title>RoadConditions-&gt;Speed</title>\n",
       "<path d=\"M165.6,-360.65C159.59,-350.56 152.84,-337.31 149.67,-324.23 144.71,-303.23 148.14,-279.35 152.46,-261.43\" fill=\"none\" stroke=\"#4a4a4a\"/>\n",
       "<path d=\"M167.32,-359.63C161.37,-349.65 154.62,-336.4 151.62,-323.77 146.69,-303.51 150.12,-279.63 154.4,-261.89\" fill=\"none\" stroke=\"#4a4a4a\"/>\n",
       "<polygon fill=\"#4a4a4a\" points=\"156.83,-262.5 156,-251.93 150.06,-260.71 156.83,-262.5\" stroke=\"#4a4a4a\"/>\n",
       "</g>\n",
       "<!-- Danger -->\n",
       "<g class=\"node\" id=\"node9\">\n",
       "<title>Danger</title>\n",
       "<ellipse cx=\"225.65\" cy=\"-162\" fill=\"#404040\" rx=\"36.26\" ry=\"18\" stroke=\"#4a4a4a\"/>\n",
       "<text fill=\"white\" font-family=\"Times,serif\" font-size=\"14.00\" text-anchor=\"middle\" x=\"225.65\" y=\"-157.8\">Danger</text>\n",
       "</g>\n",
       "<!-- RoadConditions&#45;&gt;Danger -->\n",
       "<g class=\"edge\" id=\"edge10\">\n",
       "<title>RoadConditions-&gt;Danger</title>\n",
       "<path d=\"M215.1,-361.93C231.99,-353.51 250.39,-340.87 259.77,-323.52 283.62,-280.78 258.92,-222.16 240.66,-189.11\" fill=\"none\" stroke=\"#4a4a4a\"/>\n",
       "<path d=\"M216,-363.72C233.13,-355.16 251.52,-342.52 261.52,-324.48 285.46,-280 260.77,-221.38 242.41,-188.15\" fill=\"none\" stroke=\"#4a4a4a\"/>\n",
       "<polygon fill=\"#4a4a4a\" points=\"244.36,-186.53 236.35,-179.6 238.29,-190.02 244.36,-186.53\" stroke=\"#4a4a4a\"/>\n",
       "</g>\n",
       "<!-- RoadWorks&#45;&gt;Speed -->\n",
       "<g class=\"edge\" id=\"edge12\">\n",
       "<title>RoadWorks-&gt;Speed</title>\n",
       "<path d=\"M74.71,-289.14C91.48,-278.47 114.11,-264.06 132.01,-252.68\" fill=\"none\" stroke=\"#4a4a4a\"/>\n",
       "<path d=\"M75.78,-290.83C92.55,-280.15 115.19,-265.75 133.08,-254.36\" fill=\"none\" stroke=\"#4a4a4a\"/>\n",
       "<polygon fill=\"#4a4a4a\" points=\"134.85,-256.2 141.41,-247.88 131.1,-250.29 134.85,-256.2\" stroke=\"#4a4a4a\"/>\n",
       "</g>\n",
       "<!-- Delay -->\n",
       "<g class=\"node\" id=\"node7\">\n",
       "<title>Delay</title>\n",
       "<ellipse cx=\"278.65\" cy=\"-18\" fill=\"#404040\" rx=\"31.45\" ry=\"18\" stroke=\"#4a4a4a\"/>\n",
       "<text fill=\"white\" font-family=\"Times,serif\" font-size=\"14.00\" text-anchor=\"middle\" x=\"278.65\" y=\"-13.8\">Delay</text>\n",
       "</g>\n",
       "<!-- Speed&#45;&gt;Delay -->\n",
       "<g class=\"edge\" id=\"edge13\">\n",
       "<title>Speed-&gt;Delay</title>\n",
       "<path d=\"M162.44,-215.59C164.77,-197.19 169.77,-167.61 179.72,-143.62 196.94,-102.39 231.24,-63.56 254.44,-40.3\" fill=\"none\" stroke=\"#4a4a4a\"/>\n",
       "<path d=\"M164.42,-215.84C166.74,-197.52 171.74,-167.94 181.57,-144.38 198.43,-103.72 232.74,-64.89 255.85,-41.72\" fill=\"none\" stroke=\"#4a4a4a\"/>\n",
       "<polygon fill=\"#4a4a4a\" points=\"257.85,-43.26 262.53,-33.75 252.94,-38.27 257.85,-43.26\" stroke=\"#4a4a4a\"/>\n",
       "</g>\n",
       "<!-- Speed&#45;&gt;Danger -->\n",
       "<g class=\"edge\" id=\"edge9\">\n",
       "<title>Speed-&gt;Danger</title>\n",
       "<path d=\"M174.8,-217.14C183.23,-207.91 194.18,-195.94 203.68,-185.54\" fill=\"none\" stroke=\"#4a4a4a\"/>\n",
       "<path d=\"M176.27,-218.49C184.71,-209.26 195.65,-197.29 205.16,-186.89\" fill=\"none\" stroke=\"#4a4a4a\"/>\n",
       "<polygon fill=\"#4a4a4a\" points=\"207.18,-188.39 211.34,-178.64 202.01,-183.66 207.18,-188.39\" stroke=\"#4a4a4a\"/>\n",
       "</g>\n",
       "<!-- Accident -->\n",
       "<g class=\"node\" id=\"node6\">\n",
       "<title>Accident</title>\n",
       "<ellipse cx=\"278.65\" cy=\"-90\" fill=\"#404040\" rx=\"42.05\" ry=\"18\" stroke=\"#4a4a4a\"/>\n",
       "<text fill=\"white\" font-family=\"Times,serif\" font-size=\"14.00\" text-anchor=\"middle\" x=\"278.65\" y=\"-85.8\">Accident</text>\n",
       "</g>\n",
       "<!-- Mood&#45;&gt;Accident -->\n",
       "<g class=\"edge\" id=\"edge4\">\n",
       "<title>Mood-&gt;Accident</title>\n",
       "<path d=\"M327.5,-217.23C321.27,-206.93 313.47,-193.24 307.73,-180.41 298.64,-160.03 290.72,-136.12 285.29,-118.17\" fill=\"none\" stroke=\"#4a4a4a\"/>\n",
       "<path d=\"M329.21,-216.19C323.01,-205.94 315.21,-192.25 309.56,-179.59 300.53,-159.4 292.62,-135.5 287.21,-117.6\" fill=\"none\" stroke=\"#4a4a4a\"/>\n",
       "<polygon fill=\"#4a4a4a\" points=\"289.55,-116.69 283.36,-108.1 282.83,-118.68 289.55,-116.69\" stroke=\"#4a4a4a\"/>\n",
       "</g>\n",
       "<!-- Accident&#45;&gt;Delay -->\n",
       "<g class=\"edge\" id=\"edge5\">\n",
       "<title>Accident-&gt;Delay</title>\n",
       "<path d=\"M277.65,-71.7C277.65,-63.98 277.65,-54.71 277.65,-46.11\" fill=\"none\" stroke=\"#4a4a4a\"/>\n",
       "<path d=\"M279.65,-71.7C279.65,-63.98 279.65,-54.71 279.65,-46.11\" fill=\"none\" stroke=\"#4a4a4a\"/>\n",
       "<polygon fill=\"#4a4a4a\" points=\"282.15,-46.1 278.65,-36.1 275.15,-46.1 282.15,-46.1\" stroke=\"#4a4a4a\"/>\n",
       "</g>\n",
       "<!-- Strike -->\n",
       "<g class=\"node\" id=\"node8\">\n",
       "<title>Strike</title>\n",
       "<ellipse cx=\"348.65\" cy=\"-162\" fill=\"#404040\" rx=\"31.46\" ry=\"18\" stroke=\"#4a4a4a\"/>\n",
       "<text fill=\"white\" font-family=\"Times,serif\" font-size=\"14.00\" text-anchor=\"middle\" x=\"348.65\" y=\"-157.8\">Strike</text>\n",
       "</g>\n",
       "<!-- Strike&#45;&gt;Accident -->\n",
       "<g class=\"edge\" id=\"edge11\">\n",
       "<title>Strike-&gt;Accident</title>\n",
       "<path d=\"M333.09,-146.86C323.79,-137.56 311.61,-125.38 301.06,-114.83\" fill=\"none\" stroke=\"#4a4a4a\"/>\n",
       "<path d=\"M334.51,-145.45C325.21,-136.15 313.03,-123.97 302.48,-113.42\" fill=\"none\" stroke=\"#4a4a4a\"/>\n",
       "<polygon fill=\"#4a4a4a\" points=\"303.99,-111.39 294.44,-106.8 299.04,-116.34 303.99,-111.39\" stroke=\"#4a4a4a\"/>\n",
       "</g>\n",
       "<!-- Strike&#45;&gt;Delay -->\n",
       "<g class=\"edge\" id=\"edge8\">\n",
       "<title>Strike-&gt;Delay</title>\n",
       "<path d=\"M346.79,-144.07C345.24,-125.48 340.89,-95.17 328.76,-72.47 322.53,-60.68 312.67,-49.51 303.36,-40.61\" fill=\"none\" stroke=\"#4a4a4a\"/>\n",
       "<path d=\"M348.78,-143.9C347.22,-125.2 342.87,-94.88 330.53,-71.53 324.03,-59.36 314.17,-48.19 304.74,-39.17\" fill=\"none\" stroke=\"#4a4a4a\"/>\n",
       "<polygon fill=\"#4a4a4a\" points=\"306.14,-37.06 296.39,-32.91 301.42,-42.23 306.14,-37.06\" stroke=\"#4a4a4a\"/>\n",
       "</g>\n",
       "<!-- Danger&#45;&gt;Accident -->\n",
       "<g class=\"edge\" id=\"edge15\">\n",
       "<title>Danger-&gt;Accident</title>\n",
       "<path d=\"M237.14,-144.16C243.67,-135.54 251.83,-124.76 259.13,-115.12\" fill=\"none\" stroke=\"#4a4a4a\"/>\n",
       "<path d=\"M238.74,-145.37C245.26,-136.75 253.43,-125.97 260.72,-116.33\" fill=\"none\" stroke=\"#4a4a4a\"/>\n",
       "<polygon fill=\"#4a4a4a\" points=\"262.81,-117.72 266.05,-107.63 257.23,-113.49 262.81,-117.72\" stroke=\"#4a4a4a\"/>\n",
       "</g>\n",
       "<!-- RushHour -->\n",
       "<g class=\"node\" id=\"node10\">\n",
       "<title>RushHour</title>\n",
       "<ellipse cx=\"205.65\" cy=\"-306\" fill=\"#404040\" rx=\"46.43\" ry=\"18\" stroke=\"#4a4a4a\"/>\n",
       "<text fill=\"white\" font-family=\"Times,serif\" font-size=\"14.00\" text-anchor=\"middle\" x=\"205.65\" y=\"-301.8\">RushHour</text>\n",
       "</g>\n",
       "<!-- RushHour&#45;&gt;Speed -->\n",
       "<g class=\"edge\" id=\"edge7\">\n",
       "<title>RushHour-&gt;Speed</title>\n",
       "<path d=\"M194.37,-288.94C189.06,-280.49 182.48,-270.03 176.56,-260.61\" fill=\"none\" stroke=\"#4a4a4a\"/>\n",
       "<path d=\"M196.07,-287.88C190.75,-279.42 184.18,-268.96 178.26,-259.55\" fill=\"none\" stroke=\"#4a4a4a\"/>\n",
       "<polygon fill=\"#4a4a4a\" points=\"180.28,-258.07 172,-251.47 174.36,-261.8 180.28,-258.07\" stroke=\"#4a4a4a\"/>\n",
       "</g>\n",
       "<!-- RushHour&#45;&gt;Danger -->\n",
       "<g class=\"edge\" id=\"edge6\">\n",
       "<title>RushHour-&gt;Danger</title>\n",
       "<path d=\"M207.07,-287.73C210.48,-263.53 216.74,-219.07 220.8,-190.25\" fill=\"none\" stroke=\"#4a4a4a\"/>\n",
       "<path d=\"M209.05,-288.01C212.46,-263.81 218.72,-219.35 222.78,-190.53\" fill=\"none\" stroke=\"#4a4a4a\"/>\n",
       "<polygon fill=\"#4a4a4a\" points=\"225.3,-190.58 223.23,-180.19 218.37,-189.6 225.3,-190.58\" stroke=\"#4a4a4a\"/>\n",
       "</g>\n",
       "</g>\n",
       "</svg></div></td><td style=\"border-top:hidden;border-bottom:hidden;\"><div align=\"center\" style=\"\">$$\\begin{equation}P( Accident \\mid \\hookrightarrow\\mkern-6.5muSpeed) = \\sum_{RoadConditions,RushHour}{P\\left(Accident\\mid RoadConditions,RushHour,Speed\\right) \\cdot P\\left(RoadConditions,RushHour\\right)}\\end{equation}$$</div></td><td style=\"border-top:hidden;border-bottom:hidden;\"><div align=\"center\" style=\"\"><table style=\"border:1px solid black;\">\n",
       "<tr style='border:1px solid black;color:black;background-color:#808080'><th colspan='2'><center>Accident</center></th></tr>\n",
       "<tr><th style='border:1px solid black;border-bottom-style: double;color:black;background-color:#BBBBBB'><center>False</center></th><th style='border:1px solid black;border-bottom-style: double;color:black;background-color:#BBBBBB'><center>True</center></th></tr>\n",
       "<tr><td style='color:black;background-color:#cbb264;text-align:right;'>0.4053</td><td style='color:black;background-color:#b2cb64;text-align:right;'>0.5947</td></tr>\n",
       "</table></div></td></tr><tr><td style=\"border-top:hidden;border-bottom:hidden;\"><div align=\"center\"><small>Causal Model</small></div></td><td style=\"border-top:hidden;border-bottom:hidden;\"><div align=\"center\"><small>Explanation : backdoor ['RoadConditions', 'RushHour'] found.</small></div></td><td style=\"border-top:hidden;border-bottom:hidden;\"><div align=\"center\"><small>Impact : $P( Accident \\mid \\hookrightarrow\\mkern-6.5muSpeed=Fast)$</small></div></td></tr></table>"
      ],
      "text/plain": [
       "<IPython.core.display.HTML object>"
      ]
     },
     "metadata": {},
     "output_type": "display_data"
    }
   ],
   "source": [
    "cs0 = csl.CausalModel(m0)\n",
    "\n",
    "cslnb.showCausalImpact(cs0, \"Accident\", doing=\"Speed\", values={\"Speed\":\"Slow\"})\n",
    "cslnb.showCausalImpact(cs0, \"Accident\", doing=\"Speed\", values={\"Speed\":\"Fast\"})"
   ]
  },
  {
   "cell_type": "markdown",
   "metadata": {},
   "source": [
    "## ACE"
   ]
  },
  {
   "cell_type": "code",
   "execution_count": 14,
   "metadata": {
    "pycharm": {
     "is_executing": false,
     "name": "#%%\n"
    }
   },
   "outputs": [
    {
     "name": "stdout",
     "output_type": "stream",
     "text": [
      "-0.20094256\n"
     ]
    }
   ],
   "source": [
    "c1 = csl.causalImpact(cs0, \"Accident\",doing=\"Speed\")[1]\n",
    "\n",
    "# y-true\n",
    "ACE = c1[0][1]-c1[1][1]\n",
    "print(ACE)"
   ]
  },
  {
   "cell_type": "markdown",
   "metadata": {},
   "source": [
    "## C-specific effect"
   ]
  },
  {
   "cell_type": "code",
   "execution_count": 15,
   "metadata": {
    "pycharm": {
     "is_executing": false,
     "name": "#%%\n"
    }
   },
   "outputs": [
    {
     "data": {
      "text/html": [
       "<table style=\"border-style: hidden; border-collapse: collapse;\" width=\"100%\"><tr><td style=\"border-top:hidden;border-bottom:hidden;\"><div align=\"center\" style=\"\"><table style=\"border:1px solid black;\">\n",
       "<tr><th colspan='2'></th><th colspan='2' style='border:1px solid black;color:black;background-color:#808080;'><center>Speed</center></th></tr>\n",
       "<tr><th style='border:1px solid black;color:black;background-color:#808080'><center>RoadWorks</center></th><th style='border:1px solid black;color:black;background-color:#808080'><center>RoadConditions</center></th><th style='border:1px solid black;border-bottom-style: double;color:black;background-color:#BBBBBB'><center>Slow</center></th><th style='border:1px solid black;border-bottom-style: double;color:black;background-color:#BBBBBB'><center>Fast</center></th></tr>\n",
       "<tr><th style='border:1px solid black;color:black;background-color:#BBBBBB;' rowspan = '2'><center>False</center></th><th style='border:1px solid black;color:black;background-color:#BBBBBB'><center>Dry</center></th><td style='color:black;background-color:#dba264;text-align:right;'>0.2800</td><td style='color:black;background-color:#a2db64;text-align:right;'>0.7200</td></tr>\n",
       "<tr><th style='border:1px solid black;color:black;background-color:#BBBBBB'><center>Wet</center></th><td style='color:black;background-color:#add064;text-align:right;'>0.6400</td><td style='color:black;background-color:#d0ad64;text-align:right;'>0.3600</td></tr>\n",
       "<tr><th style='border:1px solid black;color:black;background-color:#BBBBBB;' rowspan = '2'><center>True</center></th><th style='border:1px solid black;color:black;background-color:#BBBBBB'><center>Dry</center></th><td style='color:black;background-color:#9ce164;text-align:right;'>0.7700</td><td style='color:black;background-color:#e19c64;text-align:right;'>0.2300</td></tr>\n",
       "<tr><th style='border:1px solid black;color:black;background-color:#BBBBBB'><center>Wet</center></th><td style='color:black;background-color:#8af364;text-align:right;'>0.9100</td><td style='color:black;background-color:#f38a64;text-align:right;'>0.0900</td></tr>\n",
       "</table></div></td><td style=\"border-top:hidden;border-bottom:hidden;\"><div align=\"center\" style=\"\"><table style=\"border:1px solid black;\">\n",
       "<tr><th colspan='1'></th><th colspan='2' style='border:1px solid black;color:black;background-color:#808080;'><center>RoadConditions</center></th></tr>\n",
       "<tr><th style='border:1px solid black;color:black;background-color:#808080'><center>Weather</center></th><th style='border:1px solid black;border-bottom-style: double;color:black;background-color:#BBBBBB'><center>Dry</center></th><th style='border:1px solid black;border-bottom-style: double;color:black;background-color:#BBBBBB'><center>Wet</center></th></tr>\n",
       "<tr><th style='border:1px solid black;color:black;background-color:#BBBBBB'><center>Sun</center></th><td style='color:black;background-color:#a5d864;text-align:right;'>0.7000</td><td style='color:black;background-color:#d8a564;text-align:right;'>0.3000</td></tr>\n",
       "<tr><th style='border:1px solid black;color:black;background-color:#BBBBBB'><center>Rain</center></th><td style='color:black;background-color:#e59864;text-align:right;'>0.2000</td><td style='color:black;background-color:#98e564;text-align:right;'>0.8000</td></tr>\n",
       "</table></div></td></tr><tr><td style=\"border-top:hidden;border-bottom:hidden;\"><div align=\"center\"><small>$\\forall Danger,Delay,RoadConditions,Speed P(Delay|Danger,RoadConditions,Speed)$</small></div></td><td style=\"border-top:hidden;border-bottom:hidden;\"><div align=\"center\"><small>$\\forall Speed,RoadConditions P(Speed|RoadConditions)$</small></div></td></tr></table>"
      ],
      "text/plain": [
       "<IPython.core.display.HTML object>"
      ]
     },
     "metadata": {},
     "output_type": "display_data"
    },
    {
     "data": {
      "text/html": [
       "<table style=\"border-style: hidden; border-collapse: collapse;\" width=\"100%\"><tr><td style=\"border-top:hidden;border-bottom:hidden;\"><div align=\"center\" style=\"\"><table style=\"border:1px solid black;\">\n",
       "<tr><th colspan='2'></th><th colspan='2' style='border:1px solid black;color:black;background-color:#808080;'><center>Speed</center></th></tr>\n",
       "<tr><th style='border:1px solid black;color:black;background-color:#808080'><center>RoadWorks</center></th><th style='border:1px solid black;color:black;background-color:#808080'><center>Weather</center></th><th style='border:1px solid black;border-bottom-style: double;color:black;background-color:#BBBBBB'><center>Slow</center></th><th style='border:1px solid black;border-bottom-style: double;color:black;background-color:#BBBBBB'><center>Fast</center></th></tr>\n",
       "<tr><th style='border:1px solid black;color:black;background-color:#BBBBBB;' rowspan = '2'><center>False</center></th><th style='border:1px solid black;color:black;background-color:#BBBBBB'><center>Sun</center></th><td style='color:black;background-color:#cdb064;text-align:right;'>0.3880</td><td style='color:black;background-color:#b0cd64;text-align:right;'>0.6120</td></tr>\n",
       "<tr><th style='border:1px solid black;color:black;background-color:#BBBBBB'><center>Rain</center></th><td style='color:black;background-color:#b6c764;text-align:right;'>0.5680</td><td style='color:black;background-color:#c7b664;text-align:right;'>0.4320</td></tr>\n",
       "<tr><th style='border:1px solid black;color:black;background-color:#BBBBBB;' rowspan = '2'><center>True</center></th><th style='border:1px solid black;color:black;background-color:#BBBBBB'><center>Sun</center></th><td style='color:black;background-color:#97e664;text-align:right;'>0.8120</td><td style='color:black;background-color:#e69764;text-align:right;'>0.1880</td></tr>\n",
       "<tr><th style='border:1px solid black;color:black;background-color:#BBBBBB'><center>Rain</center></th><td style='color:black;background-color:#8eef64;text-align:right;'>0.8820</td><td style='color:black;background-color:#ef8e64;text-align:right;'>0.1180</td></tr>\n",
       "</table></div></td></tr><tr><td style=\"border-top:hidden;border-bottom:hidden;\"><div align=\"center\"><small>$\\forall Delay,Danger,RoadConditions P(Delay|do(Danger),RoadConditions)$</small></div></td></tr></table>"
      ],
      "text/plain": [
       "<IPython.core.display.HTML object>"
      ]
     },
     "metadata": {},
     "output_type": "display_data"
    }
   ],
   "source": [
    "ie=gum.LazyPropagation(m0)\n",
    "ie.addJointTarget({\"RoadWorks\",\"Speed\",\"RoadConditions\",\"Weather\"})\n",
    "ie.makeInference()\n",
    "pYgivenXZC=ie.evidenceJointImpact([\"Speed\"],[\"RoadWorks\", \"RoadConditions\", 'Weather'])\n",
    "pZgivenC=ie.evidenceJointImpact([\"RoadConditions\"], [\"Weather\"])\n",
    "gnb.sideBySide(pYgivenXZC,pZgivenC,\n",
    "              captions=[\"$\\\\forall Danger,Delay,RoadConditions,Speed P(Delay|Danger,RoadConditions,Speed)$\",\n",
    "                        \"$\\\\forall Speed,RoadConditions P(Speed|RoadConditions)$\"]\n",
    "                        )\n",
    "\n",
    "result=pYgivenXZC.extract({\"RoadConditions\":0})*pZgivenC.extract({\"RoadConditions\":0})\n",
    "result=result + pYgivenXZC.extract({\"RoadConditions\":1})*pZgivenC.extract({\"RoadConditions\":1})\n",
    "gnb.sideBySide(result.putFirst(\"Speed\"),\n",
    "              captions=[\"$\\\\forall Delay,Danger,RoadConditions P(Delay|do(Danger),RoadConditions)$\"])"
   ]
  },
  {
   "cell_type": "markdown",
   "metadata": {},
   "source": [
    "## Conditional intervention"
   ]
  },
  {
   "cell_type": "code",
   "execution_count": 64,
   "metadata": {
    "pycharm": {
     "is_executing": false,
     "name": "#%%\n"
    }
   },
   "outputs": [
    {
     "name": "stdout",
     "output_type": "stream",
     "text": [
      "0.7\n",
      "0.3\n"
     ]
    },
    {
     "data": {
      "text/plain": [
       "0.7387999999999998"
      ]
     },
     "execution_count": 64,
     "metadata": {},
     "output_type": "execute_result"
    }
   ],
   "source": [
    "def g(c):\n",
    "    x = 1 - c\n",
    "    return x\n",
    "\n",
    "# \tP(Y=0|do(X=g(C))) = \\sum_c P(Y=0|do(X=g(C)), C=c)P(C=c) = 0.7388\n",
    "e_0 = 0\n",
    "for c in [0,1]:\n",
    "    firstprob = result.extract({\"RoadWorks\":g(c), \"Speed\":0})\n",
    "    print(m0.cpt(\"Weather\")[c])\n",
    "    e_0 = e_0 + firstprob[c] * m0.cpt(\"Weather\")[c]\n",
    "e_0\n",
    "\n",
    "# \tP(Y=0|do(X=g(C))) = \\sum_c P(Y=0|do(X=g(C)), C=c)P(C=c) = 0.2612"
   ]
  },
  {
   "cell_type": "markdown",
   "metadata": {},
   "source": [
    "## Mediation & Controlled Direct Effect"
   ]
  },
  {
   "cell_type": "code",
   "execution_count": 33,
   "metadata": {
    "pycharm": {
     "is_executing": false,
     "name": "#%%\n"
    }
   },
   "outputs": [
    {
     "data": {
      "text/html": [
       "<table style=\"border-style: hidden; border-collapse: collapse;\" width=\"100%\"><tr><td style=\"border-top:hidden;border-bottom:hidden;\"><div align=\"center\" style=\"\"><svg height=\"476pt\" viewBox=\"0.00 0.00 387.88 476.00\" width=\"388pt\" xmlns=\"http://www.w3.org/2000/svg\" xmlns:xlink=\"http://www.w3.org/1999/xlink\">\n",
       "<g class=\"graph\" id=\"graph0\" transform=\"scale(1 1) rotate(0) translate(4 472)\">\n",
       "<title>G</title>\n",
       "<!-- Weather -->\n",
       "<g class=\"node\" id=\"node1\">\n",
       "<title>Weather</title>\n",
       "<ellipse cx=\"225.65\" cy=\"-450\" fill=\"#404040\" rx=\"39.2\" ry=\"18\" stroke=\"#4a4a4a\"/>\n",
       "<text fill=\"white\" font-family=\"Times,serif\" font-size=\"14.00\" text-anchor=\"middle\" x=\"225.65\" y=\"-445.8\">Weather</text>\n",
       "</g>\n",
       "<!-- RoadConditions -->\n",
       "<g class=\"node\" id=\"node2\">\n",
       "<title>RoadConditions</title>\n",
       "<ellipse cx=\"177.65\" cy=\"-378\" fill=\"#404040\" rx=\"67.69\" ry=\"18\" stroke=\"#4a4a4a\"/>\n",
       "<text fill=\"white\" font-family=\"Times,serif\" font-size=\"14.00\" text-anchor=\"middle\" x=\"177.65\" y=\"-373.8\">RoadConditions</text>\n",
       "</g>\n",
       "<!-- Weather&#45;&gt;RoadConditions -->\n",
       "<g class=\"edge\" id=\"edge1\">\n",
       "<title>Weather-&gt;RoadConditions</title>\n",
       "<path d=\"M213.45,-432.98C207.73,-424.64 200.68,-414.36 194.3,-405.05\" fill=\"none\" stroke=\"#4a4a4a\"/>\n",
       "<path d=\"M215.1,-431.85C209.38,-423.51 202.33,-413.23 195.95,-403.92\" fill=\"none\" stroke=\"#4a4a4a\"/>\n",
       "<polygon fill=\"#4a4a4a\" points=\"197.82,-402.22 189.27,-395.96 192.04,-406.18 197.82,-402.22\" stroke=\"#4a4a4a\"/>\n",
       "</g>\n",
       "<!-- Mood -->\n",
       "<g class=\"node\" id=\"node5\">\n",
       "<title>Mood</title>\n",
       "<ellipse cx=\"338.65\" cy=\"-234\" fill=\"#404040\" rx=\"31.47\" ry=\"18\" stroke=\"#4a4a4a\"/>\n",
       "<text fill=\"white\" font-family=\"Times,serif\" font-size=\"14.00\" text-anchor=\"middle\" x=\"338.65\" y=\"-229.8\">Mood</text>\n",
       "</g>\n",
       "<!-- Weather&#45;&gt;Mood -->\n",
       "<g class=\"edge\" id=\"edge14\">\n",
       "<title>Weather-&gt;Mood</title>\n",
       "<path d=\"M234,-431.85C239.74,-421.44 247.24,-407.73 253.76,-395.53 279.21,-347.91 308.21,-291.95 324.61,-260.12\" fill=\"none\" stroke=\"#4a4a4a\"/>\n",
       "<path d=\"M235.75,-432.82C241.49,-422.4 249,-408.69 255.53,-396.47 280.99,-348.83 309.98,-292.87 326.39,-261.04\" fill=\"none\" stroke=\"#4a4a4a\"/>\n",
       "<polygon fill=\"#4a4a4a\" points=\"328.7,-262.01 330.17,-251.51 322.48,-258.8 328.7,-262.01\" stroke=\"#4a4a4a\"/>\n",
       "</g>\n",
       "<!-- RoadWorks -->\n",
       "<g class=\"node\" id=\"node3\">\n",
       "<title>RoadWorks</title>\n",
       "<ellipse cx=\"51.65\" cy=\"-306\" fill=\"#404040\" rx=\"51.79\" ry=\"18\" stroke=\"#4a4a4a\"/>\n",
       "<text fill=\"white\" font-family=\"Times,serif\" font-size=\"14.00\" text-anchor=\"middle\" x=\"51.65\" y=\"-301.8\">RoadWorks</text>\n",
       "</g>\n",
       "<!-- RoadConditions&#45;&gt;RoadWorks -->\n",
       "<g class=\"edge\" id=\"edge2\">\n",
       "<title>RoadConditions-&gt;RoadWorks</title>\n",
       "<path d=\"M149.2,-362.34C130.59,-352 106,-338.34 86.1,-327.28\" fill=\"none\" stroke=\"#4a4a4a\"/>\n",
       "<path d=\"M150.17,-360.59C131.56,-350.25 106.97,-336.59 87.07,-325.54\" fill=\"none\" stroke=\"#4a4a4a\"/>\n",
       "<polygon fill=\"#4a4a4a\" points=\"88.25,-323.33 77.81,-321.54 84.85,-329.45 88.25,-323.33\" stroke=\"#4a4a4a\"/>\n",
       "</g>\n",
       "<!-- Speed -->\n",
       "<g class=\"node\" id=\"node4\">\n",
       "<title>Speed</title>\n",
       "<ellipse cx=\"161.65\" cy=\"-234\" fill=\"#404040\" rx=\"31.94\" ry=\"18\" stroke=\"#4a4a4a\"/>\n",
       "<text fill=\"white\" font-family=\"Times,serif\" font-size=\"14.00\" text-anchor=\"middle\" x=\"161.65\" y=\"-229.8\">Speed</text>\n",
       "</g>\n",
       "<!-- RoadConditions&#45;&gt;Speed -->\n",
       "<g class=\"edge\" id=\"edge3\">\n",
       "<title>RoadConditions-&gt;Speed</title>\n",
       "<path d=\"M165.6,-360.65C159.59,-350.56 152.84,-337.31 149.67,-324.23 144.71,-303.23 148.14,-279.35 152.46,-261.43\" fill=\"none\" stroke=\"#4a4a4a\"/>\n",
       "<path d=\"M167.32,-359.63C161.37,-349.65 154.62,-336.4 151.62,-323.77 146.69,-303.51 150.12,-279.63 154.4,-261.89\" fill=\"none\" stroke=\"#4a4a4a\"/>\n",
       "<polygon fill=\"#4a4a4a\" points=\"156.83,-262.5 156,-251.93 150.06,-260.71 156.83,-262.5\" stroke=\"#4a4a4a\"/>\n",
       "</g>\n",
       "<!-- Danger -->\n",
       "<g class=\"node\" id=\"node9\">\n",
       "<title>Danger</title>\n",
       "<ellipse cx=\"225.65\" cy=\"-162\" fill=\"#404040\" rx=\"36.26\" ry=\"18\" stroke=\"#4a4a4a\"/>\n",
       "<text fill=\"white\" font-family=\"Times,serif\" font-size=\"14.00\" text-anchor=\"middle\" x=\"225.65\" y=\"-157.8\">Danger</text>\n",
       "</g>\n",
       "<!-- RoadConditions&#45;&gt;Danger -->\n",
       "<g class=\"edge\" id=\"edge10\">\n",
       "<title>RoadConditions-&gt;Danger</title>\n",
       "<path d=\"M215.1,-361.93C231.99,-353.51 250.39,-340.87 259.77,-323.52 283.62,-280.78 258.92,-222.16 240.66,-189.11\" fill=\"none\" stroke=\"#4a4a4a\"/>\n",
       "<path d=\"M216,-363.72C233.13,-355.16 251.52,-342.52 261.52,-324.48 285.46,-280 260.77,-221.38 242.41,-188.15\" fill=\"none\" stroke=\"#4a4a4a\"/>\n",
       "<polygon fill=\"#4a4a4a\" points=\"244.36,-186.53 236.35,-179.6 238.29,-190.02 244.36,-186.53\" stroke=\"#4a4a4a\"/>\n",
       "</g>\n",
       "<!-- RoadWorks&#45;&gt;Speed -->\n",
       "<g class=\"edge\" id=\"edge12\">\n",
       "<title>RoadWorks-&gt;Speed</title>\n",
       "<path d=\"M74.71,-289.14C91.48,-278.47 114.11,-264.06 132.01,-252.68\" fill=\"none\" stroke=\"#4a4a4a\"/>\n",
       "<path d=\"M75.78,-290.83C92.55,-280.15 115.19,-265.75 133.08,-254.36\" fill=\"none\" stroke=\"#4a4a4a\"/>\n",
       "<polygon fill=\"#4a4a4a\" points=\"134.85,-256.2 141.41,-247.88 131.1,-250.29 134.85,-256.2\" stroke=\"#4a4a4a\"/>\n",
       "</g>\n",
       "<!-- Delay -->\n",
       "<g class=\"node\" id=\"node7\">\n",
       "<title>Delay</title>\n",
       "<ellipse cx=\"278.65\" cy=\"-18\" fill=\"#404040\" rx=\"31.45\" ry=\"18\" stroke=\"#4a4a4a\"/>\n",
       "<text fill=\"white\" font-family=\"Times,serif\" font-size=\"14.00\" text-anchor=\"middle\" x=\"278.65\" y=\"-13.8\">Delay</text>\n",
       "</g>\n",
       "<!-- Speed&#45;&gt;Delay -->\n",
       "<g class=\"edge\" id=\"edge13\">\n",
       "<title>Speed-&gt;Delay</title>\n",
       "<path d=\"M162.44,-215.59C164.77,-197.19 169.77,-167.61 179.72,-143.62 196.94,-102.39 231.24,-63.56 254.44,-40.3\" fill=\"none\" stroke=\"#4a4a4a\"/>\n",
       "<path d=\"M164.42,-215.84C166.74,-197.52 171.74,-167.94 181.57,-144.38 198.43,-103.72 232.74,-64.89 255.85,-41.72\" fill=\"none\" stroke=\"#4a4a4a\"/>\n",
       "<polygon fill=\"#4a4a4a\" points=\"257.85,-43.26 262.53,-33.75 252.94,-38.27 257.85,-43.26\" stroke=\"#4a4a4a\"/>\n",
       "</g>\n",
       "<!-- Speed&#45;&gt;Danger -->\n",
       "<g class=\"edge\" id=\"edge9\">\n",
       "<title>Speed-&gt;Danger</title>\n",
       "<path d=\"M174.8,-217.14C183.23,-207.91 194.18,-195.94 203.68,-185.54\" fill=\"none\" stroke=\"#4a4a4a\"/>\n",
       "<path d=\"M176.27,-218.49C184.71,-209.26 195.65,-197.29 205.16,-186.89\" fill=\"none\" stroke=\"#4a4a4a\"/>\n",
       "<polygon fill=\"#4a4a4a\" points=\"207.18,-188.39 211.34,-178.64 202.01,-183.66 207.18,-188.39\" stroke=\"#4a4a4a\"/>\n",
       "</g>\n",
       "<!-- Accident -->\n",
       "<g class=\"node\" id=\"node6\">\n",
       "<title>Accident</title>\n",
       "<ellipse cx=\"278.65\" cy=\"-90\" fill=\"#404040\" rx=\"42.05\" ry=\"18\" stroke=\"#4a4a4a\"/>\n",
       "<text fill=\"white\" font-family=\"Times,serif\" font-size=\"14.00\" text-anchor=\"middle\" x=\"278.65\" y=\"-85.8\">Accident</text>\n",
       "</g>\n",
       "<!-- Mood&#45;&gt;Accident -->\n",
       "<g class=\"edge\" id=\"edge4\">\n",
       "<title>Mood-&gt;Accident</title>\n",
       "<path d=\"M327.5,-217.23C321.27,-206.93 313.47,-193.24 307.73,-180.41 298.64,-160.03 290.72,-136.12 285.29,-118.17\" fill=\"none\" stroke=\"#4a4a4a\"/>\n",
       "<path d=\"M329.21,-216.19C323.01,-205.94 315.21,-192.25 309.56,-179.59 300.53,-159.4 292.62,-135.5 287.21,-117.6\" fill=\"none\" stroke=\"#4a4a4a\"/>\n",
       "<polygon fill=\"#4a4a4a\" points=\"289.55,-116.69 283.36,-108.1 282.83,-118.68 289.55,-116.69\" stroke=\"#4a4a4a\"/>\n",
       "</g>\n",
       "<!-- Accident&#45;&gt;Delay -->\n",
       "<g class=\"edge\" id=\"edge5\">\n",
       "<title>Accident-&gt;Delay</title>\n",
       "<path d=\"M277.65,-71.7C277.65,-63.98 277.65,-54.71 277.65,-46.11\" fill=\"none\" stroke=\"#4a4a4a\"/>\n",
       "<path d=\"M279.65,-71.7C279.65,-63.98 279.65,-54.71 279.65,-46.11\" fill=\"none\" stroke=\"#4a4a4a\"/>\n",
       "<polygon fill=\"#4a4a4a\" points=\"282.15,-46.1 278.65,-36.1 275.15,-46.1 282.15,-46.1\" stroke=\"#4a4a4a\"/>\n",
       "</g>\n",
       "<!-- Strike -->\n",
       "<g class=\"node\" id=\"node8\">\n",
       "<title>Strike</title>\n",
       "<ellipse cx=\"348.65\" cy=\"-162\" fill=\"#404040\" rx=\"31.46\" ry=\"18\" stroke=\"#4a4a4a\"/>\n",
       "<text fill=\"white\" font-family=\"Times,serif\" font-size=\"14.00\" text-anchor=\"middle\" x=\"348.65\" y=\"-157.8\">Strike</text>\n",
       "</g>\n",
       "<!-- Strike&#45;&gt;Accident -->\n",
       "<g class=\"edge\" id=\"edge11\">\n",
       "<title>Strike-&gt;Accident</title>\n",
       "<path d=\"M333.09,-146.86C323.79,-137.56 311.61,-125.38 301.06,-114.83\" fill=\"none\" stroke=\"#4a4a4a\"/>\n",
       "<path d=\"M334.51,-145.45C325.21,-136.15 313.03,-123.97 302.48,-113.42\" fill=\"none\" stroke=\"#4a4a4a\"/>\n",
       "<polygon fill=\"#4a4a4a\" points=\"303.99,-111.39 294.44,-106.8 299.04,-116.34 303.99,-111.39\" stroke=\"#4a4a4a\"/>\n",
       "</g>\n",
       "<!-- Strike&#45;&gt;Delay -->\n",
       "<g class=\"edge\" id=\"edge8\">\n",
       "<title>Strike-&gt;Delay</title>\n",
       "<path d=\"M346.79,-144.07C345.24,-125.48 340.89,-95.17 328.76,-72.47 322.53,-60.68 312.67,-49.51 303.36,-40.61\" fill=\"none\" stroke=\"#4a4a4a\"/>\n",
       "<path d=\"M348.78,-143.9C347.22,-125.2 342.87,-94.88 330.53,-71.53 324.03,-59.36 314.17,-48.19 304.74,-39.17\" fill=\"none\" stroke=\"#4a4a4a\"/>\n",
       "<polygon fill=\"#4a4a4a\" points=\"306.14,-37.06 296.39,-32.91 301.42,-42.23 306.14,-37.06\" stroke=\"#4a4a4a\"/>\n",
       "</g>\n",
       "<!-- Danger&#45;&gt;Accident -->\n",
       "<g class=\"edge\" id=\"edge15\">\n",
       "<title>Danger-&gt;Accident</title>\n",
       "<path d=\"M237.14,-144.16C243.67,-135.54 251.83,-124.76 259.13,-115.12\" fill=\"none\" stroke=\"#4a4a4a\"/>\n",
       "<path d=\"M238.74,-145.37C245.26,-136.75 253.43,-125.97 260.72,-116.33\" fill=\"none\" stroke=\"#4a4a4a\"/>\n",
       "<polygon fill=\"#4a4a4a\" points=\"262.81,-117.72 266.05,-107.63 257.23,-113.49 262.81,-117.72\" stroke=\"#4a4a4a\"/>\n",
       "</g>\n",
       "<!-- RushHour -->\n",
       "<g class=\"node\" id=\"node10\">\n",
       "<title>RushHour</title>\n",
       "<ellipse cx=\"205.65\" cy=\"-306\" fill=\"#404040\" rx=\"46.43\" ry=\"18\" stroke=\"#4a4a4a\"/>\n",
       "<text fill=\"white\" font-family=\"Times,serif\" font-size=\"14.00\" text-anchor=\"middle\" x=\"205.65\" y=\"-301.8\">RushHour</text>\n",
       "</g>\n",
       "<!-- RushHour&#45;&gt;Speed -->\n",
       "<g class=\"edge\" id=\"edge7\">\n",
       "<title>RushHour-&gt;Speed</title>\n",
       "<path d=\"M194.37,-288.94C189.06,-280.49 182.48,-270.03 176.56,-260.61\" fill=\"none\" stroke=\"#4a4a4a\"/>\n",
       "<path d=\"M196.07,-287.88C190.75,-279.42 184.18,-268.96 178.26,-259.55\" fill=\"none\" stroke=\"#4a4a4a\"/>\n",
       "<polygon fill=\"#4a4a4a\" points=\"180.28,-258.07 172,-251.47 174.36,-261.8 180.28,-258.07\" stroke=\"#4a4a4a\"/>\n",
       "</g>\n",
       "<!-- RushHour&#45;&gt;Danger -->\n",
       "<g class=\"edge\" id=\"edge6\">\n",
       "<title>RushHour-&gt;Danger</title>\n",
       "<path d=\"M207.07,-287.73C210.48,-263.53 216.74,-219.07 220.8,-190.25\" fill=\"none\" stroke=\"#4a4a4a\"/>\n",
       "<path d=\"M209.05,-288.01C212.46,-263.81 218.72,-219.35 222.78,-190.53\" fill=\"none\" stroke=\"#4a4a4a\"/>\n",
       "<polygon fill=\"#4a4a4a\" points=\"225.3,-190.58 223.23,-180.19 218.37,-189.6 225.3,-190.58\" stroke=\"#4a4a4a\"/>\n",
       "</g>\n",
       "</g>\n",
       "</svg></div></td><td style=\"border-top:hidden;border-bottom:hidden;\"><div align=\"center\" style=\"\">$$\\begin{equation}P( Speed \\mid \\hookrightarrow\\mkern-6.5muRoadConditions,\\hookrightarrow\\mkern-6.5muRoadWorks) = \\sum_{RushHour}{P\\left(Speed\\mid RoadConditions,RoadWorks,RushHour\\right) \\cdot P\\left(RushHour\\right)}\\end{equation}$$</div></td><td style=\"border-top:hidden;border-bottom:hidden;\"><div align=\"center\" style=\"\"><table style=\"border:1px solid black;\">\n",
       "<tr><th colspan='1'></th><th colspan='2' style='border:1px solid black;color:black;background-color:#808080;'><center>Speed</center></th></tr>\n",
       "<tr><th style='border:1px solid black;color:black;background-color:#808080'><center>RoadConditions</center></th><th style='border:1px solid black;border-bottom-style: double;color:black;background-color:#BBBBBB'><center>Slow</center></th><th style='border:1px solid black;border-bottom-style: double;color:black;background-color:#BBBBBB'><center>Fast</center></th></tr>\n",
       "<tr><th style='border:1px solid black;color:black;background-color:#BBBBBB'><center>Dry</center></th><td style='color:black;background-color:#dba264;text-align:right;'>0.2800</td><td style='color:black;background-color:#a2db64;text-align:right;'>0.7200</td></tr>\n",
       "<tr><th style='border:1px solid black;color:black;background-color:#BBBBBB'><center>Wet</center></th><td style='color:black;background-color:#add064;text-align:right;'>0.6400</td><td style='color:black;background-color:#d0ad64;text-align:right;'>0.3600</td></tr>\n",
       "</table></div></td></tr><tr><td style=\"border-top:hidden;border-bottom:hidden;\"><div align=\"center\"><small>Causal Model</small></div></td><td style=\"border-top:hidden;border-bottom:hidden;\"><div align=\"center\"><small>Explanation : Do-calculus computations</small></div></td><td style=\"border-top:hidden;border-bottom:hidden;\"><div align=\"center\"><small>Impact : $P( Speed \\mid \\hookrightarrow\\mkern-6.5muRoadConditions,\\hookrightarrow\\mkern-6.5muRoadWorks=False)$</small></div></td></tr></table>"
      ],
      "text/plain": [
       "<IPython.core.display.HTML object>"
      ]
     },
     "metadata": {},
     "output_type": "display_data"
    }
   ],
   "source": [
    "cslnb.showCausalImpact(cs0,on={\"Speed\"}, doing={\"RoadWorks\",\"RoadConditions\"}, values={\"RoadWorks\":'False'})"
   ]
  },
  {
   "cell_type": "code",
   "execution_count": 34,
   "metadata": {},
   "outputs": [
    {
     "name": "stdout",
     "output_type": "stream",
     "text": [
      "CDE = 0.7200000000000001 - 0.3600000000000001 = 0.36\n"
     ]
    }
   ],
   "source": [
    "# Danger: High\n",
    "ci_R_T=csl.causalImpact(cs0,on={\"Speed\"}, doing={\"RoadWorks\",\"RoadConditions\"}, values={\"RoadWorks\":'False', \"RoadConditions\":'Dry'})[1][1]\n",
    "ci_R_F=csl.causalImpact(cs0,on={\"Speed\"}, doing={\"RoadWorks\",\"RoadConditions\"}, values={\"RoadWorks\":'False', \"RoadConditions\":'Wet'})[1][1]\n",
    "\n",
    "CDE= ci_R_T-ci_R_F\n",
    "print('CDE =', str(ci_R_T), '-', str(ci_R_F), '=', str(CDE))"
   ]
  },
  {
   "cell_type": "code",
   "execution_count": 35,
   "metadata": {
    "pycharm": {
     "is_executing": false,
     "name": "#%%\n"
    }
   },
   "outputs": [
    {
     "name": "stdout",
     "output_type": "stream",
     "text": [
      "CDE = 0.23 - 0.09000000000000002 = 0.13999999999999999\n"
     ]
    }
   ],
   "source": [
    "# Danger: High\n",
    "ci_R_T=csl.causalImpact(cs0,on={\"Speed\"}, doing={\"RoadWorks\",\"RoadConditions\"}, values={\"RoadWorks\":'True', \"RoadConditions\":'Dry'})[1][1]\n",
    "ci_R_F=csl.causalImpact(cs0,on={\"Speed\"}, doing={\"RoadWorks\",\"RoadConditions\"}, values={\"RoadWorks\":'True', \"RoadConditions\":'Wet'})[1][1]\n",
    "\n",
    "CDE= ci_R_T-ci_R_F\n",
    "print('CDE =', str(ci_R_T), '-', str(ci_R_F), '=', str(CDE))"
   ]
  },
  {
   "cell_type": "code",
   "execution_count": 36,
   "metadata": {
    "pycharm": {
     "is_executing": false,
     "name": "#%%\n"
    }
   },
   "outputs": [
    {
     "name": "stdout",
     "output_type": "stream",
     "text": [
      "CDE = 0.28 - 0.64 = -0.36\n"
     ]
    }
   ],
   "source": [
    "# Danger: Low\n",
    "ci_R_T=csl.causalImpact(cs0,on={\"Speed\"}, doing={\"RoadWorks\",\"RoadConditions\"}, values={\"RoadWorks\":'False', \"RoadConditions\":'Dry'})[1][0]\n",
    "ci_R_F=csl.causalImpact(cs0,on={\"Speed\"}, doing={\"RoadWorks\",\"RoadConditions\"}, values={\"RoadWorks\":'False', \"RoadConditions\":'Wet'})[1][0]\n",
    "\n",
    "CDE= ci_R_T-ci_R_F\n",
    "print('CDE =', str(ci_R_T), '-', str(ci_R_F), '=', str(CDE))"
   ]
  },
  {
   "cell_type": "code",
   "execution_count": 37,
   "metadata": {
    "pycharm": {
     "is_executing": false,
     "name": "#%%\n"
    }
   },
   "outputs": [
    {
     "name": "stdout",
     "output_type": "stream",
     "text": [
      "CDE = 0.7700000000000001 - 0.9100000000000001 = -0.14\n"
     ]
    }
   ],
   "source": [
    "# Danger: Loe\n",
    "ci_R_T=csl.causalImpact(cs0,on={\"Speed\"}, doing={\"RoadWorks\",\"RoadConditions\"}, values={\"RoadWorks\":'True', \"RoadConditions\":'Dry'})[1][0]\n",
    "ci_R_F=csl.causalImpact(cs0,on={\"Speed\"}, doing={\"RoadWorks\",\"RoadConditions\"}, values={\"RoadWorks\":'True', \"RoadConditions\":'Wet'})[1][0]\n",
    "\n",
    "CDE= ci_R_T-ci_R_F\n",
    "print('CDE =', str(ci_R_T), '-', str(ci_R_F), '=', str(CDE))"
   ]
  },
  {
   "cell_type": "markdown",
   "metadata": {
    "pycharm": {
     "name": "#%% md\n"
    }
   },
   "source": [
    "# Simulation\n",
    "\n",
    "## Calculate the causal effect of X on Y"
   ]
  },
  {
   "cell_type": "code",
   "execution_count": 23,
   "metadata": {
    "pycharm": {
     "is_executing": false,
     "name": "#%%\n"
    }
   },
   "outputs": [
    {
     "data": {
      "text/html": [
       "<table style=\"border-style: hidden; border-collapse: collapse;\" width=\"100%\"><tr><td style=\"border-top:hidden;border-bottom:hidden;\"><div align=\"center\" style=\"\"><svg height=\"476pt\" viewBox=\"0.00 0.00 323.88 476.00\" width=\"324pt\" xmlns=\"http://www.w3.org/2000/svg\" xmlns:xlink=\"http://www.w3.org/1999/xlink\">\n",
       "<g class=\"graph\" id=\"graph0\" transform=\"scale(1 1) rotate(0) translate(4 472)\">\n",
       "<title>G</title>\n",
       "<!-- RushHour -->\n",
       "<g class=\"node\" id=\"node1\">\n",
       "<title>RushHour</title>\n",
       "<ellipse cx=\"161.65\" cy=\"-306\" fill=\"#404040\" rx=\"1.8\" ry=\"1.8\" stroke=\"#4a4a4a\"/>\n",
       "</g>\n",
       "<!-- Speed -->\n",
       "<g class=\"node\" id=\"node5\">\n",
       "<title>Speed</title>\n",
       "<ellipse cx=\"97.65\" cy=\"-234\" fill=\"#404040\" rx=\"31.94\" ry=\"18\" stroke=\"#4a4a4a\"/>\n",
       "<text fill=\"white\" font-family=\"Times,serif\" font-size=\"14.00\" text-anchor=\"middle\" x=\"97.65\" y=\"-229.8\">Speed</text>\n",
       "</g>\n",
       "<!-- RushHour&#45;&gt;Speed -->\n",
       "<g class=\"edge\" id=\"edge7\">\n",
       "<title>RushHour-&gt;Speed</title>\n",
       "<path d=\"M160.93,-304.21C156.77,-299.67 135.4,-276.3 118.63,-257.95\" fill=\"none\" stroke=\"#4a4a4a\" stroke-dasharray=\"5,2\"/>\n",
       "<polygon fill=\"#4a4a4a\" points=\"121.12,-255.49 111.79,-250.47 115.96,-260.21 121.12,-255.49\" stroke=\"#4a4a4a\"/>\n",
       "</g>\n",
       "<!-- Danger -->\n",
       "<g class=\"node\" id=\"node10\">\n",
       "<title>Danger</title>\n",
       "<ellipse cx=\"161.65\" cy=\"-162\" fill=\"#404040\" rx=\"36.26\" ry=\"18\" stroke=\"#4a4a4a\"/>\n",
       "<text fill=\"white\" font-family=\"Times,serif\" font-size=\"14.00\" text-anchor=\"middle\" x=\"161.65\" y=\"-157.8\">Danger</text>\n",
       "</g>\n",
       "<!-- RushHour&#45;&gt;Danger -->\n",
       "<g class=\"edge\" id=\"edge6\">\n",
       "<title>RushHour-&gt;Danger</title>\n",
       "<path d=\"M161.65,-304.09C161.65,-295.54 161.65,-228.56 161.65,-190.04\" fill=\"none\" stroke=\"#4a4a4a\" stroke-dasharray=\"5,2\"/>\n",
       "<polygon fill=\"#4a4a4a\" points=\"165.15,-190.01 161.65,-180.01 158.15,-190.01 165.15,-190.01\" stroke=\"#4a4a4a\"/>\n",
       "</g>\n",
       "<!-- Weather -->\n",
       "<g class=\"node\" id=\"node2\">\n",
       "<title>Weather</title>\n",
       "<ellipse cx=\"194.65\" cy=\"-450\" fill=\"#404040\" rx=\"39.2\" ry=\"18\" stroke=\"#4a4a4a\"/>\n",
       "<text fill=\"white\" font-family=\"Times,serif\" font-size=\"14.00\" text-anchor=\"middle\" x=\"194.65\" y=\"-445.8\">Weather</text>\n",
       "</g>\n",
       "<!-- RoadConditions -->\n",
       "<g class=\"node\" id=\"node3\">\n",
       "<title>RoadConditions</title>\n",
       "<ellipse cx=\"146.65\" cy=\"-378\" fill=\"#404040\" rx=\"67.69\" ry=\"18\" stroke=\"#4a4a4a\"/>\n",
       "<text fill=\"white\" font-family=\"Times,serif\" font-size=\"14.00\" text-anchor=\"middle\" x=\"146.65\" y=\"-373.8\">RoadConditions</text>\n",
       "</g>\n",
       "<!-- Weather&#45;&gt;RoadConditions -->\n",
       "<g class=\"edge\" id=\"edge1\">\n",
       "<title>Weather-&gt;RoadConditions</title>\n",
       "<path d=\"M182.45,-432.98C176.73,-424.64 169.68,-414.36 163.3,-405.05\" fill=\"none\" stroke=\"#4a4a4a\"/>\n",
       "<path d=\"M184.1,-431.85C178.38,-423.51 171.33,-413.23 164.95,-403.92\" fill=\"none\" stroke=\"#4a4a4a\"/>\n",
       "<polygon fill=\"#4a4a4a\" points=\"166.82,-402.22 158.27,-395.96 161.04,-406.18 166.82,-402.22\" stroke=\"#4a4a4a\"/>\n",
       "</g>\n",
       "<!-- Mood -->\n",
       "<g class=\"node\" id=\"node6\">\n",
       "<title>Mood</title>\n",
       "<ellipse cx=\"254.65\" cy=\"-234\" fill=\"#404040\" rx=\"31.47\" ry=\"18\" stroke=\"#4a4a4a\"/>\n",
       "<text fill=\"white\" font-family=\"Times,serif\" font-size=\"14.00\" text-anchor=\"middle\" x=\"254.65\" y=\"-229.8\">Mood</text>\n",
       "</g>\n",
       "<!-- Weather&#45;&gt;Mood -->\n",
       "<g class=\"edge\" id=\"edge14\">\n",
       "<title>Weather-&gt;Mood</title>\n",
       "<path d=\"M204.6,-431.93C210.75,-421.81 218.15,-408.35 222.71,-395.66 238.94,-350.61 247.23,-294.98 250.98,-262.4\" fill=\"none\" stroke=\"#4a4a4a\"/>\n",
       "<path d=\"M206.31,-432.96C212.5,-422.78 219.91,-409.31 224.59,-396.34 240.92,-350.91 249.21,-295.28 252.97,-262.63\" fill=\"none\" stroke=\"#4a4a4a\"/>\n",
       "<polygon fill=\"#4a4a4a\" points=\"255.48,-262.71 253.08,-252.39 248.52,-261.95 255.48,-262.71\" stroke=\"#4a4a4a\"/>\n",
       "</g>\n",
       "<!-- RoadWorks -->\n",
       "<g class=\"node\" id=\"node4\">\n",
       "<title>RoadWorks</title>\n",
       "<ellipse cx=\"51.65\" cy=\"-306\" fill=\"#404040\" rx=\"51.79\" ry=\"18\" stroke=\"#4a4a4a\"/>\n",
       "<text fill=\"white\" font-family=\"Times,serif\" font-size=\"14.00\" text-anchor=\"middle\" x=\"51.65\" y=\"-301.8\">RoadWorks</text>\n",
       "</g>\n",
       "<!-- RoadConditions&#45;&gt;RoadWorks -->\n",
       "<g class=\"edge\" id=\"edge2\">\n",
       "<title>RoadConditions-&gt;RoadWorks</title>\n",
       "<path d=\"M124.02,-361.57C111.13,-352.07 94.68,-339.95 80.67,-329.63\" fill=\"none\" stroke=\"#4a4a4a\"/>\n",
       "<path d=\"M125.21,-359.96C112.32,-350.46 95.87,-338.34 81.86,-328.02\" fill=\"none\" stroke=\"#4a4a4a\"/>\n",
       "<polygon fill=\"#4a4a4a\" points=\"83.03,-325.78 72.91,-322.67 78.88,-331.42 83.03,-325.78\" stroke=\"#4a4a4a\"/>\n",
       "</g>\n",
       "<!-- RoadConditions&#45;&gt;Speed -->\n",
       "<g class=\"edge\" id=\"edge3\">\n",
       "<title>RoadConditions-&gt;Speed</title>\n",
       "<path d=\"M139.79,-360.2C131.36,-335.76 115.8,-290.66 105.86,-261.87\" fill=\"none\" stroke=\"#4a4a4a\"/>\n",
       "<path d=\"M141.68,-359.55C133.25,-335.11 117.69,-290.01 107.75,-261.22\" fill=\"none\" stroke=\"#4a4a4a\"/>\n",
       "<polygon fill=\"#4a4a4a\" points=\"110,-260.06 103.43,-251.75 103.38,-262.34 110,-260.06\" stroke=\"#4a4a4a\"/>\n",
       "</g>\n",
       "<!-- RoadConditions&#45;&gt;Danger -->\n",
       "<g class=\"edge\" id=\"edge10\">\n",
       "<title>RoadConditions-&gt;Danger</title>\n",
       "<path d=\"M156.35,-359.54C162.02,-349.52 168.52,-336.27 171.68,-323.75 183.49,-277.65 180.85,-263.81 174.66,-216.13 173.54,-207.5 171.4,-198.17 169.14,-189.84\" fill=\"none\" stroke=\"#4a4a4a\"/>\n",
       "<path d=\"M158.09,-360.53C163.81,-350.4 170.31,-337.15 173.62,-324.25 185.46,-277.27 182.81,-263.43 176.64,-215.87 175.49,-207.05 173.35,-197.72 171.07,-189.32\" fill=\"none\" stroke=\"#4a4a4a\"/>\n",
       "<polygon fill=\"#4a4a4a\" points=\"173.46,-188.6 167.33,-179.96 166.74,-190.54 173.46,-188.6\" stroke=\"#4a4a4a\"/>\n",
       "</g>\n",
       "<!-- RoadWorks&#45;&gt;Speed -->\n",
       "<g class=\"edge\" id=\"edge12\">\n",
       "<title>RoadWorks-&gt;Speed</title>\n",
       "<path d=\"M61.95,-287.51C67.51,-279.04 74.34,-268.64 80.48,-259.3\" fill=\"none\" stroke=\"#4a4a4a\"/>\n",
       "<path d=\"M63.62,-288.6C69.18,-280.14 76.02,-269.74 82.16,-260.39\" fill=\"none\" stroke=\"#4a4a4a\"/>\n",
       "<polygon fill=\"#4a4a4a\" points=\"84.36,-261.59 86.93,-251.31 78.51,-257.74 84.36,-261.59\" stroke=\"#4a4a4a\"/>\n",
       "</g>\n",
       "<!-- Delay -->\n",
       "<g class=\"node\" id=\"node8\">\n",
       "<title>Delay</title>\n",
       "<ellipse cx=\"214.65\" cy=\"-18\" fill=\"#404040\" rx=\"31.45\" ry=\"18\" stroke=\"#4a4a4a\"/>\n",
       "<text fill=\"white\" font-family=\"Times,serif\" font-size=\"14.00\" text-anchor=\"middle\" x=\"214.65\" y=\"-13.8\">Delay</text>\n",
       "</g>\n",
       "<!-- Speed&#45;&gt;Delay -->\n",
       "<g class=\"edge\" id=\"edge13\">\n",
       "<title>Speed-&gt;Delay</title>\n",
       "<path d=\"M98.44,-215.59C100.77,-197.19 105.77,-167.61 115.72,-143.62 132.94,-102.39 167.24,-63.56 190.44,-40.3\" fill=\"none\" stroke=\"#4a4a4a\"/>\n",
       "<path d=\"M100.42,-215.84C102.74,-197.52 107.74,-167.94 117.57,-144.38 134.43,-103.72 168.74,-64.89 191.85,-41.72\" fill=\"none\" stroke=\"#4a4a4a\"/>\n",
       "<polygon fill=\"#4a4a4a\" points=\"193.85,-43.26 198.53,-33.75 188.94,-38.27 193.85,-43.26\" stroke=\"#4a4a4a\"/>\n",
       "</g>\n",
       "<!-- Speed&#45;&gt;Danger -->\n",
       "<g class=\"edge\" id=\"edge9\">\n",
       "<title>Speed-&gt;Danger</title>\n",
       "<path d=\"M110.8,-217.14C119.23,-207.91 130.18,-195.94 139.68,-185.54\" fill=\"none\" stroke=\"#4a4a4a\"/>\n",
       "<path d=\"M112.27,-218.49C120.71,-209.26 131.65,-197.29 141.16,-186.89\" fill=\"none\" stroke=\"#4a4a4a\"/>\n",
       "<polygon fill=\"#4a4a4a\" points=\"143.18,-188.39 147.34,-178.64 138.01,-183.66 143.18,-188.39\" stroke=\"#4a4a4a\"/>\n",
       "</g>\n",
       "<!-- Accident -->\n",
       "<g class=\"node\" id=\"node7\">\n",
       "<title>Accident</title>\n",
       "<ellipse cx=\"214.65\" cy=\"-90\" fill=\"#404040\" rx=\"42.05\" ry=\"18\" stroke=\"#4a4a4a\"/>\n",
       "<text fill=\"white\" font-family=\"Times,serif\" font-size=\"14.00\" text-anchor=\"middle\" x=\"214.65\" y=\"-85.8\">Accident</text>\n",
       "</g>\n",
       "<!-- Mood&#45;&gt;Accident -->\n",
       "<g class=\"edge\" id=\"edge4\">\n",
       "<title>Mood-&gt;Accident</title>\n",
       "<path d=\"M248.94,-216.42C242.12,-192.22 229.47,-147.33 221.33,-118.4\" fill=\"none\" stroke=\"#4a4a4a\"/>\n",
       "<path d=\"M250.86,-215.88C244.04,-191.67 231.4,-146.78 223.25,-117.86\" fill=\"none\" stroke=\"#4a4a4a\"/>\n",
       "<polygon fill=\"#4a4a4a\" points=\"225.59,-116.94 219.51,-108.27 218.85,-118.84 225.59,-116.94\" stroke=\"#4a4a4a\"/>\n",
       "</g>\n",
       "<!-- Accident&#45;&gt;Delay -->\n",
       "<g class=\"edge\" id=\"edge5\">\n",
       "<title>Accident-&gt;Delay</title>\n",
       "<path d=\"M213.65,-71.7C213.65,-63.98 213.65,-54.71 213.65,-46.11\" fill=\"none\" stroke=\"#4a4a4a\"/>\n",
       "<path d=\"M215.65,-71.7C215.65,-63.98 215.65,-54.71 215.65,-46.11\" fill=\"none\" stroke=\"#4a4a4a\"/>\n",
       "<polygon fill=\"#4a4a4a\" points=\"218.15,-46.1 214.65,-36.1 211.15,-46.1 218.15,-46.1\" stroke=\"#4a4a4a\"/>\n",
       "</g>\n",
       "<!-- Strike -->\n",
       "<g class=\"node\" id=\"node9\">\n",
       "<title>Strike</title>\n",
       "<ellipse cx=\"284.65\" cy=\"-162\" fill=\"#404040\" rx=\"31.46\" ry=\"18\" stroke=\"#4a4a4a\"/>\n",
       "<text fill=\"white\" font-family=\"Times,serif\" font-size=\"14.00\" text-anchor=\"middle\" x=\"284.65\" y=\"-157.8\">Strike</text>\n",
       "</g>\n",
       "<!-- Strike&#45;&gt;Accident -->\n",
       "<g class=\"edge\" id=\"edge11\">\n",
       "<title>Strike-&gt;Accident</title>\n",
       "<path d=\"M269.09,-146.86C259.79,-137.56 247.61,-125.38 237.06,-114.83\" fill=\"none\" stroke=\"#4a4a4a\"/>\n",
       "<path d=\"M270.51,-145.45C261.21,-136.15 249.03,-123.97 238.48,-113.42\" fill=\"none\" stroke=\"#4a4a4a\"/>\n",
       "<polygon fill=\"#4a4a4a\" points=\"239.99,-111.39 230.44,-106.8 235.04,-116.34 239.99,-111.39\" stroke=\"#4a4a4a\"/>\n",
       "</g>\n",
       "<!-- Strike&#45;&gt;Delay -->\n",
       "<g class=\"edge\" id=\"edge8\">\n",
       "<title>Strike-&gt;Delay</title>\n",
       "<path d=\"M282.79,-144.07C281.24,-125.48 276.89,-95.17 264.76,-72.47 258.53,-60.68 248.67,-49.51 239.36,-40.61\" fill=\"none\" stroke=\"#4a4a4a\"/>\n",
       "<path d=\"M284.78,-143.9C283.22,-125.2 278.87,-94.88 266.53,-71.53 260.03,-59.36 250.17,-48.19 240.74,-39.17\" fill=\"none\" stroke=\"#4a4a4a\"/>\n",
       "<polygon fill=\"#4a4a4a\" points=\"242.14,-37.06 232.39,-32.91 237.42,-42.23 242.14,-37.06\" stroke=\"#4a4a4a\"/>\n",
       "</g>\n",
       "<!-- Danger&#45;&gt;Accident -->\n",
       "<g class=\"edge\" id=\"edge15\">\n",
       "<title>Danger-&gt;Accident</title>\n",
       "<path d=\"M173.14,-144.16C179.67,-135.54 187.83,-124.76 195.13,-115.12\" fill=\"none\" stroke=\"#4a4a4a\"/>\n",
       "<path d=\"M174.74,-145.37C181.26,-136.75 189.43,-125.97 196.72,-116.33\" fill=\"none\" stroke=\"#4a4a4a\"/>\n",
       "<polygon fill=\"#4a4a4a\" points=\"198.81,-117.72 202.05,-107.63 193.23,-113.49 198.81,-117.72\" stroke=\"#4a4a4a\"/>\n",
       "</g>\n",
       "</g>\n",
       "</svg></div></td><td style=\"border-top:hidden;border-bottom:hidden;\"><div align=\"center\" style=\"\">?</div></td><td style=\"border-top:hidden;border-bottom:hidden;\"><div align=\"center\" style=\"\">No result</div></td></tr><tr><td style=\"border-top:hidden;border-bottom:hidden;\"><div align=\"center\"><small>Causal Model</small></div></td><td style=\"border-top:hidden;border-bottom:hidden;\"><div align=\"center\"><small>Explanation : Hedge Error: G={'Speed', 'Danger'}, G[S]={'Danger'}</small></div></td><td style=\"border-top:hidden;border-bottom:hidden;\"><div align=\"center\"><small>Impact : $?$</small></div></td></tr></table>"
      ],
      "text/plain": [
       "<IPython.core.display.HTML object>"
      ]
     },
     "metadata": {},
     "output_type": "display_data"
    },
    {
     "data": {
      "text/html": [
       "<table style=\"border-style: hidden; border-collapse: collapse;\" width=\"100%\"><tr><td style=\"border-top:hidden;border-bottom:hidden;\"><div align=\"center\" style=\"\"><svg height=\"476pt\" viewBox=\"0.00 0.00 323.88 476.00\" width=\"324pt\" xmlns=\"http://www.w3.org/2000/svg\" xmlns:xlink=\"http://www.w3.org/1999/xlink\">\n",
       "<g class=\"graph\" id=\"graph0\" transform=\"scale(1 1) rotate(0) translate(4 472)\">\n",
       "<title>G</title>\n",
       "<!-- RushHour -->\n",
       "<g class=\"node\" id=\"node1\">\n",
       "<title>RushHour</title>\n",
       "<ellipse cx=\"161.65\" cy=\"-306\" fill=\"#404040\" rx=\"1.8\" ry=\"1.8\" stroke=\"#4a4a4a\"/>\n",
       "</g>\n",
       "<!-- Speed -->\n",
       "<g class=\"node\" id=\"node5\">\n",
       "<title>Speed</title>\n",
       "<ellipse cx=\"97.65\" cy=\"-234\" fill=\"#404040\" rx=\"31.94\" ry=\"18\" stroke=\"#4a4a4a\"/>\n",
       "<text fill=\"white\" font-family=\"Times,serif\" font-size=\"14.00\" text-anchor=\"middle\" x=\"97.65\" y=\"-229.8\">Speed</text>\n",
       "</g>\n",
       "<!-- RushHour&#45;&gt;Speed -->\n",
       "<g class=\"edge\" id=\"edge7\">\n",
       "<title>RushHour-&gt;Speed</title>\n",
       "<path d=\"M160.93,-304.21C156.77,-299.67 135.4,-276.3 118.63,-257.95\" fill=\"none\" stroke=\"#4a4a4a\" stroke-dasharray=\"5,2\"/>\n",
       "<polygon fill=\"#4a4a4a\" points=\"121.12,-255.49 111.79,-250.47 115.96,-260.21 121.12,-255.49\" stroke=\"#4a4a4a\"/>\n",
       "</g>\n",
       "<!-- Danger -->\n",
       "<g class=\"node\" id=\"node10\">\n",
       "<title>Danger</title>\n",
       "<ellipse cx=\"161.65\" cy=\"-162\" fill=\"#404040\" rx=\"36.26\" ry=\"18\" stroke=\"#4a4a4a\"/>\n",
       "<text fill=\"white\" font-family=\"Times,serif\" font-size=\"14.00\" text-anchor=\"middle\" x=\"161.65\" y=\"-157.8\">Danger</text>\n",
       "</g>\n",
       "<!-- RushHour&#45;&gt;Danger -->\n",
       "<g class=\"edge\" id=\"edge6\">\n",
       "<title>RushHour-&gt;Danger</title>\n",
       "<path d=\"M161.65,-304.09C161.65,-295.54 161.65,-228.56 161.65,-190.04\" fill=\"none\" stroke=\"#4a4a4a\" stroke-dasharray=\"5,2\"/>\n",
       "<polygon fill=\"#4a4a4a\" points=\"165.15,-190.01 161.65,-180.01 158.15,-190.01 165.15,-190.01\" stroke=\"#4a4a4a\"/>\n",
       "</g>\n",
       "<!-- Weather -->\n",
       "<g class=\"node\" id=\"node2\">\n",
       "<title>Weather</title>\n",
       "<ellipse cx=\"194.65\" cy=\"-450\" fill=\"#404040\" rx=\"39.2\" ry=\"18\" stroke=\"#4a4a4a\"/>\n",
       "<text fill=\"white\" font-family=\"Times,serif\" font-size=\"14.00\" text-anchor=\"middle\" x=\"194.65\" y=\"-445.8\">Weather</text>\n",
       "</g>\n",
       "<!-- RoadConditions -->\n",
       "<g class=\"node\" id=\"node3\">\n",
       "<title>RoadConditions</title>\n",
       "<ellipse cx=\"146.65\" cy=\"-378\" fill=\"#404040\" rx=\"67.69\" ry=\"18\" stroke=\"#4a4a4a\"/>\n",
       "<text fill=\"white\" font-family=\"Times,serif\" font-size=\"14.00\" text-anchor=\"middle\" x=\"146.65\" y=\"-373.8\">RoadConditions</text>\n",
       "</g>\n",
       "<!-- Weather&#45;&gt;RoadConditions -->\n",
       "<g class=\"edge\" id=\"edge1\">\n",
       "<title>Weather-&gt;RoadConditions</title>\n",
       "<path d=\"M182.45,-432.98C176.73,-424.64 169.68,-414.36 163.3,-405.05\" fill=\"none\" stroke=\"#4a4a4a\"/>\n",
       "<path d=\"M184.1,-431.85C178.38,-423.51 171.33,-413.23 164.95,-403.92\" fill=\"none\" stroke=\"#4a4a4a\"/>\n",
       "<polygon fill=\"#4a4a4a\" points=\"166.82,-402.22 158.27,-395.96 161.04,-406.18 166.82,-402.22\" stroke=\"#4a4a4a\"/>\n",
       "</g>\n",
       "<!-- Mood -->\n",
       "<g class=\"node\" id=\"node6\">\n",
       "<title>Mood</title>\n",
       "<ellipse cx=\"254.65\" cy=\"-234\" fill=\"#404040\" rx=\"31.47\" ry=\"18\" stroke=\"#4a4a4a\"/>\n",
       "<text fill=\"white\" font-family=\"Times,serif\" font-size=\"14.00\" text-anchor=\"middle\" x=\"254.65\" y=\"-229.8\">Mood</text>\n",
       "</g>\n",
       "<!-- Weather&#45;&gt;Mood -->\n",
       "<g class=\"edge\" id=\"edge14\">\n",
       "<title>Weather-&gt;Mood</title>\n",
       "<path d=\"M204.6,-431.93C210.75,-421.81 218.15,-408.35 222.71,-395.66 238.94,-350.61 247.23,-294.98 250.98,-262.4\" fill=\"none\" stroke=\"#4a4a4a\"/>\n",
       "<path d=\"M206.31,-432.96C212.5,-422.78 219.91,-409.31 224.59,-396.34 240.92,-350.91 249.21,-295.28 252.97,-262.63\" fill=\"none\" stroke=\"#4a4a4a\"/>\n",
       "<polygon fill=\"#4a4a4a\" points=\"255.48,-262.71 253.08,-252.39 248.52,-261.95 255.48,-262.71\" stroke=\"#4a4a4a\"/>\n",
       "</g>\n",
       "<!-- RoadWorks -->\n",
       "<g class=\"node\" id=\"node4\">\n",
       "<title>RoadWorks</title>\n",
       "<ellipse cx=\"51.65\" cy=\"-306\" fill=\"#404040\" rx=\"51.79\" ry=\"18\" stroke=\"#4a4a4a\"/>\n",
       "<text fill=\"white\" font-family=\"Times,serif\" font-size=\"14.00\" text-anchor=\"middle\" x=\"51.65\" y=\"-301.8\">RoadWorks</text>\n",
       "</g>\n",
       "<!-- RoadConditions&#45;&gt;RoadWorks -->\n",
       "<g class=\"edge\" id=\"edge2\">\n",
       "<title>RoadConditions-&gt;RoadWorks</title>\n",
       "<path d=\"M124.02,-361.57C111.13,-352.07 94.68,-339.95 80.67,-329.63\" fill=\"none\" stroke=\"#4a4a4a\"/>\n",
       "<path d=\"M125.21,-359.96C112.32,-350.46 95.87,-338.34 81.86,-328.02\" fill=\"none\" stroke=\"#4a4a4a\"/>\n",
       "<polygon fill=\"#4a4a4a\" points=\"83.03,-325.78 72.91,-322.67 78.88,-331.42 83.03,-325.78\" stroke=\"#4a4a4a\"/>\n",
       "</g>\n",
       "<!-- RoadConditions&#45;&gt;Speed -->\n",
       "<g class=\"edge\" id=\"edge3\">\n",
       "<title>RoadConditions-&gt;Speed</title>\n",
       "<path d=\"M139.79,-360.2C131.36,-335.76 115.8,-290.66 105.86,-261.87\" fill=\"none\" stroke=\"#4a4a4a\"/>\n",
       "<path d=\"M141.68,-359.55C133.25,-335.11 117.69,-290.01 107.75,-261.22\" fill=\"none\" stroke=\"#4a4a4a\"/>\n",
       "<polygon fill=\"#4a4a4a\" points=\"110,-260.06 103.43,-251.75 103.38,-262.34 110,-260.06\" stroke=\"#4a4a4a\"/>\n",
       "</g>\n",
       "<!-- RoadConditions&#45;&gt;Danger -->\n",
       "<g class=\"edge\" id=\"edge10\">\n",
       "<title>RoadConditions-&gt;Danger</title>\n",
       "<path d=\"M156.35,-359.54C162.02,-349.52 168.52,-336.27 171.68,-323.75 183.49,-277.65 180.85,-263.81 174.66,-216.13 173.54,-207.5 171.4,-198.17 169.14,-189.84\" fill=\"none\" stroke=\"#4a4a4a\"/>\n",
       "<path d=\"M158.09,-360.53C163.81,-350.4 170.31,-337.15 173.62,-324.25 185.46,-277.27 182.81,-263.43 176.64,-215.87 175.49,-207.05 173.35,-197.72 171.07,-189.32\" fill=\"none\" stroke=\"#4a4a4a\"/>\n",
       "<polygon fill=\"#4a4a4a\" points=\"173.46,-188.6 167.33,-179.96 166.74,-190.54 173.46,-188.6\" stroke=\"#4a4a4a\"/>\n",
       "</g>\n",
       "<!-- RoadWorks&#45;&gt;Speed -->\n",
       "<g class=\"edge\" id=\"edge12\">\n",
       "<title>RoadWorks-&gt;Speed</title>\n",
       "<path d=\"M61.95,-287.51C67.51,-279.04 74.34,-268.64 80.48,-259.3\" fill=\"none\" stroke=\"#4a4a4a\"/>\n",
       "<path d=\"M63.62,-288.6C69.18,-280.14 76.02,-269.74 82.16,-260.39\" fill=\"none\" stroke=\"#4a4a4a\"/>\n",
       "<polygon fill=\"#4a4a4a\" points=\"84.36,-261.59 86.93,-251.31 78.51,-257.74 84.36,-261.59\" stroke=\"#4a4a4a\"/>\n",
       "</g>\n",
       "<!-- Delay -->\n",
       "<g class=\"node\" id=\"node8\">\n",
       "<title>Delay</title>\n",
       "<ellipse cx=\"214.65\" cy=\"-18\" fill=\"#404040\" rx=\"31.45\" ry=\"18\" stroke=\"#4a4a4a\"/>\n",
       "<text fill=\"white\" font-family=\"Times,serif\" font-size=\"14.00\" text-anchor=\"middle\" x=\"214.65\" y=\"-13.8\">Delay</text>\n",
       "</g>\n",
       "<!-- Speed&#45;&gt;Delay -->\n",
       "<g class=\"edge\" id=\"edge13\">\n",
       "<title>Speed-&gt;Delay</title>\n",
       "<path d=\"M98.44,-215.59C100.77,-197.19 105.77,-167.61 115.72,-143.62 132.94,-102.39 167.24,-63.56 190.44,-40.3\" fill=\"none\" stroke=\"#4a4a4a\"/>\n",
       "<path d=\"M100.42,-215.84C102.74,-197.52 107.74,-167.94 117.57,-144.38 134.43,-103.72 168.74,-64.89 191.85,-41.72\" fill=\"none\" stroke=\"#4a4a4a\"/>\n",
       "<polygon fill=\"#4a4a4a\" points=\"193.85,-43.26 198.53,-33.75 188.94,-38.27 193.85,-43.26\" stroke=\"#4a4a4a\"/>\n",
       "</g>\n",
       "<!-- Speed&#45;&gt;Danger -->\n",
       "<g class=\"edge\" id=\"edge9\">\n",
       "<title>Speed-&gt;Danger</title>\n",
       "<path d=\"M110.8,-217.14C119.23,-207.91 130.18,-195.94 139.68,-185.54\" fill=\"none\" stroke=\"#4a4a4a\"/>\n",
       "<path d=\"M112.27,-218.49C120.71,-209.26 131.65,-197.29 141.16,-186.89\" fill=\"none\" stroke=\"#4a4a4a\"/>\n",
       "<polygon fill=\"#4a4a4a\" points=\"143.18,-188.39 147.34,-178.64 138.01,-183.66 143.18,-188.39\" stroke=\"#4a4a4a\"/>\n",
       "</g>\n",
       "<!-- Accident -->\n",
       "<g class=\"node\" id=\"node7\">\n",
       "<title>Accident</title>\n",
       "<ellipse cx=\"214.65\" cy=\"-90\" fill=\"#404040\" rx=\"42.05\" ry=\"18\" stroke=\"#4a4a4a\"/>\n",
       "<text fill=\"white\" font-family=\"Times,serif\" font-size=\"14.00\" text-anchor=\"middle\" x=\"214.65\" y=\"-85.8\">Accident</text>\n",
       "</g>\n",
       "<!-- Mood&#45;&gt;Accident -->\n",
       "<g class=\"edge\" id=\"edge4\">\n",
       "<title>Mood-&gt;Accident</title>\n",
       "<path d=\"M248.94,-216.42C242.12,-192.22 229.47,-147.33 221.33,-118.4\" fill=\"none\" stroke=\"#4a4a4a\"/>\n",
       "<path d=\"M250.86,-215.88C244.04,-191.67 231.4,-146.78 223.25,-117.86\" fill=\"none\" stroke=\"#4a4a4a\"/>\n",
       "<polygon fill=\"#4a4a4a\" points=\"225.59,-116.94 219.51,-108.27 218.85,-118.84 225.59,-116.94\" stroke=\"#4a4a4a\"/>\n",
       "</g>\n",
       "<!-- Accident&#45;&gt;Delay -->\n",
       "<g class=\"edge\" id=\"edge5\">\n",
       "<title>Accident-&gt;Delay</title>\n",
       "<path d=\"M213.65,-71.7C213.65,-63.98 213.65,-54.71 213.65,-46.11\" fill=\"none\" stroke=\"#4a4a4a\"/>\n",
       "<path d=\"M215.65,-71.7C215.65,-63.98 215.65,-54.71 215.65,-46.11\" fill=\"none\" stroke=\"#4a4a4a\"/>\n",
       "<polygon fill=\"#4a4a4a\" points=\"218.15,-46.1 214.65,-36.1 211.15,-46.1 218.15,-46.1\" stroke=\"#4a4a4a\"/>\n",
       "</g>\n",
       "<!-- Strike -->\n",
       "<g class=\"node\" id=\"node9\">\n",
       "<title>Strike</title>\n",
       "<ellipse cx=\"284.65\" cy=\"-162\" fill=\"#404040\" rx=\"31.46\" ry=\"18\" stroke=\"#4a4a4a\"/>\n",
       "<text fill=\"white\" font-family=\"Times,serif\" font-size=\"14.00\" text-anchor=\"middle\" x=\"284.65\" y=\"-157.8\">Strike</text>\n",
       "</g>\n",
       "<!-- Strike&#45;&gt;Accident -->\n",
       "<g class=\"edge\" id=\"edge11\">\n",
       "<title>Strike-&gt;Accident</title>\n",
       "<path d=\"M269.09,-146.86C259.79,-137.56 247.61,-125.38 237.06,-114.83\" fill=\"none\" stroke=\"#4a4a4a\"/>\n",
       "<path d=\"M270.51,-145.45C261.21,-136.15 249.03,-123.97 238.48,-113.42\" fill=\"none\" stroke=\"#4a4a4a\"/>\n",
       "<polygon fill=\"#4a4a4a\" points=\"239.99,-111.39 230.44,-106.8 235.04,-116.34 239.99,-111.39\" stroke=\"#4a4a4a\"/>\n",
       "</g>\n",
       "<!-- Strike&#45;&gt;Delay -->\n",
       "<g class=\"edge\" id=\"edge8\">\n",
       "<title>Strike-&gt;Delay</title>\n",
       "<path d=\"M282.79,-144.07C281.24,-125.48 276.89,-95.17 264.76,-72.47 258.53,-60.68 248.67,-49.51 239.36,-40.61\" fill=\"none\" stroke=\"#4a4a4a\"/>\n",
       "<path d=\"M284.78,-143.9C283.22,-125.2 278.87,-94.88 266.53,-71.53 260.03,-59.36 250.17,-48.19 240.74,-39.17\" fill=\"none\" stroke=\"#4a4a4a\"/>\n",
       "<polygon fill=\"#4a4a4a\" points=\"242.14,-37.06 232.39,-32.91 237.42,-42.23 242.14,-37.06\" stroke=\"#4a4a4a\"/>\n",
       "</g>\n",
       "<!-- Danger&#45;&gt;Accident -->\n",
       "<g class=\"edge\" id=\"edge15\">\n",
       "<title>Danger-&gt;Accident</title>\n",
       "<path d=\"M173.14,-144.16C179.67,-135.54 187.83,-124.76 195.13,-115.12\" fill=\"none\" stroke=\"#4a4a4a\"/>\n",
       "<path d=\"M174.74,-145.37C181.26,-136.75 189.43,-125.97 196.72,-116.33\" fill=\"none\" stroke=\"#4a4a4a\"/>\n",
       "<polygon fill=\"#4a4a4a\" points=\"198.81,-117.72 202.05,-107.63 193.23,-113.49 198.81,-117.72\" stroke=\"#4a4a4a\"/>\n",
       "</g>\n",
       "</g>\n",
       "</svg></div></td><td style=\"border-top:hidden;border-bottom:hidden;\"><div align=\"center\" style=\"\">?</div></td><td style=\"border-top:hidden;border-bottom:hidden;\"><div align=\"center\" style=\"\">No result</div></td></tr><tr><td style=\"border-top:hidden;border-bottom:hidden;\"><div align=\"center\"><small>Causal Model</small></div></td><td style=\"border-top:hidden;border-bottom:hidden;\"><div align=\"center\"><small>Explanation : Hedge Error: G={'Speed', 'Danger'}, G[S]={'Danger'}</small></div></td><td style=\"border-top:hidden;border-bottom:hidden;\"><div align=\"center\"><small>Impact : $?$</small></div></td></tr></table>"
      ],
      "text/plain": [
       "<IPython.core.display.HTML object>"
      ]
     },
     "metadata": {},
     "output_type": "display_data"
    }
   ],
   "source": [
    "m1 = gum.fastBN(\"Weather{Sun|Rain}->RoadConditions{Dry|Wet}->RoadWorks{False|True}->Speed{Slow\"\n",
    "                \"|Fast};Weather->Mood{Good|Bad}->Accident{False|True}->Delay{False|True}<-Strike{False|True\"\n",
    "                \"}->Accident<-Danger{Low|High}<-Speed;Danger<-RoadConditions->Speed->Delay;\")\n",
    "\n",
    "cs1 = csl.CausalModel(m1, [(\"RushHour\", [\"Speed\",\"Danger\"])], True)\n",
    "\n",
    "cslnb.showCausalImpact(cs1, \"Accident\", doing=\"Speed\", values={\"Speed\":\"Slow\"})\n",
    "cslnb.showCausalImpact(cs1, \"Accident\", doing=\"Speed\", values={\"Speed\":\"Fast\"})"
   ]
  },
  {
   "cell_type": "markdown",
   "metadata": {
    "pycharm": {
     "is_executing": false,
     "name": "#%% md\n"
    }
   },
   "source": [
    "## ACE\n",
    "Not computable"
   ]
  },
  {
   "cell_type": "markdown",
   "metadata": {
    "pycharm": {
     "is_executing": false,
     "name": "#%% md\n"
    }
   },
   "source": [
    "## C-specific effect\n",
    "Not computable"
   ]
  },
  {
   "cell_type": "markdown",
   "metadata": {
    "pycharm": {
     "is_executing": false,
     "name": "#%% md\n"
    }
   },
   "source": [
    "## Conditional intervention\n",
    "Not computable"
   ]
  },
  {
   "cell_type": "markdown",
   "metadata": {
    "pycharm": {
     "is_executing": false,
     "name": "#%% md\n"
    }
   },
   "source": [
    "## Mediation"
   ]
  },
  {
   "cell_type": "code",
   "execution_count": 45,
   "metadata": {
    "pycharm": {
     "is_executing": false,
     "name": "#%%\n"
    }
   },
   "outputs": [],
   "source": [
    "m1 = gum.fastBN(\"RoadConditions{Dry|Wet}->RoadWorks{False|True}->Speed{Slow|Fast};Mood{Good|Bad}->Accident{False|True}->Delay{False|True}<-Strike{False|True\"\n",
    "                \"}->Accident<-Danger{Low|High}<-Speed<-RushHour{False|True}->Danger<-RoadConditions->Speed->Delay;\")\n",
    "\n",
    "# m0.cpt(\"Weather\")[:]=[0.70, 0.30]\n",
    "m1.cpt(\"Strike\")[:]=[0.96, 0.04]\n",
    "m1.cpt(\"RushHour\")[:]=[0.8, 0.2]\n",
    "\n",
    "rc1 = 0.7 * 0.7 + 0.3 * 0.2\n",
    "m1.cpt(\"RoadConditions\")[:]=[rc1, 1-rc1]\n",
    "\n",
    "mood1 = 0.7 * 0.7 + 0.3 * 0.4\n",
    "m1.cpt(\"Mood\")[:]= [mood1, 1-mood1]\n",
    "\n",
    "m1.cpt(\"RoadWorks\")[{'RoadConditions':'Dry'}]=[0.3, 0.7]\n",
    "m1.cpt(\"RoadWorks\")[{'RoadConditions':'Wet'}]=[0.8, 0.2]\n",
    "\n",
    "m1.cpt(\"Speed\")[{'RoadConditions':'Dry', \"RoadWorks\":'True', 'RushHour':'True'}]=[0.85, 0.15]\n",
    "m1.cpt(\"Speed\")[{'RoadConditions':'Dry', \"RoadWorks\":'True', 'RushHour':'False'}]=[0.75, 0.25]\n",
    "m1.cpt(\"Speed\")[{'RoadConditions':'Dry', \"RoadWorks\":'False', 'RushHour':'True'}]=[0.8, 0.2]\n",
    "m1.cpt(\"Speed\")[{'RoadConditions':'Dry', \"RoadWorks\":'False', 'RushHour':'False'}]=[0.15, 0.85]\n",
    "m1.cpt(\"Speed\")[{'RoadConditions':'Wet', \"RoadWorks\":'True', 'RushHour':'True'}]=[0.95, 0.05]\n",
    "m1.cpt(\"Speed\")[{'RoadConditions':'Wet', \"RoadWorks\":'True', 'RushHour':'False'}]=[0.9, 0.1]\n",
    "m1.cpt(\"Speed\")[{'RoadConditions':'Wet', \"RoadWorks\":'False', 'RushHour':'True'}]=[0.8, 0.2]\n",
    "m1.cpt(\"Speed\")[{'RoadConditions':'Wet', \"RoadWorks\":'False', 'RushHour':'False'}]=[0.6, 0.4]\n",
    "\n",
    "m1.cpt(\"Danger\")[{'RoadConditions':'Dry', \"Speed\":'Slow', 'RushHour':'True'}]=[0.45, 0.55]\n",
    "m1.cpt(\"Danger\")[{'RoadConditions':'Dry', \"Speed\":'Slow', 'RushHour':'False'}]=[0.95, 0.05]\n",
    "m1.cpt(\"Danger\")[{'RoadConditions':'Dry', \"Speed\":'Fast', 'RushHour':'True'}]=[0.15, 0.85]\n",
    "m1.cpt(\"Danger\")[{'RoadConditions':'Dry', \"Speed\":'Fast', 'RushHour':'False'}]=[0.3, 0.7]\n",
    "m1.cpt(\"Danger\")[{'RoadConditions':'Wet', \"Speed\":'Slow', 'RushHour':'True'}]=[0.35, 0.65]\n",
    "m1.cpt(\"Danger\")[{'RoadConditions':'Wet', \"Speed\":'Slow', 'RushHour':'False'}]=[0.45, 0.55]\n",
    "m1.cpt(\"Danger\")[{'RoadConditions':'Wet', \"Speed\":'Fast', 'RushHour':'True'}]=[0.05, 0.95]\n",
    "m1.cpt(\"Danger\")[{'RoadConditions':'Wet', \"Speed\":'Fast', 'RushHour':'False'}]=[0.15, 0.85]\n",
    "\n",
    "m1.cpt(\"Accident\")[{'Strike':'True', \"Mood\":\"Good\",'Danger':'Low'}]=  [0.85, 0.15]\n",
    "m1.cpt(\"Accident\")[{'Strike':'True', \"Mood\":\"Good\",'Danger':'High'}]= [0.15, 0.85]\n",
    "m1.cpt(\"Accident\")[{'Strike':'True', \"Mood\":\"Bad\",'Danger':'Low'}]=   [0.30, 0.70]\n",
    "m1.cpt(\"Accident\")[{'Strike':'True', \"Mood\":\"Bad\",'Danger':'High'}]=  [0.05, 0.95]\n",
    "m1.cpt(\"Accident\")[{'Strike':'False',\"Mood\":\"Good\",'Danger':'Low'}]=  [0.95, 0.05]\n",
    "m1.cpt(\"Accident\")[{'Strike':'False',\"Mood\":\"Good\",'Danger':'High'}]= [0.40, 0.60]\n",
    "m1.cpt(\"Accident\")[{'Strike':'False',\"Mood\":\"Bad\",'Danger':'Low'}]=   [0.45, 0.55]\n",
    "m1.cpt(\"Accident\")[{'Strike':'False',\"Mood\":\"Bad\",'Danger':'High'}]=  [0.20, 0.80]\n",
    "\n",
    "m1.cpt(\"Delay\")[{\"Speed\":'Slow', 'Strike':'True', 'Accident':'True'}]=  [0.01, 0.99]\n",
    "m1.cpt(\"Delay\")[{\"Speed\":'Slow', 'Strike':'True', 'Accident':'False'}]= [0.35, 0.65]\n",
    "m1.cpt(\"Delay\")[{\"Speed\":'Slow', 'Strike':'False', 'Accident':'True'}]= [0.05, 0.95]\n",
    "m1.cpt(\"Delay\")[{\"Speed\":'Slow', 'Strike':'False', 'Accident':'False'}]=[0.75, 0.25]\n",
    "m1.cpt(\"Delay\")[{\"Speed\":'Fast', 'Strike':'True', 'Accident':'True'}]=  [0.01, 0.99]\n",
    "m1.cpt(\"Delay\")[{\"Speed\":'Fast', 'Strike':'True', 'Accident':'False'}]= [0.60, 0.40]\n",
    "m1.cpt(\"Delay\")[{\"Speed\":'Fast', 'Strike':'False', 'Accident':'True'}]= [0.05, 0.95]\n",
    "m1.cpt(\"Delay\")[{\"Speed\":'Fast', 'Strike':'False', 'Accident':'False'}]=[0.85, 0.15]\n",
    "\n",
    "cs1 = csl.CausalModel(m1, [(\"Weather\", [\"RoadConditions\",\"Mood\"])], True)"
   ]
  },
  {
   "cell_type": "markdown",
   "metadata": {
    "pycharm": {
     "is_executing": false,
     "name": "#%% md\n"
    }
   },
   "source": [
    "## Controlled Direct Effect"
   ]
  },
  {
   "cell_type": "code",
   "execution_count": 52,
   "metadata": {
    "pycharm": {
     "is_executing": false,
     "name": "#%%\n"
    }
   },
   "outputs": [
    {
     "data": {
      "text/html": [
       "<table style=\"border-style: hidden; border-collapse: collapse;\" width=\"100%\"><tr><td style=\"border-top:hidden;border-bottom:hidden;\"><div align=\"center\" style=\"\"><svg height=\"444pt\" viewBox=\"0.00 0.00 387.88 443.60\" width=\"388pt\" xmlns=\"http://www.w3.org/2000/svg\" xmlns:xlink=\"http://www.w3.org/1999/xlink\">\n",
       "<g class=\"graph\" id=\"graph0\" transform=\"scale(1 1) rotate(0) translate(4 439.6)\">\n",
       "<title>G</title>\n",
       "<!-- Weather -->\n",
       "<g class=\"node\" id=\"node1\">\n",
       "<title>Weather</title>\n",
       "<ellipse cx=\"225.65\" cy=\"-433.8\" fill=\"#404040\" rx=\"1.8\" ry=\"1.8\" stroke=\"#4a4a4a\"/>\n",
       "</g>\n",
       "<!-- RoadConditions -->\n",
       "<g class=\"node\" id=\"node2\">\n",
       "<title>RoadConditions</title>\n",
       "<ellipse cx=\"177.65\" cy=\"-378\" fill=\"#404040\" rx=\"67.69\" ry=\"18\" stroke=\"#4a4a4a\"/>\n",
       "<text fill=\"white\" font-family=\"Times,serif\" font-size=\"14.00\" text-anchor=\"middle\" x=\"177.65\" y=\"-373.8\">RoadConditions</text>\n",
       "</g>\n",
       "<!-- Weather&#45;&gt;RoadConditions -->\n",
       "<g class=\"edge\" id=\"edge3\">\n",
       "<title>Weather-&gt;RoadConditions</title>\n",
       "<path d=\"M224.81,-431.87C221.69,-428.36 210.29,-415.59 199.48,-403.47\" fill=\"none\" stroke=\"#4a4a4a\" stroke-dasharray=\"5,2\"/>\n",
       "<polygon fill=\"#4a4a4a\" points=\"201.83,-400.85 192.56,-395.71 196.6,-405.51 201.83,-400.85\" stroke=\"#4a4a4a\"/>\n",
       "</g>\n",
       "<!-- Mood -->\n",
       "<g class=\"node\" id=\"node5\">\n",
       "<title>Mood</title>\n",
       "<ellipse cx=\"338.65\" cy=\"-234\" fill=\"#404040\" rx=\"31.47\" ry=\"18\" stroke=\"#4a4a4a\"/>\n",
       "<text fill=\"white\" font-family=\"Times,serif\" font-size=\"14.00\" text-anchor=\"middle\" x=\"338.65\" y=\"-229.8\">Mood</text>\n",
       "</g>\n",
       "<!-- Weather&#45;&gt;Mood -->\n",
       "<g class=\"edge\" id=\"edge8\">\n",
       "<title>Weather-&gt;Mood</title>\n",
       "<path d=\"M226.43,-431.94C229.97,-428 244.75,-411.3 254.65,-396 284.13,-350.42 311.95,-293.32 327.01,-260.81\" fill=\"none\" stroke=\"#4a4a4a\" stroke-dasharray=\"5,2\"/>\n",
       "<polygon fill=\"#4a4a4a\" points=\"330.27,-262.1 331.26,-251.56 323.91,-259.18 330.27,-262.1\" stroke=\"#4a4a4a\"/>\n",
       "</g>\n",
       "<!-- RoadWorks -->\n",
       "<g class=\"node\" id=\"node3\">\n",
       "<title>RoadWorks</title>\n",
       "<ellipse cx=\"51.65\" cy=\"-306\" fill=\"#404040\" rx=\"51.79\" ry=\"18\" stroke=\"#4a4a4a\"/>\n",
       "<text fill=\"white\" font-family=\"Times,serif\" font-size=\"14.00\" text-anchor=\"middle\" x=\"51.65\" y=\"-301.8\">RoadWorks</text>\n",
       "</g>\n",
       "<!-- RoadConditions&#45;&gt;RoadWorks -->\n",
       "<g class=\"edge\" id=\"edge1\">\n",
       "<title>RoadConditions-&gt;RoadWorks</title>\n",
       "<path d=\"M149.2,-362.34C130.59,-352 106,-338.34 86.1,-327.28\" fill=\"none\" stroke=\"#4a4a4a\"/>\n",
       "<path d=\"M150.17,-360.59C131.56,-350.25 106.97,-336.59 87.07,-325.54\" fill=\"none\" stroke=\"#4a4a4a\"/>\n",
       "<polygon fill=\"#4a4a4a\" points=\"88.25,-323.33 77.81,-321.54 84.85,-329.45 88.25,-323.33\" stroke=\"#4a4a4a\"/>\n",
       "</g>\n",
       "<!-- Speed -->\n",
       "<g class=\"node\" id=\"node4\">\n",
       "<title>Speed</title>\n",
       "<ellipse cx=\"161.65\" cy=\"-234\" fill=\"#404040\" rx=\"31.94\" ry=\"18\" stroke=\"#4a4a4a\"/>\n",
       "<text fill=\"white\" font-family=\"Times,serif\" font-size=\"14.00\" text-anchor=\"middle\" x=\"161.65\" y=\"-229.8\">Speed</text>\n",
       "</g>\n",
       "<!-- RoadConditions&#45;&gt;Speed -->\n",
       "<g class=\"edge\" id=\"edge14\">\n",
       "<title>RoadConditions-&gt;Speed</title>\n",
       "<path d=\"M165.6,-360.65C159.59,-350.56 152.84,-337.31 149.67,-324.23 144.71,-303.23 148.14,-279.35 152.46,-261.43\" fill=\"none\" stroke=\"#4a4a4a\"/>\n",
       "<path d=\"M167.32,-359.63C161.37,-349.65 154.62,-336.4 151.62,-323.77 146.69,-303.51 150.12,-279.63 154.4,-261.89\" fill=\"none\" stroke=\"#4a4a4a\"/>\n",
       "<polygon fill=\"#4a4a4a\" points=\"156.83,-262.5 156,-251.93 150.06,-260.71 156.83,-262.5\" stroke=\"#4a4a4a\"/>\n",
       "</g>\n",
       "<!-- Danger -->\n",
       "<g class=\"node\" id=\"node9\">\n",
       "<title>Danger</title>\n",
       "<ellipse cx=\"225.65\" cy=\"-162\" fill=\"#404040\" rx=\"36.26\" ry=\"18\" stroke=\"#4a4a4a\"/>\n",
       "<text fill=\"white\" font-family=\"Times,serif\" font-size=\"14.00\" text-anchor=\"middle\" x=\"225.65\" y=\"-157.8\">Danger</text>\n",
       "</g>\n",
       "<!-- RoadConditions&#45;&gt;Danger -->\n",
       "<g class=\"edge\" id=\"edge9\">\n",
       "<title>RoadConditions-&gt;Danger</title>\n",
       "<path d=\"M215.1,-361.93C231.99,-353.51 250.39,-340.87 259.77,-323.52 283.62,-280.78 258.92,-222.16 240.66,-189.11\" fill=\"none\" stroke=\"#4a4a4a\"/>\n",
       "<path d=\"M216,-363.72C233.13,-355.16 251.52,-342.52 261.52,-324.48 285.46,-280 260.77,-221.38 242.41,-188.15\" fill=\"none\" stroke=\"#4a4a4a\"/>\n",
       "<polygon fill=\"#4a4a4a\" points=\"244.36,-186.53 236.35,-179.6 238.29,-190.02 244.36,-186.53\" stroke=\"#4a4a4a\"/>\n",
       "</g>\n",
       "<!-- RoadWorks&#45;&gt;Speed -->\n",
       "<g class=\"edge\" id=\"edge4\">\n",
       "<title>RoadWorks-&gt;Speed</title>\n",
       "<path d=\"M74.71,-289.14C91.48,-278.47 114.11,-264.06 132.01,-252.68\" fill=\"none\" stroke=\"#4a4a4a\"/>\n",
       "<path d=\"M75.78,-290.83C92.55,-280.15 115.19,-265.75 133.08,-254.36\" fill=\"none\" stroke=\"#4a4a4a\"/>\n",
       "<polygon fill=\"#4a4a4a\" points=\"134.85,-256.2 141.41,-247.88 131.1,-250.29 134.85,-256.2\" stroke=\"#4a4a4a\"/>\n",
       "</g>\n",
       "<!-- Delay -->\n",
       "<g class=\"node\" id=\"node7\">\n",
       "<title>Delay</title>\n",
       "<ellipse cx=\"278.65\" cy=\"-18\" fill=\"#404040\" rx=\"31.45\" ry=\"18\" stroke=\"#4a4a4a\"/>\n",
       "<text fill=\"white\" font-family=\"Times,serif\" font-size=\"14.00\" text-anchor=\"middle\" x=\"278.65\" y=\"-13.8\">Delay</text>\n",
       "</g>\n",
       "<!-- Speed&#45;&gt;Delay -->\n",
       "<g class=\"edge\" id=\"edge12\">\n",
       "<title>Speed-&gt;Delay</title>\n",
       "<path d=\"M162.44,-215.59C164.77,-197.19 169.77,-167.61 179.72,-143.62 196.94,-102.39 231.24,-63.56 254.44,-40.3\" fill=\"none\" stroke=\"#4a4a4a\"/>\n",
       "<path d=\"M164.42,-215.84C166.74,-197.52 171.74,-167.94 181.57,-144.38 198.43,-103.72 232.74,-64.89 255.85,-41.72\" fill=\"none\" stroke=\"#4a4a4a\"/>\n",
       "<polygon fill=\"#4a4a4a\" points=\"257.85,-43.26 262.53,-33.75 252.94,-38.27 257.85,-43.26\" stroke=\"#4a4a4a\"/>\n",
       "</g>\n",
       "<!-- Speed&#45;&gt;Danger -->\n",
       "<g class=\"edge\" id=\"edge2\">\n",
       "<title>Speed-&gt;Danger</title>\n",
       "<path d=\"M174.8,-217.14C183.23,-207.91 194.18,-195.94 203.68,-185.54\" fill=\"none\" stroke=\"#4a4a4a\"/>\n",
       "<path d=\"M176.27,-218.49C184.71,-209.26 195.65,-197.29 205.16,-186.89\" fill=\"none\" stroke=\"#4a4a4a\"/>\n",
       "<polygon fill=\"#4a4a4a\" points=\"207.18,-188.39 211.34,-178.64 202.01,-183.66 207.18,-188.39\" stroke=\"#4a4a4a\"/>\n",
       "</g>\n",
       "<!-- Accident -->\n",
       "<g class=\"node\" id=\"node6\">\n",
       "<title>Accident</title>\n",
       "<ellipse cx=\"278.65\" cy=\"-90\" fill=\"#404040\" rx=\"42.05\" ry=\"18\" stroke=\"#4a4a4a\"/>\n",
       "<text fill=\"white\" font-family=\"Times,serif\" font-size=\"14.00\" text-anchor=\"middle\" x=\"278.65\" y=\"-85.8\">Accident</text>\n",
       "</g>\n",
       "<!-- Mood&#45;&gt;Accident -->\n",
       "<g class=\"edge\" id=\"edge13\">\n",
       "<title>Mood-&gt;Accident</title>\n",
       "<path d=\"M327.5,-217.23C321.27,-206.93 313.47,-193.24 307.73,-180.41 298.64,-160.03 290.72,-136.12 285.29,-118.17\" fill=\"none\" stroke=\"#4a4a4a\"/>\n",
       "<path d=\"M329.21,-216.19C323.01,-205.94 315.21,-192.25 309.56,-179.59 300.53,-159.4 292.62,-135.5 287.21,-117.6\" fill=\"none\" stroke=\"#4a4a4a\"/>\n",
       "<polygon fill=\"#4a4a4a\" points=\"289.55,-116.69 283.36,-108.1 282.83,-118.68 289.55,-116.69\" stroke=\"#4a4a4a\"/>\n",
       "</g>\n",
       "<!-- Accident&#45;&gt;Delay -->\n",
       "<g class=\"edge\" id=\"edge7\">\n",
       "<title>Accident-&gt;Delay</title>\n",
       "<path d=\"M277.65,-71.7C277.65,-63.98 277.65,-54.71 277.65,-46.11\" fill=\"none\" stroke=\"#4a4a4a\"/>\n",
       "<path d=\"M279.65,-71.7C279.65,-63.98 279.65,-54.71 279.65,-46.11\" fill=\"none\" stroke=\"#4a4a4a\"/>\n",
       "<polygon fill=\"#4a4a4a\" points=\"282.15,-46.1 278.65,-36.1 275.15,-46.1 282.15,-46.1\" stroke=\"#4a4a4a\"/>\n",
       "</g>\n",
       "<!-- Strike -->\n",
       "<g class=\"node\" id=\"node8\">\n",
       "<title>Strike</title>\n",
       "<ellipse cx=\"348.65\" cy=\"-162\" fill=\"#404040\" rx=\"31.46\" ry=\"18\" stroke=\"#4a4a4a\"/>\n",
       "<text fill=\"white\" font-family=\"Times,serif\" font-size=\"14.00\" text-anchor=\"middle\" x=\"348.65\" y=\"-157.8\">Strike</text>\n",
       "</g>\n",
       "<!-- Strike&#45;&gt;Accident -->\n",
       "<g class=\"edge\" id=\"edge5\">\n",
       "<title>Strike-&gt;Accident</title>\n",
       "<path d=\"M333.09,-146.86C323.79,-137.56 311.61,-125.38 301.06,-114.83\" fill=\"none\" stroke=\"#4a4a4a\"/>\n",
       "<path d=\"M334.51,-145.45C325.21,-136.15 313.03,-123.97 302.48,-113.42\" fill=\"none\" stroke=\"#4a4a4a\"/>\n",
       "<polygon fill=\"#4a4a4a\" points=\"303.99,-111.39 294.44,-106.8 299.04,-116.34 303.99,-111.39\" stroke=\"#4a4a4a\"/>\n",
       "</g>\n",
       "<!-- Strike&#45;&gt;Delay -->\n",
       "<g class=\"edge\" id=\"edge15\">\n",
       "<title>Strike-&gt;Delay</title>\n",
       "<path d=\"M346.79,-144.07C345.24,-125.48 340.89,-95.17 328.76,-72.47 322.53,-60.68 312.67,-49.51 303.36,-40.61\" fill=\"none\" stroke=\"#4a4a4a\"/>\n",
       "<path d=\"M348.78,-143.9C347.22,-125.2 342.87,-94.88 330.53,-71.53 324.03,-59.36 314.17,-48.19 304.74,-39.17\" fill=\"none\" stroke=\"#4a4a4a\"/>\n",
       "<polygon fill=\"#4a4a4a\" points=\"306.14,-37.06 296.39,-32.91 301.42,-42.23 306.14,-37.06\" stroke=\"#4a4a4a\"/>\n",
       "</g>\n",
       "<!-- Danger&#45;&gt;Accident -->\n",
       "<g class=\"edge\" id=\"edge10\">\n",
       "<title>Danger-&gt;Accident</title>\n",
       "<path d=\"M237.14,-144.16C243.67,-135.54 251.83,-124.76 259.13,-115.12\" fill=\"none\" stroke=\"#4a4a4a\"/>\n",
       "<path d=\"M238.74,-145.37C245.26,-136.75 253.43,-125.97 260.72,-116.33\" fill=\"none\" stroke=\"#4a4a4a\"/>\n",
       "<polygon fill=\"#4a4a4a\" points=\"262.81,-117.72 266.05,-107.63 257.23,-113.49 262.81,-117.72\" stroke=\"#4a4a4a\"/>\n",
       "</g>\n",
       "<!-- RushHour -->\n",
       "<g class=\"node\" id=\"node10\">\n",
       "<title>RushHour</title>\n",
       "<ellipse cx=\"205.65\" cy=\"-306\" fill=\"#404040\" rx=\"46.43\" ry=\"18\" stroke=\"#4a4a4a\"/>\n",
       "<text fill=\"white\" font-family=\"Times,serif\" font-size=\"14.00\" text-anchor=\"middle\" x=\"205.65\" y=\"-301.8\">RushHour</text>\n",
       "</g>\n",
       "<!-- RushHour&#45;&gt;Speed -->\n",
       "<g class=\"edge\" id=\"edge6\">\n",
       "<title>RushHour-&gt;Speed</title>\n",
       "<path d=\"M194.37,-288.94C189.06,-280.49 182.48,-270.03 176.56,-260.61\" fill=\"none\" stroke=\"#4a4a4a\"/>\n",
       "<path d=\"M196.07,-287.88C190.75,-279.42 184.18,-268.96 178.26,-259.55\" fill=\"none\" stroke=\"#4a4a4a\"/>\n",
       "<polygon fill=\"#4a4a4a\" points=\"180.28,-258.07 172,-251.47 174.36,-261.8 180.28,-258.07\" stroke=\"#4a4a4a\"/>\n",
       "</g>\n",
       "<!-- RushHour&#45;&gt;Danger -->\n",
       "<g class=\"edge\" id=\"edge11\">\n",
       "<title>RushHour-&gt;Danger</title>\n",
       "<path d=\"M207.07,-287.73C210.48,-263.53 216.74,-219.07 220.8,-190.25\" fill=\"none\" stroke=\"#4a4a4a\"/>\n",
       "<path d=\"M209.05,-288.01C212.46,-263.81 218.72,-219.35 222.78,-190.53\" fill=\"none\" stroke=\"#4a4a4a\"/>\n",
       "<polygon fill=\"#4a4a4a\" points=\"225.3,-190.58 223.23,-180.19 218.37,-189.6 225.3,-190.58\" stroke=\"#4a4a4a\"/>\n",
       "</g>\n",
       "</g>\n",
       "</svg></div></td><td style=\"border-top:hidden;border-bottom:hidden;\"><div align=\"center\" style=\"\">$$\\begin{equation}P( Speed \\mid \\hookrightarrow\\mkern-6.5muRoadConditions,\\hookrightarrow\\mkern-6.5muRoadWorks) = \\sum_{RushHour}{P\\left(Speed\\mid RoadConditions,RoadWorks,RushHour\\right) \\cdot P\\left(RushHour\\right)}\\end{equation}$$</div></td><td style=\"border-top:hidden;border-bottom:hidden;\"><div align=\"center\" style=\"\"><table style=\"border:1px solid black;\">\n",
       "<tr><th colspan='1'></th><th colspan='2' style='border:1px solid black;color:black;background-color:#808080;'><center>Speed</center></th></tr>\n",
       "<tr><th style='border:1px solid black;color:black;background-color:#808080'><center>RoadConditions</center></th><th style='border:1px solid black;border-bottom-style: double;color:black;background-color:#BBBBBB'><center>Slow</center></th><th style='border:1px solid black;border-bottom-style: double;color:black;background-color:#BBBBBB'><center>Fast</center></th></tr>\n",
       "<tr><th style='border:1px solid black;color:black;background-color:#BBBBBB'><center>Dry</center></th><td style='color:black;background-color:#dba264;text-align:right;'>0.2800</td><td style='color:black;background-color:#a2db64;text-align:right;'>0.7200</td></tr>\n",
       "<tr><th style='border:1px solid black;color:black;background-color:#BBBBBB'><center>Wet</center></th><td style='color:black;background-color:#add064;text-align:right;'>0.6400</td><td style='color:black;background-color:#d0ad64;text-align:right;'>0.3600</td></tr>\n",
       "</table></div></td></tr><tr><td style=\"border-top:hidden;border-bottom:hidden;\"><div align=\"center\"><small>Causal Model</small></div></td><td style=\"border-top:hidden;border-bottom:hidden;\"><div align=\"center\"><small>Explanation : Do-calculus computations</small></div></td><td style=\"border-top:hidden;border-bottom:hidden;\"><div align=\"center\"><small>Impact : $P( Speed \\mid \\hookrightarrow\\mkern-6.5muRoadConditions,\\hookrightarrow\\mkern-6.5muRoadWorks=False)$</small></div></td></tr></table>"
      ],
      "text/plain": [
       "<IPython.core.display.HTML object>"
      ]
     },
     "metadata": {},
     "output_type": "display_data"
    }
   ],
   "source": [
    "cslnb.showCausalImpact(cs1,on={\"Speed\"}, doing={\"RoadWorks\",\"RoadConditions\"}, values={\"RoadWorks\":'False'})"
   ]
  },
  {
   "cell_type": "code",
   "execution_count": 53,
   "metadata": {
    "pycharm": {
     "is_executing": false,
     "name": "#%%\n"
    }
   },
   "outputs": [
    {
     "name": "stdout",
     "output_type": "stream",
     "text": [
      "CDE = 0.7200000000000001 - 0.3600000000000001 = 0.36\n"
     ]
    }
   ],
   "source": [
    "# Danger: High\n",
    "ci_R_T=csl.causalImpact(cs1,on={\"Speed\"}, doing={\"RoadWorks\",\"RoadConditions\"}, values={\"RoadWorks\":'False', \"RoadConditions\":'Dry'})[1][1]\n",
    "ci_R_F=csl.causalImpact(cs1,on={\"Speed\"}, doing={\"RoadWorks\",\"RoadConditions\"}, values={\"RoadWorks\":'False', \"RoadConditions\":'Wet'})[1][1]\n",
    "\n",
    "CDE= ci_R_T-ci_R_F\n",
    "print('CDE =', str(ci_R_T), '-', str(ci_R_F), '=', str(CDE))"
   ]
  },
  {
   "cell_type": "code",
   "execution_count": 54,
   "metadata": {
    "pycharm": {
     "is_executing": false,
     "name": "#%%\n"
    }
   },
   "outputs": [
    {
     "name": "stdout",
     "output_type": "stream",
     "text": [
      "CDE = 0.23 - 0.09000000000000002 = 0.13999999999999999\n"
     ]
    }
   ],
   "source": [
    "# Danger: High\n",
    "ci_R_T=csl.causalImpact(cs1,on={\"Speed\"}, doing={\"RoadWorks\",\"RoadConditions\"}, values={\"RoadWorks\":'True', \"RoadConditions\":'Dry'})[1][1]\n",
    "ci_R_F=csl.causalImpact(cs1,on={\"Speed\"}, doing={\"RoadWorks\",\"RoadConditions\"}, values={\"RoadWorks\":'True', \"RoadConditions\":'Wet'})[1][1]\n",
    "\n",
    "CDE= ci_R_T-ci_R_F\n",
    "print('CDE =', str(ci_R_T), '-', str(ci_R_F), '=', str(CDE))"
   ]
  },
  {
   "cell_type": "code",
   "execution_count": 55,
   "metadata": {
    "pycharm": {
     "is_executing": false,
     "name": "#%%\n"
    }
   },
   "outputs": [
    {
     "name": "stdout",
     "output_type": "stream",
     "text": [
      "CDE = 0.28 - 0.64 = -0.36\n"
     ]
    }
   ],
   "source": [
    "# Danger: Low\n",
    "ci_R_T=csl.causalImpact(cs1,on={\"Speed\"}, doing={\"RoadWorks\",\"RoadConditions\"}, values={\"RoadWorks\":'False', \"RoadConditions\":'Dry'})[1][0]\n",
    "ci_R_F=csl.causalImpact(cs1,on={\"Speed\"}, doing={\"RoadWorks\",\"RoadConditions\"}, values={\"RoadWorks\":'False', \"RoadConditions\":'Wet'})[1][0]\n",
    "\n",
    "CDE= ci_R_T-ci_R_F\n",
    "print('CDE =', str(ci_R_T), '-', str(ci_R_F), '=', str(CDE))"
   ]
  },
  {
   "cell_type": "code",
   "execution_count": 56,
   "metadata": {},
   "outputs": [
    {
     "name": "stdout",
     "output_type": "stream",
     "text": [
      "CDE = 0.7700000000000001 - 0.9100000000000001 = -0.14\n"
     ]
    }
   ],
   "source": [
    "# Danger: Low\n",
    "ci_R_T=csl.causalImpact(cs1,on={\"Speed\"}, doing={\"RoadWorks\",\"RoadConditions\"}, values={\"RoadWorks\":'True', \"RoadConditions\":'Dry'})[1][0]\n",
    "ci_R_F=csl.causalImpact(cs1,on={\"Speed\"}, doing={\"RoadWorks\",\"RoadConditions\"}, values={\"RoadWorks\":'True', \"RoadConditions\":'Wet'})[1][0]\n",
    "\n",
    "CDE= ci_R_T-ci_R_F\n",
    "print('CDE =', str(ci_R_T), '-', str(ci_R_F), '=', str(CDE))"
   ]
  }
 ],
 "metadata": {
  "kernelspec": {
   "display_name": "Python 3",
   "language": "python",
   "name": "python3"
  },
  "language_info": {
   "codemirror_mode": {
    "name": "ipython",
    "version": 3
   },
   "file_extension": ".py",
   "mimetype": "text/x-python",
   "name": "python",
   "nbconvert_exporter": "python",
   "pygments_lexer": "ipython3",
   "version": "3.7.6"
  },
  "pycharm": {
   "stem_cell": {
    "cell_type": "raw",
    "metadata": {
     "collapsed": false
    },
    "source": []
   }
  }
 },
 "nbformat": 4,
 "nbformat_minor": 1
}
