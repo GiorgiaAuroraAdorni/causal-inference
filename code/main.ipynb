{
 "cells": [
  {
   "cell_type": "code",
   "execution_count": 6,
   "metadata": {
    "collapsed": true,
    "pycharm": {
     "is_executing": false
    }
   },
   "outputs": [],
   "source": [
    "from IPython.display import display, Math, Latex, HTML\n",
    "\n",
    "import pyAgrum as gum\n",
    "import pyAgrum.lib.notebook as gnb\n",
    "import pyAgrum.causal as csl\n",
    "import pyAgrum.causal.notebook as cslnb\n",
    "import os"
   ]
  },
  {
   "cell_type": "code",
   "execution_count": 34,
   "outputs": [
    {
     "data": {
      "text/plain": "<IPython.core.display.SVG object>",
      "image/svg+xml": "<svg height=\"404pt\" viewBox=\"0.00 0.00 517.02 404.00\" width=\"517pt\" xmlns=\"http://www.w3.org/2000/svg\" xmlns:xlink=\"http://www.w3.org/1999/xlink\">\n<g class=\"graph\" id=\"graph0\" transform=\"scale(1 1) rotate(0) translate(4 400)\">\n<title>G</title>\n<!-- Season -->\n<g class=\"node\" id=\"node1\">\n<title>Season</title>\n<g id=\"a_node1\"><a xlink:title=\"(0) Season\">\n<ellipse cx=\"322.92\" cy=\"-378\" fill=\"#404040\" rx=\"35.32\" ry=\"18\" stroke=\"black\"/>\n<text fill=\"white\" font-family=\"Times,serif\" font-size=\"14.00\" text-anchor=\"middle\" x=\"322.92\" y=\"-373.8\">Season</text>\n</a>\n</g>\n</g>\n<!-- Weather -->\n<g class=\"node\" id=\"node2\">\n<title>Weather</title>\n<g id=\"a_node2\"><a xlink:title=\"(1) Weather\">\n<ellipse cx=\"322.92\" cy=\"-306\" fill=\"#404040\" rx=\"39.2\" ry=\"18\" stroke=\"black\"/>\n<text fill=\"white\" font-family=\"Times,serif\" font-size=\"14.00\" text-anchor=\"middle\" x=\"322.92\" y=\"-301.8\">Weather</text>\n</a>\n</g>\n</g>\n<!-- Season&#45;&gt;Weather -->\n<g class=\"edge\" id=\"edge17\">\n<title>Season-&gt;Weather</title>\n<g id=\"a_edge17\"><a xlink:title=\"(0, 1) : \">\n<path d=\"M322.92,-359.7C322.92,-351.98 322.92,-342.71 322.92,-334.11\" fill=\"none\" stroke=\"#4a4a4a\"/>\n<polygon fill=\"#4a4a4a\" points=\"326.42,-334.1 322.92,-324.1 319.42,-334.1 326.42,-334.1\" stroke=\"#4a4a4a\"/>\n</a>\n</g>\n</g>\n<!-- RoadConditions -->\n<g class=\"node\" id=\"node3\">\n<title>RoadConditions</title>\n<g id=\"a_node3\"><a xlink:title=\"(2) RoadConditions\">\n<ellipse cx=\"96.92\" cy=\"-234\" fill=\"#404040\" rx=\"67.69\" ry=\"18\" stroke=\"black\"/>\n<text fill=\"white\" font-family=\"Times,serif\" font-size=\"14.00\" text-anchor=\"middle\" x=\"96.92\" y=\"-229.8\">RoadConditions</text>\n</a>\n</g>\n</g>\n<!-- Season&#45;&gt;RoadConditions -->\n<g class=\"edge\" id=\"edge22\">\n<title>Season-&gt;RoadConditions</title>\n<g id=\"a_edge22\"><a xlink:title=\"(0, 2) : \">\n<path d=\"M301.66,-363.64C262.33,-338.93 177.93,-285.9 130.69,-256.22\" fill=\"none\" stroke=\"#4a4a4a\"/>\n<polygon fill=\"#4a4a4a\" points=\"132.38,-253.15 122.05,-250.79 128.65,-259.07 132.38,-253.15\" stroke=\"#4a4a4a\"/>\n</a>\n</g>\n</g>\n<!-- Journey -->\n<g class=\"node\" id=\"node11\">\n<title>Journey</title>\n<g id=\"a_node11\"><a xlink:title=\"(10) Journey\">\n<ellipse cx=\"470.92\" cy=\"-234\" fill=\"#404040\" rx=\"38.21\" ry=\"18\" stroke=\"black\"/>\n<text fill=\"white\" font-family=\"Times,serif\" font-size=\"14.00\" text-anchor=\"middle\" x=\"470.92\" y=\"-229.8\">Journey</text>\n</a>\n</g>\n</g>\n<!-- Season&#45;&gt;Journey -->\n<g class=\"edge\" id=\"edge6\">\n<title>Season-&gt;Journey</title>\n<g id=\"a_edge6\"><a xlink:title=\"(0, 10) : \">\n<path d=\"M356.37,-372.15C385.92,-366.08 427.94,-352.72 451.92,-324 466.21,-306.89 470.52,-281.6 471.51,-262.35\" fill=\"none\" stroke=\"#4a4a4a\"/>\n<polygon fill=\"#4a4a4a\" points=\"475.01,-262.18 471.76,-252.1 468.01,-262.01 475.01,-262.18\" stroke=\"#4a4a4a\"/>\n</a>\n</g>\n</g>\n<!-- Weather&#45;&gt;RoadConditions -->\n<g class=\"edge\" id=\"edge7\">\n<title>Weather-&gt;RoadConditions</title>\n<g id=\"a_edge7\"><a xlink:title=\"(1, 2) : \">\n<path d=\"M291.02,-295.12C254.14,-283.7 192.91,-264.73 149.08,-251.16\" fill=\"none\" stroke=\"#4a4a4a\"/>\n<polygon fill=\"#4a4a4a\" points=\"150.04,-247.79 139.45,-248.17 147.97,-254.48 150.04,-247.79\" stroke=\"#4a4a4a\"/>\n</a>\n</g>\n</g>\n<!-- Accident -->\n<g class=\"node\" id=\"node7\">\n<title>Accident</title>\n<g id=\"a_node7\"><a xlink:title=\"(6) Accident\">\n<ellipse cx=\"372.92\" cy=\"-234\" fill=\"#404040\" rx=\"42.05\" ry=\"18\" stroke=\"black\"/>\n<text fill=\"white\" font-family=\"Times,serif\" font-size=\"14.00\" text-anchor=\"middle\" x=\"372.92\" y=\"-229.8\">Accident</text>\n</a>\n</g>\n</g>\n<!-- Weather&#45;&gt;Accident -->\n<g class=\"edge\" id=\"edge5\">\n<title>Weather-&gt;Accident</title>\n<g id=\"a_edge5\"><a xlink:title=\"(1, 6) : \">\n<path d=\"M334.52,-288.76C340.61,-280.23 348.22,-269.58 355.05,-260.02\" fill=\"none\" stroke=\"#4a4a4a\"/>\n<polygon fill=\"#4a4a4a\" points=\"358.07,-261.81 361.04,-251.63 352.38,-257.74 358.07,-261.81\" stroke=\"#4a4a4a\"/>\n</a>\n</g>\n</g>\n<!-- Weather&#45;&gt;Journey -->\n<g class=\"edge\" id=\"edge11\">\n<title>Weather-&gt;Journey</title>\n<g id=\"a_edge11\"><a xlink:title=\"(1, 10) : \">\n<path d=\"M349.38,-292.49C373.37,-281.14 408.93,-264.32 435.39,-251.8\" fill=\"none\" stroke=\"#4a4a4a\"/>\n<polygon fill=\"#4a4a4a\" points=\"437.14,-254.85 444.69,-247.41 434.15,-248.52 437.14,-254.85\" stroke=\"#4a4a4a\"/>\n</a>\n</g>\n</g>\n<!-- RoadWorks -->\n<g class=\"node\" id=\"node4\">\n<title>RoadWorks</title>\n<g id=\"a_node4\"><a xlink:title=\"(3) RoadWorks\">\n<ellipse cx=\"147.92\" cy=\"-162\" fill=\"#404040\" rx=\"51.79\" ry=\"18\" stroke=\"black\"/>\n<text fill=\"white\" font-family=\"Times,serif\" font-size=\"14.00\" text-anchor=\"middle\" x=\"147.92\" y=\"-157.8\">RoadWorks</text>\n</a>\n</g>\n</g>\n<!-- RoadConditions&#45;&gt;RoadWorks -->\n<g class=\"edge\" id=\"edge15\">\n<title>RoadConditions-&gt;RoadWorks</title>\n<g id=\"a_edge15\"><a xlink:title=\"(2, 3) : \">\n<path d=\"M109.26,-216.05C115.4,-207.63 122.94,-197.28 129.73,-187.97\" fill=\"none\" stroke=\"#4a4a4a\"/>\n<polygon fill=\"#4a4a4a\" points=\"132.63,-189.93 135.69,-179.79 126.97,-185.81 132.63,-189.93\" stroke=\"#4a4a4a\"/>\n</a>\n</g>\n</g>\n<!-- Speed -->\n<g class=\"node\" id=\"node8\">\n<title>Speed</title>\n<g id=\"a_node8\"><a xlink:title=\"(7) Speed\">\n<ellipse cx=\"46.92\" cy=\"-162\" fill=\"#404040\" rx=\"31.94\" ry=\"18\" stroke=\"black\"/>\n<text fill=\"white\" font-family=\"Times,serif\" font-size=\"14.00\" text-anchor=\"middle\" x=\"46.92\" y=\"-157.8\">Speed</text>\n</a>\n</g>\n</g>\n<!-- RoadConditions&#45;&gt;Speed -->\n<g class=\"edge\" id=\"edge18\">\n<title>RoadConditions-&gt;Speed</title>\n<g id=\"a_edge18\"><a xlink:title=\"(2, 7) : \">\n<path d=\"M84.81,-216.05C78.62,-207.38 70.97,-196.67 64.17,-187.15\" fill=\"none\" stroke=\"#4a4a4a\"/>\n<polygon fill=\"#4a4a4a\" points=\"66.89,-184.93 58.23,-178.83 61.19,-189 66.89,-184.93\" stroke=\"#4a4a4a\"/>\n</a>\n</g>\n</g>\n<!-- Danger -->\n<g class=\"node\" id=\"node9\">\n<title>Danger</title>\n<g id=\"a_node9\"><a xlink:title=\"(8) Danger\">\n<ellipse cx=\"89.92\" cy=\"-90\" fill=\"#404040\" rx=\"36.26\" ry=\"18\" stroke=\"black\"/>\n<text fill=\"white\" font-family=\"Times,serif\" font-size=\"14.00\" text-anchor=\"middle\" x=\"89.92\" y=\"-85.8\">Danger</text>\n</a>\n</g>\n</g>\n<!-- RoadConditions&#45;&gt;Danger -->\n<g class=\"edge\" id=\"edge2\">\n<title>RoadConditions-&gt;Danger</title>\n<g id=\"a_edge2\"><a xlink:title=\"(2, 8) : \">\n<path d=\"M55.47,-219.71C36.84,-211.43 16.67,-198.7 5.92,-180 -2.06,-166.13 -1.81,-158.01 5.92,-144 15.68,-126.29 34.13,-113.68 51.26,-105.22\" fill=\"none\" stroke=\"#4a4a4a\"/>\n<polygon fill=\"#4a4a4a\" points=\"52.95,-108.3 60.57,-100.94 50.02,-101.94 52.95,-108.3\" stroke=\"#4a4a4a\"/>\n</a>\n</g>\n</g>\n<!-- Delay -->\n<g class=\"node\" id=\"node5\">\n<title>Delay</title>\n<g id=\"a_node5\"><a xlink:title=\"(4) Delay\">\n<ellipse cx=\"260.92\" cy=\"-90\" fill=\"#404040\" rx=\"31.45\" ry=\"18\" stroke=\"black\"/>\n<text fill=\"white\" font-family=\"Times,serif\" font-size=\"14.00\" text-anchor=\"middle\" x=\"260.92\" y=\"-85.8\">Delay</text>\n</a>\n</g>\n</g>\n<!-- RoadWorks&#45;&gt;Delay -->\n<g class=\"edge\" id=\"edge9\">\n<title>RoadWorks-&gt;Delay</title>\n<g id=\"a_edge9\"><a xlink:title=\"(3, 4) : \">\n<path d=\"M172.16,-145.98C189.66,-135.14 213.37,-120.46 231.88,-108.99\" fill=\"none\" stroke=\"#4a4a4a\"/>\n<polygon fill=\"#4a4a4a\" points=\"233.84,-111.89 240.5,-103.65 230.15,-105.94 233.84,-111.89\" stroke=\"#4a4a4a\"/>\n</a>\n</g>\n</g>\n<!-- TrafficJam -->\n<g class=\"node\" id=\"node6\">\n<title>TrafficJam</title>\n<g id=\"a_node6\"><a xlink:title=\"(5) TrafficJam\">\n<ellipse cx=\"303.92\" cy=\"-162\" fill=\"#404040\" rx=\"48.21\" ry=\"18\" stroke=\"black\"/>\n<text fill=\"white\" font-family=\"Times,serif\" font-size=\"14.00\" text-anchor=\"middle\" x=\"303.92\" y=\"-157.8\">TrafficJam</text>\n</a>\n</g>\n</g>\n<!-- TrafficJam&#45;&gt;Delay -->\n<g class=\"edge\" id=\"edge14\">\n<title>TrafficJam-&gt;Delay</title>\n<g id=\"a_edge14\"><a xlink:title=\"(5, 4) : \">\n<path d=\"M293.51,-144.05C288.31,-135.59 281.92,-125.19 276.18,-115.84\" fill=\"none\" stroke=\"#4a4a4a\"/>\n<polygon fill=\"#4a4a4a\" points=\"279.15,-114 270.94,-107.31 273.19,-117.66 279.15,-114\" stroke=\"#4a4a4a\"/>\n</a>\n</g>\n</g>\n<!-- Accident&#45;&gt;Delay -->\n<g class=\"edge\" id=\"edge13\">\n<title>Accident-&gt;Delay</title>\n<g id=\"a_edge13\"><a xlink:title=\"(6, 4) : \">\n<path d=\"M374.97,-215.95C376.38,-196.73 375.81,-165.36 360.92,-144 346.21,-122.89 320.38,-109.51 298.66,-101.48\" fill=\"none\" stroke=\"#4a4a4a\"/>\n<polygon fill=\"#4a4a4a\" points=\"299.62,-98.1 289.02,-98.15 297.34,-104.72 299.62,-98.1\" stroke=\"#4a4a4a\"/>\n</a>\n</g>\n</g>\n<!-- Accident&#45;&gt;TrafficJam -->\n<g class=\"edge\" id=\"edge16\">\n<title>Accident-&gt;TrafficJam</title>\n<g id=\"a_edge16\"><a xlink:title=\"(6, 5) : \">\n<path d=\"M357.26,-217.12C348.39,-208.12 337.12,-196.68 327.23,-186.65\" fill=\"none\" stroke=\"#4a4a4a\"/>\n<polygon fill=\"#4a4a4a\" points=\"329.51,-183.97 319.99,-179.31 324.52,-188.89 329.51,-183.97\" stroke=\"#4a4a4a\"/>\n</a>\n</g>\n</g>\n<!-- Fatality -->\n<g class=\"node\" id=\"node10\">\n<title>Fatality</title>\n<g id=\"a_node10\"><a xlink:title=\"(9) Fatality\">\n<ellipse cx=\"417.92\" cy=\"-18\" fill=\"#404040\" rx=\"37.25\" ry=\"18\" stroke=\"black\"/>\n<text fill=\"white\" font-family=\"Times,serif\" font-size=\"14.00\" text-anchor=\"middle\" x=\"417.92\" y=\"-13.8\">Fatality</text>\n</a>\n</g>\n</g>\n<!-- Accident&#45;&gt;Fatality -->\n<g class=\"edge\" id=\"edge1\">\n<title>Accident-&gt;Fatality</title>\n<g id=\"a_edge1\"><a xlink:title=\"(6, 9) : \">\n<path d=\"M376.52,-215.85C384.34,-178.66 402.91,-90.37 412.29,-45.77\" fill=\"none\" stroke=\"#4a4a4a\"/>\n<polygon fill=\"#4a4a4a\" points=\"415.72,-46.44 414.36,-35.94 408.87,-45 415.72,-46.44\" stroke=\"#4a4a4a\"/>\n</a>\n</g>\n</g>\n<!-- Speed&#45;&gt;Delay -->\n<g class=\"edge\" id=\"edge20\">\n<title>Speed-&gt;Delay</title>\n<g id=\"a_edge20\"><a xlink:title=\"(7, 4) : \">\n<path d=\"M71.29,-150.16C76.41,-148.01 81.81,-145.86 86.92,-144 133.24,-127.15 187.76,-111.15 223.27,-101.22\" fill=\"none\" stroke=\"#4a4a4a\"/>\n<polygon fill=\"#4a4a4a\" points=\"224.5,-104.51 233.2,-98.46 222.62,-97.76 224.5,-104.51\" stroke=\"#4a4a4a\"/>\n</a>\n</g>\n</g>\n<!-- Speed&#45;&gt;Danger -->\n<g class=\"edge\" id=\"edge21\">\n<title>Speed-&gt;Danger</title>\n<g id=\"a_edge21\"><a xlink:title=\"(7, 8) : \">\n<path d=\"M56.89,-144.76C62.08,-136.32 68.54,-125.8 74.37,-116.31\" fill=\"none\" stroke=\"#4a4a4a\"/>\n<polygon fill=\"#4a4a4a\" points=\"77.45,-117.99 79.7,-107.63 71.48,-114.32 77.45,-117.99\" stroke=\"#4a4a4a\"/>\n</a>\n</g>\n</g>\n<!-- Danger&#45;&gt;Fatality -->\n<g class=\"edge\" id=\"edge3\">\n<title>Danger-&gt;Fatality</title>\n<g id=\"a_edge3\"><a xlink:title=\"(8, 9) : \">\n<path d=\"M122.57,-82.03C181.94,-69.36 307.59,-42.55 374.25,-28.32\" fill=\"none\" stroke=\"#4a4a4a\"/>\n<polygon fill=\"#4a4a4a\" points=\"375.38,-31.66 384.42,-26.15 373.91,-24.81 375.38,-31.66\" stroke=\"#4a4a4a\"/>\n</a>\n</g>\n</g>\n<!-- Journey&#45;&gt;Fatality -->\n<g class=\"edge\" id=\"edge12\">\n<title>Journey-&gt;Fatality</title>\n<g id=\"a_edge12\"><a xlink:title=\"(10, 9) : \">\n<path d=\"M466.67,-215.85C457.46,-178.66 435.6,-90.37 424.55,-45.77\" fill=\"none\" stroke=\"#4a4a4a\"/>\n<polygon fill=\"#4a4a4a\" points=\"427.91,-44.8 422.11,-35.94 421.12,-46.48 427.91,-44.8\" stroke=\"#4a4a4a\"/>\n</a>\n</g>\n</g>\n<!-- RushHour -->\n<g class=\"node\" id=\"node12\">\n<title>RushHour</title>\n<g id=\"a_node12\"><a xlink:title=\"(11) RushHour\">\n<ellipse cx=\"228.92\" cy=\"-234\" fill=\"#404040\" rx=\"46.43\" ry=\"18\" stroke=\"black\"/>\n<text fill=\"white\" font-family=\"Times,serif\" font-size=\"14.00\" text-anchor=\"middle\" x=\"228.92\" y=\"-229.8\">RushHour</text>\n</a>\n</g>\n</g>\n<!-- RushHour&#45;&gt;TrafficJam -->\n<g class=\"edge\" id=\"edge8\">\n<title>RushHour-&gt;TrafficJam</title>\n<g id=\"a_edge8\"><a xlink:title=\"(11, 5) : \">\n<path d=\"M245.94,-217.12C255.74,-207.96 268.25,-196.29 279.13,-186.13\" fill=\"none\" stroke=\"#4a4a4a\"/>\n<polygon fill=\"#4a4a4a\" points=\"281.79,-188.45 286.71,-179.06 277.01,-183.33 281.79,-188.45\" stroke=\"#4a4a4a\"/>\n</a>\n</g>\n</g>\n<!-- RushHour&#45;&gt;Danger -->\n<g class=\"edge\" id=\"edge19\">\n<title>RushHour-&gt;Danger</title>\n<g id=\"a_edge19\"><a xlink:title=\"(11, 8) : \">\n<path d=\"M229.43,-215.98C229.12,-196.48 225.78,-164.58 208.92,-144 189.94,-120.83 158.75,-107.45 133.07,-99.93\" fill=\"none\" stroke=\"#4a4a4a\"/>\n<polygon fill=\"#4a4a4a\" points=\"133.74,-96.49 123.17,-97.24 131.9,-103.24 133.74,-96.49\" stroke=\"#4a4a4a\"/>\n</a>\n</g>\n</g>\n<!-- Strike -->\n<g class=\"node\" id=\"node13\">\n<title>Strike</title>\n<g id=\"a_node13\"><a xlink:title=\"(12) Strike\">\n<ellipse cx=\"411.92\" cy=\"-306\" fill=\"#404040\" rx=\"31.46\" ry=\"18\" stroke=\"black\"/>\n<text fill=\"white\" font-family=\"Times,serif\" font-size=\"14.00\" text-anchor=\"middle\" x=\"411.92\" y=\"-301.8\">Strike</text>\n</a>\n</g>\n</g>\n<!-- Strike&#45;&gt;TrafficJam -->\n<g class=\"edge\" id=\"edge4\">\n<title>Strike-&gt;TrafficJam</title>\n<g id=\"a_edge4\"><a xlink:title=\"(12, 5) : \">\n<path d=\"M388.31,-293.86C364.64,-282.23 330.49,-264.04 321.92,-252 309.09,-233.99 304.91,-209 303.76,-190.09\" fill=\"none\" stroke=\"#4a4a4a\"/>\n<polygon fill=\"#4a4a4a\" points=\"307.26,-189.88 303.39,-180.02 300.26,-190.14 307.26,-189.88\" stroke=\"#4a4a4a\"/>\n</a>\n</g>\n</g>\n<!-- Strike&#45;&gt;Journey -->\n<g class=\"edge\" id=\"edge10\">\n<title>Strike-&gt;Journey</title>\n<g id=\"a_edge10\"><a xlink:title=\"(12, 10) : \">\n<path d=\"M425.01,-289.46C432.62,-280.44 442.36,-268.88 450.91,-258.73\" fill=\"none\" stroke=\"#4a4a4a\"/>\n<polygon fill=\"#4a4a4a\" points=\"453.68,-260.88 457.45,-250.98 448.33,-256.37 453.68,-260.88\" stroke=\"#4a4a4a\"/>\n</a>\n</g>\n</g>\n</g>\n</svg>"
     },
     "metadata": {},
     "output_type": "display_data"
    }
   ],
   "source": [
    "#construct network\n",
    "m0 = gum.fastBN(\"Season{Winter|Spring|Summer|Autumn}->Weather{Good|Bad}->RoadConditions{Good|Bad};\"\n",
    "                \"RoadConditions->RoadWorks{True|False}->Delay{True|False}<-TrafficJam{True|False}<-Accident{True|False};\"\n",
    "                \"Accident->Delay<-Speed{Slow|Fast}<-RoadConditions->Danger{Low|High}->Fatality{True|False};\"\n",
    "                \"Fatality<-Journey{True|False}<-Weather->Accident->Fatality;Danger<-RushHour{True|False}->TrafficJam;\"\n",
    "                \"TrafficJam<-Strike{True|False}->Journey<-Season->RoadConditions;Speed->Danger\")\n",
    "\n",
    "# OneThird=1/3\n",
    "# \n",
    "# m0.cpt(\"X\")[:]=[OneThird, OneThird, OneThird]\n",
    "# m0.cpt(\"Y\")[:]=[OneThird, OneThird, OneThird]\n",
    "# \n",
    "# m0.cpt(\"Z\")[{'X':'A','Y':'A'}]=[0,0.5,0.5]\n",
    "# m0.cpt(\"Z\")[{'X':'B','Y':'B'}]=[0.5,0,0.5]\n",
    "# m0.cpt(\"Z\")[{'X':'C','Y':'C'}]=[0.5,0.5,0] \n",
    "# m0.cpt(\"Z\")[{'X':'A','Y':'B'}]=[0,0,1]\n",
    "# m0.cpt(\"Z\")[{'X':'A','Y':'C'}]=[0,1,0]\n",
    "# m0.cpt(\"Z\")[{'X':'B','Y':'A'}]=[0,0,1] \n",
    "# m0.cpt(\"Z\")[{'X':'B','Y':'C'}]=[1,0,0]\n",
    "# m0.cpt(\"Z\")[{'X':'C','Y':'A'}]=[0,1,0]\n",
    "# m0.cpt(\"Z\")[{'X':'C','Y':'B'}]=[1,0,0]\n",
    "\n",
    "gnb.showBN(m0, size=10)\n",
    "\n",
    "#to draw network and cpt\n",
    "# gnb.sideBySide(m0,m0.cpt(\"X\"),m0.cpt(\"Y\"),m0.cpt(\"Z\"))\n"
   ],
   "metadata": {
    "collapsed": false,
    "pycharm": {
     "name": "#%%\n",
     "is_executing": false
    }
   }
  }
 ],
 "metadata": {
  "kernelspec": {
   "display_name": "Python 3",
   "language": "python",
   "name": "python3"
  },
  "language_info": {
   "codemirror_mode": {
    "name": "ipython",
    "version": 2
   },
   "file_extension": ".py",
   "mimetype": "text/x-python",
   "name": "python",
   "nbconvert_exporter": "python",
   "pygments_lexer": "ipython2",
   "version": "2.7.6"
  },
  "pycharm": {
   "stem_cell": {
    "cell_type": "raw",
    "source": [],
    "metadata": {
     "collapsed": false
    }
   }
  }
 },
 "nbformat": 4,
 "nbformat_minor": 0
}