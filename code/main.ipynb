{
 "cells": [
  {
   "cell_type": "code",
   "execution_count": null,
   "outputs": [],
   "source": [
    "from IPython.display import display, Math, Latex, HTML\n",
    "\n",
    "import pyAgrum as gum\n",
    "import pyAgrum.lib.notebook as gnb\n",
    "import pyAgrum.causal as csl\n",
    "import pyAgrum.causal.notebook as cslnb\n",
    "import os"
   ],
   "metadata": {
    "collapsed": false,
    "pycharm": {
     "name": "#%%\n"
    }
   }
  },
  {
   "cell_type": "code",
   "execution_count": 103,
   "outputs": [
    {
     "data": {
      "text/plain": "<IPython.core.display.SVG object>",
      "image/svg+xml": "<svg height=\"476pt\" viewBox=\"0.00 0.00 396.92 476.00\" width=\"397pt\" xmlns=\"http://www.w3.org/2000/svg\" xmlns:xlink=\"http://www.w3.org/1999/xlink\">\n<g class=\"graph\" id=\"graph0\" transform=\"scale(1 1) rotate(0) translate(4 472)\">\n<title>G</title>\n<!-- Journey -->\n<g class=\"node\" id=\"node1\">\n<title>Journey</title>\n<g id=\"a_node1\"><a xlink:title=\"(0) Journey\">\n<ellipse cx=\"293.69\" cy=\"-162\" fill=\"#404040\" rx=\"38.21\" ry=\"18\" stroke=\"black\"/>\n<text fill=\"white\" font-family=\"Times,serif\" font-size=\"14.00\" text-anchor=\"middle\" x=\"293.69\" y=\"-157.8\">Journey</text>\n</a>\n</g>\n</g>\n<!-- Delay -->\n<g class=\"node\" id=\"node6\">\n<title>Delay</title>\n<g id=\"a_node6\"><a xlink:title=\"(5) Delay\">\n<ellipse cx=\"258.69\" cy=\"-18\" fill=\"#404040\" rx=\"31.45\" ry=\"18\" stroke=\"black\"/>\n<text fill=\"white\" font-family=\"Times,serif\" font-size=\"14.00\" text-anchor=\"middle\" x=\"258.69\" y=\"-13.8\">Delay</text>\n</a>\n</g>\n</g>\n<!-- Journey&#45;&gt;Delay -->\n<g class=\"edge\" id=\"edge9\">\n<title>Journey-&gt;Delay</title>\n<g id=\"a_edge9\"><a xlink:title=\"(0, 5) : \">\n<path d=\"M290.46,-143.84C286.98,-125.84 281.07,-96.79 274.69,-72 272.48,-63.4 269.78,-54.1 267.23,-45.73\" fill=\"none\" stroke=\"#4a4a4a\"/>\n<polygon fill=\"#4a4a4a\" points=\"270.54,-44.6 264.24,-36.08 263.86,-46.67 270.54,-44.6\" stroke=\"#4a4a4a\"/>\n</a>\n</g>\n</g>\n<!-- Accident -->\n<g class=\"node\" id=\"node7\">\n<title>Accident</title>\n<g id=\"a_node7\"><a xlink:title=\"(6) Accident\">\n<ellipse cx=\"223.69\" cy=\"-90\" fill=\"#404040\" rx=\"42.05\" ry=\"18\" stroke=\"black\"/>\n<text fill=\"white\" font-family=\"Times,serif\" font-size=\"14.00\" text-anchor=\"middle\" x=\"223.69\" y=\"-85.8\">Accident</text>\n</a>\n</g>\n</g>\n<!-- Journey&#45;&gt;Accident -->\n<g class=\"edge\" id=\"edge7\">\n<title>Journey-&gt;Accident</title>\n<g id=\"a_edge7\"><a xlink:title=\"(0, 6) : \">\n<path d=\"M278.15,-145.46C268.95,-136.26 257.11,-124.42 246.82,-114.13\" fill=\"none\" stroke=\"#4a4a4a\"/>\n<polygon fill=\"#4a4a4a\" points=\"249.21,-111.57 239.67,-106.98 244.26,-116.52 249.21,-111.57\" stroke=\"#4a4a4a\"/>\n</a>\n</g>\n</g>\n<!-- Weather -->\n<g class=\"node\" id=\"node2\">\n<title>Weather</title>\n<g id=\"a_node2\"><a xlink:title=\"(1) Weather\">\n<ellipse cx=\"181.69\" cy=\"-450\" fill=\"#404040\" rx=\"39.2\" ry=\"18\" stroke=\"black\"/>\n<text fill=\"white\" font-family=\"Times,serif\" font-size=\"14.00\" text-anchor=\"middle\" x=\"181.69\" y=\"-445.8\">Weather</text>\n</a>\n</g>\n</g>\n<!-- Weather&#45;&gt;Journey -->\n<g class=\"edge\" id=\"edge13\">\n<title>Weather-&gt;Journey</title>\n<g id=\"a_edge13\"><a xlink:title=\"(1, 0) : \">\n<path d=\"M194.34,-432.59C211.47,-409.58 241.83,-365.84 258.69,-324 276.84,-278.95 286.31,-222.83 290.63,-190.14\" fill=\"none\" stroke=\"#4a4a4a\"/>\n<polygon fill=\"#4a4a4a\" points=\"294.13,-190.37 291.9,-180.01 287.19,-189.49 294.13,-190.37\" stroke=\"#4a4a4a\"/>\n</a>\n</g>\n</g>\n<!-- RoadConditions -->\n<g class=\"node\" id=\"node3\">\n<title>RoadConditions</title>\n<g id=\"a_node3\"><a xlink:title=\"(2) RoadConditions\">\n<ellipse cx=\"133.69\" cy=\"-378\" fill=\"#404040\" rx=\"67.69\" ry=\"18\" stroke=\"black\"/>\n<text fill=\"white\" font-family=\"Times,serif\" font-size=\"14.00\" text-anchor=\"middle\" x=\"133.69\" y=\"-373.8\">RoadConditions</text>\n</a>\n</g>\n</g>\n<!-- Weather&#45;&gt;RoadConditions -->\n<g class=\"edge\" id=\"edge1\">\n<title>Weather-&gt;RoadConditions</title>\n<g id=\"a_edge1\"><a xlink:title=\"(1, 2) : \">\n<path d=\"M170.31,-432.41C164.6,-424.08 157.55,-413.8 151.17,-404.49\" fill=\"none\" stroke=\"#4a4a4a\"/>\n<polygon fill=\"#4a4a4a\" points=\"153.86,-402.22 145.32,-395.96 148.09,-406.18 153.86,-402.22\" stroke=\"#4a4a4a\"/>\n</a>\n</g>\n</g>\n<!-- RoadWorks -->\n<g class=\"node\" id=\"node4\">\n<title>RoadWorks</title>\n<g id=\"a_node4\"><a xlink:title=\"(3) RoadWorks\">\n<ellipse cx=\"67.69\" cy=\"-306\" fill=\"#404040\" rx=\"51.79\" ry=\"18\" stroke=\"black\"/>\n<text fill=\"white\" font-family=\"Times,serif\" font-size=\"14.00\" text-anchor=\"middle\" x=\"67.69\" y=\"-301.8\">RoadWorks</text>\n</a>\n</g>\n</g>\n<!-- RoadConditions&#45;&gt;RoadWorks -->\n<g class=\"edge\" id=\"edge10\">\n<title>RoadConditions-&gt;RoadWorks</title>\n<g id=\"a_edge10\"><a xlink:title=\"(2, 3) : \">\n<path d=\"M118.05,-360.41C109.75,-351.61 99.4,-340.63 90.24,-330.92\" fill=\"none\" stroke=\"#4a4a4a\"/>\n<polygon fill=\"#4a4a4a\" points=\"92.63,-328.34 83.22,-323.47 87.53,-333.15 92.63,-328.34\" stroke=\"#4a4a4a\"/>\n</a>\n</g>\n</g>\n<!-- Speed -->\n<g class=\"node\" id=\"node5\">\n<title>Speed</title>\n<g id=\"a_node5\"><a xlink:title=\"(4) Speed\">\n<ellipse cx=\"137.69\" cy=\"-234\" fill=\"#404040\" rx=\"31.94\" ry=\"18\" stroke=\"black\"/>\n<text fill=\"white\" font-family=\"Times,serif\" font-size=\"14.00\" text-anchor=\"middle\" x=\"137.69\" y=\"-229.8\">Speed</text>\n</a>\n</g>\n</g>\n<!-- RoadConditions&#45;&gt;Speed -->\n<g class=\"edge\" id=\"edge15\">\n<title>RoadConditions-&gt;Speed</title>\n<g id=\"a_edge15\"><a xlink:title=\"(2, 4) : \">\n<path d=\"M77.05,-368.04C51,-360.78 22.45,-347.66 6.69,-324 -2.18,-310.68 -2.25,-301.27 6.69,-288 26.65,-258.39 66.26,-245.32 96.72,-239.55\" fill=\"none\" stroke=\"#4a4a4a\"/>\n<polygon fill=\"#4a4a4a\" points=\"97.39,-242.99 106.66,-237.86 96.21,-236.09 97.39,-242.99\" stroke=\"#4a4a4a\"/>\n</a>\n</g>\n</g>\n<!-- Danger -->\n<g class=\"node\" id=\"node9\">\n<title>Danger</title>\n<g id=\"a_node9\"><a xlink:title=\"(8) Danger\">\n<ellipse cx=\"201.69\" cy=\"-162\" fill=\"#404040\" rx=\"36.26\" ry=\"18\" stroke=\"black\"/>\n<text fill=\"white\" font-family=\"Times,serif\" font-size=\"14.00\" text-anchor=\"middle\" x=\"201.69\" y=\"-157.8\">Danger</text>\n</a>\n</g>\n</g>\n<!-- RoadConditions&#45;&gt;Danger -->\n<g class=\"edge\" id=\"edge5\">\n<title>RoadConditions-&gt;Danger</title>\n<g id=\"a_edge5\"><a xlink:title=\"(2, 8) : \">\n<path d=\"M181.59,-365.19C202.96,-357.28 226.11,-344.43 238.69,-324 265.07,-281.13 237.89,-221.38 218.19,-188.03\" fill=\"none\" stroke=\"#4a4a4a\"/>\n<polygon fill=\"#4a4a4a\" points=\"221.09,-186.06 212.88,-179.36 215.12,-189.72 221.09,-186.06\" stroke=\"#4a4a4a\"/>\n</a>\n</g>\n</g>\n<!-- RoadWorks&#45;&gt;Speed -->\n<g class=\"edge\" id=\"edge14\">\n<title>RoadWorks-&gt;Speed</title>\n<g id=\"a_edge14\"><a xlink:title=\"(3, 4) : \">\n<path d=\"M83.93,-288.76C93.29,-279.4 105.19,-267.5 115.41,-257.28\" fill=\"none\" stroke=\"#4a4a4a\"/>\n<polygon fill=\"#4a4a4a\" points=\"117.9,-259.73 122.5,-250.19 112.95,-254.79 117.9,-259.73\" stroke=\"#4a4a4a\"/>\n</a>\n</g>\n</g>\n<!-- Speed&#45;&gt;Delay -->\n<g class=\"edge\" id=\"edge4\">\n<title>Speed-&gt;Delay</title>\n<g id=\"a_edge4\"><a xlink:title=\"(4, 5) : \">\n<path d=\"M137.19,-215.74C137.12,-184.22 141.01,-116.51 172.69,-72 185.22,-54.4 205.6,-41.46 223.38,-32.78\" fill=\"none\" stroke=\"#4a4a4a\"/>\n<polygon fill=\"#4a4a4a\" points=\"225.3,-35.75 232.92,-28.39 222.38,-29.39 225.3,-35.75\" stroke=\"#4a4a4a\"/>\n</a>\n</g>\n</g>\n<!-- Speed&#45;&gt;Danger -->\n<g class=\"edge\" id=\"edge3\">\n<title>Speed-&gt;Danger</title>\n<g id=\"a_edge3\"><a xlink:title=\"(4, 8) : \">\n<path d=\"M151.58,-217.81C160.01,-208.58 170.96,-196.61 180.46,-186.22\" fill=\"none\" stroke=\"#4a4a4a\"/>\n<polygon fill=\"#4a4a4a\" points=\"183.22,-188.39 187.39,-178.64 178.06,-183.66 183.22,-188.39\" stroke=\"#4a4a4a\"/>\n</a>\n</g>\n</g>\n<!-- Accident&#45;&gt;Delay -->\n<g class=\"edge\" id=\"edge16\">\n<title>Accident-&gt;Delay</title>\n<g id=\"a_edge16\"><a xlink:title=\"(6, 5) : \">\n<path d=\"M232.16,-72.05C236.25,-63.89 241.23,-53.91 245.78,-44.82\" fill=\"none\" stroke=\"#4a4a4a\"/>\n<polygon fill=\"#4a4a4a\" points=\"248.95,-46.3 250.3,-35.79 242.69,-43.17 248.95,-46.3\" stroke=\"#4a4a4a\"/>\n</a>\n</g>\n</g>\n<!-- Strike -->\n<g class=\"node\" id=\"node8\">\n<title>Strike</title>\n<g id=\"a_node8\"><a xlink:title=\"(7) Strike\">\n<ellipse cx=\"357.69\" cy=\"-234\" fill=\"#404040\" rx=\"31.46\" ry=\"18\" stroke=\"black\"/>\n<text fill=\"white\" font-family=\"Times,serif\" font-size=\"14.00\" text-anchor=\"middle\" x=\"357.69\" y=\"-229.8\">Strike</text>\n</a>\n</g>\n</g>\n<!-- Strike&#45;&gt;Journey -->\n<g class=\"edge\" id=\"edge2\">\n<title>Strike-&gt;Journey</title>\n<g id=\"a_edge2\"><a xlink:title=\"(7, 0) : \">\n<path d=\"M343.8,-217.81C335.48,-208.71 324.73,-196.95 315.31,-186.65\" fill=\"none\" stroke=\"#4a4a4a\"/>\n<polygon fill=\"#4a4a4a\" points=\"317.77,-184.15 308.44,-179.13 312.61,-188.88 317.77,-184.15\" stroke=\"#4a4a4a\"/>\n</a>\n</g>\n</g>\n<!-- Strike&#45;&gt;Delay -->\n<g class=\"edge\" id=\"edge8\">\n<title>Strike-&gt;Delay</title>\n<g id=\"a_edge8\"><a xlink:title=\"(7, 5) : \">\n<path d=\"M356.39,-215.71C354.55,-197.36 350.28,-167.78 340.69,-144 325.14,-105.46 296.96,-66.23 278.04,-42.25\" fill=\"none\" stroke=\"#4a4a4a\"/>\n<polygon fill=\"#4a4a4a\" points=\"280.75,-40.04 271.76,-34.43 275.29,-44.42 280.75,-40.04\" stroke=\"#4a4a4a\"/>\n</a>\n</g>\n</g>\n<!-- Danger&#45;&gt;Accident -->\n<g class=\"edge\" id=\"edge12\">\n<title>Danger-&gt;Accident</title>\n<g id=\"a_edge12\"><a xlink:title=\"(8, 6) : \">\n<path d=\"M207.02,-144.05C209.46,-136.26 212.43,-126.82 215.18,-118.08\" fill=\"none\" stroke=\"#4a4a4a\"/>\n<polygon fill=\"#4a4a4a\" points=\"218.6,-118.86 218.26,-108.28 211.92,-116.77 218.6,-118.86\" stroke=\"#4a4a4a\"/>\n</a>\n</g>\n</g>\n<!-- RushHour -->\n<g class=\"node\" id=\"node10\">\n<title>RushHour</title>\n<g id=\"a_node10\"><a xlink:title=\"(9) RushHour\">\n<ellipse cx=\"183.69\" cy=\"-306\" fill=\"#404040\" rx=\"46.43\" ry=\"18\" stroke=\"black\"/>\n<text fill=\"white\" font-family=\"Times,serif\" font-size=\"14.00\" text-anchor=\"middle\" x=\"183.69\" y=\"-301.8\">RushHour</text>\n</a>\n</g>\n</g>\n<!-- RushHour&#45;&gt;Speed -->\n<g class=\"edge\" id=\"edge11\">\n<title>RushHour-&gt;Speed</title>\n<g id=\"a_edge11\"><a xlink:title=\"(9, 4) : \">\n<path d=\"M172.79,-288.41C167.09,-279.74 160.01,-268.97 153.71,-259.38\" fill=\"none\" stroke=\"#4a4a4a\"/>\n<polygon fill=\"#4a4a4a\" points=\"156.61,-257.42 148.2,-250.99 150.76,-261.27 156.61,-257.42\" stroke=\"#4a4a4a\"/>\n</a>\n</g>\n</g>\n<!-- RushHour&#45;&gt;Danger -->\n<g class=\"edge\" id=\"edge6\">\n<title>RushHour-&gt;Danger</title>\n<g id=\"a_edge6\"><a xlink:title=\"(9, 8) : \">\n<path d=\"M185.86,-287.87C188.93,-263.67 194.56,-219.21 198.22,-190.39\" fill=\"none\" stroke=\"#4a4a4a\"/>\n<polygon fill=\"#4a4a4a\" points=\"201.73,-190.55 199.51,-180.19 194.78,-189.67 201.73,-190.55\" stroke=\"#4a4a4a\"/>\n</a>\n</g>\n</g>\n</g>\n</svg>"
     },
     "metadata": {},
     "output_type": "display_data"
    },
    {
     "data": {
      "text/plain": "True"
     },
     "metadata": {},
     "output_type": "execute_result",
     "execution_count": 103
    }
   ],
   "source": [
    "#construct network\n",
    "m0 = gum.fastBN(\"Journey{True|False}<-Weather{Good|Bad}->RoadConditions{Good|Bad}->RoadWorks{True|False}->Speed{Slow|Fast};\"\n",
    "                \"Speed->Delay{True|False}<-Accident{True|False}<-Journey->Delay<-Strike{True|False}->Journey;\"\n",
    "                \"Speed<-RoadConditions->Danger{Low|High}<-RushHour{True|False}->Speed->Danger->Accident\")\n",
    "\n",
    "\n",
    "gnb.showBN(m0, size=10)\n",
    "graph = gnb.BN2dot(m0, size=100)\n",
    "graph.write_pdf('network.pdf')"
   ],
   "metadata": {
    "collapsed": false,
    "pycharm": {
     "name": "#%%\n",
     "is_executing": false
    }
   }
  },
  {
   "cell_type": "code",
   "execution_count": null,
   "outputs": [],
   "source": [
    "def common_data(list1, list2): \n",
    "    result = False\n",
    "    # traverse in the 1st list \n",
    "    for x in list1: \n",
    "        # traverse in the 2nd list \n",
    "        for y in list2: \n",
    "            # if one common \n",
    "            if x == y: \n",
    "                result = True\n",
    "                return result \n",
    "\n",
    "\n",
    "def getAncestors(cm,varSet):\n",
    "    ancestors=varSet\n",
    "\n",
    "    while len(varSet)>0:\n",
    "        newparents=cm.parents(varSet[0])\n",
    "        newparents = [i for b in map(lambda x:[x] if not isinstance(x, list) else x, newparents) for i in b]\n",
    "        newparents = [cm.names()[i] for i in newparents] \n",
    "        ancestors=ancestors+newparents\n",
    "        varSet=varSet+newparents\n",
    "        varSet.remove(varSet[0])\n",
    "    return(ancestors)\n",
    "\n",
    "\n",
    "def dSeparation(cm, varSet1, varSet2, evs):\n",
    "    cmcopy=gum.fastBN(\"A\")\n",
    "    cmcopy.erase(\"A\")\n",
    "    [ cmcopy.add(name, 2) for name in cm.names()]\n",
    "    for link in cm.arcs():\n",
    "        cmcopy.addArc(*link)\n",
    "    l1=cmcopy.names()\n",
    "    l2=getAncestors(cmcopy,varSet1+varSet2+evs)\n",
    "    #print(l2)\n",
    "    l3 = [x for x in l1 if x not in l2]\n",
    "    for i in l3:\n",
    "        cmcopy.erase(i)\n",
    "    m=cmcopy.moralGraph()\n",
    "    if len(evs)>0:\n",
    "        for i in evs:\n",
    "            m.eraseNode(cmcopy.idFromName(i))\n",
    "    #gnb.sideBySide(m)\n",
    "    connComp=m.connectedComponents()\n",
    "    #print(connComp)\n",
    "    idVarSet1=[]\n",
    "    idVarSet2=[]\n",
    "    for i in varSet1:\n",
    "        idVarSet1.append(cmcopy.idFromName(i))\n",
    "    for i in varSet2:\n",
    "        idVarSet2.append(cmcopy.idFromName(i))\n",
    "    dSeparated=True\n",
    "    for i in connComp:\n",
    "        connCompSet=connComp[i]\n",
    "        connCompSet= [i for b in map(lambda x:[x] if not isinstance(x, list) else x, connCompSet) for i in b]\n",
    "        if common_data(connCompSet, idVarSet1) and common_data(connCompSet, idVarSet2):\n",
    "            dSeparated=False\n",
    "    del cmcopy\n",
    "    return dSeparated\n"
   ],
   "metadata": {
    "collapsed": false,
    "pycharm": {
     "name": "#%%\n"
    }
   }
  },
  {
   "cell_type": "markdown",
   "source": [
    "D-separation\n"
   ],
   "metadata": {
    "collapsed": false
   }
  },
  {
   "cell_type": "code",
   "execution_count": null,
   "outputs": [],
   "source": [
    "print(dSeparation(m0,[\"RushHour\"], [\"RoadConditions\"], []))\n",
    "print(dSeparation(m0,[\"RushHour\"], [\"RoadConditions\"], [\"Danger\"]))\n",
    "print(dSeparation(m0,[\"RushHour\"], [\"RoadConditions\"], [\"Speed\"]))\n",
    "print(dSeparation(m0,[\"RushHour\"], [\"RoadConditions\"], [\"Strike\"]))\n",
    "print(dSeparation(m0,[\"RushHour\"], [\"RoadConditions\"], [\"Weather\"]))"
   ],
   "metadata": {
    "collapsed": false,
    "pycharm": {
     "name": "#%%\n"
    }
   }
  },
  {
   "cell_type": "code",
   "execution_count": null,
   "outputs": [],
   "source": [
    "print(dSeparation(m0,[\"RushHour\"], [\"Strike\"], []))\n",
    "print(dSeparation(m0,[\"RushHour\"], [\"Strike\"], [\"Delay\"]))\n",
    "print(dSeparation(m0,[\"RushHour\"], [\"Strike\"], [\"Journey\"]))\n",
    "print(dSeparation(m0,[\"RushHour\"], [\"Strike\"], [\"Danger\"]))\n",
    "print(dSeparation(m0,[\"RushHour\"], [\"Strike\"], [\"Accident\"]))"
   ],
   "metadata": {
    "collapsed": false,
    "pycharm": {
     "name": "#%%\n"
    }
   }
  },
  {
   "cell_type": "code",
   "execution_count": null,
   "outputs": [],
   "source": [
    "print(dSeparation(m0,[\"Speed\"], [\"Accident\"], []))"
   ],
   "metadata": {
    "collapsed": false,
    "pycharm": {
     "name": "#%%\n"
    }
   }
  },
  {
   "cell_type": "code",
   "execution_count": null,
   "outputs": [],
   "source": [
    "print(dSeparation(m0,[\"RoadConditions\"], [\"Strike\"], []))\n",
    "print(dSeparation(m0,[\"RoadConditions\"], [\"Strike\"], [\"Weather\"]))\n",
    "print(dSeparation(m0,[\"RoadConditions\"], [\"Strike\"], [\"Journey\"]))"
   ],
   "metadata": {
    "collapsed": false,
    "pycharm": {
     "name": "#%%\n"
    }
   }
  },
  {
   "cell_type": "code",
   "execution_count": null,
   "outputs": [],
   "source": [
    "print(dSeparation(m0,[\"RoadWorks\"], [\"Strike\"], []))\n",
    "print(dSeparation(m0,[\"RoadWorks\"], [\"Strike\"], [\"Weather\"]))\n",
    "print(dSeparation(m0,[\"RoadWorks\"], [\"Strike\"], [\"Danger\"]))\n",
    "print(dSeparation(m0,[\"RoadWorks\"], [\"Strike\"], [\"Journey\"]))"
   ],
   "metadata": {
    "collapsed": false,
    "pycharm": {
     "name": "#%%\n"
    }
   }
  },
  {
   "cell_type": "markdown",
   "source": [
    "Conditional probability tables"
   ],
   "metadata": {
    "collapsed": false
   }
  },
  {
   "cell_type": "code",
   "execution_count": null,
   "outputs": [],
   "source": [
    "m0.cpt(\"Weather\")[:]=[0.5, 0.5]\n",
    "m0.cpt(\"Strike\")[:]=[0.1, 0.9]\n",
    "m0.cpt(\"RushHour\")[:]=[0.2, 0.8]\n",
    "# m0.cpt(\"Z\")[{'X':'A','Y':'A'}]=[0,0.5,0.5]\n",
    "# m0.cpt(\"Z\")[{'X':'B','Y':'B'}]=[0.5,0,0.5]\n",
    "# m0.cpt(\"Z\")[{'X':'C','Y':'C'}]=[0.5,0.5,0] \n",
    "# m0.cpt(\"Z\")[{'X':'A','Y':'B'}]=[0,0,1]\n",
    "# m0.cpt(\"Z\")[{'X':'A','Y':'C'}]=[0,1,0]\n",
    "# m0.cpt(\"Z\")[{'X':'B','Y':'A'}]=[0,0,1] \n",
    "# m0.cpt(\"Z\")[{'X':'B','Y':'C'}]=[1,0,0]\n",
    "# m0.cpt(\"Z\")[{'X':'C','Y':'A'}]=[0,1,0]\n",
    "# m0.cpt(\"Z\")[{'X':'C','Y':'B'}]=[1,0,0]\n",
    "\n",
    "\n",
    "\n",
    "#to draw network and cpt\n",
    "# gnb.sideBySide(m0,m0.cpt(\"X\"),m0.cpt(\"Y\"),m0.cpt(\"Z\"))"
   ],
   "metadata": {
    "collapsed": false,
    "pycharm": {
     "name": "#%%\n"
    }
   }
  }
 ],
 "metadata": {
  "kernelspec": {
   "display_name": "Python 3",
   "language": "python",
   "name": "python3"
  },
  "language_info": {
   "codemirror_mode": {
    "name": "ipython",
    "version": 2
   },
   "file_extension": ".py",
   "mimetype": "text/x-python",
   "name": "python",
   "nbconvert_exporter": "python",
   "pygments_lexer": "ipython2",
   "version": "2.7.6"
  },
  "pycharm": {
   "stem_cell": {
    "cell_type": "raw",
    "source": [],
    "metadata": {
     "collapsed": false
    }
   }
  }
 },
 "nbformat": 4,
 "nbformat_minor": 0
}