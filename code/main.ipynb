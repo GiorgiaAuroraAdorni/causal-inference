{
 "cells": [
  {
   "cell_type": "code",
   "execution_count": 157,
   "outputs": [],
   "source": [
    "from IPython.display import display, Math, Latex, HTML\n",
    "\n",
    "import pyAgrum as gum\n",
    "import pyAgrum.lib.notebook as gnb\n",
    "import pyAgrum.causal as csl\n",
    "import pyAgrum.causal.notebook as cslnb\n",
    "import os\n",
    "import pdfkit"
   ],
   "metadata": {
    "collapsed": false,
    "pycharm": {
     "name": "#%%\n",
     "is_executing": false
    }
   }
  },
  {
   "cell_type": "code",
   "execution_count": 136,
   "outputs": [
    {
     "data": {
      "text/plain": "<IPython.core.display.SVG object>",
      "image/svg+xml": "<svg height=\"476pt\" viewBox=\"0.00 0.00 387.88 476.00\" width=\"388pt\" xmlns=\"http://www.w3.org/2000/svg\" xmlns:xlink=\"http://www.w3.org/1999/xlink\">\n<g class=\"graph\" id=\"graph0\" transform=\"scale(1 1) rotate(0) translate(4 472)\">\n<title>G</title>\n<!-- Weather -->\n<g class=\"node\" id=\"node1\">\n<title>Weather</title>\n<g id=\"a_node1\"><a xlink:title=\"(0) Weather\">\n<ellipse cx=\"225.65\" cy=\"-450\" fill=\"#404040\" rx=\"39.2\" ry=\"18\" stroke=\"black\"/>\n<text fill=\"white\" font-family=\"Times,serif\" font-size=\"14.00\" text-anchor=\"middle\" x=\"225.65\" y=\"-445.8\">Weather</text>\n</a>\n</g>\n</g>\n<!-- RoadConditions -->\n<g class=\"node\" id=\"node2\">\n<title>RoadConditions</title>\n<g id=\"a_node2\"><a xlink:title=\"(1) RoadConditions\">\n<ellipse cx=\"177.65\" cy=\"-378\" fill=\"#404040\" rx=\"67.69\" ry=\"18\" stroke=\"black\"/>\n<text fill=\"white\" font-family=\"Times,serif\" font-size=\"14.00\" text-anchor=\"middle\" x=\"177.65\" y=\"-373.8\">RoadConditions</text>\n</a>\n</g>\n</g>\n<!-- Weather&#45;&gt;RoadConditions -->\n<g class=\"edge\" id=\"edge1\">\n<title>Weather-&gt;RoadConditions</title>\n<g id=\"a_edge1\"><a xlink:title=\"(0, 1) : \">\n<path d=\"M214.27,-432.41C208.56,-424.08 201.51,-413.8 195.12,-404.49\" fill=\"none\" stroke=\"#4a4a4a\"/>\n<polygon fill=\"#4a4a4a\" points=\"197.82,-402.22 189.27,-395.96 192.04,-406.18 197.82,-402.22\" stroke=\"#4a4a4a\"/>\n</a>\n</g>\n</g>\n<!-- Humor -->\n<g class=\"node\" id=\"node5\">\n<title>Humor</title>\n<g id=\"a_node5\"><a xlink:title=\"(4) Humor\">\n<ellipse cx=\"342.65\" cy=\"-234\" fill=\"#404040\" rx=\"35.32\" ry=\"18\" stroke=\"black\"/>\n<text fill=\"white\" font-family=\"Times,serif\" font-size=\"14.00\" text-anchor=\"middle\" x=\"342.65\" y=\"-229.8\">Humor</text>\n</a>\n</g>\n</g>\n<!-- Weather&#45;&gt;Humor -->\n<g class=\"edge\" id=\"edge14\">\n<title>Weather-&gt;Humor</title>\n<g id=\"a_edge14\"><a xlink:title=\"(0, 4) : \">\n<path d=\"M234.79,-432.29C240.5,-421.86 248,-408.15 254.65,-396 280.83,-348.13 311.37,-292.24 328.71,-260.5\" fill=\"none\" stroke=\"#4a4a4a\"/>\n<polygon fill=\"#4a4a4a\" points=\"331.93,-261.91 333.65,-251.46 325.79,-258.55 331.93,-261.91\" stroke=\"#4a4a4a\"/>\n</a>\n</g>\n</g>\n<!-- RoadWorks -->\n<g class=\"node\" id=\"node3\">\n<title>RoadWorks</title>\n<g id=\"a_node3\"><a xlink:title=\"(2) RoadWorks\">\n<ellipse cx=\"51.65\" cy=\"-306\" fill=\"#404040\" rx=\"51.79\" ry=\"18\" stroke=\"black\"/>\n<text fill=\"white\" font-family=\"Times,serif\" font-size=\"14.00\" text-anchor=\"middle\" x=\"51.65\" y=\"-301.8\">RoadWorks</text>\n</a>\n</g>\n</g>\n<!-- RoadConditions&#45;&gt;RoadWorks -->\n<g class=\"edge\" id=\"edge2\">\n<title>RoadConditions-&gt;RoadWorks</title>\n<g id=\"a_edge2\"><a xlink:title=\"(1, 2) : \">\n<path d=\"M149.68,-361.46C131.07,-351.13 106.48,-337.46 86.58,-326.41\" fill=\"none\" stroke=\"#4a4a4a\"/>\n<polygon fill=\"#4a4a4a\" points=\"88.25,-323.33 77.81,-321.54 84.85,-329.45 88.25,-323.33\" stroke=\"#4a4a4a\"/>\n</a>\n</g>\n</g>\n<!-- Speed -->\n<g class=\"node\" id=\"node4\">\n<title>Speed</title>\n<g id=\"a_node4\"><a xlink:title=\"(3) Speed\">\n<ellipse cx=\"161.65\" cy=\"-234\" fill=\"#404040\" rx=\"31.94\" ry=\"18\" stroke=\"black\"/>\n<text fill=\"white\" font-family=\"Times,serif\" font-size=\"14.00\" text-anchor=\"middle\" x=\"161.65\" y=\"-229.8\">Speed</text>\n</a>\n</g>\n</g>\n<!-- RoadConditions&#45;&gt;Speed -->\n<g class=\"edge\" id=\"edge3\">\n<title>RoadConditions-&gt;Speed</title>\n<g id=\"a_edge3\"><a xlink:title=\"(1, 3) : \">\n<path d=\"M166.46,-360.14C160.48,-350.1 153.73,-336.85 150.65,-324 145.7,-303.37 149.13,-279.49 153.43,-261.66\" fill=\"none\" stroke=\"#4a4a4a\"/>\n<polygon fill=\"#4a4a4a\" points=\"156.83,-262.5 156,-251.93 150.06,-260.71 156.83,-262.5\" stroke=\"#4a4a4a\"/>\n</a>\n</g>\n</g>\n<!-- Danger -->\n<g class=\"node\" id=\"node9\">\n<title>Danger</title>\n<g id=\"a_node9\"><a xlink:title=\"(8) Danger\">\n<ellipse cx=\"225.65\" cy=\"-162\" fill=\"#404040\" rx=\"36.26\" ry=\"18\" stroke=\"black\"/>\n<text fill=\"white\" font-family=\"Times,serif\" font-size=\"14.00\" text-anchor=\"middle\" x=\"225.65\" y=\"-157.8\">Danger</text>\n</a>\n</g>\n</g>\n<!-- RoadConditions&#45;&gt;Danger -->\n<g class=\"edge\" id=\"edge10\">\n<title>RoadConditions-&gt;Danger</title>\n<g id=\"a_edge10\"><a xlink:title=\"(1, 8) : \">\n<path d=\"M215.55,-362.82C232.56,-354.34 250.95,-341.69 260.65,-324 284.54,-280.39 259.84,-221.77 241.53,-188.63\" fill=\"none\" stroke=\"#4a4a4a\"/>\n<polygon fill=\"#4a4a4a\" points=\"244.36,-186.53 236.35,-179.6 238.29,-190.02 244.36,-186.53\" stroke=\"#4a4a4a\"/>\n</a>\n</g>\n</g>\n<!-- RoadWorks&#45;&gt;Speed -->\n<g class=\"edge\" id=\"edge12\">\n<title>RoadWorks-&gt;Speed</title>\n<g id=\"a_edge12\"><a xlink:title=\"(2, 3) : \">\n<path d=\"M75.24,-289.98C92.02,-279.31 114.65,-264.91 132.54,-253.52\" fill=\"none\" stroke=\"#4a4a4a\"/>\n<polygon fill=\"#4a4a4a\" points=\"134.85,-256.2 141.41,-247.88 131.1,-250.29 134.85,-256.2\" stroke=\"#4a4a4a\"/>\n</a>\n</g>\n</g>\n<!-- Delay -->\n<g class=\"node\" id=\"node7\">\n<title>Delay</title>\n<g id=\"a_node7\"><a xlink:title=\"(6) Delay\">\n<ellipse cx=\"278.65\" cy=\"-18\" fill=\"#404040\" rx=\"31.45\" ry=\"18\" stroke=\"black\"/>\n<text fill=\"white\" font-family=\"Times,serif\" font-size=\"14.00\" text-anchor=\"middle\" x=\"278.65\" y=\"-13.8\">Delay</text>\n</a>\n</g>\n</g>\n<!-- Speed&#45;&gt;Delay -->\n<g class=\"edge\" id=\"edge13\">\n<title>Speed-&gt;Delay</title>\n<g id=\"a_edge13\"><a xlink:title=\"(3, 6) : \">\n<path d=\"M163.43,-215.71C165.76,-197.36 170.75,-167.78 180.65,-144 197.68,-103.06 231.99,-64.22 255.15,-41.01\" fill=\"none\" stroke=\"#4a4a4a\"/>\n<polygon fill=\"#4a4a4a\" points=\"257.85,-43.26 262.53,-33.75 252.94,-38.27 257.85,-43.26\" stroke=\"#4a4a4a\"/>\n</a>\n</g>\n</g>\n<!-- Speed&#45;&gt;Danger -->\n<g class=\"edge\" id=\"edge9\">\n<title>Speed-&gt;Danger</title>\n<g id=\"a_edge9\"><a xlink:title=\"(3, 8) : \">\n<path d=\"M175.53,-217.81C183.97,-208.58 194.91,-196.61 204.42,-186.22\" fill=\"none\" stroke=\"#4a4a4a\"/>\n<polygon fill=\"#4a4a4a\" points=\"207.18,-188.39 211.34,-178.64 202.01,-183.66 207.18,-188.39\" stroke=\"#4a4a4a\"/>\n</a>\n</g>\n</g>\n<!-- Accident -->\n<g class=\"node\" id=\"node6\">\n<title>Accident</title>\n<g id=\"a_node6\"><a xlink:title=\"(5) Accident\">\n<ellipse cx=\"278.65\" cy=\"-90\" fill=\"#404040\" rx=\"42.05\" ry=\"18\" stroke=\"black\"/>\n<text fill=\"white\" font-family=\"Times,serif\" font-size=\"14.00\" text-anchor=\"middle\" x=\"278.65\" y=\"-85.8\">Accident</text>\n</a>\n</g>\n</g>\n<!-- Humor&#45;&gt;Accident -->\n<g class=\"edge\" id=\"edge4\">\n<title>Humor-&gt;Accident</title>\n<g id=\"a_edge4\"><a xlink:title=\"(4, 5) : \">\n<path d=\"M330.84,-216.9C323.74,-206.69 314.89,-193.01 308.65,-180 299.03,-159.97 291.15,-136.05 285.88,-118.05\" fill=\"none\" stroke=\"#4a4a4a\"/>\n<polygon fill=\"#4a4a4a\" points=\"289.19,-116.88 283.09,-108.22 282.46,-118.79 289.19,-116.88\" stroke=\"#4a4a4a\"/>\n</a>\n</g>\n</g>\n<!-- Accident&#45;&gt;Delay -->\n<g class=\"edge\" id=\"edge5\">\n<title>Accident-&gt;Delay</title>\n<g id=\"a_edge5\"><a xlink:title=\"(5, 6) : \">\n<path d=\"M278.65,-71.7C278.65,-63.98 278.65,-54.71 278.65,-46.11\" fill=\"none\" stroke=\"#4a4a4a\"/>\n<polygon fill=\"#4a4a4a\" points=\"282.15,-46.1 278.65,-36.1 275.15,-46.1 282.15,-46.1\" stroke=\"#4a4a4a\"/>\n</a>\n</g>\n</g>\n<!-- Strike -->\n<g class=\"node\" id=\"node8\">\n<title>Strike</title>\n<g id=\"a_node8\"><a xlink:title=\"(7) Strike\">\n<ellipse cx=\"348.65\" cy=\"-162\" fill=\"#404040\" rx=\"31.46\" ry=\"18\" stroke=\"black\"/>\n<text fill=\"white\" font-family=\"Times,serif\" font-size=\"14.00\" text-anchor=\"middle\" x=\"348.65\" y=\"-157.8\">Strike</text>\n</a>\n</g>\n</g>\n<!-- Strike&#45;&gt;Accident -->\n<g class=\"edge\" id=\"edge11\">\n<title>Strike-&gt;Accident</title>\n<g id=\"a_edge11\"><a xlink:title=\"(7, 5) : \">\n<path d=\"M333.8,-146.15C324.5,-136.85 312.32,-124.67 301.77,-114.12\" fill=\"none\" stroke=\"#4a4a4a\"/>\n<polygon fill=\"#4a4a4a\" points=\"303.99,-111.39 294.44,-106.8 299.04,-116.34 303.99,-111.39\" stroke=\"#4a4a4a\"/>\n</a>\n</g>\n</g>\n<!-- Strike&#45;&gt;Delay -->\n<g class=\"edge\" id=\"edge8\">\n<title>Strike-&gt;Delay</title>\n<g id=\"a_edge8\"><a xlink:title=\"(7, 6) : \">\n<path d=\"M347.79,-143.99C346.23,-125.34 341.88,-95.02 329.65,-72 323.28,-60.02 313.42,-48.85 304.05,-39.89\" fill=\"none\" stroke=\"#4a4a4a\"/>\n<polygon fill=\"#4a4a4a\" points=\"306.14,-37.06 296.39,-32.91 301.42,-42.23 306.14,-37.06\" stroke=\"#4a4a4a\"/>\n</a>\n</g>\n</g>\n<!-- Danger&#45;&gt;Accident -->\n<g class=\"edge\" id=\"edge15\">\n<title>Danger-&gt;Accident</title>\n<g id=\"a_edge15\"><a xlink:title=\"(8, 5) : \">\n<path d=\"M237.94,-144.76C244.47,-136.14 252.63,-125.36 259.93,-115.73\" fill=\"none\" stroke=\"#4a4a4a\"/>\n<polygon fill=\"#4a4a4a\" points=\"262.81,-117.72 266.05,-107.63 257.23,-113.49 262.81,-117.72\" stroke=\"#4a4a4a\"/>\n</a>\n</g>\n</g>\n<!-- RushHour -->\n<g class=\"node\" id=\"node10\">\n<title>RushHour</title>\n<g id=\"a_node10\"><a xlink:title=\"(9) RushHour\">\n<ellipse cx=\"205.65\" cy=\"-306\" fill=\"#404040\" rx=\"46.43\" ry=\"18\" stroke=\"black\"/>\n<text fill=\"white\" font-family=\"Times,serif\" font-size=\"14.00\" text-anchor=\"middle\" x=\"205.65\" y=\"-301.8\">RushHour</text>\n</a>\n</g>\n</g>\n<!-- RushHour&#45;&gt;Speed -->\n<g class=\"edge\" id=\"edge7\">\n<title>RushHour-&gt;Speed</title>\n<g id=\"a_edge7\"><a xlink:title=\"(9, 3) : \">\n<path d=\"M195.22,-288.41C189.9,-279.95 183.33,-269.49 177.41,-260.08\" fill=\"none\" stroke=\"#4a4a4a\"/>\n<polygon fill=\"#4a4a4a\" points=\"180.28,-258.07 172,-251.47 174.36,-261.8 180.28,-258.07\" stroke=\"#4a4a4a\"/>\n</a>\n</g>\n</g>\n<!-- RushHour&#45;&gt;Danger -->\n<g class=\"edge\" id=\"edge6\">\n<title>RushHour-&gt;Danger</title>\n<g id=\"a_edge6\"><a xlink:title=\"(9, 8) : \">\n<path d=\"M208.06,-287.87C211.47,-263.67 217.73,-219.21 221.79,-190.39\" fill=\"none\" stroke=\"#4a4a4a\"/>\n<polygon fill=\"#4a4a4a\" points=\"225.3,-190.58 223.23,-180.19 218.37,-189.6 225.3,-190.58\" stroke=\"#4a4a4a\"/>\n</a>\n</g>\n</g>\n</g>\n</svg>"
     },
     "metadata": {},
     "output_type": "display_data"
    },
    {
     "data": {
      "text/plain": "True"
     },
     "metadata": {},
     "output_type": "execute_result",
     "execution_count": 136
    }
   ],
   "source": [
    "#construct network\n",
    "m0 = gum.fastBN(\"Weather{Sun|Rain}->RoadConditions{Good|Bad}->RoadWorks{True|False}->Speed{Slow\"\n",
    "                \"|Fast};Weather->Humor{Good|Bad}->Accident{True|False}->Delay{True|False}<-Strike{True|False\"\n",
    "                \"}->Accident<-Danger{Low|High}<-Speed<-RushHour{True|False}->Danger<-RoadConditions->Speed->Delay;\")\n",
    "\n",
    "\n",
    "gnb.showBN(m0, size=10)\n",
    "graph = gnb.BN2dot(m0, size=100)\n",
    "graph.write_pdf('network.pdf')"
   ],
   "metadata": {
    "collapsed": false,
    "pycharm": {
     "name": "#%%\n",
     "is_executing": false
    }
   }
  },
  {
   "cell_type": "code",
   "execution_count": 104,
   "outputs": [],
   "source": [
    "def common_data(list1, list2): \n",
    "    result = False\n",
    "    # traverse in the 1st list \n",
    "    for x in list1: \n",
    "        # traverse in the 2nd list \n",
    "        for y in list2: \n",
    "            # if one common \n",
    "            if x == y: \n",
    "                result = True\n",
    "                return result \n",
    "\n",
    "\n",
    "def getAncestors(cm,varSet):\n",
    "    ancestors=varSet\n",
    "\n",
    "    while len(varSet)>0:\n",
    "        newparents=cm.parents(varSet[0])\n",
    "        newparents = [i for b in map(lambda x:[x] if not isinstance(x, list) else x, newparents) for i in b]\n",
    "        newparents = [cm.names()[i] for i in newparents] \n",
    "        ancestors=ancestors+newparents\n",
    "        varSet=varSet+newparents\n",
    "        varSet.remove(varSet[0])\n",
    "    return(ancestors)\n",
    "\n",
    "\n",
    "def dSeparation(cm, varSet1, varSet2, evs):\n",
    "    cmcopy=gum.fastBN(\"A\")\n",
    "    cmcopy.erase(\"A\")\n",
    "    [ cmcopy.add(name, 2) for name in cm.names()]\n",
    "    for link in cm.arcs():\n",
    "        cmcopy.addArc(*link)\n",
    "    l1=cmcopy.names()\n",
    "    l2=getAncestors(cmcopy,varSet1+varSet2+evs)\n",
    "    #print(l2)\n",
    "    l3 = [x for x in l1 if x not in l2]\n",
    "    for i in l3:\n",
    "        cmcopy.erase(i)\n",
    "    m=cmcopy.moralGraph()\n",
    "    if len(evs)>0:\n",
    "        for i in evs:\n",
    "            m.eraseNode(cmcopy.idFromName(i))\n",
    "    #gnb.sideBySide(m)\n",
    "    connComp=m.connectedComponents()\n",
    "    #print(connComp)\n",
    "    idVarSet1=[]\n",
    "    idVarSet2=[]\n",
    "    for i in varSet1:\n",
    "        idVarSet1.append(cmcopy.idFromName(i))\n",
    "    for i in varSet2:\n",
    "        idVarSet2.append(cmcopy.idFromName(i))\n",
    "    dSeparated=True\n",
    "    for i in connComp:\n",
    "        connCompSet=connComp[i]\n",
    "        connCompSet= [i for b in map(lambda x:[x] if not isinstance(x, list) else x, connCompSet) for i in b]\n",
    "        if common_data(connCompSet, idVarSet1) and common_data(connCompSet, idVarSet2):\n",
    "            dSeparated=False\n",
    "    del cmcopy\n",
    "    return dSeparated\n"
   ],
   "metadata": {
    "collapsed": false,
    "pycharm": {
     "name": "#%%\n",
     "is_executing": false
    }
   }
  },
  {
   "cell_type": "markdown",
   "source": [
    "# D-separation\n"
   ],
   "metadata": {
    "collapsed": false
   }
  },
  {
   "cell_type": "code",
   "execution_count": 139,
   "outputs": [
    {
     "name": "stdout",
     "text": [
      "True\nFalse\nFalse\nTrue\nTrue\n"
     ],
     "output_type": "stream"
    }
   ],
   "source": [
    "print(dSeparation(m0,[\"RushHour\"], [\"RoadConditions\"], []))\n",
    "print(dSeparation(m0,[\"RushHour\"], [\"RoadConditions\"], [\"Danger\"]))\n",
    "print(dSeparation(m0,[\"RushHour\"], [\"RoadConditions\"], [\"Speed\"]))\n",
    "print(dSeparation(m0,[\"RushHour\"], [\"RoadConditions\"], [\"Strike\"]))\n",
    "print(dSeparation(m0,[\"RushHour\"], [\"RoadConditions\"], [\"Weather\"]))"
   ],
   "metadata": {
    "collapsed": false,
    "pycharm": {
     "name": "#%%\n",
     "is_executing": false
    }
   }
  },
  {
   "cell_type": "code",
   "execution_count": 141,
   "outputs": [
    {
     "name": "stdout",
     "text": [
      "True\nFalse\nTrue\nTrue\nFalse\n"
     ],
     "output_type": "stream"
    }
   ],
   "source": [
    "print(dSeparation(m0,[\"RushHour\"], [\"Strike\"], []))\n",
    "print(dSeparation(m0,[\"RushHour\"], [\"Strike\"], [\"Delay\"]))\n",
    "print(dSeparation(m0,[\"RushHour\"], [\"Strike\"], [\"Humor\"]))\n",
    "print(dSeparation(m0,[\"RushHour\"], [\"Strike\"], [\"Danger\"]))\n",
    "print(dSeparation(m0,[\"RushHour\"], [\"Strike\"], [\"Accident\"]))"
   ],
   "metadata": {
    "collapsed": false,
    "pycharm": {
     "name": "#%%\n",
     "is_executing": false
    }
   }
  },
  {
   "cell_type": "code",
   "execution_count": 142,
   "outputs": [
    {
     "name": "stdout",
     "text": [
      "False\n"
     ],
     "output_type": "stream"
    }
   ],
   "source": [
    "print(dSeparation(m0,[\"Speed\"], [\"Accident\"], []))"
   ],
   "metadata": {
    "collapsed": false,
    "pycharm": {
     "name": "#%%\n",
     "is_executing": false
    }
   }
  },
  {
   "cell_type": "code",
   "execution_count": 144,
   "outputs": [
    {
     "name": "stdout",
     "text": [
      "True\nTrue\nFalse\n"
     ],
     "output_type": "stream"
    }
   ],
   "source": [
    "print(dSeparation(m0,[\"RoadConditions\"], [\"Strike\"], []))\n",
    "print(dSeparation(m0,[\"RoadConditions\"], [\"Strike\"], [\"Weather\"]))\n",
    "print(dSeparation(m0,[\"RoadConditions\"], [\"Strike\"], [\"Delay\"]))"
   ],
   "metadata": {
    "collapsed": false,
    "pycharm": {
     "name": "#%%\n",
     "is_executing": false
    }
   }
  },
  {
   "cell_type": "code",
   "execution_count": 146,
   "outputs": [
    {
     "name": "stdout",
     "text": [
      "True\nTrue\nTrue\nFalse\n"
     ],
     "output_type": "stream"
    }
   ],
   "source": [
    "print(dSeparation(m0,[\"RoadWorks\"], [\"Strike\"], []))\n",
    "print(dSeparation(m0,[\"RoadWorks\"], [\"Strike\"], [\"Weather\"]))\n",
    "print(dSeparation(m0,[\"RoadWorks\"], [\"Strike\"], [\"Danger\"]))\n",
    "print(dSeparation(m0,[\"RoadWorks\"], [\"Strike\"], [\"Delay\"]))"
   ],
   "metadata": {
    "collapsed": false,
    "pycharm": {
     "name": "#%%\n",
     "is_executing": false
    }
   }
  },
  {
   "cell_type": "markdown",
   "source": [
    "# Conditional probability tables"
   ],
   "metadata": {
    "collapsed": false
   }
  },
  {
   "cell_type": "code",
   "execution_count": 159,
   "outputs": [
    {
     "data": {
      "text/plain": "<IPython.core.display.HTML object>",
      "text/html": "<table style=\"border-style: hidden; border-collapse: collapse;\" width=\"100%\"><tr><td style=\"border-top:hidden;border-bottom:hidden;\"><div align=\"center\" style=\"\"><table style=\"border:1px solid black;\">\n<tr style='border:1px solid black;color:black;background-color:#808080'><th colspan='2'><center>Weather</center></th></tr>\n<tr><th style='border:1px solid black;border-bottom-style: double;color:black;background-color:#BBBBBB'><center>Sun</center></th><th style='border:1px solid black;border-bottom-style: double;color:black;background-color:#BBBBBB'><center>Rain</center></th></tr>\n<tr><td style='color:black;background-color:#bfbf64;text-align:right;'>0.5000</td><td style='color:black;background-color:#bfbf64;text-align:right;'>0.5000</td></tr>\n</table></div></td><td style=\"border-top:hidden;border-bottom:hidden;\"><div align=\"center\" style=\"\"><table style=\"border:1px solid black;\">\n<tr style='border:1px solid black;color:black;background-color:#808080'><th colspan='2'><center>Strike</center></th></tr>\n<tr><th style='border:1px solid black;border-bottom-style: double;color:black;background-color:#BBBBBB'><center>True</center></th><th style='border:1px solid black;border-bottom-style: double;color:black;background-color:#BBBBBB'><center>False</center></th></tr>\n<tr><td style='color:black;background-color:#f28b64;text-align:right;'>0.1000</td><td style='color:black;background-color:#8bf264;text-align:right;'>0.9000</td></tr>\n</table></div></td><td style=\"border-top:hidden;border-bottom:hidden;\"><div align=\"center\" style=\"\"><table style=\"border:1px solid black;\">\n<tr style='border:1px solid black;color:black;background-color:#808080'><th colspan='2'><center>RushHour</center></th></tr>\n<tr><th style='border:1px solid black;border-bottom-style: double;color:black;background-color:#BBBBBB'><center>True</center></th><th style='border:1px solid black;border-bottom-style: double;color:black;background-color:#BBBBBB'><center>False</center></th></tr>\n<tr><td style='color:black;background-color:#e59864;text-align:right;'>0.2000</td><td style='color:black;background-color:#98e564;text-align:right;'>0.8000</td></tr>\n</table></div></td><td style=\"border-top:hidden;border-bottom:hidden;\"><div align=\"center\" style=\"\"><table style=\"border:1px solid black;\">\n<tr><th colspan='1'></th><th colspan='2' style='border:1px solid black;color:black;background-color:#808080;'><center>RoadConditions</center></th></tr>\n<tr><th style='border:1px solid black;color:black;background-color:#808080'><center>Weather</center></th><th style='border:1px solid black;border-bottom-style: double;color:black;background-color:#BBBBBB'><center>Good</center></th><th style='border:1px solid black;border-bottom-style: double;color:black;background-color:#BBBBBB'><center>Bad</center></th></tr>\n<tr><th style='border:1px solid black;color:black;background-color:#BBBBBB'><center>Sun</center></th><td style='color:black;background-color:#9fdf64;text-align:right;'>0.7500</td><td style='color:black;background-color:#df9f64;text-align:right;'>0.2500</td></tr>\n<tr><th style='border:1px solid black;color:black;background-color:#BBBBBB'><center>Rain</center></th><td style='color:black;background-color:#cbb264;text-align:right;'>0.4000</td><td style='color:black;background-color:#b2cb64;text-align:right;'>0.6000</td></tr>\n</table></div></td><td style=\"border-top:hidden;border-bottom:hidden;\"><div align=\"center\" style=\"\"><table style=\"border:1px solid black;\">\n<tr><th colspan='1'></th><th colspan='2' style='border:1px solid black;color:black;background-color:#808080;'><center>RoadWorks</center></th></tr>\n<tr><th style='border:1px solid black;color:black;background-color:#808080'><center>RoadConditions</center></th><th style='border:1px solid black;border-bottom-style: double;color:black;background-color:#BBBBBB'><center>True</center></th><th style='border:1px solid black;border-bottom-style: double;color:black;background-color:#BBBBBB'><center>False</center></th></tr>\n<tr><th style='border:1px solid black;color:black;background-color:#BBBBBB'><center>Good</center></th><td style='color:black;background-color:#f28b64;text-align:right;'>0.1000</td><td style='color:black;background-color:#8bf264;text-align:right;'>0.9000</td></tr>\n<tr><th style='border:1px solid black;color:black;background-color:#BBBBBB'><center>Bad</center></th><td style='color:black;background-color:#98e564;text-align:right;'>0.8000</td><td style='color:black;background-color:#e59864;text-align:right;'>0.2000</td></tr>\n</table></div></td><td style=\"border-top:hidden;border-bottom:hidden;\"><div align=\"center\" style=\"\"><table style=\"border:1px solid black;\">\n<tr><th colspan='3'></th><th colspan='2' style='border:1px solid black;color:black;background-color:#808080;'><center>Speed</center></th></tr>\n<tr><th style='border:1px solid black;color:black;background-color:#808080'><center>RoadConditions</center></th><th style='border:1px solid black;color:black;background-color:#808080'><center>RushHour</center></th><th style='border:1px solid black;color:black;background-color:#808080'><center>RoadWorks</center></th><th style='border:1px solid black;border-bottom-style: double;color:black;background-color:#BBBBBB'><center>Slow</center></th><th style='border:1px solid black;border-bottom-style: double;color:black;background-color:#BBBBBB'><center>Fast</center></th></tr>\n<tr><th style='border:1px solid black;color:black;background-color:#BBBBBB;' rowspan = '4'><center>Good</center></th><th style='border:1px solid black;color:black;background-color:#BBBBBB;' rowspan = '2'><center>True</center></th><th style='border:1px solid black;color:black;background-color:#BBBBBB'><center>True</center></th><td style='color:black;background-color:#92eb64;text-align:right;'>0.8500</td><td style='color:black;background-color:#eb9264;text-align:right;'>0.1500</td></tr>\n<tr><th style='border:1px solid black;color:black;background-color:#BBBBBB'><center>False</center></th><td style='color:black;background-color:#98e564;text-align:right;'>0.8000</td><td style='color:black;background-color:#e59864;text-align:right;'>0.2000</td></tr>\n<tr><th style='border:1px solid black;color:black;background-color:#BBBBBB;' rowspan = '2'><center>False</center></th><th style='border:1px solid black;color:black;background-color:#BBBBBB'><center>True</center></th><td style='color:black;background-color:#9fdf64;text-align:right;'>0.7500</td><td style='color:black;background-color:#df9f64;text-align:right;'>0.2500</td></tr>\n<tr><th style='border:1px solid black;color:black;background-color:#BBBBBB'><center>False</center></th><td style='color:black;background-color:#eb9264;text-align:right;'>0.1500</td><td style='color:black;background-color:#92eb64;text-align:right;'>0.8500</td></tr>\n<tr><th style='border:1px solid black;color:black;background-color:#BBBBBB;' rowspan = '4'><center>Bad</center></th><th style='border:1px solid black;color:black;background-color:#BBBBBB;' rowspan = '2'><center>True</center></th><th style='border:1px solid black;color:black;background-color:#BBBBBB'><center>True</center></th><td style='color:black;background-color:#85f864;text-align:right;'>0.9500</td><td style='color:black;background-color:#f88564;text-align:right;'>0.0500</td></tr>\n<tr><th style='border:1px solid black;color:black;background-color:#BBBBBB'><center>False</center></th><td style='color:black;background-color:#98e564;text-align:right;'>0.8000</td><td style='color:black;background-color:#e59864;text-align:right;'>0.2000</td></tr>\n<tr><th style='border:1px solid black;color:black;background-color:#BBBBBB;' rowspan = '2'><center>False</center></th><th style='border:1px solid black;color:black;background-color:#BBBBBB'><center>True</center></th><td style='color:black;background-color:#8bf264;text-align:right;'>0.9000</td><td style='color:black;background-color:#f28b64;text-align:right;'>0.1000</td></tr>\n<tr><th style='border:1px solid black;color:black;background-color:#BBBBBB'><center>False</center></th><td style='color:black;background-color:#b2cb64;text-align:right;'>0.6000</td><td style='color:black;background-color:#cbb264;text-align:right;'>0.4000</td></tr>\n</table></div></td><td style=\"border-top:hidden;border-bottom:hidden;\"><div align=\"center\" style=\"\"><table style=\"border:1px solid black;\">\n<tr><th colspan='3'></th><th colspan='2' style='border:1px solid black;color:black;background-color:#808080;'><center>Danger</center></th></tr>\n<tr><th style='border:1px solid black;color:black;background-color:#808080'><center>RoadConditions</center></th><th style='border:1px solid black;color:black;background-color:#808080'><center>RushHour</center></th><th style='border:1px solid black;color:black;background-color:#808080'><center>Speed</center></th><th style='border:1px solid black;border-bottom-style: double;color:black;background-color:#BBBBBB'><center>Low</center></th><th style='border:1px solid black;border-bottom-style: double;color:black;background-color:#BBBBBB'><center>High</center></th></tr>\n<tr><th style='border:1px solid black;color:black;background-color:#BBBBBB;' rowspan = '4'><center>Good</center></th><th style='border:1px solid black;color:black;background-color:#BBBBBB;' rowspan = '2'><center>True</center></th><th style='border:1px solid black;color:black;background-color:#BBBBBB'><center>Slow</center></th><td style='color:black;background-color:#92eb64;text-align:right;'>0.8500</td><td style='color:black;background-color:#eb9264;text-align:right;'>0.1500</td></tr>\n<tr><th style='border:1px solid black;color:black;background-color:#BBBBBB'><center>Fast</center></th><td style='color:black;background-color:#e59864;text-align:right;'>0.2000</td><td style='color:black;background-color:#98e564;text-align:right;'>0.8000</td></tr>\n<tr><th style='border:1px solid black;color:black;background-color:#BBBBBB;' rowspan = '2'><center>False</center></th><th style='border:1px solid black;color:black;background-color:#BBBBBB'><center>Slow</center></th><td style='color:black;background-color:#85f864;text-align:right;'>0.9500</td><td style='color:black;background-color:#f88564;text-align:right;'>0.0500</td></tr>\n<tr><th style='border:1px solid black;color:black;background-color:#BBBBBB'><center>Fast</center></th><td style='color:black;background-color:#d8a564;text-align:right;'>0.3000</td><td style='color:black;background-color:#a5d864;text-align:right;'>0.7000</td></tr>\n<tr><th style='border:1px solid black;color:black;background-color:#BBBBBB;' rowspan = '4'><center>Bad</center></th><th style='border:1px solid black;color:black;background-color:#BBBBBB;' rowspan = '2'><center>True</center></th><th style='border:1px solid black;color:black;background-color:#BBBBBB'><center>Slow</center></th><td style='color:black;background-color:#c5b864;text-align:right;'>0.4500</td><td style='color:black;background-color:#b8c564;text-align:right;'>0.5500</td></tr>\n<tr><th style='border:1px solid black;color:black;background-color:#BBBBBB'><center>Fast</center></th><td style='color:black;background-color:#f88564;text-align:right;'>0.0500</td><td style='color:black;background-color:#85f864;text-align:right;'>0.9500</td></tr>\n<tr><th style='border:1px solid black;color:black;background-color:#BBBBBB;' rowspan = '2'><center>False</center></th><th style='border:1px solid black;color:black;background-color:#BBBBBB'><center>Slow</center></th><td style='color:black;background-color:#b8c564;text-align:right;'>0.5500</td><td style='color:black;background-color:#c5b864;text-align:right;'>0.4500</td></tr>\n<tr><th style='border:1px solid black;color:black;background-color:#BBBBBB'><center>Fast</center></th><td style='color:black;background-color:#e59864;text-align:right;'>0.2000</td><td style='color:black;background-color:#98e564;text-align:right;'>0.8000</td></tr>\n</table></div></td><td style=\"border-top:hidden;border-bottom:hidden;\"><div align=\"center\" style=\"\"><table style=\"border:1px solid black;\">\n<tr><th colspan='3'></th><th colspan='2' style='border:1px solid black;color:black;background-color:#808080;'><center>Accident</center></th></tr>\n<tr><th style='border:1px solid black;color:black;background-color:#808080'><center>Danger</center></th><th style='border:1px solid black;color:black;background-color:#808080'><center>Strike</center></th><th style='border:1px solid black;color:black;background-color:#808080'><center>Humor</center></th><th style='border:1px solid black;border-bottom-style: double;color:black;background-color:#BBBBBB'><center>True</center></th><th style='border:1px solid black;border-bottom-style: double;color:black;background-color:#BBBBBB'><center>False</center></th></tr>\n<tr><th style='border:1px solid black;color:black;background-color:#BBBBBB;' rowspan = '4'><center>Low</center></th><th style='border:1px solid black;color:black;background-color:#BBBBBB;' rowspan = '2'><center>True</center></th><th style='border:1px solid black;color:black;background-color:#BBBBBB'><center>Good</center></th><td style='color:black;background-color:#eb9264;text-align:right;'>0.1500</td><td style='color:black;background-color:#92eb64;text-align:right;'>0.8500</td></tr>\n<tr><th style='border:1px solid black;color:black;background-color:#BBBBBB'><center>Bad</center></th><td style='color:black;background-color:#a5d864;text-align:right;'>0.7000</td><td style='color:black;background-color:#d8a564;text-align:right;'>0.3000</td></tr>\n<tr><th style='border:1px solid black;color:black;background-color:#BBBBBB;' rowspan = '2'><center>False</center></th><th style='border:1px solid black;color:black;background-color:#BBBBBB'><center>Good</center></th><td style='color:black;background-color:#f88564;text-align:right;'>0.0500</td><td style='color:black;background-color:#85f864;text-align:right;'>0.9500</td></tr>\n<tr><th style='border:1px solid black;color:black;background-color:#BBBBBB'><center>Bad</center></th><td style='color:black;background-color:#b8c564;text-align:right;'>0.5500</td><td style='color:black;background-color:#c5b864;text-align:right;'>0.4500</td></tr>\n<tr><th style='border:1px solid black;color:black;background-color:#BBBBBB;' rowspan = '4'><center>High</center></th><th style='border:1px solid black;color:black;background-color:#BBBBBB;' rowspan = '2'><center>True</center></th><th style='border:1px solid black;color:black;background-color:#BBBBBB'><center>Good</center></th><td style='color:black;background-color:#92eb64;text-align:right;'>0.8500</td><td style='color:black;background-color:#eb9264;text-align:right;'>0.1500</td></tr>\n<tr><th style='border:1px solid black;color:black;background-color:#BBBBBB'><center>Bad</center></th><td style='color:black;background-color:#85f864;text-align:right;'>0.9500</td><td style='color:black;background-color:#f88564;text-align:right;'>0.0500</td></tr>\n<tr><th style='border:1px solid black;color:black;background-color:#BBBBBB;' rowspan = '2'><center>False</center></th><th style='border:1px solid black;color:black;background-color:#BBBBBB'><center>Good</center></th><td style='color:black;background-color:#b2cb64;text-align:right;'>0.6000</td><td style='color:black;background-color:#cbb264;text-align:right;'>0.4000</td></tr>\n<tr><th style='border:1px solid black;color:black;background-color:#BBBBBB'><center>Bad</center></th><td style='color:black;background-color:#98e564;text-align:right;'>0.8000</td><td style='color:black;background-color:#e59864;text-align:right;'>0.2000</td></tr>\n</table></div></td><td style=\"border-top:hidden;border-bottom:hidden;\"><div align=\"center\" style=\"\"><table style=\"border:1px solid black;\">\n<tr><th colspan='3'></th><th colspan='2' style='border:1px solid black;color:black;background-color:#808080;'><center>Delay</center></th></tr>\n<tr><th style='border:1px solid black;color:black;background-color:#808080'><center>Speed</center></th><th style='border:1px solid black;color:black;background-color:#808080'><center>Strike</center></th><th style='border:1px solid black;color:black;background-color:#808080'><center>Accident</center></th><th style='border:1px solid black;border-bottom-style: double;color:black;background-color:#BBBBBB'><center>True</center></th><th style='border:1px solid black;border-bottom-style: double;color:black;background-color:#BBBBBB'><center>False</center></th></tr>\n<tr><th style='border:1px solid black;color:black;background-color:#BBBBBB;' rowspan = '4'><center>Slow</center></th><th style='border:1px solid black;color:black;background-color:#BBBBBB;' rowspan = '2'><center>True</center></th><th style='border:1px solid black;color:black;background-color:#BBBBBB'><center>True</center></th><td style='color:black;background-color:#81fc64;text-align:right;'>0.9800</td><td style='color:black;background-color:#fc8164;text-align:right;'>0.0200</td></tr>\n<tr><th style='border:1px solid black;color:black;background-color:#BBBBBB'><center>False</center></th><td style='color:black;background-color:#9fdf64;text-align:right;'>0.7500</td><td style='color:black;background-color:#df9f64;text-align:right;'>0.2500</td></tr>\n<tr><th style='border:1px solid black;color:black;background-color:#BBBBBB;' rowspan = '2'><center>False</center></th><th style='border:1px solid black;color:black;background-color:#BBBBBB'><center>True</center></th><td style='color:black;background-color:#85f864;text-align:right;'>0.9500</td><td style='color:black;background-color:#f88564;text-align:right;'>0.0500</td></tr>\n<tr><th style='border:1px solid black;color:black;background-color:#BBBBBB'><center>False</center></th><td style='color:black;background-color:#abd264;text-align:right;'>0.6500</td><td style='color:black;background-color:#d2ab64;text-align:right;'>0.3500</td></tr>\n<tr><th style='border:1px solid black;color:black;background-color:#BBBBBB;' rowspan = '4'><center>Fast</center></th><th style='border:1px solid black;color:black;background-color:#BBBBBB;' rowspan = '2'><center>True</center></th><th style='border:1px solid black;color:black;background-color:#BBBBBB'><center>True</center></th><td style='color:black;background-color:#8bf264;text-align:right;'>0.9000</td><td style='color:black;background-color:#f28b64;text-align:right;'>0.1000</td></tr>\n<tr><th style='border:1px solid black;color:black;background-color:#BBBBBB'><center>False</center></th><td style='color:black;background-color:#b2cb64;text-align:right;'>0.6000</td><td style='color:black;background-color:#cbb264;text-align:right;'>0.4000</td></tr>\n<tr><th style='border:1px solid black;color:black;background-color:#BBBBBB;' rowspan = '2'><center>False</center></th><th style='border:1px solid black;color:black;background-color:#BBBBBB'><center>True</center></th><td style='color:black;background-color:#92eb64;text-align:right;'>0.8500</td><td style='color:black;background-color:#eb9264;text-align:right;'>0.1500</td></tr>\n<tr><th style='border:1px solid black;color:black;background-color:#BBBBBB'><center>False</center></th><td style='color:black;background-color:#c5b864;text-align:right;'>0.4500</td><td style='color:black;background-color:#b8c564;text-align:right;'>0.5500</td></tr>\n</table></div></td><td style=\"border-top:hidden;border-bottom:hidden;\"><div align=\"center\" style=\"\"><table style=\"border:1px solid black;\">\n<tr><th colspan='1'></th><th colspan='2' style='border:1px solid black;color:black;background-color:#808080;'><center>Humor</center></th></tr>\n<tr><th style='border:1px solid black;color:black;background-color:#808080'><center>Weather</center></th><th style='border:1px solid black;border-bottom-style: double;color:black;background-color:#BBBBBB'><center>Good</center></th><th style='border:1px solid black;border-bottom-style: double;color:black;background-color:#BBBBBB'><center>Bad</center></th></tr>\n<tr><th style='border:1px solid black;color:black;background-color:#BBBBBB'><center>Sun</center></th><td style='color:black;background-color:#98e564;text-align:right;'>0.8000</td><td style='color:black;background-color:#e59864;text-align:right;'>0.2000</td></tr>\n<tr><th style='border:1px solid black;color:black;background-color:#BBBBBB'><center>Rain</center></th><td style='color:black;background-color:#d8a564;text-align:right;'>0.3000</td><td style='color:black;background-color:#a5d864;text-align:right;'>0.7000</td></tr>\n</table></div></td></tr></table>"
     },
     "metadata": {},
     "output_type": "display_data"
    }
   ],
   "source": [
    "m0.cpt(\"Weather\")[:]=[0.5, 0.5]\n",
    "m0.cpt(\"Strike\")[:]=[0.1, 0.9]\n",
    "m0.cpt(\"RushHour\")[:]=[0.2, 0.8]\n",
    "\n",
    "m0.cpt(\"RoadConditions\")[{'Weather':'Sun'}]=[0.75, 0.25]\n",
    "m0.cpt(\"RoadConditions\")[{'Weather':'Rain'}]=[0.4, 0.6]\n",
    "\n",
    "m0.cpt(\"Humor\")[{'Weather':'Sun'}]=[0.8, 0.2]\n",
    "m0.cpt(\"Humor\")[{'Weather':'Rain'}]=[0.3, 0.7]\n",
    "\n",
    "m0.cpt(\"RoadWorks\")[{'RoadConditions':'Good'}]=[0.1, 0.9]\n",
    "m0.cpt(\"RoadWorks\")[{'RoadConditions':'Bad'}]=[0.8, 0.2]\n",
    "\n",
    "m0.cpt(\"Speed\")[{'RoadConditions':'Good', \"RoadWorks\":'True', 'RushHour':'True'}]=[0.85, 0.15]\n",
    "m0.cpt(\"Speed\")[{'RoadConditions':'Good', \"RoadWorks\":'True', 'RushHour':'False'}]=[0.75, 0.25]\n",
    "m0.cpt(\"Speed\")[{'RoadConditions':'Good', \"RoadWorks\":'False', 'RushHour':'True'}]=[0.8, 0.2]\n",
    "m0.cpt(\"Speed\")[{'RoadConditions':'Good', \"RoadWorks\":'False', 'RushHour':'False'}]=[0.15, 0.85]\n",
    "m0.cpt(\"Speed\")[{'RoadConditions':'Bad', \"RoadWorks\":'True', 'RushHour':'True'}]=[0.95, 0.05]\n",
    "m0.cpt(\"Speed\")[{'RoadConditions':'Bad', \"RoadWorks\":'True', 'RushHour':'False'}]=[0.9, 0.1]\n",
    "m0.cpt(\"Speed\")[{'RoadConditions':'Bad', \"RoadWorks\":'False', 'RushHour':'True'}]=[0.8, 0.2]\n",
    "m0.cpt(\"Speed\")[{'RoadConditions':'Bad', \"RoadWorks\":'False', 'RushHour':'False'}]=[0.6, 0.4]\n",
    "\n",
    "m0.cpt(\"Danger\")[{'RoadConditions':'Good', \"Speed\":'Slow', 'RushHour':'True'}]=[0.85, 0.15]\n",
    "m0.cpt(\"Danger\")[{'RoadConditions':'Good', \"Speed\":'Slow', 'RushHour':'False'}]=[0.95, 0.05]\n",
    "m0.cpt(\"Danger\")[{'RoadConditions':'Good', \"Speed\":'Fast', 'RushHour':'True'}]=[0.2, 0.8]\n",
    "m0.cpt(\"Danger\")[{'RoadConditions':'Good', \"Speed\":'Fast', 'RushHour':'False'}]=[0.3, 0.7]\n",
    "m0.cpt(\"Danger\")[{'RoadConditions':'Bad', \"Speed\":'Slow', 'RushHour':'True'}]=[0.45, 0.55]\n",
    "m0.cpt(\"Danger\")[{'RoadConditions':'Bad', \"Speed\":'Slow', 'RushHour':'False'}]=[0.55, 0.45]\n",
    "m0.cpt(\"Danger\")[{'RoadConditions':'Bad', \"Speed\":'Fast', 'RushHour':'True'}]=[0.05, 0.95]\n",
    "m0.cpt(\"Danger\")[{'RoadConditions':'Bad', \"Speed\":'Fast', 'RushHour':'False'}]=[0.2, 0.8]\n",
    "\n",
    "m0.cpt(\"Accident\")[{'Strike':'True', \"Humor\":\"Good\",'Danger':'Low'}]=[0.15, 0.85]\n",
    "m0.cpt(\"Accident\")[{'Strike':'True', \"Humor\":\"Good\",'Danger':'High'}]=[0.85, 0.15]\n",
    "m0.cpt(\"Accident\")[{'Strike':'True', \"Humor\":\"Bad\",'Danger':'Low'}]=[0.7, 0.3]\n",
    "m0.cpt(\"Accident\")[{'Strike':'True', \"Humor\":\"Bad\",'Danger':'High'}]=[0.95, 0.05]\n",
    "m0.cpt(\"Accident\")[{'Strike':'False',\"Humor\":\"Good\",'Danger':'Low'}]=[0.05, 0.95]\n",
    "m0.cpt(\"Accident\")[{'Strike':'False',\"Humor\":\"Good\",'Danger':'High'}]=[0.6, 0.4]\n",
    "m0.cpt(\"Accident\")[{'Strike':'False',\"Humor\":\"Bad\",'Danger':'Low'}]=[0.55, 0.45]\n",
    "m0.cpt(\"Accident\")[{'Strike':'False',\"Humor\":\"Bad\",'Danger':'High'}]=[0.8, 0.2]\n",
    "\n",
    "m0.cpt(\"Delay\")[{\"Speed\":'Slow', 'Strike':'True', 'Accident':'True'}]=[0.98, 0.02]\n",
    "m0.cpt(\"Delay\")[{\"Speed\":'Slow', 'Strike':'True', 'Accident':'False'}]=[0.75, 0.25]\n",
    "m0.cpt(\"Delay\")[{\"Speed\":'Slow', 'Strike':'False', 'Accident':'True'}]=[0.95, 0.05]\n",
    "m0.cpt(\"Delay\")[{\"Speed\":'Slow', 'Strike':'False', 'Accident':'False'}]=[0.65, 0.35]\n",
    "m0.cpt(\"Delay\")[{\"Speed\":'Fast', 'Strike':'True', 'Accident':'True'}]=[0.9, 0.1]\n",
    "m0.cpt(\"Delay\")[{\"Speed\":'Fast', 'Strike':'True', 'Accident':'False'}]=[0.6, 0.4]\n",
    "m0.cpt(\"Delay\")[{\"Speed\":'Fast', 'Strike':'False', 'Accident':'True'}]=[0.85, 0.15]\n",
    "m0.cpt(\"Delay\")[{\"Speed\":'Fast', 'Strike':'False', 'Accident':'False'}]=[0.45, 0.55]\n",
    "\n",
    "# to draw network and cpt\n",
    "gnb.sideBySide(m0.cpt(\"Weather\"), m0.cpt(\"Strike\"), m0.cpt(\"RushHour\"), m0.cpt(\"RoadConditions\"),  m0.cpt('Humor'), \n",
    "               m0.cpt(\"RoadWorks\"), m0.cpt('Speed'), m0.cpt('Danger'),  m0.cpt('Accident'),  m0.cpt('Delay'))\n"
   ],
   "metadata": {
    "collapsed": false,
    "pycharm": {
     "name": "#%%\n",
     "is_executing": false
    }
   }
  },
  {
   "cell_type": "code",
   "execution_count": 161,
   "outputs": [
    {
     "name": "stdout",
     "text": [
      "Loading pages (1/6)\n[>                                                           ] 0%\r[======>                                                     ] 10%\r[==============================>                             ] 50%\r[============================================================] 100%\rCounting pages (2/6)                                               \n[============================================================] Object 1 of 1\rResolving links (4/6)                                                       \n[============================================================] Object 1 of 1\rLoading headers and footers (5/6)                                           \nPrinting pages (6/6)\n[>                                                           ] Preparing\r[============================================================] Page 1 of 1\rDone                                                                      \n",
      "Loading pages (1/6)\n[>                                                           ] 0%\r[======>                                                     ] 10%\r[==============================>                             ] 50%\r[============================================================] 100%\rCounting pages (2/6)                                               \n[============================================================] Object 1 of 1\rResolving links (4/6)                                                       \n[============================================================] Object 1 of 1\rLoading headers and footers (5/6)                                           \nPrinting pages (6/6)\n[>                                                           ] Preparing\r[============================================================] Page 1 of 1\rDone                                                                      \n",
      "Loading pages (1/6)\n[>                                                           ] 0%\r[======>                                                     ] 10%\r[==============================>                             ] 50%\r[============================================================] 100%\rCounting pages (2/6)                                               \n[============================================================] Object 1 of 1\rResolving links (4/6)                                                       \n[============================================================] Object 1 of 1\rLoading headers and footers (5/6)                                           \nPrinting pages (6/6)\n[>                                                           ] Preparing\r[============================================================] Page 1 of 1\rDone                                                                      \n",
      "Loading pages (1/6)\n[>                                                           ] 0%\r[======>                                                     ] 10%\r[==============================>                             ] 50%\r[============================================================] 100%\rCounting pages (2/6)                                               \n[============================================================] Object 1 of 1\rResolving links (4/6)                                                       \n[============================================================] Object 1 of 1\rLoading headers and footers (5/6)                                           \nPrinting pages (6/6)\n[>                                                           ] Preparing\r[============================================================] Page 1 of 1\rDone                                                                      \n",
      "Loading pages (1/6)\n[>                                                           ] 0%\r[======>                                                     ] 10%\r[==============================>                             ] 50%\r[============================================================] 100%\rCounting pages (2/6)                                               \n[============================================================] Object 1 of 1\rResolving links (4/6)                                                       \n[============================================================] Object 1 of 1\rLoading headers and footers (5/6)                                           \nPrinting pages (6/6)\n[>                                                           ] Preparing\r[============================================================] Page 1 of 1\rDone                                                                      \n",
      "Loading pages (1/6)\n[>                                                           ] 0%\r[======>                                                     ] 10%\r[==============================>                             ] 50%\r[============================================================] 100%\rCounting pages (2/6)                                               \n[============================================================] Object 1 of 1\rResolving links (4/6)                                                       \n[============================================================] Object 1 of 1\rLoading headers and footers (5/6)                                           \nPrinting pages (6/6)\n[>                                                           ] Preparing\r[============================================================] Page 1 of 1\rDone                                                                      \n",
      "Loading pages (1/6)\n[>                                                           ] 0%\r[======>                                                     ] 10%\r[==============================>                             ] 50%\r[============================================================] 100%\rCounting pages (2/6)                                               \n[============================================================] Object 1 of 1\rResolving links (4/6)                                                       \n[============================================================] Object 1 of 1\rLoading headers and footers (5/6)                                           \nPrinting pages (6/6)\n[>                                                           ] Preparing\r[============================================================] Page 1 of 1\rDone                                                                      \n",
      "Loading pages (1/6)\n[>                                                           ] 0%\r[======>                                                     ] 10%\r[==============================>                             ] 50%\r[============================================================] 100%\rCounting pages (2/6)                                               \n[============================================================] Object 1 of 1\rResolving links (4/6)                                                       \n[============================================================] Object 1 of 1\rLoading headers and footers (5/6)                                           \nPrinting pages (6/6)\n[>                                                           ] Preparing\r[============================================================] Page 1 of 1\rDone                                                                      \n",
      "Loading pages (1/6)\n[>                                                           ] 0%\r[======>                                                     ] 10%\r[==============================>                             ] 50%\r[============================================================] 100%\rCounting pages (2/6)                                               \n[============================================================] Object 1 of 1\rResolving links (4/6)                                                       \n[============================================================] Object 1 of 1\rLoading headers and footers (5/6)                                           \nPrinting pages (6/6)\n[>                                                           ] Preparing\r[============================================================] Page 1 of 1\rDone                                                                      \n",
      "Loading pages (1/6)\n[>                                                           ] 0%\r[======>                                                     ] 10%\r[==============================>                             ] 50%\r[============================================================] 100%\rCounting pages (2/6)                                               \n[============================================================] Object 1 of 1\rResolving links (4/6)                                                       \n[============================================================] Object 1 of 1\rLoading headers and footers (5/6)                                           \nPrinting pages (6/6)\n[>                                                           ] Preparing\r[============================================================] Page 1 of 1\rDone                                                                      \n"
     ],
     "output_type": "stream"
    },
    {
     "data": {
      "text/plain": "True"
     },
     "metadata": {},
     "output_type": "execute_result",
     "execution_count": 161
    }
   ],
   "source": [
    "# Save cpts to file\n",
    "\n",
    "pdfkit.from_string(gnb.getPotential(m0.cpt(\"Weather\"), digits=4),'weather.pdf')\n",
    "pdfkit.from_string(gnb.getPotential(m0.cpt(\"Strike\"), digits=4),'strike.pdf')\n",
    "pdfkit.from_string(gnb.getPotential(m0.cpt(\"RushHour\"), digits=4),'rushhour.pdf')\n",
    "pdfkit.from_string(gnb.getPotential(m0.cpt(\"RoadConditions\"), digits=4),'roadconditions.pdf')\n",
    "pdfkit.from_string(gnb.getPotential(m0.cpt(\"Humor\"), digits=4),'Humor.pdf')\n",
    "pdfkit.from_string(gnb.getPotential(m0.cpt(\"RoadWorks\"), digits=4),'roadworks.pdf')\n",
    "pdfkit.from_string(gnb.getPotential(m0.cpt(\"Speed\"), digits=4),'speed.pdf')\n",
    "pdfkit.from_string(gnb.getPotential(m0.cpt(\"Danger\"), digits=4),'danger.pdf')\n",
    "pdfkit.from_string(gnb.getPotential(m0.cpt(\"Accident\"), digits=4),'accident.pdf')\n",
    "pdfkit.from_string(gnb.getPotential(m0.cpt(\"Delay\"), digits=4),'delay.pdf')\n"
   ],
   "metadata": {
    "collapsed": false,
    "pycharm": {
     "name": "#%%\n",
     "is_executing": false
    }
   }
  },
  {
   "cell_type": "markdown",
   "source": [
    "# Causal Inference\n",
    "\n",
    "## Calculate the causal effect of X on Y"
   ],
   "metadata": {
    "collapsed": false
   }
  },
  {
   "cell_type": "code",
   "execution_count": 148,
   "outputs": [
    {
     "traceback": [
      "\u001b[0;31m---------------------------------------------------------------------------\u001b[0m",
      "\u001b[0;31mNotFound\u001b[0m                                  Traceback (most recent call last)",
      "\u001b[0;32m<ipython-input-148-85d3d31a5ff3>\u001b[0m in \u001b[0;36m<module>\u001b[0;34m\u001b[0m\n\u001b[1;32m      1\u001b[0m \u001b[0;31m#calculate P(Journey = True | Strike)\u001b[0m\u001b[0;34m\u001b[0m\u001b[0;34m\u001b[0m\u001b[0;34m\u001b[0m\u001b[0m\n\u001b[0;32m----> 2\u001b[0;31m \u001b[0mpGDP\u001b[0m\u001b[0;34m=\u001b[0m\u001b[0mm0\u001b[0m\u001b[0;34m.\u001b[0m\u001b[0mcpt\u001b[0m\u001b[0;34m(\u001b[0m\u001b[0;34m\"Journey\"\u001b[0m\u001b[0;34m)\u001b[0m\u001b[0;34m*\u001b[0m\u001b[0mm0\u001b[0m\u001b[0;34m.\u001b[0m\u001b[0mcpt\u001b[0m\u001b[0;34m(\u001b[0m\u001b[0;34m\"Strike\"\u001b[0m\u001b[0;34m)\u001b[0m\u001b[0;34m*\u001b[0m\u001b[0mm0\u001b[0m\u001b[0;34m.\u001b[0m\u001b[0mcpt\u001b[0m\u001b[0;34m(\u001b[0m\u001b[0;34m\"Weather\"\u001b[0m\u001b[0;34m)\u001b[0m\u001b[0;34m\u001b[0m\u001b[0;34m\u001b[0m\u001b[0m\n\u001b[0m\u001b[1;32m      3\u001b[0m \u001b[0mpPatientgivenDrug\u001b[0m\u001b[0;34m=\u001b[0m\u001b[0;34m(\u001b[0m\u001b[0mpGDP\u001b[0m\u001b[0;34m.\u001b[0m\u001b[0mmargSumOut\u001b[0m\u001b[0;34m(\u001b[0m\u001b[0;34m[\u001b[0m\u001b[0;34m\"Gender\"\u001b[0m\u001b[0;34m]\u001b[0m\u001b[0;34m)\u001b[0m\u001b[0;34m/\u001b[0m\u001b[0mpGDP\u001b[0m\u001b[0;34m.\u001b[0m\u001b[0mmargSumOut\u001b[0m\u001b[0;34m(\u001b[0m\u001b[0;34m[\u001b[0m\u001b[0;34m\"Gender\"\u001b[0m\u001b[0;34m,\u001b[0m\u001b[0;34m\"Patient\"\u001b[0m\u001b[0;34m]\u001b[0m\u001b[0;34m)\u001b[0m\u001b[0;34m)\u001b[0m \u001b[0;31m#P(Patient|Drug)=P(Patient,Drug)/P(Drug)\u001b[0m\u001b[0;34m\u001b[0m\u001b[0;34m\u001b[0m\u001b[0m\n\u001b[1;32m      4\u001b[0m \u001b[0;34m\u001b[0m\u001b[0m\n\u001b[1;32m      5\u001b[0m \u001b[0mpPatientgivenDrug\u001b[0m\u001b[0;34m.\u001b[0m\u001b[0mputFirst\u001b[0m\u001b[0;34m(\u001b[0m\u001b[0;34m\"Drug\"\u001b[0m\u001b[0;34m)\u001b[0m \u001b[0;31m# in order to have b horizontally in the table\u001b[0m\u001b[0;34m\u001b[0m\u001b[0;34m\u001b[0m\u001b[0m\n",
      "\u001b[0;32m/usr/local/lib/python3.7/site-packages/pyAgrum/pyAgrum.py\u001b[0m in \u001b[0;36mcpt\u001b[0;34m(self, *args)\u001b[0m\n\u001b[1;32m   9470\u001b[0m \u001b[0;34m\u001b[0m\u001b[0m\n\u001b[1;32m   9471\u001b[0m         \"\"\"\n\u001b[0;32m-> 9472\u001b[0;31m         \u001b[0mval\u001b[0m \u001b[0;34m=\u001b[0m \u001b[0m_pyAgrum\u001b[0m\u001b[0;34m.\u001b[0m\u001b[0mBayesNet_cpt\u001b[0m\u001b[0;34m(\u001b[0m\u001b[0mself\u001b[0m\u001b[0;34m,\u001b[0m \u001b[0;34m*\u001b[0m\u001b[0margs\u001b[0m\u001b[0;34m)\u001b[0m\u001b[0;34m\u001b[0m\u001b[0;34m\u001b[0m\u001b[0m\n\u001b[0m\u001b[1;32m   9473\u001b[0m \u001b[0;34m\u001b[0m\u001b[0m\n\u001b[1;32m   9474\u001b[0m         \u001b[0mval\u001b[0m\u001b[0;34m.\u001b[0m\u001b[0m__fill_distrib__\u001b[0m\u001b[0;34m(\u001b[0m\u001b[0;34m)\u001b[0m\u001b[0;34m\u001b[0m\u001b[0;34m\u001b[0m\u001b[0m\n",
      "\u001b[0;31mNotFound\u001b[0m: [pyAgrum] Object not found: hashtable's chained list contains no element with this key <Journey>"
     ],
     "ename": "NotFound",
     "evalue": "[pyAgrum] Object not found: hashtable's chained list contains no element with this key <Journey>",
     "output_type": "error"
    }
   ],
   "source": [
    "#calculate P(Journey = True | Strike)\n",
    "pGDP=m0.cpt(\"Journey\")*m0.cpt(\"Strike\")*m0.cpt(\"Weather\")\n",
    "pPatientgivenDrug=(pGDP.margSumOut([\"Gender\"])/pGDP.margSumOut([\"Gender\",\"Patient\"])) #P(Patient|Drug)=P(Patient,Drug)/P(Drug)\n",
    "\n",
    "pPatientgivenDrug.putFirst(\"Drug\") # in order to have b horizontally in the table\n",
    "pDrugTotal=pPatientgivenDrug.extract({'Patient':1}) #1 indicates \"Healed\"\n",
    "\n",
    "# #calculate P(Patient = Healed | Gender=F, Drug)\n",
    "# pPatientgivenGenderDrug=(pGDP)/pGDP.margSumOut([\"Patient\"])#P(Patient|Gender,Drug)=P(Patient,Drug,Gender)/P(Drug,Gender)\n",
    "# pPatientgivenGenderDrug.putFirst(\"Drug\")\n",
    "# pDrugF=pPatientgivenGenderDrug.extract({'Patient':1,'Gender':0}) #1 indicates \"Healed\", 0 indicates F\n",
    "\n",
    "\n",
    "\n",
    "\n",
    "\n"
   ],
   "metadata": {
    "collapsed": false,
    "pycharm": {
     "name": "#%%\n",
     "is_executing": false
    }
   }
  }
 ],
 "metadata": {
  "kernelspec": {
   "display_name": "Python 3",
   "language": "python",
   "name": "python3"
  },
  "language_info": {
   "codemirror_mode": {
    "name": "ipython",
    "version": 2
   },
   "file_extension": ".py",
   "mimetype": "text/x-python",
   "name": "python",
   "nbconvert_exporter": "python",
   "pygments_lexer": "ipython2",
   "version": "2.7.6"
  },
  "pycharm": {
   "stem_cell": {
    "cell_type": "raw",
    "source": [],
    "metadata": {
     "collapsed": false
    }
   }
  }
 },
 "nbformat": 4,
 "nbformat_minor": 0
}