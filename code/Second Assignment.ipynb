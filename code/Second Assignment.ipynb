{
 "cells": [
  {
   "cell_type": "code",
   "execution_count": 21,
   "metadata": {
    "pycharm": {
     "is_executing": false
    }
   },
   "outputs": [],
   "source": [
    "from IPython.display import display, Math, Latex, HTML\n",
    "\n",
    "import pyAgrum as gum\n",
    "import pyAgrum.lib.notebook as gnb\n",
    "import pyAgrum.causal as csl\n",
    "import pyAgrum.causal.notebook as cslnb\n",
    "import os\n",
    "\n",
    "gum.config['notebook','default_graph_size'] = 10\n",
    "\n",
    "def common_data(list1, list2): \n",
    "    result = False\n",
    "    # traverse in the 1st list \n",
    "    for x in list1: \n",
    "        # traverse in the 2nd list \n",
    "        for y in list2: \n",
    "            # if one common \n",
    "            if x == y: \n",
    "                result = True\n",
    "                return result \n",
    "\n",
    "\n",
    "def getAncestors(cm,varSet):\n",
    "    ancestors=varSet\n",
    "\n",
    "    while len(varSet)>0:\n",
    "        newparents=cm.parents(varSet[0])\n",
    "        newparents = [i for b in map(lambda x:[x] if not isinstance(x, list) else x, newparents) for i in b]\n",
    "        newparents = [cm.names()[i] for i in newparents] \n",
    "        ancestors=ancestors+newparents\n",
    "        varSet=varSet+newparents\n",
    "        varSet.remove(varSet[0])\n",
    "    return(ancestors)\n",
    "\n",
    "def dSeparation(cm, varSet1, varSet2, evs):\n",
    "    cmcopy=gum.fastBN(\"A\")\n",
    "    cmcopy.erase(\"A\")\n",
    "    [ cmcopy.add(name, 2) for name in cm.names()]\n",
    "    for link in cm.arcs():\n",
    "        cmcopy.addArc(*link)\n",
    "    l1=cmcopy.names()\n",
    "    l2=getAncestors(cmcopy,varSet1+varSet2+evs)\n",
    "    #print(l2)\n",
    "    l3 = [x for x in l1 if x not in l2]\n",
    "    for i in l3:\n",
    "        cmcopy.erase(i)\n",
    "    m=cmcopy.moralGraph()\n",
    "    if len(evs)>0:\n",
    "        for i in evs:\n",
    "            m.eraseNode(cmcopy.idFromName(i))\n",
    "    #gnb.sideBySide(m)\n",
    "    connComp=m.connectedComponents()\n",
    "    #print(connComp)\n",
    "    idVarSet1=[]\n",
    "    idVarSet2=[]\n",
    "    for i in varSet1:\n",
    "        idVarSet1.append(cmcopy.idFromName(i))\n",
    "    for i in varSet2:\n",
    "        idVarSet2.append(cmcopy.idFromName(i))\n",
    "    dSeparated=True\n",
    "    for i in connComp:\n",
    "        connCompSet=connComp[i]\n",
    "        connCompSet= [i for b in map(lambda x:[x] if not isinstance(x, list) else x, connCompSet) for i in b]\n",
    "        if common_data(connCompSet, idVarSet1) and common_data(connCompSet, idVarSet2):\n",
    "            dSeparated=False\n",
    "    del cmcopy\n",
    "    return dSeparated\n"
   ]
  },
  {
   "cell_type": "code",
   "execution_count": 22,
   "metadata": {
    "scrolled": true,
    "pycharm": {
     "is_executing": false
    }
   },
   "outputs": [
    {
     "data": {
      "text/html": "<img src=\"graph.png\"/>",
      "text/plain": "<IPython.core.display.Image object>"
     },
     "metadata": {},
     "output_type": "execute_result",
     "execution_count": 22
    }
   ],
   "source": [
    "from IPython.display import Image\n",
    "from IPython.core.display import HTML \n",
    "Image(url= \"graph.png\")"
   ]
  },
  {
   "cell_type": "markdown",
   "metadata": {},
   "source": [
    "# 1) Structure of the network"
   ]
  },
  {
   "cell_type": "markdown",
   "metadata": {},
   "source": [
    "\\textbf{List at least 10 binary variables all measurable involved in the problem:}\n",
    "    The binary nature of some of the variables could be unclear. The following list enumerates the variables, explain how they could be binary and gives an abbreviation for each one of them, useful for undermentioned considerations.\n",
    "    \\begin{enumerate}\n",
    "        \\item [BPa] Back pain: more than 3 pain spikes during the day, for example in the lumbar region\n",
    "        \\item [BPo] Bad Posture: inadvertently slouching the majority of the time\n",
    "        \\item [LS] Long computer sessions: more than 8 hours per day on average without breaks that take more than 30 minutes\n",
    "        \\item [SD] Sleep Deprivation: less than k hours of sleep per night on average, with k ranging from 6 to 8 depending on the person\n",
    "        \\item [H] Headache\n",
    "        \\item [D] Dehydration: drinking less than 2 liters of water per day on average\n",
    "        \\item [G] Gym: at least 3 day per week of gym activity\n",
    "        \\item [S] Stress: molecular bio-markers blood scan in combination with responses to questionnaires to gauge it with a prefixed threshold for both\n",
    "        \\item [R] Running: going out for a run longer than 30 minutes at least 3 times per week\n",
    "        \\item [L] Laziness: apparently it is measurable with self-regulation,  by  using  heart  rate  variability  (HRV)  biofeedback  technique \\cite{lazy} with some prefixed threshold\n",
    "        \\item [BM] Body Movement: walking and streching sufficiently (ie. x times per day, y minutes per day)\n",
    "    \\end{enumerate}"
   ]
  },
  {
   "cell_type": "markdown",
   "metadata": {},
   "source": [
    "\\textbf{State which is the objective of the network: for instance, highlight a couple of situations in which decision making could be difficult and in which the graph could provide valuable indications} The objective of this network is to study and model the psycho-physiological profile of a data analyst, even though it remains applicable to any computer scientist. Two root causes are identified, represented as source nodes: long sessions on the personal computer and a person's own laziness. We will ignore their respective causes, but the former could occur due to work of academic duties, while the latter is a personal trait that is developed growing up, probably caused by education, social context and historical period. Furthermore, a final effect is identified: stress. This, in turn, could cause other psycho-physiological problems, but we are going to ignore it as it goes beyond the scope of this simple model. This causal model allows us to pose some interesting questions like: \n",
    "    \\begin{enumerate}\n",
    "        \\item What is the major cause of a headache? \n",
    "        \\item What helps more to eliminate the stress, doing gym or just running?\n",
    "        \\item What should I focus on to actively improve my well-being?\n",
    "    \\end{enumerate}"
   ]
  },
  {
   "cell_type": "markdown",
   "metadata": {},
   "source": [
    "\\textbf{Explaining how you decide the arcs orientation, in case they are not self-explaining} \n",
    "    \\begin{enumerate}\n",
    "        \\item [LS \\rightarrow BPo] Human body is not designed for sitting for prolonged times. Moreover, a personal computer without a monitor at the proper height (eg. a laptop) can cause a severe slouching.\n",
    "        \\item [G \\rightarrow R] Usually people who go running do not feel the need to also go to gym. Vice-versa, if an individual goes to gym, there is a good chance he will use the treadmill at the start and/or at the end of the workout session.\n",
    "        \\item [G,R \\rightarrow S, D \\leftarrow H] It's well known that running andhttps://www.overleaf.com/project/5e1853468eebb700011efe1e working out have a positive effect on the elimination of stress, even though both activities consume a significant amount of water inside the body thought sweat and assimilation.\n",
    "        \\item [G,R \\rightarrow SD] They also increase the quality of night's sleep, weakening the negative effects of sleep deprivation. \n",
    "    \\end{enumerate}"
   ]
  },
  {
   "cell_type": "code",
   "execution_count": 23,
   "metadata": {
    "scrolled": true,
    "pycharm": {
     "is_executing": false
    }
   },
   "outputs": [
    {
     "data": {
      "text/html": "<img src=\"equivalent.png\"/>",
      "text/plain": "<IPython.core.display.Image object>"
     },
     "metadata": {},
     "output_type": "execute_result",
     "execution_count": 23
    }
   ],
   "source": [
    "from IPython.display import Image\n",
    "from IPython.core.display import HTML \n",
    "Image(url= \"equivalent.png\")"
   ]
  },
  {
   "cell_type": "markdown",
   "metadata": {},
   "source": [
    "\\textbf{Which arrows can be reversed without being detectable by a statistical test? Explain why} \n",
    "    \\begin{enumerate}\n",
    "        \\item [Red arrows] Would destroy a V-structure if reversed\n",
    "        \\item [Green arrows] Would create a cycle if reversed\n",
    "        \\item [Yellow arrows] Would create a V-structure if reversed\n",
    "        \\item [Grey bidirected arrows] They can be reverted to create an equivalent model\n",
    "    \\end{enumerate}"
   ]
  },
  {
   "cell_type": "code",
   "execution_count": 24,
   "metadata": {
    "pycharm": {
     "is_executing": false
    }
   },
   "outputs": [
    {
     "name": "stdout",
     "text": [
      "/bin/sh: pip: command not found\r\n"
     ],
     "output_type": "stream"
    }
   ],
   "source": [
    "!pip install networkx"
   ]
  },
  {
   "cell_type": "code",
   "execution_count": 25,
   "metadata": {
    "pycharm": {
     "is_executing": false
    }
   },
   "outputs": [
    {
     "data": {
      "text/plain": "<Figure size 720x720 with 1 Axes>",
      "image/svg+xml": "<?xml version=\"1.0\" encoding=\"utf-8\" standalone=\"no\"?>\n<!DOCTYPE svg PUBLIC \"-//W3C//DTD SVG 1.1//EN\"\n  \"http://www.w3.org/Graphics/SVG/1.1/DTD/svg11.dtd\">\n<!-- Created with matplotlib (https://matplotlib.org/) -->\n<svg height=\"558pt\" version=\"1.1\" viewBox=\"0 0 572.4 558\" width=\"572.4pt\" xmlns=\"http://www.w3.org/2000/svg\" xmlns:xlink=\"http://www.w3.org/1999/xlink\">\n <defs>\n  <style type=\"text/css\">\n*{stroke-linecap:butt;stroke-linejoin:round;}\n  </style>\n </defs>\n <g id=\"figure_1\">\n  <g id=\"patch_1\">\n   <path d=\"M 0 558 \nL 572.4 558 \nL 572.4 0 \nL 0 0 \nz\n\" style=\"fill:none;\"/>\n  </g>\n  <g id=\"axes_1\">\n   <g id=\"patch_2\">\n    <path clip-path=\"url(#p13b7132a58)\" d=\"M 516.778512 279.000004 \nQ 500.40093 225.215568 484.349029 172.50068 \n\" style=\"fill:none;stroke:#000000;stroke-linecap:round;\"/>\n    <path clip-path=\"url(#p13b7132a58)\" d=\"M 483.600958 176.909806 \nL 484.349029 172.50068 \nL 487.427487 175.744612 \nL 483.600958 176.909806 \nz\n\" style=\"stroke:#000000;stroke-linecap:round;\"/>\n   </g>\n   <g id=\"patch_3\">\n    <path clip-path=\"url(#p13b7132a58)\" d=\"M 516.778512 279.000004 \nQ 452.373288 182.36348 388.588111 86.657302 \n\" style=\"fill:none;stroke:#000000;stroke-linecap:round;\"/>\n    <path clip-path=\"url(#p13b7132a58)\" d=\"M 389.142203 91.09498 \nL 388.588111 86.657302 \nL 392.470708 88.876635 \nL 389.142203 91.09498 \nz\n\" style=\"stroke:#000000;stroke-linecap:round;\"/>\n   </g>\n   <g id=\"patch_4\">\n    <path clip-path=\"url(#p13b7132a58)\" d=\"M 479.41831 156.308063 \nQ 435.375233 119.507805 392.190118 83.424417 \n\" style=\"fill:none;stroke:#000000;stroke-linecap:round;\"/>\n    <path clip-path=\"url(#p13b7132a58)\" d=\"M 393.977275 87.523937 \nL 392.190118 83.424417 \nL 396.542029 84.454403 \nL 393.977275 87.523937 \nz\n\" style=\"stroke:#000000;stroke-linecap:round;\"/>\n   </g>\n   <g id=\"patch_5\">\n    <path clip-path=\"url(#p13b7132a58)\" d=\"M 479.41831 156.308063 \nQ 370.914779 108.526265 263.434462 61.19506 \n\" style=\"fill:none;stroke:#ff0000;stroke-linecap:round;\"/>\n    <path clip-path=\"url(#p13b7132a58)\" d=\"M 266.289176 64.637531 \nL 263.434462 61.19506 \nL 267.901268 60.976772 \nL 266.289176 64.637531 \nz\n\" style=\"fill:#ff0000;stroke:#ff0000;stroke-linecap:round;\"/>\n   </g>\n   <g id=\"patch_6\">\n    <path clip-path=\"url(#p13b7132a58)\" d=\"M 479.41831 156.308063 \nQ 311.198761 132.985721 144.086653 109.816918 \n\" style=\"fill:none;stroke:#ff0000;stroke-linecap:round;\"/>\n    <path clip-path=\"url(#p13b7132a58)\" d=\"M 147.774098 112.347284 \nL 144.086653 109.816918 \nL 148.323412 108.385182 \nL 147.774098 112.347284 \nz\n\" style=\"fill:#ff0000;stroke:#ff0000;stroke-linecap:round;\"/>\n   </g>\n   <g id=\"patch_7\">\n    <path clip-path=\"url(#p13b7132a58)\" d=\"M 479.41831 156.308063 \nQ 275.349366 184.600622 72.387864 212.739642 \n\" style=\"fill:none;stroke:#ff0000;stroke-linecap:round;\"/>\n    <path clip-path=\"url(#p13b7132a58)\" d=\"M 76.624624 214.171379 \nL 72.387864 212.739642 \nL 76.075309 210.209277 \nL 76.624624 214.171379 \nz\n\" style=\"fill:#ff0000;stroke:#ff0000;stroke-linecap:round;\"/>\n   </g>\n   <g id=\"patch_8\">\n    <path clip-path=\"url(#p13b7132a58)\" d=\"M 479.41831 156.308063 \nQ 274.754437 246.436067 71.113777 336.113478 \n\" style=\"fill:none;stroke:#ffa500;stroke-linecap:round;\"/>\n    <path clip-path=\"url(#p13b7132a58)\" d=\"M 75.580583 336.331766 \nL 71.113777 336.113478 \nL 73.968491 332.671007 \nL 75.580583 336.331766 \nz\n\" style=\"fill:#ffa500;stroke:#ffa500;stroke-linecap:round;\"/>\n   </g>\n   <g id=\"patch_9\">\n    <path clip-path=\"url(#p13b7132a58)\" d=\"M 379.199323 72.569938 \nQ 321.398986 64.556371 264.70609 56.696341 \n\" style=\"fill:none;stroke:#ff0000;stroke-linecap:round;\"/>\n    <path clip-path=\"url(#p13b7132a58)\" d=\"M 268.393535 59.226707 \nL 264.70609 56.696341 \nL 268.94285 55.264605 \nL 268.393535 59.226707 \nz\n\" style=\"fill:#ff0000;stroke:#ff0000;stroke-linecap:round;\"/>\n   </g>\n   <g id=\"patch_10\">\n    <path clip-path=\"url(#p13b7132a58)\" d=\"M 379.199323 72.569938 \nQ 261.088284 88.945102 144.084687 105.166729 \n\" style=\"fill:none;stroke:#ff0000;stroke-linecap:round;\"/>\n    <path clip-path=\"url(#p13b7132a58)\" d=\"M 148.321447 106.598465 \nL 144.084687 105.166729 \nL 147.772132 102.636363 \nL 148.321447 106.598465 \nz\n\" style=\"fill:#ff0000;stroke:#ff0000;stroke-linecap:round;\"/>\n   </g>\n   <g id=\"patch_11\">\n    <path clip-path=\"url(#p13b7132a58)\" d=\"M 379.199323 72.569938 \nQ 224.644939 140.631176 71.113769 208.241821 \n\" style=\"fill:none;stroke:#ff0000;stroke-linecap:round;\"/>\n    <path clip-path=\"url(#p13b7132a58)\" d=\"M 75.580574 208.460109 \nL 71.113769 208.241821 \nL 73.968483 204.799349 \nL 75.580574 208.460109 \nz\n\" style=\"fill:#ff0000;stroke:#ff0000;stroke-linecap:round;\"/>\n   </g>\n   <g id=\"patch_12\">\n    <path clip-path=\"url(#p13b7132a58)\" d=\"M 379.199323 72.569938 \nQ 223.477243 202.68373 68.613124 332.080652 \n\" style=\"fill:none;stroke:#ffa500;stroke-linecap:round;\"/>\n    <path clip-path=\"url(#p13b7132a58)\" d=\"M 72.965034 331.050666 \nL 68.613124 332.080652 \nL 70.400281 327.981132 \nL 72.965034 331.050666 \nz\n\" style=\"fill:#ffa500;stroke:#ffa500;stroke-linecap:round;\"/>\n   </g>\n   <g id=\"patch_13\">\n    <path clip-path=\"url(#p13b7132a58)\" d=\"M 247.940344 54.371901 \nQ 247.940324 271.09435 247.940303 486.698764 \n\" style=\"fill:none;stroke:#ffa500;stroke-linecap:round;\"/>\n    <path clip-path=\"url(#p13b7132a58)\" d=\"M 249.940304 482.698764 \nL 247.940303 486.698764 \nL 245.940304 482.698764 \nL 249.940304 482.698764 \nz\n\" style=\"fill:#ffa500;stroke:#ffa500;stroke-linecap:round;\"/>\n   </g>\n   <g id=\"patch_14\">\n    <path clip-path=\"url(#p13b7132a58)\" d=\"M 247.940344 54.371901 \nQ 311.26706 262.338586 374.268094 469.235724 \n\" style=\"fill:none;stroke:#ff0000;stroke-linecap:round;\"/>\n    <path clip-path=\"url(#p13b7132a58)\" d=\"M 375.016164 464.826599 \nL 374.268094 469.235724 \nL 371.189636 465.991792 \nL 375.016164 464.826599 \nz\n\" style=\"fill:#ff0000;stroke:#ff0000;stroke-linecap:round;\"/>\n   </g>\n   <g id=\"patch_15\">\n    <path clip-path=\"url(#p13b7132a58)\" d=\"M 127.315201 107.491686 \nQ 248.872857 289.882303 369.810466 471.342575 \n\" style=\"fill:none;stroke:#ff0000;stroke-linecap:round;\"/>\n    <path clip-path=\"url(#p13b7132a58)\" d=\"M 369.256374 466.904898 \nL 369.810466 471.342575 \nL 365.927869 469.123242 \nL 369.256374 466.904898 \nz\n\" style=\"fill:#ff0000;stroke:#ff0000;stroke-linecap:round;\"/>\n   </g>\n   <g id=\"patch_16\">\n    <path clip-path=\"url(#p13b7132a58)\" d=\"M 55.621488 215.064169 \nQ 211.343574 345.177961 366.2077 474.574883 \n\" style=\"fill:none;stroke:#ff0000;stroke-linecap:round;\"/>\n    <path clip-path=\"url(#p13b7132a58)\" d=\"M 364.420542 470.475363 \nL 366.2077 474.574883 \nL 361.855789 473.544897 \nL 364.420542 470.475363 \nz\n\" style=\"fill:#ff0000;stroke:#ff0000;stroke-linecap:round;\"/>\n   </g>\n   <g id=\"patch_17\">\n    <path clip-path=\"url(#p13b7132a58)\" d=\"M 55.621488 342.935831 \nQ 259.690424 371.228403 462.651919 399.367436 \n\" style=\"fill:none;stroke:#ff0000;stroke-linecap:round;\"/>\n    <path clip-path=\"url(#p13b7132a58)\" d=\"M 458.964475 396.83707 \nL 462.651919 399.367436 \nL 458.41516 400.799173 \nL 458.964475 396.83707 \nz\n\" style=\"fill:#ff0000;stroke:#ff0000;stroke-linecap:round;\"/>\n   </g>\n   <g id=\"patch_18\">\n    <path clip-path=\"url(#p13b7132a58)\" d=\"M 127.315187 450.508301 \nQ 185.324722 260.003359 243.008576 70.567964 \n\" style=\"fill:none;stroke:#ff0000;stroke-linecap:round;\"/>\n    <path clip-path=\"url(#p13b7132a58)\" d=\"M 239.930118 73.811896 \nL 243.008576 70.567964 \nL 243.756647 74.97709 \nL 239.930118 73.811896 \nz\n\" style=\"fill:#ff0000;stroke:#ff0000;stroke-linecap:round;\"/>\n   </g>\n   <g id=\"patch_19\">\n    <path clip-path=\"url(#p13b7132a58)\" d=\"M 127.315187 450.508301 \nQ 127.315194 286.904669 127.3152 124.419071 \n\" style=\"fill:none;stroke:#ff0000;stroke-linecap:round;\"/>\n    <path clip-path=\"url(#p13b7132a58)\" d=\"M 125.3152 128.419071 \nL 127.3152 124.419071 \nL 129.3152 128.419072 \nL 125.3152 128.419071 \nz\n\" style=\"fill:#ff0000;stroke:#ff0000;stroke-linecap:round;\"/>\n   </g>\n   <g id=\"patch_20\">\n    <path clip-path=\"url(#p13b7132a58)\" d=\"M 127.315187 450.508301 \nQ 93.771668 340.350438 60.553831 231.262123 \n\" style=\"fill:none;stroke:#ff0000;stroke-linecap:round;\"/>\n    <path clip-path=\"url(#p13b7132a58)\" d=\"M 59.80576 235.671248 \nL 60.553831 231.262123 \nL 63.632289 234.506055 \nL 59.80576 235.671248 \nz\n\" style=\"fill:#ff0000;stroke:#ff0000;stroke-linecap:round;\"/>\n   </g>\n   <g id=\"patch_21\">\n    <path clip-path=\"url(#p13b7132a58)\" d=\"M 247.940302 503.628099 \nQ 356.443845 455.846313 463.924176 408.515121 \n\" style=\"fill:none;stroke:#ff0000;stroke-linecap:round;\"/>\n    <path clip-path=\"url(#p13b7132a58)\" d=\"M 459.45737 408.296833 \nL 463.924176 408.515121 \nL 461.069462 411.957592 \nL 459.45737 408.296833 \nz\n\" style=\"fill:#ff0000;stroke:#ff0000;stroke-linecap:round;\"/>\n   </g>\n   <g id=\"patch_22\">\n    <path clip-path=\"url(#p13b7132a58)\" d=\"M 379.199337 485.430062 \nQ 423.242401 448.629815 466.427504 412.546439 \n\" style=\"fill:none;stroke:#ff0000;stroke-linecap:round;\"/>\n    <path clip-path=\"url(#p13b7132a58)\" d=\"M 462.075593 413.576426 \nL 466.427504 412.546439 \nL 464.640347 416.64596 \nL 462.075593 413.576426 \nz\n\" style=\"fill:#ff0000;stroke:#ff0000;stroke-linecap:round;\"/>\n   </g>\n   <g id=\"PathCollection_1\">\n    <defs>\n     <path d=\"M 0 15.811388 \nC 4.193229 15.811388 8.215279 14.145401 11.18034 11.18034 \nC 14.145401 8.215279 15.811388 4.193229 15.811388 0 \nC 15.811388 -4.193229 14.145401 -8.215279 11.18034 -11.18034 \nC 8.215279 -14.145401 4.193229 -15.811388 0 -15.811388 \nC -4.193229 -15.811388 -8.215279 -14.145401 -11.18034 -11.18034 \nC -14.145401 -8.215279 -15.811388 -4.193229 -15.811388 0 \nC -15.811388 4.193229 -14.145401 8.215279 -11.18034 11.18034 \nC -8.215279 14.145401 -4.193229 15.811388 0 15.811388 \nz\n\" id=\"ma0ee478dcc\" style=\"stroke:#1f78b4;\"/>\n    </defs>\n    <g clip-path=\"url(#p13b7132a58)\">\n     <use style=\"fill:#1f78b4;stroke:#1f78b4;\" x=\"516.778512\" xlink:href=\"#ma0ee478dcc\" y=\"279.000004\"/>\n     <use style=\"fill:#1f78b4;stroke:#1f78b4;\" x=\"479.41831\" xlink:href=\"#ma0ee478dcc\" y=\"156.308063\"/>\n     <use style=\"fill:#1f78b4;stroke:#1f78b4;\" x=\"379.199323\" xlink:href=\"#ma0ee478dcc\" y=\"72.569938\"/>\n     <use style=\"fill:#1f78b4;stroke:#1f78b4;\" x=\"247.940344\" xlink:href=\"#ma0ee478dcc\" y=\"54.371901\"/>\n     <use style=\"fill:#1f78b4;stroke:#1f78b4;\" x=\"127.315201\" xlink:href=\"#ma0ee478dcc\" y=\"107.491686\"/>\n     <use style=\"fill:#1f78b4;stroke:#1f78b4;\" x=\"55.621488\" xlink:href=\"#ma0ee478dcc\" y=\"215.064169\"/>\n     <use style=\"fill:#1f78b4;stroke:#1f78b4;\" x=\"55.621488\" xlink:href=\"#ma0ee478dcc\" y=\"342.935831\"/>\n     <use style=\"fill:#1f78b4;stroke:#1f78b4;\" x=\"127.315187\" xlink:href=\"#ma0ee478dcc\" y=\"450.508301\"/>\n     <use style=\"fill:#1f78b4;stroke:#1f78b4;\" x=\"247.940302\" xlink:href=\"#ma0ee478dcc\" y=\"503.628099\"/>\n     <use style=\"fill:#1f78b4;stroke:#1f78b4;\" x=\"379.199337\" xlink:href=\"#ma0ee478dcc\" y=\"485.430062\"/>\n     <use style=\"fill:#1f78b4;stroke:#1f78b4;\" x=\"479.418296\" xlink:href=\"#ma0ee478dcc\" y=\"401.691964\"/>\n    </g>\n   </g>\n   <g id=\"text_1\">\n    <g clip-path=\"url(#p13b7132a58)\">\n     <!-- L -->\n     <defs>\n      <path d=\"M 9.8125 72.90625 \nL 19.671875 72.90625 \nL 19.671875 8.296875 \nL 55.171875 8.296875 \nL 55.171875 0 \nL 9.8125 0 \nz\n\" id=\"DejaVuSans-76\"/>\n     </defs>\n     <g style=\"fill:#ffffff;\" transform=\"translate(512.599606 283.139066)scale(0.15 -0.15)\">\n      <use xlink:href=\"#DejaVuSans-76\"/>\n     </g>\n    </g>\n   </g>\n   <g id=\"text_2\">\n    <g clip-path=\"url(#p13b7132a58)\">\n     <!-- G -->\n     <defs>\n      <path d=\"M 59.515625 10.40625 \nL 59.515625 29.984375 \nL 43.40625 29.984375 \nL 43.40625 38.09375 \nL 69.28125 38.09375 \nL 69.28125 6.78125 \nQ 63.578125 2.734375 56.6875 0.65625 \nQ 49.8125 -1.421875 42 -1.421875 \nQ 24.90625 -1.421875 15.25 8.5625 \nQ 5.609375 18.5625 5.609375 36.375 \nQ 5.609375 54.25 15.25 64.234375 \nQ 24.90625 74.21875 42 74.21875 \nQ 49.125 74.21875 55.546875 72.453125 \nQ 61.96875 70.703125 67.390625 67.28125 \nL 67.390625 56.78125 \nQ 61.921875 61.421875 55.765625 63.765625 \nQ 49.609375 66.109375 42.828125 66.109375 \nQ 29.4375 66.109375 22.71875 58.640625 \nQ 16.015625 51.171875 16.015625 36.375 \nQ 16.015625 21.625 22.71875 14.15625 \nQ 29.4375 6.6875 42.828125 6.6875 \nQ 48.046875 6.6875 52.140625 7.59375 \nQ 56.25 8.5 59.515625 10.40625 \nz\n\" id=\"DejaVuSans-71\"/>\n     </defs>\n     <g style=\"fill:#ffffff;\" transform=\"translate(473.606982 160.447126)scale(0.15 -0.15)\">\n      <use xlink:href=\"#DejaVuSans-71\"/>\n     </g>\n    </g>\n   </g>\n   <g id=\"text_3\">\n    <g clip-path=\"url(#p13b7132a58)\">\n     <!-- R -->\n     <defs>\n      <path d=\"M 44.390625 34.1875 \nQ 47.5625 33.109375 50.5625 29.59375 \nQ 53.5625 26.078125 56.59375 19.921875 \nL 66.609375 0 \nL 56 0 \nL 46.6875 18.703125 \nQ 43.0625 26.03125 39.671875 28.421875 \nQ 36.28125 30.8125 30.421875 30.8125 \nL 19.671875 30.8125 \nL 19.671875 0 \nL 9.8125 0 \nL 9.8125 72.90625 \nL 32.078125 72.90625 \nQ 44.578125 72.90625 50.734375 67.671875 \nQ 56.890625 62.453125 56.890625 51.90625 \nQ 56.890625 45.015625 53.6875 40.46875 \nQ 50.484375 35.9375 44.390625 34.1875 \nz\nM 19.671875 64.796875 \nL 19.671875 38.921875 \nL 32.078125 38.921875 \nQ 39.203125 38.921875 42.84375 42.21875 \nQ 46.484375 45.515625 46.484375 51.90625 \nQ 46.484375 58.296875 42.84375 61.546875 \nQ 39.203125 64.796875 32.078125 64.796875 \nz\n\" id=\"DejaVuSans-82\"/>\n     </defs>\n     <g style=\"fill:#ffffff;\" transform=\"translate(373.987994 76.709001)scale(0.15 -0.15)\">\n      <use xlink:href=\"#DejaVuSans-82\"/>\n     </g>\n    </g>\n   </g>\n   <g id=\"text_4\">\n    <g clip-path=\"url(#p13b7132a58)\">\n     <!-- BPo -->\n     <defs>\n      <path d=\"M 19.671875 34.8125 \nL 19.671875 8.109375 \nL 35.5 8.109375 \nQ 43.453125 8.109375 47.28125 11.40625 \nQ 51.125 14.703125 51.125 21.484375 \nQ 51.125 28.328125 47.28125 31.5625 \nQ 43.453125 34.8125 35.5 34.8125 \nz\nM 19.671875 64.796875 \nL 19.671875 42.828125 \nL 34.28125 42.828125 \nQ 41.5 42.828125 45.03125 45.53125 \nQ 48.578125 48.25 48.578125 53.8125 \nQ 48.578125 59.328125 45.03125 62.0625 \nQ 41.5 64.796875 34.28125 64.796875 \nz\nM 9.8125 72.90625 \nL 35.015625 72.90625 \nQ 46.296875 72.90625 52.390625 68.21875 \nQ 58.5 63.53125 58.5 54.890625 \nQ 58.5 48.1875 55.375 44.234375 \nQ 52.25 40.28125 46.1875 39.3125 \nQ 53.46875 37.75 57.5 32.78125 \nQ 61.53125 27.828125 61.53125 20.40625 \nQ 61.53125 10.640625 54.890625 5.3125 \nQ 48.25 0 35.984375 0 \nL 9.8125 0 \nz\n\" id=\"DejaVuSans-66\"/>\n      <path d=\"M 19.671875 64.796875 \nL 19.671875 37.40625 \nL 32.078125 37.40625 \nQ 38.96875 37.40625 42.71875 40.96875 \nQ 46.484375 44.53125 46.484375 51.125 \nQ 46.484375 57.671875 42.71875 61.234375 \nQ 38.96875 64.796875 32.078125 64.796875 \nz\nM 9.8125 72.90625 \nL 32.078125 72.90625 \nQ 44.34375 72.90625 50.609375 67.359375 \nQ 56.890625 61.8125 56.890625 51.125 \nQ 56.890625 40.328125 50.609375 34.8125 \nQ 44.34375 29.296875 32.078125 29.296875 \nL 19.671875 29.296875 \nL 19.671875 0 \nL 9.8125 0 \nz\n\" id=\"DejaVuSans-80\"/>\n      <path d=\"M 30.609375 48.390625 \nQ 23.390625 48.390625 19.1875 42.75 \nQ 14.984375 37.109375 14.984375 27.296875 \nQ 14.984375 17.484375 19.15625 11.84375 \nQ 23.34375 6.203125 30.609375 6.203125 \nQ 37.796875 6.203125 41.984375 11.859375 \nQ 46.1875 17.53125 46.1875 27.296875 \nQ 46.1875 37.015625 41.984375 42.703125 \nQ 37.796875 48.390625 30.609375 48.390625 \nz\nM 30.609375 56 \nQ 42.328125 56 49.015625 48.375 \nQ 55.71875 40.765625 55.71875 27.296875 \nQ 55.71875 13.875 49.015625 6.21875 \nQ 42.328125 -1.421875 30.609375 -1.421875 \nQ 18.84375 -1.421875 12.171875 6.21875 \nQ 5.515625 13.875 5.515625 27.296875 \nQ 5.515625 40.765625 12.171875 48.375 \nQ 18.84375 56 30.609375 56 \nz\n\" id=\"DejaVuSans-111\"/>\n     </defs>\n     <g style=\"fill:#ffffff;\" transform=\"translate(233.686828 58.510963)scale(0.15 -0.15)\">\n      <use xlink:href=\"#DejaVuSans-66\"/>\n      <use x=\"68.603516\" xlink:href=\"#DejaVuSans-80\"/>\n      <use x=\"128.859375\" xlink:href=\"#DejaVuSans-111\"/>\n     </g>\n    </g>\n   </g>\n   <g id=\"text_5\">\n    <g clip-path=\"url(#p13b7132a58)\">\n     <!-- D -->\n     <defs>\n      <path d=\"M 19.671875 64.796875 \nL 19.671875 8.109375 \nL 31.59375 8.109375 \nQ 46.6875 8.109375 53.6875 14.9375 \nQ 60.6875 21.78125 60.6875 36.53125 \nQ 60.6875 51.171875 53.6875 57.984375 \nQ 46.6875 64.796875 31.59375 64.796875 \nz\nM 9.8125 72.90625 \nL 30.078125 72.90625 \nQ 51.265625 72.90625 61.171875 64.09375 \nQ 71.09375 55.28125 71.09375 36.53125 \nQ 71.09375 17.671875 61.125 8.828125 \nQ 51.171875 0 30.078125 0 \nL 9.8125 0 \nz\n\" id=\"DejaVuSans-68\"/>\n     </defs>\n     <g style=\"fill:#ffffff;\" transform=\"translate(121.540201 111.630748)scale(0.15 -0.15)\">\n      <use xlink:href=\"#DejaVuSans-68\"/>\n     </g>\n    </g>\n   </g>\n   <g id=\"text_6\">\n    <g clip-path=\"url(#p13b7132a58)\">\n     <!-- SD -->\n     <defs>\n      <path d=\"M 53.515625 70.515625 \nL 53.515625 60.890625 \nQ 47.90625 63.578125 42.921875 64.890625 \nQ 37.9375 66.21875 33.296875 66.21875 \nQ 25.25 66.21875 20.875 63.09375 \nQ 16.5 59.96875 16.5 54.203125 \nQ 16.5 49.359375 19.40625 46.890625 \nQ 22.3125 44.4375 30.421875 42.921875 \nL 36.375 41.703125 \nQ 47.40625 39.59375 52.65625 34.296875 \nQ 57.90625 29 57.90625 20.125 \nQ 57.90625 9.515625 50.796875 4.046875 \nQ 43.703125 -1.421875 29.984375 -1.421875 \nQ 24.8125 -1.421875 18.96875 -0.25 \nQ 13.140625 0.921875 6.890625 3.21875 \nL 6.890625 13.375 \nQ 12.890625 10.015625 18.65625 8.296875 \nQ 24.421875 6.59375 29.984375 6.59375 \nQ 38.421875 6.59375 43.015625 9.90625 \nQ 47.609375 13.234375 47.609375 19.390625 \nQ 47.609375 24.75 44.3125 27.78125 \nQ 41.015625 30.8125 33.5 32.328125 \nL 27.484375 33.5 \nQ 16.453125 35.6875 11.515625 40.375 \nQ 6.59375 45.0625 6.59375 53.421875 \nQ 6.59375 63.09375 13.40625 68.65625 \nQ 20.21875 74.21875 32.171875 74.21875 \nQ 37.3125 74.21875 42.625 73.28125 \nQ 47.953125 72.359375 53.515625 70.515625 \nz\n\" id=\"DejaVuSans-83\"/>\n     </defs>\n     <g style=\"fill:#ffffff;\" transform=\"translate(45.085159 219.203231)scale(0.15 -0.15)\">\n      <use xlink:href=\"#DejaVuSans-83\"/>\n      <use x=\"63.476562\" xlink:href=\"#DejaVuSans-68\"/>\n     </g>\n    </g>\n   </g>\n   <g id=\"text_7\">\n    <g clip-path=\"url(#p13b7132a58)\">\n     <!-- BM -->\n     <defs>\n      <path d=\"M 9.8125 72.90625 \nL 24.515625 72.90625 \nL 43.109375 23.296875 \nL 61.8125 72.90625 \nL 76.515625 72.90625 \nL 76.515625 0 \nL 66.890625 0 \nL 66.890625 64.015625 \nL 48.09375 14.015625 \nL 38.1875 14.015625 \nL 19.390625 64.015625 \nL 19.390625 0 \nL 9.8125 0 \nz\n\" id=\"DejaVuSans-77\"/>\n     </defs>\n     <g style=\"fill:#ffffff;\" transform=\"translate(44.004691 347.074894)scale(0.15 -0.15)\">\n      <use xlink:href=\"#DejaVuSans-66\"/>\n      <use x=\"68.603516\" xlink:href=\"#DejaVuSans-77\"/>\n     </g>\n    </g>\n   </g>\n   <g id=\"text_8\">\n    <g clip-path=\"url(#p13b7132a58)\">\n     <!-- LS -->\n     <g style=\"fill:#ffffff;\" transform=\"translate(118.374952 454.647363)scale(0.15 -0.15)\">\n      <use xlink:href=\"#DejaVuSans-76\"/>\n      <use x=\"55.712891\" xlink:href=\"#DejaVuSans-83\"/>\n     </g>\n    </g>\n   </g>\n   <g id=\"text_9\">\n    <g clip-path=\"url(#p13b7132a58)\">\n     <!-- BPa -->\n     <defs>\n      <path d=\"M 34.28125 27.484375 \nQ 23.390625 27.484375 19.1875 25 \nQ 14.984375 22.515625 14.984375 16.5 \nQ 14.984375 11.71875 18.140625 8.90625 \nQ 21.296875 6.109375 26.703125 6.109375 \nQ 34.1875 6.109375 38.703125 11.40625 \nQ 43.21875 16.703125 43.21875 25.484375 \nL 43.21875 27.484375 \nz\nM 52.203125 31.203125 \nL 52.203125 0 \nL 43.21875 0 \nL 43.21875 8.296875 \nQ 40.140625 3.328125 35.546875 0.953125 \nQ 30.953125 -1.421875 24.3125 -1.421875 \nQ 15.921875 -1.421875 10.953125 3.296875 \nQ 6 8.015625 6 15.921875 \nQ 6 25.140625 12.171875 29.828125 \nQ 18.359375 34.515625 30.609375 34.515625 \nL 43.21875 34.515625 \nL 43.21875 35.40625 \nQ 43.21875 41.609375 39.140625 45 \nQ 35.0625 48.390625 27.6875 48.390625 \nQ 23 48.390625 18.546875 47.265625 \nQ 14.109375 46.140625 10.015625 43.890625 \nL 10.015625 52.203125 \nQ 14.9375 54.109375 19.578125 55.046875 \nQ 24.21875 56 28.609375 56 \nQ 40.484375 56 46.34375 49.84375 \nQ 52.203125 43.703125 52.203125 31.203125 \nz\n\" id=\"DejaVuSans-97\"/>\n     </defs>\n     <g style=\"fill:#ffffff;\" transform=\"translate(233.680927 507.767162)scale(0.15 -0.15)\">\n      <use xlink:href=\"#DejaVuSans-66\"/>\n      <use x=\"68.603516\" xlink:href=\"#DejaVuSans-80\"/>\n      <use x=\"128.84375\" xlink:href=\"#DejaVuSans-97\"/>\n     </g>\n    </g>\n   </g>\n   <g id=\"text_10\">\n    <g clip-path=\"url(#p13b7132a58)\">\n     <!-- H -->\n     <defs>\n      <path d=\"M 9.8125 72.90625 \nL 19.671875 72.90625 \nL 19.671875 43.015625 \nL 55.515625 43.015625 \nL 55.515625 72.90625 \nL 65.375 72.90625 \nL 65.375 0 \nL 55.515625 0 \nL 55.515625 34.71875 \nL 19.671875 34.71875 \nL 19.671875 0 \nL 9.8125 0 \nz\n\" id=\"DejaVuSans-72\"/>\n     </defs>\n     <g style=\"fill:#ffffff;\" transform=\"translate(373.559102 489.569124)scale(0.15 -0.15)\">\n      <use xlink:href=\"#DejaVuSans-72\"/>\n     </g>\n    </g>\n   </g>\n   <g id=\"text_11\">\n    <g clip-path=\"url(#p13b7132a58)\">\n     <!-- S -->\n     <g style=\"fill:#ffffff;\" transform=\"translate(474.656968 405.831026)scale(0.15 -0.15)\">\n      <use xlink:href=\"#DejaVuSans-83\"/>\n     </g>\n    </g>\n   </g>\n  </g>\n </g>\n <defs>\n  <clipPath id=\"p13b7132a58\">\n   <rect height=\"543.6\" width=\"558\" x=\"7.2\" y=\"7.2\"/>\n  </clipPath>\n </defs>\n</svg>\n"
     },
     "metadata": {},
     "output_type": "display_data"
    }
   ],
   "source": [
    "import itertools\n",
    "import networkx as nx\n",
    "import matplotlib.pyplot as plt\n",
    "G = nx.DiGraph()\n",
    "G.add_edges_from(\n",
    "    [('L', 'G'), ('L', 'R'),  ('G', 'BPo'), ('G', 'R'), ('G', 'D'), ('G', 'SD'), ('G', 'BM'), \n",
    "     ('R', 'BPo'),('R', 'D'), ('R', 'SD'), ('R', 'BM'), ('LS', 'BPo'), ('LS', 'D'), ('LS', 'SD'),\n",
    "    ('BPo', 'BPa'), ('BPo', 'H'), ('D', 'H'), ('SD', 'H'), ('BM', 'S'), ('BPa', 'S'),  ('H', 'S')])\n",
    "for u, v, d in G.edges(data=True):\n",
    "    d['reversable'] = 'black'\n",
    "\n",
    "Grev = G.reverse(copy=True)\n",
    "for node in Grev.nodes():\n",
    "    # what would create a V-structure\n",
    "    for neighbor in Grev.neighbors(node):\n",
    "        H = Grev.copy()\n",
    "        attrs = Grev[node][neighbor]\n",
    "        H.remove_edge(node,neighbor)\n",
    "        H.add_edge(neighbor,node,reversable=attrs['reversable'])\n",
    "        psp2 = list(itertools.combinations(list(H.neighbors(neighbor)), 2))\n",
    "        for a, b in psp2:\n",
    "            if not (H.has_edge(a,b) or H.has_edge(b,a)):\n",
    "                Grev[node][neighbor]['reversable'] = 'orange'\n",
    "    \n",
    "    # what would destroy a V-structure\n",
    "    psp = list(itertools.combinations(list(Grev.neighbors(node)), 2))\n",
    "    for a, b in psp:\n",
    "        if not (Grev.has_edge(a,b) or Grev.has_edge(b,a)):\n",
    "            Grev[node][a]['reversable'] = 'red'\n",
    "            Grev[node][b]['reversable'] = 'red'\n",
    "    \n",
    "# what would create a cycle?\n",
    "for node in Grev.nodes():\n",
    "    for neighbor in Grev.neighbors(node):\n",
    "        if Grev[node][neighbor]['reversable'] == 'black':\n",
    "            H = Grev.copy()\n",
    "            attrs = Grev[node][neighbor]\n",
    "            H.remove_edge(node,neighbor)\n",
    "            H.add_edge(neighbor,node,reversable=attrs['reversable'])\n",
    "            try:\n",
    "                find_cycle(H)\n",
    "                Grev[node][neighbor]['reversable'] = 'green'\n",
    "            except:\n",
    "                pass\n",
    "                \n",
    "G = Grev.reverse(copy=True)\n",
    "edges,reversable = zip(*nx.get_edge_attributes(G,'reversable').items())\n",
    "\n",
    "fig, ax = plt.subplots(figsize=(10,10))\n",
    "nx.draw_shell(G,with_labels=True, edgelist=edges, edge_color=reversable, \n",
    "              font_color='white', node_size=1000, font_size=15)\n",
    "ax.set_facecolor((1, 1, 1, 0))\n",
    "fig.set_facecolor((1, 1, 1, 0))"
   ]
  },
  {
   "cell_type": "markdown",
   "metadata": {},
   "source": [
    "This algorithm confirms the equivalent models illustrated in the previous answer."
   ]
  },
  {
   "cell_type": "code",
   "execution_count": 26,
   "metadata": {
    "pycharm": {
     "is_executing": false
    }
   },
   "outputs": [
    {
     "data": {
      "text/plain": "<IPython.core.display.SVG object>",
      "image/svg+xml": "<svg height=\"404pt\" viewBox=\"0.00 0.00 281.17 404.00\" width=\"281pt\" xmlns=\"http://www.w3.org/2000/svg\" xmlns:xlink=\"http://www.w3.org/1999/xlink\">\n<g class=\"graph\" id=\"graph0\" transform=\"scale(1 1) rotate(0) translate(4 400)\">\n<title>G</title>\n<!-- L -->\n<g class=\"node\" id=\"node1\">\n<title>L</title>\n<g id=\"a_node1\"><a xlink:title=\"(0) L\">\n<ellipse cx=\"142.17\" cy=\"-378\" fill=\"#404040\" rx=\"27\" ry=\"18\" stroke=\"black\"/>\n<text fill=\"white\" font-family=\"Times,serif\" font-size=\"14.00\" text-anchor=\"middle\" x=\"142.17\" y=\"-373.8\">L</text>\n</a>\n</g>\n</g>\n<!-- G -->\n<g class=\"node\" id=\"node2\">\n<title>G</title>\n<g id=\"a_node2\"><a xlink:title=\"(1) G\">\n<ellipse cx=\"170.17\" cy=\"-306\" fill=\"#404040\" rx=\"27\" ry=\"18\" stroke=\"black\"/>\n<text fill=\"white\" font-family=\"Times,serif\" font-size=\"14.00\" text-anchor=\"middle\" x=\"170.17\" y=\"-301.8\">G</text>\n</a>\n</g>\n</g>\n<!-- L&#45;&gt;G -->\n<g class=\"edge\" id=\"edge14\">\n<title>L-&gt;G</title>\n<g id=\"a_edge14\"><a xlink:title=\"(0, 1) : \">\n<path d=\"M148.8,-360.41C152.08,-352.22 156.11,-342.14 159.79,-332.95\" fill=\"none\" stroke=\"#4a4a4a\"/>\n<polygon fill=\"#4a4a4a\" points=\"163.11,-334.05 163.58,-323.47 156.62,-331.45 163.11,-334.05\" stroke=\"#4a4a4a\"/>\n</a>\n</g>\n</g>\n<!-- R -->\n<g class=\"node\" id=\"node3\">\n<title>R</title>\n<g id=\"a_node3\"><a xlink:title=\"(2) R\">\n<ellipse cx=\"115.17\" cy=\"-234\" fill=\"#404040\" rx=\"27\" ry=\"18\" stroke=\"black\"/>\n<text fill=\"white\" font-family=\"Times,serif\" font-size=\"14.00\" text-anchor=\"middle\" x=\"115.17\" y=\"-229.8\">R</text>\n</a>\n</g>\n</g>\n<!-- L&#45;&gt;R -->\n<g class=\"edge\" id=\"edge21\">\n<title>L-&gt;R</title>\n<g id=\"a_edge21\"><a xlink:title=\"(0, 2) : \">\n<path d=\"M138.91,-359.87C134.31,-335.67 125.86,-291.21 120.38,-262.39\" fill=\"none\" stroke=\"#4a4a4a\"/>\n<polygon fill=\"#4a4a4a\" points=\"123.74,-261.36 118.44,-252.19 116.87,-262.67 123.74,-261.36\" stroke=\"#4a4a4a\"/>\n</a>\n</g>\n</g>\n<!-- G&#45;&gt;R -->\n<g class=\"edge\" id=\"edge4\">\n<title>G-&gt;R</title>\n<g id=\"a_edge4\"><a xlink:title=\"(1, 2) : \">\n<path d=\"M158.23,-289.81C150.95,-280.55 141.5,-268.52 133.31,-258.09\" fill=\"none\" stroke=\"#4a4a4a\"/>\n<polygon fill=\"#4a4a4a\" points=\"136.01,-255.86 127.08,-250.16 130.5,-260.18 136.01,-255.86\" stroke=\"#4a4a4a\"/>\n</a>\n</g>\n</g>\n<!-- SD -->\n<g class=\"node\" id=\"node4\">\n<title>SD</title>\n<g id=\"a_node4\"><a xlink:title=\"(3) SD\">\n<ellipse cx=\"102.17\" cy=\"-162\" fill=\"#404040\" rx=\"27\" ry=\"18\" stroke=\"black\"/>\n<text fill=\"white\" font-family=\"Times,serif\" font-size=\"14.00\" text-anchor=\"middle\" x=\"102.17\" y=\"-157.8\">SD</text>\n</a>\n</g>\n</g>\n<!-- G&#45;&gt;SD -->\n<g class=\"edge\" id=\"edge1\">\n<title>G-&gt;SD</title>\n<g id=\"a_edge1\"><a xlink:title=\"(1, 3) : \">\n<path d=\"M169.19,-287.69C167.54,-269.06 163.09,-239 151.17,-216 144.95,-204.01 135.28,-192.71 126.16,-183.66\" fill=\"none\" stroke=\"#4a4a4a\"/>\n<polygon fill=\"#4a4a4a\" points=\"128.4,-180.95 118.73,-176.62 123.58,-186.03 128.4,-180.95\" stroke=\"#4a4a4a\"/>\n</a>\n</g>\n</g>\n<!-- BPo -->\n<g class=\"node\" id=\"node8\">\n<title>BPo</title>\n<g id=\"a_node8\"><a xlink:title=\"(7) BPo\">\n<ellipse cx=\"30.17\" cy=\"-162\" fill=\"#404040\" rx=\"27\" ry=\"18\" stroke=\"black\"/>\n<text fill=\"white\" font-family=\"Times,serif\" font-size=\"14.00\" text-anchor=\"middle\" x=\"30.17\" y=\"-157.8\">BPo</text>\n</a>\n</g>\n</g>\n<!-- G&#45;&gt;BPo -->\n<g class=\"edge\" id=\"edge19\">\n<title>G-&gt;BPo</title>\n<g id=\"a_edge19\"><a xlink:title=\"(1, 7) : \">\n<path d=\"M142.98,-305.18C105.32,-303.79 38.38,-294.98 7.17,-252 -6.62,-233.03 3,-206.51 13.7,-187.36\" fill=\"none\" stroke=\"#4a4a4a\"/>\n<polygon fill=\"#4a4a4a\" points=\"16.8,-188.99 18.94,-178.62 10.8,-185.4 16.8,-188.99\" stroke=\"#4a4a4a\"/>\n</a>\n</g>\n</g>\n<!-- D -->\n<g class=\"node\" id=\"node10\">\n<title>D</title>\n<g id=\"a_node10\"><a xlink:title=\"(9) D\">\n<ellipse cx=\"174.17\" cy=\"-162\" fill=\"#404040\" rx=\"27\" ry=\"18\" stroke=\"black\"/>\n<text fill=\"white\" font-family=\"Times,serif\" font-size=\"14.00\" text-anchor=\"middle\" x=\"174.17\" y=\"-157.8\">D</text>\n</a>\n</g>\n</g>\n<!-- G&#45;&gt;D -->\n<g class=\"edge\" id=\"edge11\">\n<title>G-&gt;D</title>\n<g id=\"a_edge11\"><a xlink:title=\"(1, 9) : \">\n<path d=\"M175.85,-288.04C178.99,-277.74 182.57,-264.27 184.17,-252 186.85,-231.31 183.98,-207.87 180.63,-190.23\" fill=\"none\" stroke=\"#4a4a4a\"/>\n<polygon fill=\"#4a4a4a\" points=\"183.99,-189.17 178.53,-180.08 177.13,-190.58 183.99,-189.17\" stroke=\"#4a4a4a\"/>\n</a>\n</g>\n</g>\n<!-- BM -->\n<g class=\"node\" id=\"node11\">\n<title>BM</title>\n<g id=\"a_node11\"><a xlink:title=\"(10) BM\">\n<ellipse cx=\"246.17\" cy=\"-162\" fill=\"#404040\" rx=\"27\" ry=\"18\" stroke=\"black\"/>\n<text fill=\"white\" font-family=\"Times,serif\" font-size=\"14.00\" text-anchor=\"middle\" x=\"246.17\" y=\"-157.8\">BM</text>\n</a>\n</g>\n</g>\n<!-- G&#45;&gt;BM -->\n<g class=\"edge\" id=\"edge7\">\n<title>G-&gt;BM</title>\n<g id=\"a_edge7\"><a xlink:title=\"(1, 10) : \">\n<path d=\"M178.89,-288.71C192.06,-264.1 217.14,-217.24 232.68,-188.21\" fill=\"none\" stroke=\"#4a4a4a\"/>\n<polygon fill=\"#4a4a4a\" points=\"235.92,-189.57 237.55,-179.1 229.75,-186.26 235.92,-189.57\" stroke=\"#4a4a4a\"/>\n</a>\n</g>\n</g>\n<!-- R&#45;&gt;SD -->\n<g class=\"edge\" id=\"edge10\">\n<title>R-&gt;SD</title>\n<g id=\"a_edge10\"><a xlink:title=\"(2, 3) : \">\n<path d=\"M112.02,-216.05C110.59,-208.35 108.86,-199.03 107.25,-190.36\" fill=\"none\" stroke=\"#4a4a4a\"/>\n<polygon fill=\"#4a4a4a\" points=\"110.64,-189.47 105.38,-180.28 103.76,-190.75 110.64,-189.47\" stroke=\"#4a4a4a\"/>\n</a>\n</g>\n</g>\n<!-- R&#45;&gt;BPo -->\n<g class=\"edge\" id=\"edge15\">\n<title>R-&gt;BPo</title>\n<g id=\"a_edge15\"><a xlink:title=\"(2, 7) : \">\n<path d=\"M98.78,-219.5C86.2,-209.14 68.63,-194.67 54.42,-182.97\" fill=\"none\" stroke=\"#4a4a4a\"/>\n<polygon fill=\"#4a4a4a\" points=\"56.45,-180.11 46.51,-176.46 52,-185.51 56.45,-180.11\" stroke=\"#4a4a4a\"/>\n</a>\n</g>\n</g>\n<!-- R&#45;&gt;D -->\n<g class=\"edge\" id=\"edge5\">\n<title>R-&gt;D</title>\n<g id=\"a_edge5\"><a xlink:title=\"(2, 9) : \">\n<path d=\"M127.97,-217.81C135.78,-208.55 145.91,-196.52 154.7,-186.09\" fill=\"none\" stroke=\"#4a4a4a\"/>\n<polygon fill=\"#4a4a4a\" points=\"157.62,-188.06 161.39,-178.16 152.27,-183.55 157.62,-188.06\" stroke=\"#4a4a4a\"/>\n</a>\n</g>\n</g>\n<!-- R&#45;&gt;BM -->\n<g class=\"edge\" id=\"edge9\">\n<title>R-&gt;BM</title>\n<g id=\"a_edge9\"><a xlink:title=\"(2, 10) : \">\n<path d=\"M135.64,-222.06C157.46,-210.4 192.21,-191.83 216.91,-178.63\" fill=\"none\" stroke=\"#4a4a4a\"/>\n<polygon fill=\"#4a4a4a\" points=\"218.67,-181.66 225.84,-173.86 215.37,-175.49 218.67,-181.66\" stroke=\"#4a4a4a\"/>\n</a>\n</g>\n</g>\n<!-- H -->\n<g class=\"node\" id=\"node5\">\n<title>H</title>\n<g id=\"a_node5\"><a xlink:title=\"(4) H\">\n<ellipse cx=\"102.17\" cy=\"-90\" fill=\"#404040\" rx=\"27\" ry=\"18\" stroke=\"black\"/>\n<text fill=\"white\" font-family=\"Times,serif\" font-size=\"14.00\" text-anchor=\"middle\" x=\"102.17\" y=\"-85.8\">H</text>\n</a>\n</g>\n</g>\n<!-- SD&#45;&gt;H -->\n<g class=\"edge\" id=\"edge20\">\n<title>SD-&gt;H</title>\n<g id=\"a_edge20\"><a xlink:title=\"(3, 4) : \">\n<path d=\"M102.17,-143.7C102.17,-135.98 102.17,-126.71 102.17,-118.11\" fill=\"none\" stroke=\"#4a4a4a\"/>\n<polygon fill=\"#4a4a4a\" points=\"105.67,-118.1 102.17,-108.1 98.67,-118.1 105.67,-118.1\" stroke=\"#4a4a4a\"/>\n</a>\n</g>\n</g>\n<!-- S -->\n<g class=\"node\" id=\"node6\">\n<title>S</title>\n<g id=\"a_node6\"><a xlink:title=\"(5) S\">\n<ellipse cx=\"102.17\" cy=\"-18\" fill=\"#404040\" rx=\"27\" ry=\"18\" stroke=\"black\"/>\n<text fill=\"white\" font-family=\"Times,serif\" font-size=\"14.00\" text-anchor=\"middle\" x=\"102.17\" y=\"-13.8\">S</text>\n</a>\n</g>\n</g>\n<!-- H&#45;&gt;S -->\n<g class=\"edge\" id=\"edge8\">\n<title>H-&gt;S</title>\n<g id=\"a_edge8\"><a xlink:title=\"(4, 5) : \">\n<path d=\"M102.17,-71.7C102.17,-63.98 102.17,-54.71 102.17,-46.11\" fill=\"none\" stroke=\"#4a4a4a\"/>\n<polygon fill=\"#4a4a4a\" points=\"105.67,-46.1 102.17,-36.1 98.67,-46.1 105.67,-46.1\" stroke=\"#4a4a4a\"/>\n</a>\n</g>\n</g>\n<!-- BPa -->\n<g class=\"node\" id=\"node7\">\n<title>BPa</title>\n<g id=\"a_node7\"><a xlink:title=\"(6) BPa\">\n<ellipse cx=\"30.17\" cy=\"-90\" fill=\"#404040\" rx=\"27\" ry=\"18\" stroke=\"black\"/>\n<text fill=\"white\" font-family=\"Times,serif\" font-size=\"14.00\" text-anchor=\"middle\" x=\"30.17\" y=\"-85.8\">BPa</text>\n</a>\n</g>\n</g>\n<!-- BPa&#45;&gt;S -->\n<g class=\"edge\" id=\"edge13\">\n<title>BPa-&gt;S</title>\n<g id=\"a_edge13\"><a xlink:title=\"(6, 5) : \">\n<path d=\"M44.74,-74.83C54.92,-64.94 68.69,-51.55 80.2,-40.36\" fill=\"none\" stroke=\"#4a4a4a\"/>\n<polygon fill=\"#4a4a4a\" points=\"82.64,-42.87 87.37,-33.38 77.76,-37.85 82.64,-42.87\" stroke=\"#4a4a4a\"/>\n</a>\n</g>\n</g>\n<!-- BPo&#45;&gt;H -->\n<g class=\"edge\" id=\"edge18\">\n<title>BPo-&gt;H</title>\n<g id=\"a_edge18\"><a xlink:title=\"(7, 4) : \">\n<path d=\"M44.74,-146.83C54.92,-136.94 68.69,-123.55 80.2,-112.36\" fill=\"none\" stroke=\"#4a4a4a\"/>\n<polygon fill=\"#4a4a4a\" points=\"82.64,-114.87 87.37,-105.38 77.76,-109.85 82.64,-114.87\" stroke=\"#4a4a4a\"/>\n</a>\n</g>\n</g>\n<!-- BPo&#45;&gt;BPa -->\n<g class=\"edge\" id=\"edge6\">\n<title>BPo-&gt;BPa</title>\n<g id=\"a_edge6\"><a xlink:title=\"(7, 6) : \">\n<path d=\"M30.17,-143.7C30.17,-135.98 30.17,-126.71 30.17,-118.11\" fill=\"none\" stroke=\"#4a4a4a\"/>\n<polygon fill=\"#4a4a4a\" points=\"33.67,-118.1 30.17,-108.1 26.67,-118.1 33.67,-118.1\" stroke=\"#4a4a4a\"/>\n</a>\n</g>\n</g>\n<!-- LS -->\n<g class=\"node\" id=\"node9\">\n<title>LS</title>\n<g id=\"a_node9\"><a xlink:title=\"(8) LS\">\n<ellipse cx=\"43.17\" cy=\"-234\" fill=\"#404040\" rx=\"27\" ry=\"18\" stroke=\"black\"/>\n<text fill=\"white\" font-family=\"Times,serif\" font-size=\"14.00\" text-anchor=\"middle\" x=\"43.17\" y=\"-229.8\">LS</text>\n</a>\n</g>\n</g>\n<!-- LS&#45;&gt;SD -->\n<g class=\"edge\" id=\"edge17\">\n<title>LS-&gt;SD</title>\n<g id=\"a_edge17\"><a xlink:title=\"(8, 3) : \">\n<path d=\"M55.97,-217.81C63.78,-208.55 73.91,-196.52 82.7,-186.09\" fill=\"none\" stroke=\"#4a4a4a\"/>\n<polygon fill=\"#4a4a4a\" points=\"85.62,-188.06 89.39,-178.16 80.27,-183.55 85.62,-188.06\" stroke=\"#4a4a4a\"/>\n</a>\n</g>\n</g>\n<!-- LS&#45;&gt;BPo -->\n<g class=\"edge\" id=\"edge12\">\n<title>LS-&gt;BPo</title>\n<g id=\"a_edge12\"><a xlink:title=\"(8, 7) : \">\n<path d=\"M40.02,-216.05C38.59,-208.35 36.86,-199.03 35.25,-190.36\" fill=\"none\" stroke=\"#4a4a4a\"/>\n<polygon fill=\"#4a4a4a\" points=\"38.64,-189.47 33.38,-180.28 31.76,-190.75 38.64,-189.47\" stroke=\"#4a4a4a\"/>\n</a>\n</g>\n</g>\n<!-- LS&#45;&gt;D -->\n<g class=\"edge\" id=\"edge2\">\n<title>LS-&gt;D</title>\n<g id=\"a_edge2\"><a xlink:title=\"(8, 9) : \">\n<path d=\"M63.64,-222.06C85.46,-210.4 120.21,-191.83 144.91,-178.63\" fill=\"none\" stroke=\"#4a4a4a\"/>\n<polygon fill=\"#4a4a4a\" points=\"146.67,-181.66 153.84,-173.86 143.37,-175.49 146.67,-181.66\" stroke=\"#4a4a4a\"/>\n</a>\n</g>\n</g>\n<!-- D&#45;&gt;H -->\n<g class=\"edge\" id=\"edge3\">\n<title>D-&gt;H</title>\n<g id=\"a_edge3\"><a xlink:title=\"(9, 4) : \">\n<path d=\"M159.6,-146.83C149.42,-136.94 135.64,-123.55 124.14,-112.36\" fill=\"none\" stroke=\"#4a4a4a\"/>\n<polygon fill=\"#4a4a4a\" points=\"126.57,-109.85 116.96,-105.38 121.69,-114.87 126.57,-109.85\" stroke=\"#4a4a4a\"/>\n</a>\n</g>\n</g>\n<!-- BM&#45;&gt;S -->\n<g class=\"edge\" id=\"edge16\">\n<title>BM-&gt;S</title>\n<g id=\"a_edge16\"><a xlink:title=\"(10, 5) : \">\n<path d=\"M231.57,-146.6C206.23,-121.62 153.99,-70.1 124.21,-40.74\" fill=\"none\" stroke=\"#4a4a4a\"/>\n<polygon fill=\"#4a4a4a\" points=\"126.38,-37.96 116.81,-33.44 121.47,-42.95 126.38,-37.96\" stroke=\"#4a4a4a\"/>\n</a>\n</g>\n</g>\n</g>\n</svg>"
     },
     "metadata": {},
     "output_type": "display_data"
    }
   ],
   "source": [
    "#construct network of Monty Hall\n",
    "m0 = gum.fastBN(\"L->G->R->SD->H->S<-BPa<-BPo<-LS;SD<-LS->D->H;L->R->BPo->H;R->D<-G->SD;R->BM->S;G->BM;G->BPo\",2)\n",
    "gnb.showBN(m0,size=100)"
   ]
  },
  {
   "cell_type": "markdown",
   "metadata": {},
   "source": [
    "\\textbf{Identify at least 4 couple of nodes (the node of each couple should be not directly linked to each other) and analyze their d-separation properties possibly conditioning on others.}\n",
    "\\begin{enumerate}\n",
    "        \\item [BPa, H] D-separated when conditioning on {BPo}\n",
    "        \\item [BPa, BM] D-separated when conditioning on {R, G}\n",
    "        \\item [LS, R] D-separated when conditioning on {}\n",
    "        \\item [LS, BPa] D-separated if conditioning on {BPo}\n",
    "    \\end{enumerate}\n",
    "   \\textbf{Discuss how d-connected variables are in fact dependent in the real problem, while d-separated variables are instead independent in the real problem.} For example, an indivudal that has backpain does not tell anything on the probabilty of him having an headache, provided that I know already if I have bad posture. If I were to condition {BPa,H} on {S}, therefore opening a path (thus d-connecting them) it would still make sense: knowing that an individual is stressed and that he has back pain I could infer something about the probability of him having a headache."
   ]
  },
  {
   "cell_type": "code",
   "execution_count": 27,
   "metadata": {
    "pycharm": {
     "is_executing": false
    }
   },
   "outputs": [
    {
     "name": "stdout",
     "text": [
      "True\nTrue\nTrue\nTrue\n"
     ],
     "output_type": "stream"
    }
   ],
   "source": [
    "# Code equivalent check\n",
    "print(dSeparation(m0,[\"BPa\"], [\"H\"], ['BPo']))\n",
    "print(dSeparation(m0,[\"BPa\"], [\"BM\"], ['R','G']))\n",
    "print(dSeparation(m0,[\"LS\"], [\"R\"], []))\n",
    "print(dSeparation(m0,[\"LS\"], [\"BPa\"], ['BPo']))"
   ]
  },
  {
   "cell_type": "markdown",
   "metadata": {},
   "source": [
    "# 2) Conditional Probability Tables"
   ]
  },
  {
   "cell_type": "markdown",
   "metadata": {},
   "source": [
    "\\textbf{Explain how do you fill the probability tables for the nodes.} For instance:\n",
    "\\begin{enumerate}\n",
    "        \\item you have retrieved information from the internet (or other sources)\n",
    "        \\item you have estimated the CPTs froma database\n",
    "        \\item you have relied on your personal experience/common sense\n",
    "    \\end{enumerate}\n",
    "\n",
    "I have relied on my personal experience/common sense for the most of the nodes in the model. In particular, I observed that long study sessions are more likely to occur during exam sessions, retake periods and midterm periods, and a good estimate could be 1 month per year ($P \\approx 0.1$). Regarding the rest, I made these assumptions:\n",
    "\\begin{enumerate}\n",
    "        \\item Running and Gym decrease the probabilty of negative effects, except for Dehydratrion which is more complex and would require a more advanced, specific analysis, as they both cause it (sweat) but also prevent it (it would be easier to remember to drink frequently)\n",
    "        \\item All the bad conditions of the middle nodes {SD,D,BPo) increase the probabilty of having an headache and back pain, which in turn could cause stress\n",
    "    \\end{enumerate}\n",
    "  "
   ]
  },
  {
   "cell_type": "code",
   "execution_count": 28,
   "metadata": {
    "pycharm": {
     "is_executing": false
    }
   },
   "outputs": [],
   "source": [
    "m0.cpt(\"L\")[:]=[0.5, 0.5]\n",
    "\n",
    "m0.cpt(\"G\")[{'L':0}]=[0.1, 0.9]\n",
    "m0.cpt(\"G\")[{'L':1}]=[0.9, 0.1]\n",
    "\n",
    "m0.cpt(\"LS\")[:]=[0.9, 0.1]\n",
    "\n",
    "m0.cpt(\"BPo\")[{'G':0, 'LS':0, 'R':0}]=[0.5, 0.5]\n",
    "m0.cpt(\"BPo\")[{'G':0, 'LS':0, 'R':1}]=[0.8, 0.2]\n",
    "m0.cpt(\"BPo\")[{'G':0, 'LS':1, 'R':0}]=[0.1, 0.9]\n",
    "m0.cpt(\"BPo\")[{'G':0, 'LS':1, 'R':1}]=[0.7, 0.3]\n",
    "m0.cpt(\"BPo\")[{'G':1, 'LS':0, 'R':0}]=[0.8, 0.2]\n",
    "m0.cpt(\"BPo\")[{'G':1, 'LS':0, 'R':1}]=[0.9, 0.1]\n",
    "m0.cpt(\"BPo\")[{'G':1, 'LS':1, 'R':0}]=[0.9, 0.1]\n",
    "m0.cpt(\"BPo\")[{'G':1, 'LS':1, 'R':1}]=[0.9, 0.1]\n",
    "\n",
    "m0.cpt(\"SD\")[{'G':0, 'LS':0, 'R':0}]=[0.4, 0.6]\n",
    "m0.cpt(\"SD\")[{'G':0, 'LS':0, 'R':1}]=[0.7, 0.3]\n",
    "m0.cpt(\"SD\")[{'G':0, 'LS':1, 'R':0}]=[0.3, 0.7]\n",
    "m0.cpt(\"SD\")[{'G':0, 'LS':1, 'R':1}]=[0.6, 0.4]\n",
    "m0.cpt(\"SD\")[{'G':1, 'LS':0, 'R':0}]=[0.7, 0.3]\n",
    "m0.cpt(\"SD\")[{'G':1, 'LS':0, 'R':1}]=[0.8, 0.2]\n",
    "m0.cpt(\"SD\")[{'G':1, 'LS':1, 'R':0}]=[0.7, 0.3]\n",
    "m0.cpt(\"SD\")[{'G':1, 'LS':1, 'R':1}]=[0.9, 0.1]\n",
    "\n",
    "# maybe need to adjust better these probabilities\n",
    "m0.cpt(\"D\")[{'G':0, 'LS':0, 'R':0}]=[0.5, 0.5]\n",
    "m0.cpt(\"D\")[{'G':0, 'LS':0, 'R':1}]=[0.5, 0.5]\n",
    "m0.cpt(\"D\")[{'G':0, 'LS':1, 'R':0}]=[0.5, 0.5]\n",
    "m0.cpt(\"D\")[{'G':0, 'LS':1, 'R':1}]=[0.5, 0.5]\n",
    "m0.cpt(\"D\")[{'G':1, 'LS':0, 'R':0}]=[0.5, 0.5]\n",
    "m0.cpt(\"D\")[{'G':1, 'LS':0, 'R':1}]=[0.5, 0.5]\n",
    "m0.cpt(\"D\")[{'G':1, 'LS':1, 'R':0}]=[0.5, 0.5]\n",
    "m0.cpt(\"D\")[{'G':1, 'LS':1, 'R':1}]=[0.5, 0.5]\n",
    "\n",
    "m0.cpt(\"BM\")[{'G':0, 'R':0}]=[0.8, 0.2]\n",
    "m0.cpt(\"BM\")[{'G':0, 'R':1}]=[0.1, 0.9]\n",
    "m0.cpt(\"BM\")[{'G':1, 'R':0}]=[0.2, 0.8]\n",
    "m0.cpt(\"BM\")[{'G':1, 'R':1}]=[0.,  1.]\n",
    "\n",
    "m0.cpt(\"BPa\")[{'BPo':0}]=[0.8, 0.2]\n",
    "m0.cpt(\"BPa\")[{'BPo':1}]=[0.3, 0.7]\n",
    "\n",
    "m0.cpt(\"H\")[{'BPo':0, 'SD':0, 'D':0}]=[0.9, 0.1]\n",
    "m0.cpt(\"H\")[{'BPo':0, 'SD':0, 'D':1}]=[0.8, 0.2]\n",
    "m0.cpt(\"H\")[{'BPo':0, 'SD':1, 'D':0}]=[0.8, 0.2]\n",
    "m0.cpt(\"H\")[{'BPo':0, 'SD':1, 'D':1}]=[0.7, 0.3]\n",
    "m0.cpt(\"H\")[{'BPo':1, 'SD':0, 'D':0}]=[0.8, 0.2]\n",
    "m0.cpt(\"H\")[{'BPo':1, 'SD':0, 'D':1}]=[0.7, 0.3]\n",
    "m0.cpt(\"H\")[{'BPo':1, 'SD':1, 'D':0}]=[0.7, 0.3]\n",
    "m0.cpt(\"H\")[{'BPo':1, 'SD':1, 'D':1}]=[0.6, 0.4]\n",
    "\n",
    "m0.cpt(\"S\")[{'BPa':0, 'H':0, 'BM':0}]=[0.8,0.2]\n",
    "m0.cpt(\"S\")[{'BPa':0, 'H':0, 'BM':1}]=[0.9,0.1]\n",
    "m0.cpt(\"S\")[{'BPa':0, 'H':1, 'BM':0}]=[0.7,0.3]\n",
    "m0.cpt(\"S\")[{'BPa':0, 'H':1, 'BM':1}]=[0.9,0.1]\n",
    "m0.cpt(\"S\")[{'BPa':1, 'H':0, 'BM':0}]=[0.8,0.2]\n",
    "m0.cpt(\"S\")[{'BPa':1, 'H':0, 'BM':1}]=[0.7,0.3]\n",
    "m0.cpt(\"S\")[{'BPa':1, 'H':1, 'BM':0}]=[0.7,0.3]\n",
    "m0.cpt(\"S\")[{'BPa':1, 'H':1, 'BM':1}]=[0.7,0.3]\n",
    "\n",
    "\n",
    "m0.cpt(\"R\")[{'L':0, 'G':0}]=[0.4, 0.6]\n",
    "m0.cpt(\"R\")[{'L':0, 'G':1}]=[0.1, 0.9]\n",
    "m0.cpt(\"R\")[{'L':1, 'G':0}]=[0.7, 0.3]\n",
    "m0.cpt(\"R\")[{'L':1, 'G':1}]=[0.9, 0.1]"
   ]
  },
  {
   "cell_type": "markdown",
   "metadata": {},
   "source": [
    "# 3) Causal Inference"
   ]
  },
  {
   "cell_type": "markdown",
   "metadata": {},
   "source": [
    "Choose one pair of variables. The pair must be made up of a variable X with at least one parent and another variable Y of the graph such that there is (at least) a causal path from X to Y.\n",
    "For the pair (X,Y) perform:\n",
    "\\begin{enumerate}\n",
    "    \\item Calculate the causal effect of X on Y\n",
    "    \\item Identify possible confounders between X and Y\n",
    "    \\item Would it be practically possible in your specific problem to perform also a randomized controlled study to disentangle the causal effect between the variables from their correlation?\n",
    "    \\item Compute the ACE of X on Y.\n",
    "\\end{enumerate}\n",
    "\n",
    "I choose $P(S=s|do(G=g))= \\sum_{l} P(S=s|G=g,L=l)P(L=l)$"
   ]
  },
  {
   "cell_type": "code",
   "execution_count": 29,
   "metadata": {
    "pycharm": {
     "is_executing": false
    }
   },
   "outputs": [
    {
     "data": {
      "text/plain": "<IPython.core.display.HTML object>",
      "text/html": "<table style=\"border-style: hidden; border-collapse: collapse;\" width=\"100%\"><tr><td style=\"border-top:hidden;border-bottom:hidden;\"><div align=\"center\" style=\"\"><svg height=\"404pt\" viewBox=\"0.00 0.00 281.17 404.00\" width=\"281pt\" xmlns=\"http://www.w3.org/2000/svg\" xmlns:xlink=\"http://www.w3.org/1999/xlink\">\n<g class=\"graph\" id=\"graph0\" transform=\"scale(1 1) rotate(0) translate(4 400)\">\n<title>G</title>\n<!-- L -->\n<g class=\"node\" id=\"node1\">\n<title>L</title>\n<ellipse cx=\"142.17\" cy=\"-378\" fill=\"#404040\" rx=\"27\" ry=\"18\" stroke=\"#4a4a4a\"/>\n<text fill=\"white\" font-family=\"Times,serif\" font-size=\"14.00\" text-anchor=\"middle\" x=\"142.17\" y=\"-373.8\">L</text>\n</g>\n<!-- G -->\n<g class=\"node\" id=\"node2\">\n<title>G</title>\n<ellipse cx=\"170.17\" cy=\"-306\" fill=\"#404040\" rx=\"27\" ry=\"18\" stroke=\"#4a4a4a\"/>\n<text fill=\"white\" font-family=\"Times,serif\" font-size=\"14.00\" text-anchor=\"middle\" x=\"170.17\" y=\"-301.8\">G</text>\n</g>\n<!-- L&#45;&gt;G -->\n<g class=\"edge\" id=\"edge14\">\n<title>L-&gt;G</title>\n<path d=\"M147.87,-360.04C151.15,-351.85 155.18,-341.77 158.86,-332.58\" fill=\"none\" stroke=\"#4a4a4a\"/>\n<path d=\"M149.73,-360.78C153.01,-352.59 157.04,-342.51 160.71,-333.33\" fill=\"none\" stroke=\"#4a4a4a\"/>\n<polygon fill=\"#4a4a4a\" points=\"163.11,-334.05 163.58,-323.47 156.62,-331.45 163.11,-334.05\" stroke=\"#4a4a4a\"/>\n</g>\n<!-- R -->\n<g class=\"node\" id=\"node3\">\n<title>R</title>\n<ellipse cx=\"115.17\" cy=\"-234\" fill=\"#404040\" rx=\"27\" ry=\"18\" stroke=\"#4a4a4a\"/>\n<text fill=\"white\" font-family=\"Times,serif\" font-size=\"14.00\" text-anchor=\"middle\" x=\"115.17\" y=\"-229.8\">R</text>\n</g>\n<!-- L&#45;&gt;R -->\n<g class=\"edge\" id=\"edge21\">\n<title>L-&gt;R</title>\n<path d=\"M137.93,-360.06C133.33,-335.86 124.87,-291.4 119.39,-262.58\" fill=\"none\" stroke=\"#4a4a4a\"/>\n<path d=\"M139.89,-359.68C135.29,-335.48 126.84,-291.02 121.36,-262.21\" fill=\"none\" stroke=\"#4a4a4a\"/>\n<polygon fill=\"#4a4a4a\" points=\"123.74,-261.36 118.44,-252.19 116.87,-262.67 123.74,-261.36\" stroke=\"#4a4a4a\"/>\n</g>\n<!-- G&#45;&gt;R -->\n<g class=\"edge\" id=\"edge4\">\n<title>G-&gt;R</title>\n<path d=\"M157.45,-290.43C150.17,-281.16 140.72,-269.14 132.53,-258.71\" fill=\"none\" stroke=\"#4a4a4a\"/>\n<path d=\"M159.02,-289.19C151.74,-279.93 142.29,-267.9 134.1,-257.48\" fill=\"none\" stroke=\"#4a4a4a\"/>\n<polygon fill=\"#4a4a4a\" points=\"136.01,-255.86 127.08,-250.16 130.5,-260.18 136.01,-255.86\" stroke=\"#4a4a4a\"/>\n</g>\n<!-- SD -->\n<g class=\"node\" id=\"node4\">\n<title>SD</title>\n<ellipse cx=\"102.17\" cy=\"-162\" fill=\"#404040\" rx=\"27\" ry=\"18\" stroke=\"#4a4a4a\"/>\n<text fill=\"white\" font-family=\"Times,serif\" font-size=\"14.00\" text-anchor=\"middle\" x=\"102.17\" y=\"-157.8\">SD</text>\n</g>\n<!-- G&#45;&gt;SD -->\n<g class=\"edge\" id=\"edge1\">\n<title>G-&gt;SD</title>\n<path d=\"M168.19,-287.78C166.55,-269.21 162.1,-239.15 150.28,-216.46 144.19,-204.66 134.52,-193.36 125.46,-184.37\" fill=\"none\" stroke=\"#4a4a4a\"/>\n<path d=\"M170.19,-287.6C168.53,-268.91 164.08,-238.86 152.06,-215.54 145.71,-203.36 136.04,-192.06 126.87,-182.95\" fill=\"none\" stroke=\"#4a4a4a\"/>\n<polygon fill=\"#4a4a4a\" points=\"128.4,-180.95 118.73,-176.62 123.58,-186.03 128.4,-180.95\" stroke=\"#4a4a4a\"/>\n</g>\n<!-- BPo -->\n<g class=\"node\" id=\"node8\">\n<title>BPo</title>\n<ellipse cx=\"30.17\" cy=\"-162\" fill=\"#404040\" rx=\"27\" ry=\"18\" stroke=\"#4a4a4a\"/>\n<text fill=\"white\" font-family=\"Times,serif\" font-size=\"14.00\" text-anchor=\"middle\" x=\"30.17\" y=\"-157.8\">BPo</text>\n</g>\n<!-- G&#45;&gt;BPo -->\n<g class=\"edge\" id=\"edge19\">\n<title>G-&gt;BPo</title>\n<path d=\"M142.94,-306.18C105.18,-304.78 38.25,-295.97 6.36,-252.59 -7.56,-232.68 2.06,-206.17 12.83,-186.87\" fill=\"none\" stroke=\"#4a4a4a\"/>\n<path d=\"M143.02,-304.19C105.45,-302.8 38.51,-293.98 7.98,-251.41 -5.68,-233.37 3.94,-206.85 14.57,-187.85\" fill=\"none\" stroke=\"#4a4a4a\"/>\n<polygon fill=\"#4a4a4a\" points=\"16.8,-188.99 18.94,-178.62 10.8,-185.4 16.8,-188.99\" stroke=\"#4a4a4a\"/>\n</g>\n<!-- D -->\n<g class=\"node\" id=\"node10\">\n<title>D</title>\n<ellipse cx=\"174.17\" cy=\"-162\" fill=\"#404040\" rx=\"27\" ry=\"18\" stroke=\"#4a4a4a\"/>\n<text fill=\"white\" font-family=\"Times,serif\" font-size=\"14.00\" text-anchor=\"middle\" x=\"174.17\" y=\"-157.8\">D</text>\n</g>\n<!-- G&#45;&gt;D -->\n<g class=\"edge\" id=\"edge11\">\n<title>G-&gt;D</title>\n<path d=\"M174.89,-287.75C178.02,-277.49 181.61,-264.01 183.18,-251.87 185.86,-231.44 182.99,-207.99 179.65,-190.42\" fill=\"none\" stroke=\"#4a4a4a\"/>\n<path d=\"M176.8,-288.33C179.96,-278 183.54,-264.53 185.16,-252.13 187.85,-231.19 184.97,-207.75 181.61,-190.05\" fill=\"none\" stroke=\"#4a4a4a\"/>\n<polygon fill=\"#4a4a4a\" points=\"183.99,-189.17 178.53,-180.08 177.13,-190.58 183.99,-189.17\" stroke=\"#4a4a4a\"/>\n</g>\n<!-- BM -->\n<g class=\"node\" id=\"node11\">\n<title>BM</title>\n<ellipse cx=\"246.17\" cy=\"-162\" fill=\"#404040\" rx=\"27\" ry=\"18\" stroke=\"#4a4a4a\"/>\n<text fill=\"white\" font-family=\"Times,serif\" font-size=\"14.00\" text-anchor=\"middle\" x=\"246.17\" y=\"-157.8\">BM</text>\n</g>\n<!-- G&#45;&gt;BM -->\n<g class=\"edge\" id=\"edge7\">\n<title>G-&gt;BM</title>\n<path d=\"M178,-288.24C191.17,-263.63 216.26,-216.77 231.8,-187.73\" fill=\"none\" stroke=\"#4a4a4a\"/>\n<path d=\"M179.77,-289.18C192.94,-264.57 218.02,-217.71 233.56,-188.68\" fill=\"none\" stroke=\"#4a4a4a\"/>\n<polygon fill=\"#4a4a4a\" points=\"235.92,-189.57 237.55,-179.1 229.75,-186.26 235.92,-189.57\" stroke=\"#4a4a4a\"/>\n</g>\n<!-- R&#45;&gt;SD -->\n<g class=\"edge\" id=\"edge10\">\n<title>R-&gt;SD</title>\n<path d=\"M111.04,-216.24C109.61,-208.53 107.87,-199.21 106.27,-190.55\" fill=\"none\" stroke=\"#4a4a4a\"/>\n<path d=\"M113,-215.87C111.57,-208.16 109.84,-198.84 108.23,-190.18\" fill=\"none\" stroke=\"#4a4a4a\"/>\n<polygon fill=\"#4a4a4a\" points=\"110.64,-189.47 105.38,-180.28 103.76,-190.75 110.64,-189.47\" stroke=\"#4a4a4a\"/>\n</g>\n<!-- R&#45;&gt;BPo -->\n<g class=\"edge\" id=\"edge15\">\n<title>R-&gt;BPo</title>\n<path d=\"M98.14,-220.28C85.56,-209.91 67.99,-195.45 53.78,-183.75\" fill=\"none\" stroke=\"#4a4a4a\"/>\n<path d=\"M99.41,-218.73C86.83,-208.37 69.26,-193.9 55.06,-182.2\" fill=\"none\" stroke=\"#4a4a4a\"/>\n<polygon fill=\"#4a4a4a\" points=\"56.45,-180.11 46.51,-176.46 52,-185.51 56.45,-180.11\" stroke=\"#4a4a4a\"/>\n</g>\n<!-- R&#45;&gt;D -->\n<g class=\"edge\" id=\"edge5\">\n<title>R-&gt;D</title>\n<path d=\"M127.2,-217.17C135.01,-207.9 145.15,-195.88 153.94,-185.45\" fill=\"none\" stroke=\"#4a4a4a\"/>\n<path d=\"M128.73,-218.46C136.54,-209.19 146.68,-197.16 155.47,-186.74\" fill=\"none\" stroke=\"#4a4a4a\"/>\n<polygon fill=\"#4a4a4a\" points=\"157.62,-188.06 161.39,-178.16 152.27,-183.55 157.62,-188.06\" stroke=\"#4a4a4a\"/>\n</g>\n<!-- R&#45;&gt;BM -->\n<g class=\"edge\" id=\"edge9\">\n<title>R-&gt;BM</title>\n<path d=\"M135.16,-221.18C156.99,-209.52 191.74,-190.95 216.44,-177.75\" fill=\"none\" stroke=\"#4a4a4a\"/>\n<path d=\"M136.11,-222.94C157.93,-211.28 192.68,-192.72 217.38,-179.51\" fill=\"none\" stroke=\"#4a4a4a\"/>\n<polygon fill=\"#4a4a4a\" points=\"218.67,-181.66 225.84,-173.86 215.37,-175.49 218.67,-181.66\" stroke=\"#4a4a4a\"/>\n</g>\n<!-- H -->\n<g class=\"node\" id=\"node5\">\n<title>H</title>\n<ellipse cx=\"102.17\" cy=\"-90\" fill=\"#404040\" rx=\"27\" ry=\"18\" stroke=\"#4a4a4a\"/>\n<text fill=\"white\" font-family=\"Times,serif\" font-size=\"14.00\" text-anchor=\"middle\" x=\"102.17\" y=\"-85.8\">H</text>\n</g>\n<!-- SD&#45;&gt;H -->\n<g class=\"edge\" id=\"edge20\">\n<title>SD-&gt;H</title>\n<path d=\"M101.17,-143.7C101.17,-135.98 101.17,-126.71 101.17,-118.11\" fill=\"none\" stroke=\"#4a4a4a\"/>\n<path d=\"M103.17,-143.7C103.17,-135.98 103.17,-126.71 103.17,-118.11\" fill=\"none\" stroke=\"#4a4a4a\"/>\n<polygon fill=\"#4a4a4a\" points=\"105.67,-118.1 102.17,-108.1 98.67,-118.1 105.67,-118.1\" stroke=\"#4a4a4a\"/>\n</g>\n<!-- S -->\n<g class=\"node\" id=\"node6\">\n<title>S</title>\n<ellipse cx=\"102.17\" cy=\"-18\" fill=\"#404040\" rx=\"27\" ry=\"18\" stroke=\"#4a4a4a\"/>\n<text fill=\"white\" font-family=\"Times,serif\" font-size=\"14.00\" text-anchor=\"middle\" x=\"102.17\" y=\"-13.8\">S</text>\n</g>\n<!-- H&#45;&gt;S -->\n<g class=\"edge\" id=\"edge8\">\n<title>H-&gt;S</title>\n<path d=\"M101.17,-71.7C101.17,-63.98 101.17,-54.71 101.17,-46.11\" fill=\"none\" stroke=\"#4a4a4a\"/>\n<path d=\"M103.17,-71.7C103.17,-63.98 103.17,-54.71 103.17,-46.11\" fill=\"none\" stroke=\"#4a4a4a\"/>\n<polygon fill=\"#4a4a4a\" points=\"105.67,-46.1 102.17,-36.1 98.67,-46.1 105.67,-46.1\" stroke=\"#4a4a4a\"/>\n</g>\n<!-- BPa -->\n<g class=\"node\" id=\"node7\">\n<title>BPa</title>\n<ellipse cx=\"30.17\" cy=\"-90\" fill=\"#404040\" rx=\"27\" ry=\"18\" stroke=\"#4a4a4a\"/>\n<text fill=\"white\" font-family=\"Times,serif\" font-size=\"14.00\" text-anchor=\"middle\" x=\"30.17\" y=\"-85.8\">BPa</text>\n</g>\n<!-- BPa&#45;&gt;S -->\n<g class=\"edge\" id=\"edge13\">\n<title>BPa-&gt;S</title>\n<path d=\"M44.04,-74.12C54.22,-64.22 67.99,-50.83 79.5,-39.64\" fill=\"none\" stroke=\"#4a4a4a\"/>\n<path d=\"M45.43,-75.55C55.61,-65.65 69.39,-52.26 80.89,-41.08\" fill=\"none\" stroke=\"#4a4a4a\"/>\n<polygon fill=\"#4a4a4a\" points=\"82.64,-42.87 87.37,-33.38 77.76,-37.85 82.64,-42.87\" stroke=\"#4a4a4a\"/>\n</g>\n<!-- BPo&#45;&gt;H -->\n<g class=\"edge\" id=\"edge18\">\n<title>BPo-&gt;H</title>\n<path d=\"M44.04,-146.12C54.22,-136.22 67.99,-122.83 79.5,-111.64\" fill=\"none\" stroke=\"#4a4a4a\"/>\n<path d=\"M45.43,-147.55C55.61,-137.65 69.39,-124.26 80.89,-113.08\" fill=\"none\" stroke=\"#4a4a4a\"/>\n<polygon fill=\"#4a4a4a\" points=\"82.64,-114.87 87.37,-105.38 77.76,-109.85 82.64,-114.87\" stroke=\"#4a4a4a\"/>\n</g>\n<!-- BPo&#45;&gt;BPa -->\n<g class=\"edge\" id=\"edge6\">\n<title>BPo-&gt;BPa</title>\n<path d=\"M29.17,-143.7C29.17,-135.98 29.17,-126.71 29.17,-118.11\" fill=\"none\" stroke=\"#4a4a4a\"/>\n<path d=\"M31.17,-143.7C31.17,-135.98 31.17,-126.71 31.17,-118.11\" fill=\"none\" stroke=\"#4a4a4a\"/>\n<polygon fill=\"#4a4a4a\" points=\"33.67,-118.1 30.17,-108.1 26.67,-118.1 33.67,-118.1\" stroke=\"#4a4a4a\"/>\n</g>\n<!-- LS -->\n<g class=\"node\" id=\"node9\">\n<title>LS</title>\n<ellipse cx=\"43.17\" cy=\"-234\" fill=\"#404040\" rx=\"27\" ry=\"18\" stroke=\"#4a4a4a\"/>\n<text fill=\"white\" font-family=\"Times,serif\" font-size=\"14.00\" text-anchor=\"middle\" x=\"43.17\" y=\"-229.8\">LS</text>\n</g>\n<!-- LS&#45;&gt;SD -->\n<g class=\"edge\" id=\"edge17\">\n<title>LS-&gt;SD</title>\n<path d=\"M55.2,-217.17C63.01,-207.9 73.15,-195.88 81.94,-185.45\" fill=\"none\" stroke=\"#4a4a4a\"/>\n<path d=\"M56.73,-218.46C64.54,-209.19 74.68,-197.16 83.47,-186.74\" fill=\"none\" stroke=\"#4a4a4a\"/>\n<polygon fill=\"#4a4a4a\" points=\"85.62,-188.06 89.39,-178.16 80.27,-183.55 85.62,-188.06\" stroke=\"#4a4a4a\"/>\n</g>\n<!-- LS&#45;&gt;BPo -->\n<g class=\"edge\" id=\"edge12\">\n<title>LS-&gt;BPo</title>\n<path d=\"M39.04,-216.24C37.61,-208.53 35.87,-199.21 34.27,-190.55\" fill=\"none\" stroke=\"#4a4a4a\"/>\n<path d=\"M41,-215.87C39.57,-208.16 37.84,-198.84 36.23,-190.18\" fill=\"none\" stroke=\"#4a4a4a\"/>\n<polygon fill=\"#4a4a4a\" points=\"38.64,-189.47 33.38,-180.28 31.76,-190.75 38.64,-189.47\" stroke=\"#4a4a4a\"/>\n</g>\n<!-- LS&#45;&gt;D -->\n<g class=\"edge\" id=\"edge2\">\n<title>LS-&gt;D</title>\n<path d=\"M63.16,-221.18C84.99,-209.52 119.74,-190.95 144.44,-177.75\" fill=\"none\" stroke=\"#4a4a4a\"/>\n<path d=\"M64.11,-222.94C85.93,-211.28 120.68,-192.72 145.38,-179.51\" fill=\"none\" stroke=\"#4a4a4a\"/>\n<polygon fill=\"#4a4a4a\" points=\"146.67,-181.66 153.84,-173.86 143.37,-175.49 146.67,-181.66\" stroke=\"#4a4a4a\"/>\n</g>\n<!-- D&#45;&gt;H -->\n<g class=\"edge\" id=\"edge3\">\n<title>D-&gt;H</title>\n<path d=\"M158.9,-147.55C148.72,-137.65 134.95,-124.26 123.44,-113.08\" fill=\"none\" stroke=\"#4a4a4a\"/>\n<path d=\"M160.29,-146.12C150.11,-136.22 136.34,-122.83 124.83,-111.64\" fill=\"none\" stroke=\"#4a4a4a\"/>\n<polygon fill=\"#4a4a4a\" points=\"126.57,-109.85 116.96,-105.38 121.69,-114.87 126.57,-109.85\" stroke=\"#4a4a4a\"/>\n</g>\n<!-- BM&#45;&gt;S -->\n<g class=\"edge\" id=\"edge16\">\n<title>BM-&gt;S</title>\n<path d=\"M230.87,-147.31C205.53,-122.33 153.29,-70.81 123.51,-41.45\" fill=\"none\" stroke=\"#4a4a4a\"/>\n<path d=\"M232.27,-145.89C206.93,-120.91 154.69,-69.39 124.92,-40.03\" fill=\"none\" stroke=\"#4a4a4a\"/>\n<polygon fill=\"#4a4a4a\" points=\"126.38,-37.96 116.81,-33.44 121.47,-42.95 126.38,-37.96\" stroke=\"#4a4a4a\"/>\n</g>\n</g>\n</svg></div></td><td style=\"border-top:hidden;border-bottom:hidden;\"><div align=\"center\" style=\"\">$$\\begin{equation}P( S \\mid \\hookrightarrow\\mkern-6.5muG) = \\sum_{L}{P\\left(S\\mid G,L\\right) \\cdot P\\left(L\\right)}\\end{equation}$$</div></td><td style=\"border-top:hidden;border-bottom:hidden;\"><div align=\"center\" style=\"\"><table style=\"border:1px solid black;\">\n<tr><th colspan='1'></th><th colspan='2' style='border:1px solid black;color:black;background-color:#808080;'><center>S</center></th></tr>\n<tr><th style='border:1px solid black;color:black;background-color:#808080'><center>G</center></th><th style='border:1px solid black;border-bottom-style: double;color:black;background-color:#BBBBBB'><center>0</center></th><th style='border:1px solid black;border-bottom-style: double;color:black;background-color:#BBBBBB'><center>1</center></th></tr>\n<tr><th style='border:1px solid black;color:black;background-color:#BBBBBB'><center>0</center></th><td style='color:black;background-color:#98e564;text-align:right;'>0.8039</td><td style='color:black;background-color:#e59864;text-align:right;'>0.1961</td></tr>\n<tr><th style='border:1px solid black;color:black;background-color:#BBBBBB'><center>1</center></th><td style='color:black;background-color:#93ea64;text-align:right;'>0.8394</td><td style='color:black;background-color:#ea9364;text-align:right;'>0.1606</td></tr>\n</table></div></td></tr><tr><td style=\"border-top:hidden;border-bottom:hidden;\"><div align=\"center\"><small>Causal Model</small></div></td><td style=\"border-top:hidden;border-bottom:hidden;\"><div align=\"center\"><small>Explanation : backdoor ['L'] found.</small></div></td><td style=\"border-top:hidden;border-bottom:hidden;\"><div align=\"center\"><small>Impact : $P( S \\mid \\hookrightarrow\\mkern-6.5muG)$</small></div></td></tr></table>"
     },
     "metadata": {},
     "output_type": "display_data"
    }
   ],
   "source": [
    "cm0 = csl.CausalModel(m0)\n",
    "cslnb.showCausalImpact(cm0, \"S\", doing=\"G\")"
   ]
  },
  {
   "cell_type": "code",
   "execution_count": 30,
   "metadata": {
    "pycharm": {
     "is_executing": false
    }
   },
   "outputs": [
    {
     "name": "stdout",
     "text": [
      "ACE(S=1): -0.035524\n"
     ],
     "output_type": "stream"
    }
   ],
   "source": [
    "x = csl.causalImpact(cm0,on=\"S\",doing=\"G\")[1]\n",
    "print(\"ACE(S=1):\", x[1][1]-x[0][1])"
   ]
  },
  {
   "cell_type": "markdown",
   "metadata": {},
   "source": [
    "The causal effect is shown here. The confounder (backdoor) is L. A randomized controlled study that used a lot of people (50% lazy and 50% not lazy) could naturally filter out the confounding effect of being lazy. \n",
    "$ACE = P(Y=1|do(X=1)) - P(Y=1|do(X=0)) = 0.35524$ "
   ]
  },
  {
   "cell_type": "markdown",
   "metadata": {},
   "source": [
    "\\textbf{ Choose another pair of variable (X,Y) (it can be also the previous one) and choose another variable C such that it is possible to calculate the c-specific effect of X on Y and calculate it}\n",
    "\n",
    "I choose $P(BPa=bpa|do(R=R), L=l)= \\sum_{g} P(S=s|R=r,G=g,L=l)P(G=g|L=l)$"
   ]
  },
  {
   "cell_type": "markdown",
   "metadata": {},
   "source": [
    "Let's double check with pyAgrum internal function:"
   ]
  },
  {
   "cell_type": "markdown",
   "metadata": {},
   "source": [
    "\\textbf{ Identify a minimal set of variables that must be measured in order to estimate the c-specific effect of X on Y.}\n",
    "While pyAgrum internal function decided to use {BM,BPa,BPo,D,H,L,R,SD}, the one that I've previously used already constitutes a minimal set (blocking on L is necessary and sufficient): {G,S,L,LS}"
   ]
  },
  {
   "cell_type": "markdown",
   "metadata": {},
   "source": [
    "\\textbf{ Choose a function g and compute the effect of the conditional intervention of X=g(C) on Y.}\n",
    "        \n",
    "$P(BPa=bpa|do(R=fun(L))=\\sum_{l} P(BPa=bpa|do(R=fun(l)),L=l)P(L=l)$\n",
    "$=\\sum_{l} \\sum_{g} P(BPa=bpa|R=r,L=l,G=g)P(G=g|L=l)P(L=l)$\n",
    "$=\\sum_{l,g} P(BPa=bpa|R=r,L=l,G=g)P(G=g,L=l)$"
   ]
  },
  {
   "cell_type": "markdown",
   "metadata": {},
   "source": [
    "### L-specific effect"
   ]
  },
  {
   "cell_type": "code",
   "execution_count": 31,
   "metadata": {
    "pycharm": {
     "is_executing": false
    }
   },
   "outputs": [
    {
     "data": {
      "text/plain": "<IPython.core.display.HTML object>",
      "text/html": "<table style=\"border-style: hidden; border-collapse: collapse;\" width=\"100%\"><tr><td style=\"border-top:hidden;border-bottom:hidden;\"><div align=\"center\" style=\"\"><table style=\"border:1px solid black;\">\n<tr><th colspan='2'></th><th colspan='2' style='border:1px solid black;color:black;background-color:#808080;'><center>BPa</center></th></tr>\n<tr><th style='border:1px solid black;color:black;background-color:#808080'><center>R</center></th><th style='border:1px solid black;color:black;background-color:#808080'><center>L</center></th><th style='border:1px solid black;border-bottom-style: double;color:black;background-color:#BBBBBB'><center>0</center></th><th style='border:1px solid black;border-bottom-style: double;color:black;background-color:#BBBBBB'><center>1</center></th></tr>\n<tr><th style='border:1px solid black;color:black;background-color:#BBBBBB;' rowspan = '2'><center>0</center></th><th style='border:1px solid black;color:black;background-color:#BBBBBB'><center>0</center></th><td style='color:black;background-color:#a7d764;text-align:right;'>0.6875</td><td style='color:black;background-color:#d7a764;text-align:right;'>0.3125</td></tr>\n<tr><th style='border:1px solid black;color:black;background-color:#BBBBBB'><center>1</center></th><td style='color:black;background-color:#b8c564;text-align:right;'>0.5475</td><td style='color:black;background-color:#c5b864;text-align:right;'>0.4525</td></tr>\n<tr><th style='border:1px solid black;color:black;background-color:#BBBBBB;' rowspan = '2'><center>1</center></th><th style='border:1px solid black;color:black;background-color:#BBBBBB'><center>0</center></th><td style='color:black;background-color:#9fde64;text-align:right;'>0.7445</td><td style='color:black;background-color:#de9f64;text-align:right;'>0.2555</td></tr>\n<tr><th style='border:1px solid black;color:black;background-color:#BBBBBB'><center>1</center></th><td style='color:black;background-color:#a5d864;text-align:right;'>0.7005</td><td style='color:black;background-color:#d8a564;text-align:right;'>0.2995</td></tr>\n</table></div></td></tr><tr><td style=\"border-top:hidden;border-bottom:hidden;\"><div align=\"center\"><small>$\\forall BPa,R,L P(BPa|do(R),L)$</small></div></td></tr></table>"
     },
     "metadata": {},
     "output_type": "display_data"
    }
   ],
   "source": [
    "cause = \"R\"\n",
    "target = \"BPa\"\n",
    "specific = \"L\"\n",
    "backdoor = \"G\"\n",
    "\n",
    "ie=gum.LazyPropagation(m0)\n",
    "ie.addJointTarget({target,cause,specific, backdoor})\n",
    "ie.makeInference()\n",
    "pYgivenXZC=ie.evidenceJointImpact([target],[cause,specific, backdoor])\n",
    "pZgivenCX=ie.evidenceJointImpact([backdoor],[specific])\n",
    "\n",
    "result = pYgivenXZC.extract({backdoor:0}) * pZgivenCX.extract({backdoor:0})\n",
    "result += pYgivenXZC.extract({backdoor:1}) * pZgivenCX.extract({backdoor:1})\n",
    "gnb.sideBySide(result.putFirst(target),captions=[\"$\\\\forall {},{},{} P({}|do({}),{})$\".format(target,cause, specific,target,cause, specific)])"
   ]
  },
  {
   "cell_type": "code",
   "execution_count": 33,
   "metadata": {
    "pycharm": {
     "is_executing": false
    }
   },
   "outputs": [
    {
     "data": {
      "text/plain": "0.5700000000000001"
     },
     "metadata": {},
     "output_type": "execute_result",
     "execution_count": 33
    }
   ],
   "source": [
    "# ie=gum.LazyPropagation(m0)\n",
    "# ie.addJointTarget({target,cause,specific})\n",
    "# ie.makeInference()\n",
    "# pRgivenDA=ie.evidenceJointImpact([target],[specific, cause])\n",
    "\n",
    "def g(x):\n",
    "    return x\n",
    "\n",
    "expected_value=0\n",
    "for i in [0,1]:\n",
    "    firstprob = result.extract({cause:g(0), target:i})\n",
    "    expected_value=expected_value+firstprob[i]*m0.cpt(specific)[i]\n",
    "expected_value"
   ]
  },
  {
   "cell_type": "markdown",
   "metadata": {},
   "source": [
    "Then we use it to calculate the conditional intervention wanted:\n",
    "\n",
    "$P(Y|do(X=g(Z))=\\sum_{z}P(Y|do(X=x), Z=z)|_{x=g(z)}P(Z=z)$"
   ]
  },
  {
   "cell_type": "code",
   "execution_count": 32,
   "metadata": {
    "pycharm": {
     "is_executing": false
    }
   },
   "outputs": [],
   "source": []
  },
  {
   "cell_type": "markdown",
   "metadata": {},
   "source": [
    "# References\n",
    "\n",
    "(<a id=\"cit-lazy\" href=\"#call-lazy\">RUSYAINI, 2015</a>) WAN RUSYAINI, ``_MEASURING LAZINESS THROUGH SELF-REGULATION USING HEART RATE VARIABILITY (HRV) BIOFEEDBACK_'', January 2015.\n",
    "\n"
   ]
  },
  {
   "cell_type": "code",
   "execution_count": 32,
   "metadata": {
    "pycharm": {
     "is_executing": false
    }
   },
   "outputs": [],
   "source": []
  },
  {
   "cell_type": "code",
   "execution_count": 32,
   "metadata": {
    "pycharm": {
     "is_executing": false
    }
   },
   "outputs": [],
   "source": []
  }
 ],
 "metadata": {
  "kernelspec": {
   "display_name": "Python 3",
   "language": "python",
   "name": "python3"
  },
  "language_info": {
   "codemirror_mode": {
    "name": "ipython",
    "version": 3
   },
   "file_extension": ".py",
   "mimetype": "text/x-python",
   "name": "python",
   "nbconvert_exporter": "python",
   "pygments_lexer": "ipython3",
   "version": "3.7.6"
  },
  "latex_envs": {
   "LaTeX_envs_menu_present": true,
   "autoclose": false,
   "autocomplete": true,
   "bibliofile": "biblio.bib",
   "cite_by": "apalike",
   "current_citInitial": 1,
   "eqLabelWithNumbers": true,
   "eqNumInitial": 1,
   "hotkeys": {
    "equation": "Ctrl-E",
    "itemize": "Ctrl-I"
   },
   "labels_anchors": false,
   "latex_user_defs": false,
   "report_style_numbering": false,
   "user_envs_cfg": false
  },
  "pycharm": {
   "stem_cell": {
    "cell_type": "raw",
    "source": [],
    "metadata": {
     "collapsed": false
    }
   }
  }
 },
 "nbformat": 4,
 "nbformat_minor": 4
}